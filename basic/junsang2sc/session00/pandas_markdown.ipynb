{
 "cells": [
  {
   "cell_type": "markdown",
   "id": "2c56dcba",
   "metadata": {},
   "source": [
    "# **판다스 기초**"
   ]
  },
  {
   "cell_type": "markdown",
   "id": "d12d430d",
   "metadata": {},
   "source": [
    "## *1. 판다스란?*"
   ]
  },
  {
   "cell_type": "markdown",
   "id": "8ed11179",
   "metadata": {},
   "source": [
    "- 데이터 분석에 특화된 파이썬 라이브러리, 넘파이의 확장판\n",
    "- import pandas as pd\n",
    "- df= pd.read_csv('파일 경로') ---> 엑셀 파일 불러올때"
   ]
  },
  {
   "cell_type": "markdown",
   "id": "72b06329",
   "metadata": {},
   "source": [
    "## *2. 데이터프레임의 구성*"
   ]
  },
  {
   "cell_type": "markdown",
   "id": "123acd8c",
   "metadata": {},
   "source": [
    "- 행 = Index , 열 = Column\n",
    "\n",
    "- series = 값과 인덱스로만 구성된 자료구조\n",
    "- series 만드는 법 \n",
    "1. 리스트생성 series=[    ]\n",
    "2. pd.Series() 함수 사용\n",
    "3. 필요시 인덱스 직접 지정\n",
    "\n",
    "- DataFrame = 행과 열로 이루어진 2차원 배열 구조 (여러개의 시리즈가 모인것으로, 컬럼 간의 데이터타입은 달라도 무방)\n",
    "- 데이터프레임 만드는법\n",
    "1. 데이터와 각 카테고리 별 네이밍을 컬럼으로 하는 딕셔너리 생성\n",
    "2. pd.DataFrame() 함수를 사용하여 데이터프레임 구성 (인덱스랑 컬럼 명 직접 지정도 가능)"
   ]
  },
  {
   "cell_type": "markdown",
   "id": "34982c06",
   "metadata": {},
   "source": [
    "## *3. 데이터 확인*"
   ]
  },
  {
   "cell_type": "markdown",
   "id": "ad8bf12d",
   "metadata": {},
   "source": [
    "- 분석 전 주어진 데이터에 대한 기본적인 이해를 하기 위해 전체적인 특징을 요약해주는 함수를 사용해 데이터를 빠르게 파악하는 습관이 필요함\n",
    "\n",
    "1. head & tail\n",
    "- df.head(n) \n",
    "- df.tail(n)\n",
    "\n",
    "2. 데이터에 대한 정보\n",
    "- df.shape() : 행개수, 열개수   \n",
    "- df.info(): 여러 정보를 종합적으로 \n",
    "- df.describe() : 수치형 열들의 기본적인 통계값 반환\n",
    "- df.isnull() : 데이터의 결측지 여부\n",
    "- df.dtypes : 열들의 데이터타입 반환\n",
    "\n",
    "3. 고유값 및 개수 확인\n",
    "- df.count(): 결측치 제외 데이터 행 수\n",
    "- df[열 이름].value_counts() : 특정 열에 포함된 값들의 빈도수\n",
    "- df[열 이름].unique() : 특정 열에 포함된 값들을 종류별로 1개씩 반환\n"
   ]
  },
  {
   "cell_type": "markdown",
   "id": "dc21e467",
   "metadata": {},
   "source": [
    "## *4. 데이터 추출*"
   ]
  },
  {
   "cell_type": "markdown",
   "id": "ba62b73b",
   "metadata": {},
   "source": [
    "- 방대한 데이터를 다루는 데이터분석가에게 가장 많이 요구되는 능력\n",
    "\n",
    "1. 인덱싱 & 슬라이싱\n",
    "- 인덱싱 : 단일 항목을 지목\n",
    "- 슬라이싱 : 범위를 지정해 여러 항목 추출\n",
    "\n",
    "2. 행단위 추출\n",
    "- df.loc [행 이름, 열 이름] --> 이름 (label)을 사용\n",
    "- df.iloc [행 순서, 열 순서] --> 정수형 인덱스 번호 사용 (데이터가 커졌을 때 유리)\n",
    "\n",
    "3. 열단위 추출 : 컬럼명\n",
    "- df[열 이름]\n",
    "- df[[열 이름]]\n",
    "- df[[열 이름1, 열이름 2..]]\n",
    "- df[열 이름][행 이름]\n",
    "\n",
    "4. 불리언 인덱싱\n",
    "- 특정 조건에 만족하는 데이터를 추출할 때 (True 혹은 False)\n",
    "- df[조건문]\n",
    "- df[(조건문1) 논리연산자 (조건문2)]"
   ]
  },
  {
   "cell_type": "markdown",
   "id": "a294494d",
   "metadata": {},
   "source": [
    "## *5. 데이터 조작*"
   ]
  },
  {
   "cell_type": "markdown",
   "id": "23ac3d1e",
   "metadata": {},
   "source": [
    "1. 데이터 추가, 삭제\n",
    "- df['새로운 열 이름']= 리스트 : 특정 리스트를 데이터프레임에 추가\n",
    "- df.drop(labels,axis) : 열을 삭제  (axis=0 행 방향, axis=1 열 방향)\n",
    "\n",
    "2. 데이터 정렬\n",
    "- df.sort_index() : 인덱스를 기준으로 정렬     \n",
    "- df.sort_values(by=\"열 이름\") : 특정 열의 값을 기준으로 정렬\n",
    "\n",
    "3. 데이터 변환\n",
    "- df[열 이름] = df[열 이름].astype(바꿀 자료형)\n",
    "- df.replace(바꾸고 싶은 값, 바꿀 값) : 데이터의 값 자체 변환\n",
    "- df.transpose() : 행과 열을 바꿈\n",
    "\n",
    "4. 데이터프레임 병합\n",
    "\n",
    "- concat : 단순히 두 데이터 프레임을 이어붙힐때 (동일한 구조)\n",
    "- df = pd.concat([df1,df2], axis=0)  행방향 결합\n",
    "- df = pd.concat([df1,df2], axis=1)  열방향 결합\n",
    "\n",
    "- merge : 공통학목을 기준으로 병합 (데이터프레임 간 공통 항목이 있어야 곂칠 수 있음)\n",
    "- df = pd.merge(df1, df2, how = 'inner', on = '~~')  교집합(and) 연산\n",
    "- df = pd.merge(df1, df2, how = 'outer', on = '~~')  합집합(or) 연산\n",
    "\n"
   ]
  },
  {
   "cell_type": "markdown",
   "id": "9e8c308b",
   "metadata": {},
   "source": [
    "## *6. 집계함수*"
   ]
  },
  {
   "cell_type": "markdown",
   "id": "3e40b3c0",
   "metadata": {},
   "source": [
    "1. 집계함수   (결측지가 있을 경우 무시하고 계산함)\n",
    "- df['컬럼 명'].mean() : 평균\n",
    "- df['컬럼 명'].median() : 중앙값\n",
    "- df['컬럼 명'].std() : 표준편차\n",
    "- df['컬럼 명'].sum() : 합계\n",
    "- df['컬럼 명'].max() : 최대값\n",
    "- df['컬럼 명'].min() : 최소값\n",
    "\n",
    "2. 그룹화 \n",
    "- df.groupby('column명1')[’column명2'].집계함수\n",
    "- column1로 그룹화를 하고, 그룹별로 column2에 대해 집계함수를 적용해 결과를 시리즈 형태로 반환\n",
    "- df.groupby('column명1')[[’column명2']].집계함수\n",
    "-  그룹별로 column2에 대해 집계함수를 적용해 결과를 데이터프레임 형태로 반환"
   ]
  }
 ],
 "metadata": {
  "kernelspec": {
   "display_name": "base",
   "language": "python",
   "name": "python3"
  },
  "language_info": {
   "codemirror_mode": {
    "name": "ipython",
    "version": 3
   },
   "file_extension": ".py",
   "mimetype": "text/x-python",
   "name": "python",
   "nbconvert_exporter": "python",
   "pygments_lexer": "ipython3",
   "version": "3.12.7"
  }
 },
 "nbformat": 4,
 "nbformat_minor": 5
}
