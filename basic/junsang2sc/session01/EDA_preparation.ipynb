{
 "cells": [
  {
   "cell_type": "markdown",
   "id": "25f32c8a",
   "metadata": {},
   "source": [
    "# EDA & 전처리"
   ]
  },
  {
   "cell_type": "markdown",
   "id": "3e69f259",
   "metadata": {},
   "source": [
    "## 0. 데이터 분석 프로젝트"
   ]
  },
  {
   "cell_type": "markdown",
   "id": "05da4a37",
   "metadata": {},
   "source": [
    "데이터 수집 - 데이터 탐색 (EDA) - 데이터 전처리 - 데이터 모델링\n",
    "1. 데이터 탐색 : 다양한 각도에서 수집한 데이터의 특징 확인\n",
    "2. 데이터를 분석에 적합한 형태로 손질"
   ]
  },
  {
   "cell_type": "markdown",
   "id": "9cc7dcf1",
   "metadata": {},
   "source": [
    "## 1. EDA의 개념"
   ]
  },
  {
   "cell_type": "markdown",
   "id": "5f329cac",
   "metadata": {},
   "source": [
    "### 1-1. EDA 대상"
   ]
  },
  {
   "cell_type": "markdown",
   "id": "e0fc23a0",
   "metadata": {},
   "source": [
    "1. 일변량 : EDA를 통해 한 번에 파악하려는 변수가 한 개\n",
    "2. 다변량 : EDA를 통해 한 번에 파악하려는 변수가 여러 개 (여러 변수들 간의 관계를 보는 것이 주요 목적) (개별 데이터를 먼저 확인하는 것이 용이)"
   ]
  },
  {
   "cell_type": "markdown",
   "id": "88f46516",
   "metadata": {},
   "source": [
    "### 1-2. EDA 종류"
   ]
  },
  {
   "cell_type": "markdown",
   "id": "1ac90045",
   "metadata": {},
   "source": [
    "1. 시각화 : 차트나 그림 등을 활용 (대략적인 형태)\n",
    "2. 비시각화 : Summary Statistics 를 활용 (정확한 값)"
   ]
  },
  {
   "cell_type": "markdown",
   "id": "1e478e68",
   "metadata": {},
   "source": [
    "### 1-3. EDA 유형"
   ]
  },
  {
   "cell_type": "markdown",
   "id": "210ec1ac",
   "metadata": {},
   "source": [
    "1. 일변량 비시각화 : 데이터의 분포 확인\n",
    "2. 일변량 시각화 : 주어진 데이터를 전체적으로 확인\n",
    "3. 다변량 비시각화 : 주어진 둘 이상 변수 간 관계 확인\n",
    "4. 다변량 시각화 : 주어진 둘 이상 변수 간 관계를 전체적으로"
   ]
  },
  {
   "cell_type": "markdown",
   "id": "495e854b",
   "metadata": {},
   "source": [
    "## 2. 데이터 확인"
   ]
  },
  {
   "cell_type": "markdown",
   "id": "6eb2e880",
   "metadata": {},
   "source": [
    "### 2-1. 데이터 읽기/쓰기"
   ]
  },
  {
   "cell_type": "markdown",
   "id": "59d1982f",
   "metadata": {},
   "source": [
    "1. 데이터 읽기 (작업 공간에 데이터를 불러오는 것)\n",
    "- 절대경로\n",
    "- 상대경로\n",
    "2. 데이터 입출력\n",
    "- CSV : read_csv // to_csv\n",
    "- EXCEL : read_excel // to_excel\n",
    "3. CSV와 EXCEL\n",
    "- CSV : 메모장, 데이터를 쉼표로 구분, 데이터의 크기가 작고 압축 용이\n",
    "- EXCEL : 행과 열이 데이터프레임과 일대일 대응"
   ]
  },
  {
   "cell_type": "markdown",
   "id": "464cbb4d",
   "metadata": {},
   "source": [
    "### 2-2. 데이터셋 파악하기"
   ]
  },
  {
   "cell_type": "markdown",
   "id": "bf4c687a",
   "metadata": {},
   "source": [
    "1. 데이터 프레임 보기 : head() 사용\n",
    "2. 데이터 변수 확인 (변수 = column)\n",
    "- 변수 정의 확인\n",
    "- 변수 유형 확인 (범주형: 명목형, 순서형 | 수치형: 이산형, 연속형)\n",
    "- 변수 데이터 형식 확인 (날짜, 수치, 텍스트, 이미지)\n",
    "3. 데이터 분포 확인\n"
   ]
  },
  {
   "cell_type": "markdown",
   "id": "2a167409",
   "metadata": {},
   "source": [
    "## 3. 전처리"
   ]
  },
  {
   "cell_type": "markdown",
   "id": "01f139c0",
   "metadata": {},
   "source": [
    "### 3-1. 결측값 처리"
   ]
  },
  {
   "cell_type": "markdown",
   "id": "74418bd9",
   "metadata": {},
   "source": [
    "1. 결측값 확인 \n",
    "- info()\n",
    "- value_counts(dropna=False)\n",
    "- isnull()\n",
    "- notnull()\n",
    "- replace()\n",
    "2. 결측값 처리 - 삭제\n",
    "- dropna() : 데이터프레임 내 결측값이 포함된 레이블 제거 (axis=0 행삭제 | axis=1 열삭제)\n",
    "- how='any'  (기본값) | how = 'all'\n",
    "- subset('column명')\n",
    "3. 결측값 처리 - 대체\n",
    "- 평균값, 최빈값 등의 대푯값 활용 (일괄 대체 or 유사 유형 대체)\n",
    "- fillna() : 결측값 대체"
   ]
  },
  {
   "cell_type": "markdown",
   "id": "4f81c1fd",
   "metadata": {},
   "source": [
    "### 3-2. 이상치 처리"
   ]
  },
  {
   "cell_type": "markdown",
   "id": "d8af18d3",
   "metadata": {},
   "source": [
    "1. 이상치 확인\n",
    "- 통계를 통해 확인 : describe()\n",
    "- 시각화를 통해 확인 : boxplot\n",
    "- Z- score를 통해 확인 : 데이터를 정규화하여 평균에 가까울 수록 0에 가깝고 멀어질수록 Z-score가 커짐 (2~3 정도가 넘으면 이상치로 간주)\n",
    "- Tukey Fences를 통해 확인 : Q1 - (1.5 * IQR) 미만 or Q3 + (1.5 * IQR) 초과\n",
    "2. 이상치 제거 및 정리\n",
    "- 전체 삭제\n",
    "- 다른 값으로 대체\n",
    "- 변수화 (이상값에 대해 파악)\n",
    "- 리샘플링 (케이스를 분류하여 분석) "
   ]
  },
  {
   "cell_type": "markdown",
   "id": "863a1ba1",
   "metadata": {},
   "source": [
    "### 3-3. 피처 엔지니어링 (변수 가공)"
   ]
  },
  {
   "cell_type": "markdown",
   "id": "87deedfb",
   "metadata": {},
   "source": [
    "1. 레이블인코딩, 원핫인코딩: 문자열 값들을 숫자형으로 변경하는 작업\n",
    "- 레이블링인코딩 : 0부터 N-1\n",
    "- 원핫인코딩 : 이진 벡터 (0과 1)\n",
    "2. 구간화(Binning): 연속적인 값을 일정한 구간(Bin)으로 구분 \n",
    "3. 파생변수 생성: 기존의 피처를 변환해 새로운 피처 생성\n",
    "4. 스케일링: 서로 다른 변수의 값 범위를 일정한 수준으로 맞추는 작업 (정규화)"
   ]
  },
  {
   "cell_type": "markdown",
   "id": "79981543",
   "metadata": {},
   "source": [
    "## 4. 데이터 시각화"
   ]
  },
  {
   "cell_type": "markdown",
   "id": "2e0155a1",
   "metadata": {},
   "source": [
    "### 4-0. 데이터시각화"
   ]
  },
  {
   "cell_type": "markdown",
   "id": "5eab3042",
   "metadata": {},
   "source": [
    "- 일반적으로 Matplotlib와 Seaborn을 사용"
   ]
  },
  {
   "cell_type": "markdown",
   "id": "900bf485",
   "metadata": {},
   "source": [
    "### 4-1. 파라미터 "
   ]
  },
  {
   "cell_type": "markdown",
   "id": "8ceea117",
   "metadata": {},
   "source": [
    "- 파라미터=매개변수 : 프로그래밍 된 함수의 입력값) "
   ]
  },
  {
   "cell_type": "markdown",
   "id": "c7048a56",
   "metadata": {},
   "source": [
    "### 4-2. 다양한 그래프"
   ]
  },
  {
   "cell_type": "markdown",
   "id": "f0bd5ac4",
   "metadata": {},
   "source": [
    "1. boxplot(상자 수염 그림) : 사분위수와 이상치 확인 가능\n",
    "2. countplot, histplot\n",
    "- countplot :  범주형 자료의 빈도수 확인\n",
    "- histplot : 수치형 변수의 구간별 빈도수\n",
    "3. displot, kdeplot (커널밀도추정 그래프) \n",
    "- 히스토그램을 연속적으로 연결\n",
    "4. barplot, pointplot : 범주형 데이터 값 x에 따른 수치형 데이터 값 y의 평균 값\n",
    "5. scatterplot(산점도 그래프), regplot(회귀선이 추가된 산점도래프)\n",
    "- 두 연속형 변수 간의 관계를 시각화\n",
    "- regplot은 회귀선까지 추가\n",
    "6. catplot\n",
    "- 수치형 데이터와 범주형 데이터의 관계\n",
    "7. pieplot (데이터의 전체와 부분 간의 비율)\n",
    "8. heatmap (상관계수를 직관적으로 확인)\n",
    "9. violinplot : 박스 플롯과 커널밀도추정 함수 그래프를 합쳐 놓은 그래프\n",
    "10. pairplot : 여러 변수간의 산점도를 한번에 보여주는 그래프"
   ]
  }
 ],
 "metadata": {
  "kernelspec": {
   "display_name": "base",
   "language": "python",
   "name": "python3"
  },
  "language_info": {
   "name": "python",
   "version": "3.12.7"
  }
 },
 "nbformat": 4,
 "nbformat_minor": 5
}
