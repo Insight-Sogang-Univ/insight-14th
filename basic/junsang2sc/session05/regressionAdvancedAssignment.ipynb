{
 "cells": [
  {
   "cell_type": "markdown",
   "id": "d22c421e",
   "metadata": {},
   "source": [
    "# 회귀 분석 프로세스"
   ]
  },
  {
   "cell_type": "markdown",
   "id": "1149d04f",
   "metadata": {},
   "source": [
    "### 1. 사전 검증"
   ]
  },
  {
   "cell_type": "markdown",
   "id": "9391483f",
   "metadata": {},
   "source": [
    "1-1. 데이터 탐색\n",
    "- 결측치, 이상치 확인   \n",
    "isnull().sum()\n",
    "- 각 컬럼의 데이터타입 확인   \n",
    "info()\n",
    "- 기본적인 기술 통계값 확인    \n",
    "describe(), skew()\n",
    "- 시각화    \n",
    "hist(),  sns.pairpot(),    sns.heatmap()\n"
   ]
  },
  {
   "cell_type": "markdown",
   "id": "a0b7977a",
   "metadata": {},
   "source": [
    "### 1-2. 전처리"
   ]
  },
  {
   "cell_type": "markdown",
   "id": "8042c951",
   "metadata": {},
   "source": [
    "### 1-3. 회귀분석의 기본가정 6가지 검토\n",
    "1. 선형성 \n",
    "- scatter plot 찍어보기\n",
    "2. 독립성 (다중공선성)\n",
    "- vif 지수, 상관계수\n",
    "3. 오차항 평균이 0이다 ---------   #회귀분석 후에 검정\n",
    "- np.mean(residuals)\n",
    "4. 등분산성      -------------    #회귀분석 후에 검정\n",
    "- 잔차의 도표화\n",
    "5. 오차항 자기상관 없음 --------  #회귀분석 후에 검정\n",
    "- 더빈 왓슨 검정\n",
    "6. 정규성       ----------       # 회귀분석 후에 검정\n",
    "-  \tShapiro-Wilk 검증, Q-Q plot"
   ]
  },
  {
   "cell_type": "markdown",
   "id": "0f2839c9",
   "metadata": {},
   "source": [
    "- 모델 fit   \n",
    "fit()\n",
    "- summary() 세부 내용      \n",
    "Dep. Variable : 종속 변수, 타겟값.         \n",
    "Model : 학습 모델 / OLS(Ordinary Least Squares), 잔차 제곱합(손실)을 최소로 하는 파라미터를 선택하는 방법       \n",
    "Method : Least Squares / 잔차 제곱합(손실)을 최소로 하는 파라미터를 선택하는 방법      \n",
    "No. Observation : 데이터셋 크기       \n",
    "Df Residuals : 데이터셋 크기 - 추정된 파라미터 수를 뺀 것       \n",
    "Df Model : 독립 변수의 숫자      \n",
    "Covariance Type : 공분산 종류(default: nonrobust)      \n",
    "R-squared : 결정계수, 모델의 설명력(0~1 사이 값), 1에 가까울수록 모델의 설명력이 높음      \n",
    "Adj. R-squared : 조정된 결정계수, 조정된 모델의 설명력      \n",
    "Std. error : 계수의 표준 오차      \n",
    "F-statistic : F value     \n",
    "Prob (F-statistic): p-value       \n",
    "Log-Likelihood : 최대 로그 우도         \n",
    "아카이케 정보 기준(Akaike's Information Criterion; AIC) : 모델의 성능지표로 작을수록 좋은 모델      \n",
    "Coef : 계수값     \n",
    "P>|t| : p-value    \n"
   ]
  },
  {
   "cell_type": "markdown",
   "id": "74e37f19",
   "metadata": {},
   "source": [
    "- p -value가 유의수준보다 낮으면 귀무가설 기각 -> 모델의 통계적 유의성 확보"
   ]
  },
  {
   "cell_type": "markdown",
   "id": "0e3e9917",
   "metadata": {},
   "source": [
    "- 다중선형회귀 인 경우 다중공선성 확인하기      \n",
    "vif 값"
   ]
  },
  {
   "cell_type": "markdown",
   "id": "72638aad",
   "metadata": {},
   "source": [
    "### 3. 모델 성능 평가"
   ]
  },
  {
   "cell_type": "markdown",
   "id": "33d5cdf3",
   "metadata": {},
   "source": [
    "- 결정계수 R^2\n",
    "- AIC, BIC"
   ]
  },
  {
   "cell_type": "markdown",
   "id": "e73abbfb",
   "metadata": {},
   "source": [
    " 회귀분석의 기본가정 6가지 검토 (모형의 유의성과 계수의 유의성이 확보되어도 다시)\n",
    "1. 선형성 \n",
    "- scatter plot 찍어보기\n",
    "2. 독립성 (다중공선성)\n",
    "- vif 지수, 상관계수\n",
    "3. 오차항 평균이 0이다    \n",
    "- np.mean(residuals)\n",
    "4. 등분산성\n",
    "- 잔차의 도표화\n",
    "5. 오차항 자기상관 없음\n",
    "- 더빈 왓슨 검정\n",
    "6. 정규성\n",
    "-  \tShapiro-Wilk 검증, Q-Q plot"
   ]
  },
  {
   "cell_type": "markdown",
   "id": "02e0dae6",
   "metadata": {},
   "source": [
    "### 4. 모델 성능 개선"
   ]
  },
  {
   "cell_type": "markdown",
   "id": "d8bd00bc",
   "metadata": {},
   "source": [
    "- 필요 없는 변수 제거\n",
    "- 비선형 모델 활용"
   ]
  }
 ],
 "metadata": {
  "language_info": {
   "name": "python"
  }
 },
 "nbformat": 4,
 "nbformat_minor": 5
}
