{
 "cells": [
  {
   "cell_type": "markdown",
   "id": "f3bfbbd0-a1a0-4d74-ab38-3945b65c7f5a",
   "metadata": {},
   "source": [
    "# 판다스, 데이터프레임 정리\n",
    "## 1.판다스\n",
    "    1.판다스는 파이썬 라이브러리중 하나. 넘파이의 확장판\n",
    "    2.판다스를 불러오는 방식: \n",
    "        -맨처음엔 import pandas as pd \n",
    "        -이후엔 'pd.여러가지함수들' 형식으로 사용하면 된다!\n",
    "    \n",
    "## 2. 데이터프레임\n",
    "    1.시리즈\n",
    "        -인덱스와 값이 존재하는 1차원\n",
    "        -pd.Series(리스트)\n",
    "    2.데이터프레임\n",
    "        -행과 열이 존재하는 2차원\n",
    "        -pd.DataFrame(사전)\n",
    "        -여러가지 함수로 데이터를 미리 확인하는 습관을 들이자\n",
    "    3.데이터 추출\n",
    "        -인덱싱 : 단일항목 지정 , 슬라이싱 : 범위항목 지정\n",
    "        -loc:인덱스이름 기준, iloc: 순서기준\n",
    "    4.여러가지 함수들\n",
    "        -df['새로운열']=리스트 : 새로운열 추가\n",
    "        -df.drop(labels,axis) : 행(0),열(1) 지우기\n",
    "        -df.sort_index(): 인덱스 기준으로 정렬\n",
    "        -df.sort_values('열'): 특정 열을 기준으로 정렬\n",
    "        -df.replace(바꾸고싶은 값, 바꿀값) : 값바꾸기\n",
    "        -df.T : 전치행렬화\n",
    "        -pd.concat([df1,df2],axis): 두df를 합치기 \n",
    "        -pd.merge(df1,df2,how='inner', on='기준 열 이름'):기준열 이름으로 교집합 연산(outer:합집합)\n",
    "        -df['컬럼명'].x, x= mean, median, std, sum, max, min ...\n",
    "        -df.groupby('컬럼명1')['컬럼명2'].x : 컬럼1로 그룹화 후 컬럼 2를 집계\n",
    "   \n",
    "   \n",
    "   \n",
    "    \n"
   ]
  },
  {
   "cell_type": "code",
   "execution_count": null,
   "id": "89df2815-fbe1-4bdc-b9ca-cc6e84effa2d",
   "metadata": {},
   "outputs": [],
   "source": []
  },
  {
   "cell_type": "code",
   "execution_count": null,
   "id": "3f9e583d-88e0-42b7-903f-dfdec0703df6",
   "metadata": {},
   "outputs": [],
   "source": []
  }
 ],
 "metadata": {
  "kernelspec": {
   "display_name": "Python 3 (ipykernel)",
   "language": "python",
   "name": "python3"
  },
  "language_info": {
   "codemirror_mode": {
    "name": "ipython",
    "version": 3
   },
   "file_extension": ".py",
   "mimetype": "text/x-python",
   "name": "python",
   "nbconvert_exporter": "python",
   "pygments_lexer": "ipython3",
   "version": "3.11.6"
  }
 },
 "nbformat": 4,
 "nbformat_minor": 5
}
