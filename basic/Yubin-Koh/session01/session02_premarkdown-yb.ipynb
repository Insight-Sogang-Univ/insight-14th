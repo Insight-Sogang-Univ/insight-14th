{
 "cells": [
  {
   "cell_type": "markdown",
   "id": "104c0596",
   "metadata": {},
   "source": [
    "# EDA & 전처리"
   ]
  },
  {
   "cell_type": "markdown",
   "id": "7e80a012",
   "metadata": {},
   "source": [
    "## 데이터분석 프로세스\n",
    "1. 데이터수집 \n",
    "2. 데이터 탐색(EDA)\n",
    "3. 데이터 전처리; 이상치 제거, 결측치 처리, 노이즈 제거 등 신뢰도 높이기 위한 과정\n",
    "4. 데이터 모델링; 모델 구축"
   ]
  },
  {
   "cell_type": "markdown",
   "id": "c2384b82",
   "metadata": {},
   "source": [
    "### EDA 대상\n",
    "1. 일변량 -> 데이터 설명 및 패턴 찾기\n",
    "2. 다변량 -> 여러 변수들 간의 관계를 살펴보기"
   ]
  },
  {
   "cell_type": "markdown",
   "id": "1ff1c84d",
   "metadata": {},
   "source": [
    "### EDA 종류\n",
    "1. 시각화 ; 도표, 그림, 차트 등\n",
    "2. 비시각화 ; summary Statistics 을 통해 데이터 확인"
   ]
  },
  {
   "cell_type": "markdown",
   "id": "2265072b",
   "metadata": {},
   "source": [
    "### EDA 유형\n",
    "1. 일변량 비시각화; 주어진 데이터의 분배 확인\n",
    "2. 일변량 시각화; 주어진 데이터를 전체적으로 살펴봄\n",
    "3. 다변향 비시각화; 변수간의 관계 파악\n",
    "4. 다변량 시각화; 변수간의 관계를 전체적으로 살펴봄"
   ]
  },
  {
   "cell_type": "markdown",
   "id": "b6fac9b1",
   "metadata": {},
   "source": [
    "### 데이터 확인\n",
    "1. 경로\n",
    "1) 절대경로 : 처음(root)부터 목적지까지 전체적인 경로 \n",
    "2) 상대경로 : 현재 작업하고 있는 디렉터리를 기준으로 상대적으로 표현되는 경로\n",
    "\n",
    "2. 데이터 입출력\n",
    "1) reader: read_*** | writer: to_***\n",
    "\n",
    "3.\n",
    "1) CSV : 쉼표로 구분하고 있는 텍스트 파일 -> 크기가 작고 압축이 용이함\n",
    "2) excel: 행열의 일대일 대응\n",
    "둘 다 pandas를 통해 DataFrame 형식으로 읽어올 수 있음"
   ]
  },
  {
   "cell_type": "markdown",
   "id": "7147f1fc",
   "metadata": {},
   "source": [
    "### 전처리\n",
    "1. 결측값처리 : NaN, ?, 0 등으로 나타나있는 결측값을 확인\n",
    "1) 삭제; dropna\n",
    "2) 대체; 평균값, 최빈값 등의 대푯값들을 활용 -> 일괄 대체, 유사 유형 대체 등\n",
    "* fillna(); 결측값 대체\n",
    "\n",
    "2. 이상치 확인 by 통계 -> describe()로 보고 확인 할 것 | 시각화를 통해 확인 bt boxpolt | Z-score 을 통해 확인 | Turkey Fences을 통해 확인 (IQR을 기반으로 이상치 판단)\n",
    "\n",
    "3. 이상치 제거 및 처리 \n",
    "1) 전체 삭제\n",
    "2) 다른 값으로 대체\n",
    "3) 변수화\n",
    "4) 리샘플링\n",
    "\n"
   ]
  },
  {
   "cell_type": "markdown",
   "id": "b1d98392",
   "metadata": {},
   "source": [
    "### 데이터 시각화\n",
    "1. HOW? : 주로 Matplotlib과 Seaborn을 사용\n",
    "2. 매개변수 Parameter 사용"
   ]
  },
  {
   "cell_type": "markdown",
   "id": "a467451d",
   "metadata": {},
   "source": [
    "다양한 그래프\n",
    "1. boxplot\n",
    "2. countplot, hisplot\n",
    "3. displot, kdeplot\n",
    "4. bareplot, pointplot\n",
    "5. scatterplot, regplot\n",
    "6. catplot\n",
    "7. pieplot\n",
    "8. heatmap\n",
    "9. violinplot\n",
    "10. pairplot"
   ]
  }
 ],
 "metadata": {
  "kernelspec": {
   "display_name": "base",
   "language": "python",
   "name": "python3"
  },
  "language_info": {
   "name": "python",
   "version": "3.13.5"
  }
 },
 "nbformat": 4,
 "nbformat_minor": 5
}
