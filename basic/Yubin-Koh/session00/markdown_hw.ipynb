{
 "cells": [
  {
   "cell_type": "markdown",
   "id": "9c2bf226",
   "metadata": {},
   "source": [
    "### 1. 판다스란?\n",
    "1-1. Pandas\n",
    "- 판다스는 데이터 분석에 특화된 파이썬 라이브러리다.\n",
    "- 테이블 형태다\n",
    "- Numpy 확장판이다."
   ]
  },
  {
   "cell_type": "markdown",
   "id": "cd23e788",
   "metadata": {},
   "source": [
    "1-2. 판다스 라이브러리 불러오기\n",
    "- 라이브러리: 기능이 미리 만들어져 있는 도구 상자\n",
    "- import로 불러와서 활용 가능\n",
    "- pd.read_csv() 로 기능 불러오기\n"
   ]
  },
  {
   "cell_type": "markdown",
   "id": "e814cb2e",
   "metadata": {},
   "source": []
  },
  {
   "cell_type": "markdown",
   "id": "bbb988db",
   "metadata": {},
   "source": [
    "### 2. 데이터프레임의 구성\n",
    "- 데이터프레임: 컴퓨터로 정보처리 가능\n",
    "- 2-1. Index 와 Columm : 데이터 위치 나타내는 행과 열\n",
    "- 2-2. Series : value와 index로 구성된 1차원 자료구조 (array)\n",
    "- 2-3. dataframe : series 여러 개가 모인 2차원 배열 구조"
   ]
  },
  {
   "cell_type": "markdown",
   "id": "42a3ea1e",
   "metadata": {},
   "source": [
    "### 3. 데이터 확인\n",
    "- 일부만 확인하고 요약 함수 사용 필요\n",
    "- 3-1. \n",
    "- `df.head(n)` : 앞 n개의 행 반환 (기본값 n=5)\n",
    "- `df.tail(n)` : 뒤 n개의 행 반환\n",
    "- 3-1. 정보 확인\n",
    "- `df.shape` : (행 개수, 열 개수) 반환\n",
    "- `df.info()` : 여러 정보들을 종합적으로 반환\n",
    "- `df.describe()` : 수치형 열들의 기본적인 통계값 반환\n",
    "- `df.isnull()` : 데이터에 결측치(NaN)가 있는지의 여부를 반환\n",
    "- `df.dtypes` : 열들의 데이터타입 반환\n",
    "- 3-2. 고유값 확인\n",
    "- df.count() : 결측치 개수 제외한 행수 반환\n",
    "- df[열 이름]. value_counts(): 빈도수 반환\n",
    "- df[열이름].unique() : 종류별로 반환"
   ]
  },
  {
   "cell_type": "markdown",
   "id": "6274f09b",
   "metadata": {},
   "source": [
    "### 4. 데이터 추출\n",
    "- 인덱싱 (단일항목 지목), 슬라이싱 (범위 지정 여러 항목 추출)\n",
    "- loc(label이 들어와야함)와 iloc (정수형 인덱스)\n",
    "- 열단위 추출: 컬럼명\n",
    "- 블리언 인덱싱 (True와 False의 배열을 통해 필터링)\n",
    "- bool 타입은 불가능\n"
   ]
  },
  {
   "cell_type": "markdown",
   "id": "9868568e",
   "metadata": {},
   "source": [
    "### 5. 데이터 조작\n",
    "- 데이터 추가 및 삭제 가능\n",
    "- 데이터 정렬 by sort\n",
    "- 데이터 변환 df.dtypes 와 replace 사용\n",
    "- 데이터 프레임 병합 (axis=0: 행방향, axis=1: 열방향)\n",
    "- merge 로 병합"
   ]
  },
  {
   "cell_type": "markdown",
   "id": "2af557ed",
   "metadata": {},
   "source": [
    "### 6. 집계함수\n",
    "- 여러 행으로부터 하나의 결괏값을 반환하는 함수\n",
    "- 결측치는 무시한다 \n",
    "- 그룹화: groupby 메소드 특정 기준으로 그룹을 묶고, 연산 처리를 할 수 있게 해줌"
   ]
  },
  {
   "cell_type": "markdown",
   "id": "8f809808",
   "metadata": {},
   "source": []
  },
  {
   "cell_type": "markdown",
   "id": "ab0211bc",
   "metadata": {},
   "source": []
  }
 ],
 "metadata": {
  "kernelspec": {
   "display_name": "Python 3",
   "language": "python",
   "name": "python3"
  },
  "language_info": {
   "name": "python",
   "version": "3.12.2"
  }
 },
 "nbformat": 4,
 "nbformat_minor": 5
}
