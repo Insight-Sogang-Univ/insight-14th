{
 "cells": [
  {
   "cell_type": "markdown",
   "id": "ae1538f9",
   "metadata": {},
   "source": [
    "# **회귀 모델링 프로세스 이해하기**\n",
    "이번 과제에선 회귀 분석과 더불어 전체적인 모델링 프로세스에 대해 이해해보겠습니다. \n",
    "\n"
   ]
  },
  {
   "cell_type": "markdown",
   "id": "da0fe6c3",
   "metadata": {},
   "source": [
    "### 데이터셋 설명 ('Concrete_data.csv')\n",
    "콘크리트는 건설 및 토목공학 분야에서 가장 중요한 재료 중 하나로 널리 사용됩니다. <br/> <br/>\n",
    "콘크리트의 **압축강도**는 재료의 성능을 평가하는 주요 지표이며, 이는 **양생기간과 혼합에 사용되는 재료 성분**들에 따라 결정됩니다. <br/><br/>\n",
    "이번 과제의 목표는 이러한 입력 변수들을 바탕으로 **콘크리트의 압축강도를 예측할 수 있는 회귀 모델을 구축**하는 것입니다."
   ]
  },
  {
   "cell_type": "markdown",
   "id": "c1cad45f",
   "metadata": {},
   "source": [
    "**독립변수**  <br/><br/>\n",
    "단위: kg/m³\n",
    "- Cement\n",
    "- Blast Furnace Slag\n",
    "- Fly Ash\n",
    "- Water\n",
    "- Superplasticizer\n",
    "- Coarse Aggregate\n",
    "- Fine Aggregate\n",
    "\n",
    "\n",
    "단위: 일 (1일 ~ 365일)  \n",
    "- Age (양생 기간)\n",
    "<br/><br/>\n",
    "\n",
    "**종속변수**  <br/><br/>\n",
    "단위: MPa (Megapascal)\n",
    "- csMPa\n"
   ]
  },
  {
   "cell_type": "markdown",
   "id": "fe7a9e8c",
   "metadata": {},
   "source": [
    "# 1 데이터 탐색"
   ]
  },
  {
   "cell_type": "code",
   "execution_count": 60,
   "id": "426b3a5a",
   "metadata": {},
   "outputs": [],
   "source": [
    "# 데이터 전처리 패키지\n",
    "import numpy as np\n",
    "import pandas as pd\n",
    "\n",
    "# 데이터 시각화 패키지\n",
    "import seaborn as sns\n",
    "import matplotlib.pyplot as plt"
   ]
  },
  {
   "cell_type": "code",
   "execution_count": 61,
   "id": "8bdba911",
   "metadata": {},
   "outputs": [],
   "source": [
    "# 데이터 불러오기\n",
    "data=pd.read_csv('Concrete_data.csv')"
   ]
  },
  {
   "cell_type": "markdown",
   "id": "88af88ba",
   "metadata": {},
   "source": [
    "#### 1.a 데이터셋의 크기, 변수의 데이터 타입 등을 확인해줍니다."
   ]
  },
  {
   "cell_type": "code",
   "execution_count": 62,
   "id": "86c924df",
   "metadata": {},
   "outputs": [
    {
     "data": {
      "text/html": [
       "<div>\n",
       "<style scoped>\n",
       "    .dataframe tbody tr th:only-of-type {\n",
       "        vertical-align: middle;\n",
       "    }\n",
       "\n",
       "    .dataframe tbody tr th {\n",
       "        vertical-align: top;\n",
       "    }\n",
       "\n",
       "    .dataframe thead th {\n",
       "        text-align: right;\n",
       "    }\n",
       "</style>\n",
       "<table border=\"1\" class=\"dataframe\">\n",
       "  <thead>\n",
       "    <tr style=\"text-align: right;\">\n",
       "      <th></th>\n",
       "      <th>cement</th>\n",
       "      <th>slag</th>\n",
       "      <th>flyash</th>\n",
       "      <th>water</th>\n",
       "      <th>superplasticizer</th>\n",
       "      <th>coarseaggregate</th>\n",
       "      <th>fineaggregate</th>\n",
       "      <th>age</th>\n",
       "      <th>csMPa</th>\n",
       "    </tr>\n",
       "  </thead>\n",
       "  <tbody>\n",
       "    <tr>\n",
       "      <th>0</th>\n",
       "      <td>540.0</td>\n",
       "      <td>0.0</td>\n",
       "      <td>0.0</td>\n",
       "      <td>162.0</td>\n",
       "      <td>2.5</td>\n",
       "      <td>1040.0</td>\n",
       "      <td>676.0</td>\n",
       "      <td>28</td>\n",
       "      <td>79.99</td>\n",
       "    </tr>\n",
       "    <tr>\n",
       "      <th>1</th>\n",
       "      <td>540.0</td>\n",
       "      <td>0.0</td>\n",
       "      <td>0.0</td>\n",
       "      <td>162.0</td>\n",
       "      <td>2.5</td>\n",
       "      <td>1055.0</td>\n",
       "      <td>676.0</td>\n",
       "      <td>28</td>\n",
       "      <td>61.89</td>\n",
       "    </tr>\n",
       "    <tr>\n",
       "      <th>2</th>\n",
       "      <td>332.5</td>\n",
       "      <td>142.5</td>\n",
       "      <td>0.0</td>\n",
       "      <td>228.0</td>\n",
       "      <td>0.0</td>\n",
       "      <td>932.0</td>\n",
       "      <td>594.0</td>\n",
       "      <td>270</td>\n",
       "      <td>40.27</td>\n",
       "    </tr>\n",
       "    <tr>\n",
       "      <th>3</th>\n",
       "      <td>332.5</td>\n",
       "      <td>142.5</td>\n",
       "      <td>0.0</td>\n",
       "      <td>228.0</td>\n",
       "      <td>0.0</td>\n",
       "      <td>932.0</td>\n",
       "      <td>594.0</td>\n",
       "      <td>365</td>\n",
       "      <td>41.05</td>\n",
       "    </tr>\n",
       "    <tr>\n",
       "      <th>4</th>\n",
       "      <td>198.6</td>\n",
       "      <td>132.4</td>\n",
       "      <td>0.0</td>\n",
       "      <td>192.0</td>\n",
       "      <td>0.0</td>\n",
       "      <td>978.4</td>\n",
       "      <td>825.5</td>\n",
       "      <td>360</td>\n",
       "      <td>44.30</td>\n",
       "    </tr>\n",
       "  </tbody>\n",
       "</table>\n",
       "</div>"
      ],
      "text/plain": [
       "   cement   slag  flyash  water  superplasticizer  coarseaggregate  \\\n",
       "0   540.0    0.0     0.0  162.0               2.5           1040.0   \n",
       "1   540.0    0.0     0.0  162.0               2.5           1055.0   \n",
       "2   332.5  142.5     0.0  228.0               0.0            932.0   \n",
       "3   332.5  142.5     0.0  228.0               0.0            932.0   \n",
       "4   198.6  132.4     0.0  192.0               0.0            978.4   \n",
       "\n",
       "   fineaggregate  age  csMPa  \n",
       "0          676.0   28  79.99  \n",
       "1          676.0   28  61.89  \n",
       "2          594.0  270  40.27  \n",
       "3          594.0  365  41.05  \n",
       "4          825.5  360  44.30  "
      ]
     },
     "execution_count": 62,
     "metadata": {},
     "output_type": "execute_result"
    }
   ],
   "source": [
    "data.head()"
   ]
  },
  {
   "cell_type": "markdown",
   "id": "5aa6dee2",
   "metadata": {},
   "source": [
    "<span style=\"color:red\"> ***를 채워주세요 <span>"
   ]
  },
  {
   "cell_type": "code",
   "execution_count": 63,
   "id": "a57976ab",
   "metadata": {},
   "outputs": [
    {
     "data": {
      "text/plain": [
       "(1030, 9)"
      ]
     },
     "execution_count": 63,
     "metadata": {},
     "output_type": "execute_result"
    }
   ],
   "source": [
    "# 데이터셋의 크기 확인\n",
    "data.shape"
   ]
  },
  {
   "cell_type": "code",
   "execution_count": 64,
   "id": "199dd9b7",
   "metadata": {},
   "outputs": [
    {
     "name": "stdout",
     "output_type": "stream",
     "text": [
      "<class 'pandas.core.frame.DataFrame'>\n",
      "RangeIndex: 1030 entries, 0 to 1029\n",
      "Data columns (total 9 columns):\n",
      " #   Column            Non-Null Count  Dtype  \n",
      "---  ------            --------------  -----  \n",
      " 0   cement            1030 non-null   float64\n",
      " 1   slag              1030 non-null   float64\n",
      " 2   flyash            1030 non-null   float64\n",
      " 3   water             1030 non-null   float64\n",
      " 4   superplasticizer  1030 non-null   float64\n",
      " 5   coarseaggregate   1030 non-null   float64\n",
      " 6   fineaggregate     1030 non-null   float64\n",
      " 7   age               1030 non-null   int64  \n",
      " 8   csMPa             1030 non-null   float64\n",
      "dtypes: float64(8), int64(1)\n",
      "memory usage: 72.6 KB\n"
     ]
    }
   ],
   "source": [
    "# info로 데이터 타입 확인\n",
    "data.info()"
   ]
  },
  {
   "cell_type": "markdown",
   "id": "ddd5849f",
   "metadata": {},
   "source": [
    "#### 데이터의 모든 변수는 수치형 데이터(Int, Float)로 확인되며, 결측치가 존재하지 않는다. (물론 0,? 등으로 표시된 결측치는 따로 확인해함!!)"
   ]
  },
  {
   "cell_type": "markdown",
   "id": "61e63144",
   "metadata": {},
   "source": [
    "#### 1.b 중복 데이터를 확인해 삭제해 줍니다."
   ]
  },
  {
   "cell_type": "code",
   "execution_count": 65,
   "id": "9852461a",
   "metadata": {},
   "outputs": [
    {
     "name": "stdout",
     "output_type": "stream",
     "text": [
      " The number of duplicates in the dataset are: 25 \n",
      "\n"
     ]
    },
    {
     "data": {
      "text/html": [
       "<div>\n",
       "<style scoped>\n",
       "    .dataframe tbody tr th:only-of-type {\n",
       "        vertical-align: middle;\n",
       "    }\n",
       "\n",
       "    .dataframe tbody tr th {\n",
       "        vertical-align: top;\n",
       "    }\n",
       "\n",
       "    .dataframe thead th {\n",
       "        text-align: right;\n",
       "    }\n",
       "</style>\n",
       "<table border=\"1\" class=\"dataframe\">\n",
       "  <thead>\n",
       "    <tr style=\"text-align: right;\">\n",
       "      <th></th>\n",
       "      <th>cement</th>\n",
       "      <th>slag</th>\n",
       "      <th>flyash</th>\n",
       "      <th>water</th>\n",
       "      <th>superplasticizer</th>\n",
       "      <th>coarseaggregate</th>\n",
       "      <th>fineaggregate</th>\n",
       "      <th>age</th>\n",
       "      <th>csMPa</th>\n",
       "    </tr>\n",
       "  </thead>\n",
       "  <tbody>\n",
       "    <tr>\n",
       "      <th>77</th>\n",
       "      <td>425.0</td>\n",
       "      <td>106.3</td>\n",
       "      <td>0.0</td>\n",
       "      <td>153.5</td>\n",
       "      <td>16.5</td>\n",
       "      <td>852.1</td>\n",
       "      <td>887.1</td>\n",
       "      <td>3</td>\n",
       "      <td>33.40</td>\n",
       "    </tr>\n",
       "    <tr>\n",
       "      <th>80</th>\n",
       "      <td>425.0</td>\n",
       "      <td>106.3</td>\n",
       "      <td>0.0</td>\n",
       "      <td>153.5</td>\n",
       "      <td>16.5</td>\n",
       "      <td>852.1</td>\n",
       "      <td>887.1</td>\n",
       "      <td>3</td>\n",
       "      <td>33.40</td>\n",
       "    </tr>\n",
       "    <tr>\n",
       "      <th>86</th>\n",
       "      <td>362.6</td>\n",
       "      <td>189.0</td>\n",
       "      <td>0.0</td>\n",
       "      <td>164.9</td>\n",
       "      <td>11.6</td>\n",
       "      <td>944.7</td>\n",
       "      <td>755.8</td>\n",
       "      <td>3</td>\n",
       "      <td>35.30</td>\n",
       "    </tr>\n",
       "    <tr>\n",
       "      <th>88</th>\n",
       "      <td>362.6</td>\n",
       "      <td>189.0</td>\n",
       "      <td>0.0</td>\n",
       "      <td>164.9</td>\n",
       "      <td>11.6</td>\n",
       "      <td>944.7</td>\n",
       "      <td>755.8</td>\n",
       "      <td>3</td>\n",
       "      <td>35.30</td>\n",
       "    </tr>\n",
       "    <tr>\n",
       "      <th>91</th>\n",
       "      <td>362.6</td>\n",
       "      <td>189.0</td>\n",
       "      <td>0.0</td>\n",
       "      <td>164.9</td>\n",
       "      <td>11.6</td>\n",
       "      <td>944.7</td>\n",
       "      <td>755.8</td>\n",
       "      <td>3</td>\n",
       "      <td>35.30</td>\n",
       "    </tr>\n",
       "    <tr>\n",
       "      <th>100</th>\n",
       "      <td>425.0</td>\n",
       "      <td>106.3</td>\n",
       "      <td>0.0</td>\n",
       "      <td>153.5</td>\n",
       "      <td>16.5</td>\n",
       "      <td>852.1</td>\n",
       "      <td>887.1</td>\n",
       "      <td>7</td>\n",
       "      <td>49.20</td>\n",
       "    </tr>\n",
       "    <tr>\n",
       "      <th>103</th>\n",
       "      <td>425.0</td>\n",
       "      <td>106.3</td>\n",
       "      <td>0.0</td>\n",
       "      <td>153.5</td>\n",
       "      <td>16.5</td>\n",
       "      <td>852.1</td>\n",
       "      <td>887.1</td>\n",
       "      <td>7</td>\n",
       "      <td>49.20</td>\n",
       "    </tr>\n",
       "    <tr>\n",
       "      <th>109</th>\n",
       "      <td>362.6</td>\n",
       "      <td>189.0</td>\n",
       "      <td>0.0</td>\n",
       "      <td>164.9</td>\n",
       "      <td>11.6</td>\n",
       "      <td>944.7</td>\n",
       "      <td>755.8</td>\n",
       "      <td>7</td>\n",
       "      <td>55.90</td>\n",
       "    </tr>\n",
       "    <tr>\n",
       "      <th>111</th>\n",
       "      <td>362.6</td>\n",
       "      <td>189.0</td>\n",
       "      <td>0.0</td>\n",
       "      <td>164.9</td>\n",
       "      <td>11.6</td>\n",
       "      <td>944.7</td>\n",
       "      <td>755.8</td>\n",
       "      <td>7</td>\n",
       "      <td>55.90</td>\n",
       "    </tr>\n",
       "    <tr>\n",
       "      <th>123</th>\n",
       "      <td>425.0</td>\n",
       "      <td>106.3</td>\n",
       "      <td>0.0</td>\n",
       "      <td>153.5</td>\n",
       "      <td>16.5</td>\n",
       "      <td>852.1</td>\n",
       "      <td>887.1</td>\n",
       "      <td>28</td>\n",
       "      <td>60.29</td>\n",
       "    </tr>\n",
       "    <tr>\n",
       "      <th>126</th>\n",
       "      <td>425.0</td>\n",
       "      <td>106.3</td>\n",
       "      <td>0.0</td>\n",
       "      <td>153.5</td>\n",
       "      <td>16.5</td>\n",
       "      <td>852.1</td>\n",
       "      <td>887.1</td>\n",
       "      <td>28</td>\n",
       "      <td>60.29</td>\n",
       "    </tr>\n",
       "    <tr>\n",
       "      <th>132</th>\n",
       "      <td>362.6</td>\n",
       "      <td>189.0</td>\n",
       "      <td>0.0</td>\n",
       "      <td>164.9</td>\n",
       "      <td>11.6</td>\n",
       "      <td>944.7</td>\n",
       "      <td>755.8</td>\n",
       "      <td>28</td>\n",
       "      <td>71.30</td>\n",
       "    </tr>\n",
       "    <tr>\n",
       "      <th>134</th>\n",
       "      <td>362.6</td>\n",
       "      <td>189.0</td>\n",
       "      <td>0.0</td>\n",
       "      <td>164.9</td>\n",
       "      <td>11.6</td>\n",
       "      <td>944.7</td>\n",
       "      <td>755.8</td>\n",
       "      <td>28</td>\n",
       "      <td>71.30</td>\n",
       "    </tr>\n",
       "    <tr>\n",
       "      <th>137</th>\n",
       "      <td>362.6</td>\n",
       "      <td>189.0</td>\n",
       "      <td>0.0</td>\n",
       "      <td>164.9</td>\n",
       "      <td>11.6</td>\n",
       "      <td>944.7</td>\n",
       "      <td>755.8</td>\n",
       "      <td>28</td>\n",
       "      <td>71.30</td>\n",
       "    </tr>\n",
       "    <tr>\n",
       "      <th>146</th>\n",
       "      <td>425.0</td>\n",
       "      <td>106.3</td>\n",
       "      <td>0.0</td>\n",
       "      <td>153.5</td>\n",
       "      <td>16.5</td>\n",
       "      <td>852.1</td>\n",
       "      <td>887.1</td>\n",
       "      <td>56</td>\n",
       "      <td>64.30</td>\n",
       "    </tr>\n",
       "    <tr>\n",
       "      <th>149</th>\n",
       "      <td>425.0</td>\n",
       "      <td>106.3</td>\n",
       "      <td>0.0</td>\n",
       "      <td>153.5</td>\n",
       "      <td>16.5</td>\n",
       "      <td>852.1</td>\n",
       "      <td>887.1</td>\n",
       "      <td>56</td>\n",
       "      <td>64.30</td>\n",
       "    </tr>\n",
       "    <tr>\n",
       "      <th>155</th>\n",
       "      <td>362.6</td>\n",
       "      <td>189.0</td>\n",
       "      <td>0.0</td>\n",
       "      <td>164.9</td>\n",
       "      <td>11.6</td>\n",
       "      <td>944.7</td>\n",
       "      <td>755.8</td>\n",
       "      <td>56</td>\n",
       "      <td>77.30</td>\n",
       "    </tr>\n",
       "    <tr>\n",
       "      <th>157</th>\n",
       "      <td>362.6</td>\n",
       "      <td>189.0</td>\n",
       "      <td>0.0</td>\n",
       "      <td>164.9</td>\n",
       "      <td>11.6</td>\n",
       "      <td>944.7</td>\n",
       "      <td>755.8</td>\n",
       "      <td>56</td>\n",
       "      <td>77.30</td>\n",
       "    </tr>\n",
       "    <tr>\n",
       "      <th>160</th>\n",
       "      <td>362.6</td>\n",
       "      <td>189.0</td>\n",
       "      <td>0.0</td>\n",
       "      <td>164.9</td>\n",
       "      <td>11.6</td>\n",
       "      <td>944.7</td>\n",
       "      <td>755.8</td>\n",
       "      <td>56</td>\n",
       "      <td>77.30</td>\n",
       "    </tr>\n",
       "    <tr>\n",
       "      <th>169</th>\n",
       "      <td>425.0</td>\n",
       "      <td>106.3</td>\n",
       "      <td>0.0</td>\n",
       "      <td>153.5</td>\n",
       "      <td>16.5</td>\n",
       "      <td>852.1</td>\n",
       "      <td>887.1</td>\n",
       "      <td>91</td>\n",
       "      <td>65.20</td>\n",
       "    </tr>\n",
       "    <tr>\n",
       "      <th>172</th>\n",
       "      <td>425.0</td>\n",
       "      <td>106.3</td>\n",
       "      <td>0.0</td>\n",
       "      <td>153.5</td>\n",
       "      <td>16.5</td>\n",
       "      <td>852.1</td>\n",
       "      <td>887.1</td>\n",
       "      <td>91</td>\n",
       "      <td>65.20</td>\n",
       "    </tr>\n",
       "    <tr>\n",
       "      <th>177</th>\n",
       "      <td>362.6</td>\n",
       "      <td>189.0</td>\n",
       "      <td>0.0</td>\n",
       "      <td>164.9</td>\n",
       "      <td>11.6</td>\n",
       "      <td>944.7</td>\n",
       "      <td>755.8</td>\n",
       "      <td>91</td>\n",
       "      <td>79.30</td>\n",
       "    </tr>\n",
       "    <tr>\n",
       "      <th>179</th>\n",
       "      <td>362.6</td>\n",
       "      <td>189.0</td>\n",
       "      <td>0.0</td>\n",
       "      <td>164.9</td>\n",
       "      <td>11.6</td>\n",
       "      <td>944.7</td>\n",
       "      <td>755.8</td>\n",
       "      <td>91</td>\n",
       "      <td>79.30</td>\n",
       "    </tr>\n",
       "    <tr>\n",
       "      <th>182</th>\n",
       "      <td>362.6</td>\n",
       "      <td>189.0</td>\n",
       "      <td>0.0</td>\n",
       "      <td>164.9</td>\n",
       "      <td>11.6</td>\n",
       "      <td>944.7</td>\n",
       "      <td>755.8</td>\n",
       "      <td>91</td>\n",
       "      <td>79.30</td>\n",
       "    </tr>\n",
       "    <tr>\n",
       "      <th>809</th>\n",
       "      <td>252.0</td>\n",
       "      <td>0.0</td>\n",
       "      <td>0.0</td>\n",
       "      <td>185.0</td>\n",
       "      <td>0.0</td>\n",
       "      <td>1111.0</td>\n",
       "      <td>784.0</td>\n",
       "      <td>28</td>\n",
       "      <td>19.69</td>\n",
       "    </tr>\n",
       "  </tbody>\n",
       "</table>\n",
       "</div>"
      ],
      "text/plain": [
       "     cement   slag  flyash  water  superplasticizer  coarseaggregate  \\\n",
       "77    425.0  106.3     0.0  153.5              16.5            852.1   \n",
       "80    425.0  106.3     0.0  153.5              16.5            852.1   \n",
       "86    362.6  189.0     0.0  164.9              11.6            944.7   \n",
       "88    362.6  189.0     0.0  164.9              11.6            944.7   \n",
       "91    362.6  189.0     0.0  164.9              11.6            944.7   \n",
       "100   425.0  106.3     0.0  153.5              16.5            852.1   \n",
       "103   425.0  106.3     0.0  153.5              16.5            852.1   \n",
       "109   362.6  189.0     0.0  164.9              11.6            944.7   \n",
       "111   362.6  189.0     0.0  164.9              11.6            944.7   \n",
       "123   425.0  106.3     0.0  153.5              16.5            852.1   \n",
       "126   425.0  106.3     0.0  153.5              16.5            852.1   \n",
       "132   362.6  189.0     0.0  164.9              11.6            944.7   \n",
       "134   362.6  189.0     0.0  164.9              11.6            944.7   \n",
       "137   362.6  189.0     0.0  164.9              11.6            944.7   \n",
       "146   425.0  106.3     0.0  153.5              16.5            852.1   \n",
       "149   425.0  106.3     0.0  153.5              16.5            852.1   \n",
       "155   362.6  189.0     0.0  164.9              11.6            944.7   \n",
       "157   362.6  189.0     0.0  164.9              11.6            944.7   \n",
       "160   362.6  189.0     0.0  164.9              11.6            944.7   \n",
       "169   425.0  106.3     0.0  153.5              16.5            852.1   \n",
       "172   425.0  106.3     0.0  153.5              16.5            852.1   \n",
       "177   362.6  189.0     0.0  164.9              11.6            944.7   \n",
       "179   362.6  189.0     0.0  164.9              11.6            944.7   \n",
       "182   362.6  189.0     0.0  164.9              11.6            944.7   \n",
       "809   252.0    0.0     0.0  185.0               0.0           1111.0   \n",
       "\n",
       "     fineaggregate  age  csMPa  \n",
       "77           887.1    3  33.40  \n",
       "80           887.1    3  33.40  \n",
       "86           755.8    3  35.30  \n",
       "88           755.8    3  35.30  \n",
       "91           755.8    3  35.30  \n",
       "100          887.1    7  49.20  \n",
       "103          887.1    7  49.20  \n",
       "109          755.8    7  55.90  \n",
       "111          755.8    7  55.90  \n",
       "123          887.1   28  60.29  \n",
       "126          887.1   28  60.29  \n",
       "132          755.8   28  71.30  \n",
       "134          755.8   28  71.30  \n",
       "137          755.8   28  71.30  \n",
       "146          887.1   56  64.30  \n",
       "149          887.1   56  64.30  \n",
       "155          755.8   56  77.30  \n",
       "157          755.8   56  77.30  \n",
       "160          755.8   56  77.30  \n",
       "169          887.1   91  65.20  \n",
       "172          887.1   91  65.20  \n",
       "177          755.8   91  79.30  \n",
       "179          755.8   91  79.30  \n",
       "182          755.8   91  79.30  \n",
       "809          784.0   28  19.69  "
      ]
     },
     "execution_count": 65,
     "metadata": {},
     "output_type": "execute_result"
    }
   ],
   "source": [
    "# 중복 데이터 확인\n",
    "dupes=data.duplicated()\n",
    "print(' The number of duplicates in the dataset are:',sum(dupes), '\\n')\n",
    "\n",
    "pd.DataFrame(data[dupes])\n"
   ]
  },
  {
   "cell_type": "code",
   "execution_count": 66,
   "id": "f9c5665b",
   "metadata": {},
   "outputs": [
    {
     "name": "stdout",
     "output_type": "stream",
     "text": [
      "The number of duplicates in the dataset are: 0 \n",
      "\n"
     ]
    }
   ],
   "source": [
    "# 중복 열 제거하기\n",
    "data.drop_duplicates(keep=\"first\", inplace=True)\n",
    "\n",
    "# 중복 여부 확인\n",
    "dupes1 = data.duplicated()\n",
    "print(\"The number of duplicates in the dataset are:\", sum(dupes1), \"\\n\")\n"
   ]
  },
  {
   "cell_type": "markdown",
   "id": "64ab1c86",
   "metadata": {},
   "source": [
    "## 1.c EDA "
   ]
  },
  {
   "cell_type": "markdown",
   "id": "64314aa6",
   "metadata": {},
   "source": [
    "#### 데이터셋을 자유롭게 EDA해 보고, 변수들의 분포나 변수 간의 관계를 살펴본 뒤 드는 생각을 간단히 정리해 보세요. (시각화/비시각화 방법으로 각 1개 이상)\n",
    "\n",
    "#### 필요하다면 통계적 검정을 활용해봐도 좋아요!\n"
   ]
  },
  {
   "cell_type": "markdown",
   "id": "0e3961c1",
   "metadata": {},
   "source": [
    "#### <span style=\"color:red\"> *** <span>\n",
    "1. 변수가 모두 수치형이라 이상치 파악이 쉬울 듯해 describe()와 boxplot으로 이상치 확인한 결과, 눈에 띄는 컬럼은 water, age, csMPa <br> \n",
    "=> water의 경우 박스 위아래로 이상치가 다양한 값을 가지는데, csMPa의 경우 이상치가 비슷한 값에 몰려있음 <br> <br> \n",
    "2. 변수 간 상관관계를 파악하기 위해 히트맵을 확인한 결과, water-superplasticizer와 water-fineaggregate의 상관관계가 가장 두드러짐"
   ]
  },
  {
   "cell_type": "code",
   "execution_count": 67,
   "id": "0bb016d6",
   "metadata": {},
   "outputs": [
    {
     "name": "stdout",
     "output_type": "stream",
     "text": [
      "            cement         slag       flyash        water  superplasticizer  \\\n",
      "count  1005.000000  1005.000000  1005.000000  1005.000000       1005.000000   \n",
      "mean    278.631343    72.043483    55.536318   182.075323          6.033234   \n",
      "std     104.344261    86.170807    64.207969    21.339334          5.919967   \n",
      "min     102.000000     0.000000     0.000000   121.800000          0.000000   \n",
      "25%     190.700000     0.000000     0.000000   166.600000          0.000000   \n",
      "50%     265.000000    20.000000     0.000000   185.700000          6.100000   \n",
      "75%     349.000000   142.500000   118.300000   192.900000         10.000000   \n",
      "max     540.000000   359.400000   200.100000   247.000000         32.200000   \n",
      "\n",
      "       coarseaggregate  fineaggregate          age        csMPa  \n",
      "count      1005.000000    1005.000000  1005.000000  1005.000000  \n",
      "mean        974.376816     772.688259    45.856716    35.250378  \n",
      "std          77.579667      80.340435    63.734692    16.284815  \n",
      "min         801.000000     594.000000     1.000000     2.330000  \n",
      "25%         932.000000     724.300000     7.000000    23.520000  \n",
      "50%         968.000000     780.000000    28.000000    33.800000  \n",
      "75%        1031.000000     822.200000    56.000000    44.870000  \n",
      "max        1145.000000     992.600000   365.000000    82.600000  \n"
     ]
    },
    {
     "data": {
      "image/png": "[encoded data removed]",
      "text/plain": [
       "<Figure size 640x480 with 1 Axes>"
      ]
     },
     "metadata": {},
     "output_type": "display_data"
    },
    {
     "data": {
      "image/png": "[encoded data removed]",
      "text/plain": [
       "<Figure size 640x480 with 1 Axes>"
      ]
     },
     "metadata": {},
     "output_type": "display_data"
    },
    {
     "data": {
      "image/png": "[encoded data removed]",
      "text/plain": [
       "<Figure size 640x480 with 1 Axes>"
      ]
     },
     "metadata": {},
     "output_type": "display_data"
    },
    {
     "data": {
      "image/png": "[encoded data removed]",
      "text/plain": [
       "<Figure size 640x480 with 1 Axes>"
      ]
     },
     "metadata": {},
     "output_type": "display_data"
    },
    {
     "data": {
      "image/png": "[encoded data removed]",
      "text/plain": [
       "<Figure size 640x480 with 1 Axes>"
      ]
     },
     "metadata": {},
     "output_type": "display_data"
    },
    {
     "data": {
      "image/png": "[encoded data removed]",
      "text/plain": [
       "<Figure size 640x480 with 1 Axes>"
      ]
     },
     "metadata": {},
     "output_type": "display_data"
    },
    {
     "data": {
      "image/png": "[encoded data removed]",
      "text/plain": [
       "<Figure size 640x480 with 1 Axes>"
      ]
     },
     "metadata": {},
     "output_type": "display_data"
    },
    {
     "data": {
      "image/png": "[encoded data removed]",
      "text/plain": [
       "<Figure size 640x480 with 1 Axes>"
      ]
     },
     "metadata": {},
     "output_type": "display_data"
    },
    {
     "data": {
      "image/png": "[encoded data removed]",
      "text/plain": [
       "<Figure size 640x480 with 1 Axes>"
      ]
     },
     "metadata": {},
     "output_type": "display_data"
    },
    {
     "name": "stdout",
     "output_type": "stream",
     "text": [
      "Axes(0.125,0.11;0.62x0.77)\n"
     ]
    },
    {
     "data": {
      "image/png": "[encoded data removed]",
      "text/plain": [
       "<Figure size 640x480 with 2 Axes>"
      ]
     },
     "metadata": {},
     "output_type": "display_data"
    }
   ],
   "source": [
    "from scipy import stats as spst\n",
    "# EDA\n",
    "\n",
    "print(data.describe())\n",
    "\n",
    "for i in data.describe().columns:\n",
    "    data[[i]].boxplot()\n",
    "    plt.show()\n",
    "\n",
    "print(sns.heatmap(data.corr(), annot=True))\n"
   ]
  },
  {
   "cell_type": "markdown",
   "id": "e627e839",
   "metadata": {},
   "source": [
    "# 2 피처 엔지니어링"
   ]
  },
  {
   "cell_type": "code",
   "execution_count": 68,
   "id": "465d9b32",
   "metadata": {},
   "outputs": [
    {
     "data": {
      "text/html": [
       "<div>\n",
       "<style scoped>\n",
       "    .dataframe tbody tr th:only-of-type {\n",
       "        vertical-align: middle;\n",
       "    }\n",
       "\n",
       "    .dataframe tbody tr th {\n",
       "        vertical-align: top;\n",
       "    }\n",
       "\n",
       "    .dataframe thead th {\n",
       "        text-align: right;\n",
       "    }\n",
       "</style>\n",
       "<table border=\"1\" class=\"dataframe\">\n",
       "  <thead>\n",
       "    <tr style=\"text-align: right;\">\n",
       "      <th></th>\n",
       "      <th>cement</th>\n",
       "      <th>slag</th>\n",
       "      <th>flyash</th>\n",
       "      <th>water</th>\n",
       "      <th>superplasticizer</th>\n",
       "      <th>coarseaggregate</th>\n",
       "      <th>fineaggregate</th>\n",
       "      <th>age</th>\n",
       "      <th>csMPa</th>\n",
       "    </tr>\n",
       "  </thead>\n",
       "  <tbody>\n",
       "    <tr>\n",
       "      <th>0</th>\n",
       "      <td>540.0</td>\n",
       "      <td>0.0</td>\n",
       "      <td>0.0</td>\n",
       "      <td>162.0</td>\n",
       "      <td>2.5</td>\n",
       "      <td>1040.0</td>\n",
       "      <td>676.0</td>\n",
       "      <td>28</td>\n",
       "      <td>79.99</td>\n",
       "    </tr>\n",
       "    <tr>\n",
       "      <th>1</th>\n",
       "      <td>540.0</td>\n",
       "      <td>0.0</td>\n",
       "      <td>0.0</td>\n",
       "      <td>162.0</td>\n",
       "      <td>2.5</td>\n",
       "      <td>1055.0</td>\n",
       "      <td>676.0</td>\n",
       "      <td>28</td>\n",
       "      <td>61.89</td>\n",
       "    </tr>\n",
       "    <tr>\n",
       "      <th>2</th>\n",
       "      <td>332.5</td>\n",
       "      <td>142.5</td>\n",
       "      <td>0.0</td>\n",
       "      <td>228.0</td>\n",
       "      <td>0.0</td>\n",
       "      <td>932.0</td>\n",
       "      <td>594.0</td>\n",
       "      <td>270</td>\n",
       "      <td>40.27</td>\n",
       "    </tr>\n",
       "    <tr>\n",
       "      <th>3</th>\n",
       "      <td>332.5</td>\n",
       "      <td>142.5</td>\n",
       "      <td>0.0</td>\n",
       "      <td>228.0</td>\n",
       "      <td>0.0</td>\n",
       "      <td>932.0</td>\n",
       "      <td>594.0</td>\n",
       "      <td>365</td>\n",
       "      <td>41.05</td>\n",
       "    </tr>\n",
       "    <tr>\n",
       "      <th>4</th>\n",
       "      <td>198.6</td>\n",
       "      <td>132.4</td>\n",
       "      <td>0.0</td>\n",
       "      <td>192.0</td>\n",
       "      <td>0.0</td>\n",
       "      <td>978.4</td>\n",
       "      <td>825.5</td>\n",
       "      <td>360</td>\n",
       "      <td>44.30</td>\n",
       "    </tr>\n",
       "  </tbody>\n",
       "</table>\n",
       "</div>"
      ],
      "text/plain": [
       "   cement   slag  flyash  water  superplasticizer  coarseaggregate  \\\n",
       "0   540.0    0.0     0.0  162.0               2.5           1040.0   \n",
       "1   540.0    0.0     0.0  162.0               2.5           1055.0   \n",
       "2   332.5  142.5     0.0  228.0               0.0            932.0   \n",
       "3   332.5  142.5     0.0  228.0               0.0            932.0   \n",
       "4   198.6  132.4     0.0  192.0               0.0            978.4   \n",
       "\n",
       "   fineaggregate  age  csMPa  \n",
       "0          676.0   28  79.99  \n",
       "1          676.0   28  61.89  \n",
       "2          594.0  270  40.27  \n",
       "3          594.0  365  41.05  \n",
       "4          825.5  360  44.30  "
      ]
     },
     "execution_count": 68,
     "metadata": {},
     "output_type": "execute_result"
    }
   ],
   "source": [
    "data.head()"
   ]
  },
  {
   "cell_type": "markdown",
   "id": "7e918792",
   "metadata": {},
   "source": [
    "\n",
    "## 2.a 변수의 생성 및 삭제\n",
    "\n",
    "### 2.a.i 파생변수 생성"
   ]
  },
  {
   "cell_type": "markdown",
   "id": "ad5c61b5",
   "metadata": {},
   "source": [
    "콘크리트 내구성의 핵심 요소는 **물과 시멘트 비율**입니다.\n",
    "\n",
    "따라서 파생변수 생성을 통해 새로운 칼럼을 생성해 봅시다."
   ]
  },
  {
   "cell_type": "code",
   "execution_count": 69,
   "id": "1c0b22d8",
   "metadata": {},
   "outputs": [],
   "source": [
    "data['w/c ratio']=data['water']/data['cement']"
   ]
  },
  {
   "cell_type": "code",
   "execution_count": 70,
   "id": "102a1710",
   "metadata": {},
   "outputs": [
    {
     "data": {
      "text/html": [
       "<div>\n",
       "<style scoped>\n",
       "    .dataframe tbody tr th:only-of-type {\n",
       "        vertical-align: middle;\n",
       "    }\n",
       "\n",
       "    .dataframe tbody tr th {\n",
       "        vertical-align: top;\n",
       "    }\n",
       "\n",
       "    .dataframe thead th {\n",
       "        text-align: right;\n",
       "    }\n",
       "</style>\n",
       "<table border=\"1\" class=\"dataframe\">\n",
       "  <thead>\n",
       "    <tr style=\"text-align: right;\">\n",
       "      <th></th>\n",
       "      <th>cement</th>\n",
       "      <th>slag</th>\n",
       "      <th>flyash</th>\n",
       "      <th>water</th>\n",
       "      <th>superplasticizer</th>\n",
       "      <th>coarseaggregate</th>\n",
       "      <th>fineaggregate</th>\n",
       "      <th>age</th>\n",
       "      <th>csMPa</th>\n",
       "      <th>w/c ratio</th>\n",
       "    </tr>\n",
       "  </thead>\n",
       "  <tbody>\n",
       "    <tr>\n",
       "      <th>0</th>\n",
       "      <td>540.0</td>\n",
       "      <td>0.0</td>\n",
       "      <td>0.0</td>\n",
       "      <td>162.0</td>\n",
       "      <td>2.5</td>\n",
       "      <td>1040.0</td>\n",
       "      <td>676.0</td>\n",
       "      <td>28</td>\n",
       "      <td>79.99</td>\n",
       "      <td>0.300000</td>\n",
       "    </tr>\n",
       "    <tr>\n",
       "      <th>1</th>\n",
       "      <td>540.0</td>\n",
       "      <td>0.0</td>\n",
       "      <td>0.0</td>\n",
       "      <td>162.0</td>\n",
       "      <td>2.5</td>\n",
       "      <td>1055.0</td>\n",
       "      <td>676.0</td>\n",
       "      <td>28</td>\n",
       "      <td>61.89</td>\n",
       "      <td>0.300000</td>\n",
       "    </tr>\n",
       "    <tr>\n",
       "      <th>2</th>\n",
       "      <td>332.5</td>\n",
       "      <td>142.5</td>\n",
       "      <td>0.0</td>\n",
       "      <td>228.0</td>\n",
       "      <td>0.0</td>\n",
       "      <td>932.0</td>\n",
       "      <td>594.0</td>\n",
       "      <td>270</td>\n",
       "      <td>40.27</td>\n",
       "      <td>0.685714</td>\n",
       "    </tr>\n",
       "    <tr>\n",
       "      <th>3</th>\n",
       "      <td>332.5</td>\n",
       "      <td>142.5</td>\n",
       "      <td>0.0</td>\n",
       "      <td>228.0</td>\n",
       "      <td>0.0</td>\n",
       "      <td>932.0</td>\n",
       "      <td>594.0</td>\n",
       "      <td>365</td>\n",
       "      <td>41.05</td>\n",
       "      <td>0.685714</td>\n",
       "    </tr>\n",
       "    <tr>\n",
       "      <th>4</th>\n",
       "      <td>198.6</td>\n",
       "      <td>132.4</td>\n",
       "      <td>0.0</td>\n",
       "      <td>192.0</td>\n",
       "      <td>0.0</td>\n",
       "      <td>978.4</td>\n",
       "      <td>825.5</td>\n",
       "      <td>360</td>\n",
       "      <td>44.30</td>\n",
       "      <td>0.966767</td>\n",
       "    </tr>\n",
       "  </tbody>\n",
       "</table>\n",
       "</div>"
      ],
      "text/plain": [
       "   cement   slag  flyash  water  superplasticizer  coarseaggregate  \\\n",
       "0   540.0    0.0     0.0  162.0               2.5           1040.0   \n",
       "1   540.0    0.0     0.0  162.0               2.5           1055.0   \n",
       "2   332.5  142.5     0.0  228.0               0.0            932.0   \n",
       "3   332.5  142.5     0.0  228.0               0.0            932.0   \n",
       "4   198.6  132.4     0.0  192.0               0.0            978.4   \n",
       "\n",
       "   fineaggregate  age  csMPa  w/c ratio  \n",
       "0          676.0   28  79.99   0.300000  \n",
       "1          676.0   28  61.89   0.300000  \n",
       "2          594.0  270  40.27   0.685714  \n",
       "3          594.0  365  41.05   0.685714  \n",
       "4          825.5  360  44.30   0.966767  "
      ]
     },
     "execution_count": 70,
     "metadata": {},
     "output_type": "execute_result"
    }
   ],
   "source": [
    "data.head()"
   ]
  },
  {
   "cell_type": "markdown",
   "id": "272956fe",
   "metadata": {},
   "source": [
    "### 2.a.ii 차원 축소(PCA) 및 스케일링"
   ]
  },
  {
   "cell_type": "markdown",
   "id": "c7514c29",
   "metadata": {},
   "source": [
    "이번 과제에선 차원 축소 기법으로 PCA를 활용해보겠습니다.\n",
    "\n",
    "우리의 전략은 다음과 같아요.\n",
    "\n",
    "- 모델 1: 모든 변수를 그대로 사용하여 학습\n",
    "\n",
    "- 모델 2: PCA를 이용해 차원을 축소한 후 학습\n",
    "\n",
    "\n",
    "이 두 모델을 비교 분석한 뒤 차원 축소를 적용한 모델이 더 적합한지, 원본 변수를 유지한 모델이 더 적합한지를 판단하여 최종적으로 성능이 좋은 모델을 체택할 예정입니다."
   ]
  },
  {
   "cell_type": "code",
   "execution_count": 71,
   "id": "51c94f4e",
   "metadata": {},
   "outputs": [],
   "source": [
    "# 데이터를 변형시킬 땐 원본 데이터를 보존하기 위해 복사본 생성하는 것이 좋아요.\n",
    "data1 = data.copy()"
   ]
  },
  {
   "cell_type": "code",
   "execution_count": 73,
   "id": "b199ba41",
   "metadata": {},
   "outputs": [],
   "source": [
    "import scipy.stats as stats\n",
    "from scipy.stats import zscore\n",
    "from sklearn.decomposition import PCA\n",
    "\n",
    "# Z-score 표준화로 적용하여 스케일링\n",
    "data_scaled=data1.apply(zscore)\n",
    "\n",
    "# 종속변수 'csMPa'를 제외하고 독립변수만 추출\n",
    "X_scaled=data_scaled.drop('csMPa', axis=1 ) # 열 drop은 axis = ?"
   ]
  },
  {
   "cell_type": "markdown",
   "id": "64e8bcbe",
   "metadata": {},
   "source": [
    "#### PCA 모델로 우선 8개의 주성분을 추출한 후, 최종적으로는 95% 누적 분산을 설명하는 개수로 확정 예정입니다"
   ]
  },
  {
   "cell_type": "code",
   "execution_count": 74,
   "id": "378cee42",
   "metadata": {},
   "outputs": [
    {
     "data": {
      "text/html": [
       "<style>#sk-container-id-1 {\n",
       "  /* Definition of color scheme common for light and dark mode */\n",
       "  --sklearn-color-text: #000;\n",
       "  --sklearn-color-text-muted: #666;\n",
       "  --sklearn-color-line: gray;\n",
       "  /* Definition of color scheme for unfitted estimators */\n",
       "  --sklearn-color-unfitted-level-0: #fff5e6;\n",
       "  --sklearn-color-unfitted-level-1: #f6e4d2;\n",
       "  --sklearn-color-unfitted-level-2: #ffe0b3;\n",
       "  --sklearn-color-unfitted-level-3: chocolate;\n",
       "  /* Definition of color scheme for fitted estimators */\n",
       "  --sklearn-color-fitted-level-0: #f0f8ff;\n",
       "  --sklearn-color-fitted-level-1: #d4ebff;\n",
       "  --sklearn-color-fitted-level-2: #b3dbfd;\n",
       "  --sklearn-color-fitted-level-3: cornflowerblue;\n",
       "\n",
       "  /* Specific color for light theme */\n",
       "  --sklearn-color-text-on-default-background: var(--sg-text-color, var(--theme-code-foreground, var(--jp-content-font-color1, black)));\n",
       "  --sklearn-color-background: var(--sg-background-color, var(--theme-background, var(--jp-layout-color0, white)));\n",
       "  --sklearn-color-border-box: var(--sg-text-color, var(--theme-code-foreground, var(--jp-content-font-color1, black)));\n",
       "  --sklearn-color-icon: #696969;\n",
       "\n",
       "  @media (prefers-color-scheme: dark) {\n",
       "    /* Redefinition of color scheme for dark theme */\n",
       "    --sklearn-color-text-on-default-background: var(--sg-text-color, var(--theme-code-foreground, var(--jp-content-font-color1, white)));\n",
       "    --sklearn-color-background: var(--sg-background-color, var(--theme-background, var(--jp-layout-color0, #111)));\n",
       "    --sklearn-color-border-box: var(--sg-text-color, var(--theme-code-foreground, var(--jp-content-font-color1, white)));\n",
       "    --sklearn-color-icon: #878787;\n",
       "  }\n",
       "}\n",
       "\n",
       "#sk-container-id-1 {\n",
       "  color: var(--sklearn-color-text);\n",
       "}\n",
       "\n",
       "#sk-container-id-1 pre {\n",
       "  padding: 0;\n",
       "}\n",
       "\n",
       "#sk-container-id-1 input.sk-hidden--visually {\n",
       "  border: 0;\n",
       "  clip: rect(1px 1px 1px 1px);\n",
       "  clip: rect(1px, 1px, 1px, 1px);\n",
       "  height: 1px;\n",
       "  margin: -1px;\n",
       "  overflow: hidden;\n",
       "  padding: 0;\n",
       "  position: absolute;\n",
       "  width: 1px;\n",
       "}\n",
       "\n",
       "#sk-container-id-1 div.sk-dashed-wrapped {\n",
       "  border: 1px dashed var(--sklearn-color-line);\n",
       "  margin: 0 0.4em 0.5em 0.4em;\n",
       "  box-sizing: border-box;\n",
       "  padding-bottom: 0.4em;\n",
       "  background-color: var(--sklearn-color-background);\n",
       "}\n",
       "\n",
       "#sk-container-id-1 div.sk-container {\n",
       "  /* jupyter's `normalize.less` sets `[hidden] { display: none; }`\n",
       "     but bootstrap.min.css set `[hidden] { display: none !important; }`\n",
       "     so we also need the `!important` here to be able to override the\n",
       "     default hidden behavior on the sphinx rendered scikit-learn.org.\n",
       "     See: https://github.com/scikit-learn/scikit-learn/issues/21755 */\n",
       "  display: inline-block !important;\n",
       "  position: relative;\n",
       "}\n",
       "\n",
       "#sk-container-id-1 div.sk-text-repr-fallback {\n",
       "  display: none;\n",
       "}\n",
       "\n",
       "div.sk-parallel-item,\n",
       "div.sk-serial,\n",
       "div.sk-item {\n",
       "  /* draw centered vertical line to link estimators */\n",
       "  background-image: linear-gradient(var(--sklearn-color-text-on-default-background), var(--sklearn-color-text-on-default-background));\n",
       "  background-size: 2px 100%;\n",
       "  background-repeat: no-repeat;\n",
       "  background-position: center center;\n",
       "}\n",
       "\n",
       "/* Parallel-specific style estimator block */\n",
       "\n",
       "#sk-container-id-1 div.sk-parallel-item::after {\n",
       "  content: \"\";\n",
       "  width: 100%;\n",
       "  border-bottom: 2px solid var(--sklearn-color-text-on-default-background);\n",
       "  flex-grow: 1;\n",
       "}\n",
       "\n",
       "#sk-container-id-1 div.sk-parallel {\n",
       "  display: flex;\n",
       "  align-items: stretch;\n",
       "  justify-content: center;\n",
       "  background-color: var(--sklearn-color-background);\n",
       "  position: relative;\n",
       "}\n",
       "\n",
       "#sk-container-id-1 div.sk-parallel-item {\n",
       "  display: flex;\n",
       "  flex-direction: column;\n",
       "}\n",
       "\n",
       "#sk-container-id-1 div.sk-parallel-item:first-child::after {\n",
       "  align-self: flex-end;\n",
       "  width: 50%;\n",
       "}\n",
       "\n",
       "#sk-container-id-1 div.sk-parallel-item:last-child::after {\n",
       "  align-self: flex-start;\n",
       "  width: 50%;\n",
       "}\n",
       "\n",
       "#sk-container-id-1 div.sk-parallel-item:only-child::after {\n",
       "  width: 0;\n",
       "}\n",
       "\n",
       "/* Serial-specific style estimator block */\n",
       "\n",
       "#sk-container-id-1 div.sk-serial {\n",
       "  display: flex;\n",
       "  flex-direction: column;\n",
       "  align-items: center;\n",
       "  background-color: var(--sklearn-color-background);\n",
       "  padding-right: 1em;\n",
       "  padding-left: 1em;\n",
       "}\n",
       "\n",
       "\n",
       "/* Toggleable style: style used for estimator/Pipeline/ColumnTransformer box that is\n",
       "clickable and can be expanded/collapsed.\n",
       "- Pipeline and ColumnTransformer use this feature and define the default style\n",
       "- Estimators will overwrite some part of the style using the `sk-estimator` class\n",
       "*/\n",
       "\n",
       "/* Pipeline and ColumnTransformer style (default) */\n",
       "\n",
       "#sk-container-id-1 div.sk-toggleable {\n",
       "  /* Default theme specific background. It is overwritten whether we have a\n",
       "  specific estimator or a Pipeline/ColumnTransformer */\n",
       "  background-color: var(--sklearn-color-background);\n",
       "}\n",
       "\n",
       "/* Toggleable label */\n",
       "#sk-container-id-1 label.sk-toggleable__label {\n",
       "  cursor: pointer;\n",
       "  display: flex;\n",
       "  width: 100%;\n",
       "  margin-bottom: 0;\n",
       "  padding: 0.5em;\n",
       "  box-sizing: border-box;\n",
       "  text-align: center;\n",
       "  align-items: start;\n",
       "  justify-content: space-between;\n",
       "  gap: 0.5em;\n",
       "}\n",
       "\n",
       "#sk-container-id-1 label.sk-toggleable__label .caption {\n",
       "  font-size: 0.6rem;\n",
       "  font-weight: lighter;\n",
       "  color: var(--sklearn-color-text-muted);\n",
       "}\n",
       "\n",
       "#sk-container-id-1 label.sk-toggleable__label-arrow:before {\n",
       "  /* Arrow on the left of the label */\n",
       "  content: \"▸\";\n",
       "  float: left;\n",
       "  margin-right: 0.25em;\n",
       "  color: var(--sklearn-color-icon);\n",
       "}\n",
       "\n",
       "#sk-container-id-1 label.sk-toggleable__label-arrow:hover:before {\n",
       "  color: var(--sklearn-color-text);\n",
       "}\n",
       "\n",
       "/* Toggleable content - dropdown */\n",
       "\n",
       "#sk-container-id-1 div.sk-toggleable__content {\n",
       "  display: none;\n",
       "  text-align: left;\n",
       "  /* unfitted */\n",
       "  background-color: var(--sklearn-color-unfitted-level-0);\n",
       "}\n",
       "\n",
       "#sk-container-id-1 div.sk-toggleable__content.fitted {\n",
       "  /* fitted */\n",
       "  background-color: var(--sklearn-color-fitted-level-0);\n",
       "}\n",
       "\n",
       "#sk-container-id-1 div.sk-toggleable__content pre {\n",
       "  margin: 0.2em;\n",
       "  border-radius: 0.25em;\n",
       "  color: var(--sklearn-color-text);\n",
       "  /* unfitted */\n",
       "  background-color: var(--sklearn-color-unfitted-level-0);\n",
       "}\n",
       "\n",
       "#sk-container-id-1 div.sk-toggleable__content.fitted pre {\n",
       "  /* unfitted */\n",
       "  background-color: var(--sklearn-color-fitted-level-0);\n",
       "}\n",
       "\n",
       "#sk-container-id-1 input.sk-toggleable__control:checked~div.sk-toggleable__content {\n",
       "  /* Expand drop-down */\n",
       "  display: block;\n",
       "  width: 100%;\n",
       "  overflow: visible;\n",
       "}\n",
       "\n",
       "#sk-container-id-1 input.sk-toggleable__control:checked~label.sk-toggleable__label-arrow:before {\n",
       "  content: \"▾\";\n",
       "}\n",
       "\n",
       "/* Pipeline/ColumnTransformer-specific style */\n",
       "\n",
       "#sk-container-id-1 div.sk-label input.sk-toggleable__control:checked~label.sk-toggleable__label {\n",
       "  color: var(--sklearn-color-text);\n",
       "  background-color: var(--sklearn-color-unfitted-level-2);\n",
       "}\n",
       "\n",
       "#sk-container-id-1 div.sk-label.fitted input.sk-toggleable__control:checked~label.sk-toggleable__label {\n",
       "  background-color: var(--sklearn-color-fitted-level-2);\n",
       "}\n",
       "\n",
       "/* Estimator-specific style */\n",
       "\n",
       "/* Colorize estimator box */\n",
       "#sk-container-id-1 div.sk-estimator input.sk-toggleable__control:checked~label.sk-toggleable__label {\n",
       "  /* unfitted */\n",
       "  background-color: var(--sklearn-color-unfitted-level-2);\n",
       "}\n",
       "\n",
       "#sk-container-id-1 div.sk-estimator.fitted input.sk-toggleable__control:checked~label.sk-toggleable__label {\n",
       "  /* fitted */\n",
       "  background-color: var(--sklearn-color-fitted-level-2);\n",
       "}\n",
       "\n",
       "#sk-container-id-1 div.sk-label label.sk-toggleable__label,\n",
       "#sk-container-id-1 div.sk-label label {\n",
       "  /* The background is the default theme color */\n",
       "  color: var(--sklearn-color-text-on-default-background);\n",
       "}\n",
       "\n",
       "/* On hover, darken the color of the background */\n",
       "#sk-container-id-1 div.sk-label:hover label.sk-toggleable__label {\n",
       "  color: var(--sklearn-color-text);\n",
       "  background-color: var(--sklearn-color-unfitted-level-2);\n",
       "}\n",
       "\n",
       "/* Label box, darken color on hover, fitted */\n",
       "#sk-container-id-1 div.sk-label.fitted:hover label.sk-toggleable__label.fitted {\n",
       "  color: var(--sklearn-color-text);\n",
       "  background-color: var(--sklearn-color-fitted-level-2);\n",
       "}\n",
       "\n",
       "/* Estimator label */\n",
       "\n",
       "#sk-container-id-1 div.sk-label label {\n",
       "  font-family: monospace;\n",
       "  font-weight: bold;\n",
       "  display: inline-block;\n",
       "  line-height: 1.2em;\n",
       "}\n",
       "\n",
       "#sk-container-id-1 div.sk-label-container {\n",
       "  text-align: center;\n",
       "}\n",
       "\n",
       "/* Estimator-specific */\n",
       "#sk-container-id-1 div.sk-estimator {\n",
       "  font-family: monospace;\n",
       "  border: 1px dotted var(--sklearn-color-border-box);\n",
       "  border-radius: 0.25em;\n",
       "  box-sizing: border-box;\n",
       "  margin-bottom: 0.5em;\n",
       "  /* unfitted */\n",
       "  background-color: var(--sklearn-color-unfitted-level-0);\n",
       "}\n",
       "\n",
       "#sk-container-id-1 div.sk-estimator.fitted {\n",
       "  /* fitted */\n",
       "  background-color: var(--sklearn-color-fitted-level-0);\n",
       "}\n",
       "\n",
       "/* on hover */\n",
       "#sk-container-id-1 div.sk-estimator:hover {\n",
       "  /* unfitted */\n",
       "  background-color: var(--sklearn-color-unfitted-level-2);\n",
       "}\n",
       "\n",
       "#sk-container-id-1 div.sk-estimator.fitted:hover {\n",
       "  /* fitted */\n",
       "  background-color: var(--sklearn-color-fitted-level-2);\n",
       "}\n",
       "\n",
       "/* Specification for estimator info (e.g. \"i\" and \"?\") */\n",
       "\n",
       "/* Common style for \"i\" and \"?\" */\n",
       "\n",
       ".sk-estimator-doc-link,\n",
       "a:link.sk-estimator-doc-link,\n",
       "a:visited.sk-estimator-doc-link {\n",
       "  float: right;\n",
       "  font-size: smaller;\n",
       "  line-height: 1em;\n",
       "  font-family: monospace;\n",
       "  background-color: var(--sklearn-color-background);\n",
       "  border-radius: 1em;\n",
       "  height: 1em;\n",
       "  width: 1em;\n",
       "  text-decoration: none !important;\n",
       "  margin-left: 0.5em;\n",
       "  text-align: center;\n",
       "  /* unfitted */\n",
       "  border: var(--sklearn-color-unfitted-level-1) 1pt solid;\n",
       "  color: var(--sklearn-color-unfitted-level-1);\n",
       "}\n",
       "\n",
       ".sk-estimator-doc-link.fitted,\n",
       "a:link.sk-estimator-doc-link.fitted,\n",
       "a:visited.sk-estimator-doc-link.fitted {\n",
       "  /* fitted */\n",
       "  border: var(--sklearn-color-fitted-level-1) 1pt solid;\n",
       "  color: var(--sklearn-color-fitted-level-1);\n",
       "}\n",
       "\n",
       "/* On hover */\n",
       "div.sk-estimator:hover .sk-estimator-doc-link:hover,\n",
       ".sk-estimator-doc-link:hover,\n",
       "div.sk-label-container:hover .sk-estimator-doc-link:hover,\n",
       ".sk-estimator-doc-link:hover {\n",
       "  /* unfitted */\n",
       "  background-color: var(--sklearn-color-unfitted-level-3);\n",
       "  color: var(--sklearn-color-background);\n",
       "  text-decoration: none;\n",
       "}\n",
       "\n",
       "div.sk-estimator.fitted:hover .sk-estimator-doc-link.fitted:hover,\n",
       ".sk-estimator-doc-link.fitted:hover,\n",
       "div.sk-label-container:hover .sk-estimator-doc-link.fitted:hover,\n",
       ".sk-estimator-doc-link.fitted:hover {\n",
       "  /* fitted */\n",
       "  background-color: var(--sklearn-color-fitted-level-3);\n",
       "  color: var(--sklearn-color-background);\n",
       "  text-decoration: none;\n",
       "}\n",
       "\n",
       "/* Span, style for the box shown on hovering the info icon */\n",
       ".sk-estimator-doc-link span {\n",
       "  display: none;\n",
       "  z-index: 9999;\n",
       "  position: relative;\n",
       "  font-weight: normal;\n",
       "  right: .2ex;\n",
       "  padding: .5ex;\n",
       "  margin: .5ex;\n",
       "  width: min-content;\n",
       "  min-width: 20ex;\n",
       "  max-width: 50ex;\n",
       "  color: var(--sklearn-color-text);\n",
       "  box-shadow: 2pt 2pt 4pt #999;\n",
       "  /* unfitted */\n",
       "  background: var(--sklearn-color-unfitted-level-0);\n",
       "  border: .5pt solid var(--sklearn-color-unfitted-level-3);\n",
       "}\n",
       "\n",
       ".sk-estimator-doc-link.fitted span {\n",
       "  /* fitted */\n",
       "  background: var(--sklearn-color-fitted-level-0);\n",
       "  border: var(--sklearn-color-fitted-level-3);\n",
       "}\n",
       "\n",
       ".sk-estimator-doc-link:hover span {\n",
       "  display: block;\n",
       "}\n",
       "\n",
       "/* \"?\"-specific style due to the `<a>` HTML tag */\n",
       "\n",
       "#sk-container-id-1 a.estimator_doc_link {\n",
       "  float: right;\n",
       "  font-size: 1rem;\n",
       "  line-height: 1em;\n",
       "  font-family: monospace;\n",
       "  background-color: var(--sklearn-color-background);\n",
       "  border-radius: 1rem;\n",
       "  height: 1rem;\n",
       "  width: 1rem;\n",
       "  text-decoration: none;\n",
       "  /* unfitted */\n",
       "  color: var(--sklearn-color-unfitted-level-1);\n",
       "  border: var(--sklearn-color-unfitted-level-1) 1pt solid;\n",
       "}\n",
       "\n",
       "#sk-container-id-1 a.estimator_doc_link.fitted {\n",
       "  /* fitted */\n",
       "  border: var(--sklearn-color-fitted-level-1) 1pt solid;\n",
       "  color: var(--sklearn-color-fitted-level-1);\n",
       "}\n",
       "\n",
       "/* On hover */\n",
       "#sk-container-id-1 a.estimator_doc_link:hover {\n",
       "  /* unfitted */\n",
       "  background-color: var(--sklearn-color-unfitted-level-3);\n",
       "  color: var(--sklearn-color-background);\n",
       "  text-decoration: none;\n",
       "}\n",
       "\n",
       "#sk-container-id-1 a.estimator_doc_link.fitted:hover {\n",
       "  /* fitted */\n",
       "  background-color: var(--sklearn-color-fitted-level-3);\n",
       "}\n",
       "\n",
       ".estimator-table summary {\n",
       "    padding: .5rem;\n",
       "    font-family: monospace;\n",
       "    cursor: pointer;\n",
       "}\n",
       "\n",
       ".estimator-table details[open] {\n",
       "    padding-left: 0.1rem;\n",
       "    padding-right: 0.1rem;\n",
       "    padding-bottom: 0.3rem;\n",
       "}\n",
       "\n",
       ".estimator-table .parameters-table {\n",
       "    margin-left: auto !important;\n",
       "    margin-right: auto !important;\n",
       "}\n",
       "\n",
       ".estimator-table .parameters-table tr:nth-child(odd) {\n",
       "    background-color: #fff;\n",
       "}\n",
       "\n",
       ".estimator-table .parameters-table tr:nth-child(even) {\n",
       "    background-color: #f6f6f6;\n",
       "}\n",
       "\n",
       ".estimator-table .parameters-table tr:hover {\n",
       "    background-color: #e0e0e0;\n",
       "}\n",
       "\n",
       ".estimator-table table td {\n",
       "    border: 1px solid rgba(106, 105, 104, 0.232);\n",
       "}\n",
       "\n",
       ".user-set td {\n",
       "    color:rgb(255, 94, 0);\n",
       "    text-align: left;\n",
       "}\n",
       "\n",
       ".user-set td.value pre {\n",
       "    color:rgb(255, 94, 0) !important;\n",
       "    background-color: transparent !important;\n",
       "}\n",
       "\n",
       ".default td {\n",
       "    color: black;\n",
       "    text-align: left;\n",
       "}\n",
       "\n",
       ".user-set td i,\n",
       ".default td i {\n",
       "    color: black;\n",
       "}\n",
       "\n",
       ".copy-paste-icon {\n",
       "    background-image: url(data:image/svg+xml;base64,PHN2ZyB4bWxucz0iaHR0cDovL3d3dy53My5vcmcvMjAwMC9zdmciIHZpZXdCb3g9IjAgMCA0NDggNTEyIj48IS0tIUZvbnQgQXdlc29tZSBGcmVlIDYuNy4yIGJ5IEBmb250YXdlc29tZSAtIGh0dHBzOi8vZm9udGF3ZXNvbWUuY29tIExpY2Vuc2UgLSBodHRwczovL2ZvbnRhd2Vzb21lLmNvbS9saWNlbnNlL2ZyZWUgQ29weXJpZ2h0IDIwMjUgRm9udGljb25zLCBJbmMuLS0+PHBhdGggZD0iTTIwOCAwTDMzMi4xIDBjMTIuNyAwIDI0LjkgNS4xIDMzLjkgMTQuMWw2Ny45IDY3LjljOSA5IDE0LjEgMjEuMiAxNC4xIDMzLjlMNDQ4IDMzNmMwIDI2LjUtMjEuNSA0OC00OCA0OGwtMTkyIDBjLTI2LjUgMC00OC0yMS41LTQ4LTQ4bDAtMjg4YzAtMjYuNSAyMS41LTQ4IDQ4LTQ4ek00OCAxMjhsODAgMCAwIDY0LTY0IDAgMCAyNTYgMTkyIDAgMC0zMiA2NCAwIDAgNDhjMCAyNi41LTIxLjUgNDgtNDggNDhMNDggNTEyYy0yNi41IDAtNDgtMjEuNS00OC00OEwwIDE3NmMwLTI2LjUgMjEuNS00OCA0OC00OHoiLz48L3N2Zz4=);\n",
       "    background-repeat: no-repeat;\n",
       "    background-size: 14px 14px;\n",
       "    background-position: 0;\n",
       "    display: inline-block;\n",
       "    width: 14px;\n",
       "    height: 14px;\n",
       "    cursor: pointer;\n",
       "}\n",
       "</style><body><div id=\"sk-container-id-1\" class=\"sk-top-container\"><div class=\"sk-text-repr-fallback\"><pre>PCA(n_components=8)</pre><b>In a Jupyter environment, please rerun this cell to show the HTML representation or trust the notebook. <br />On GitHub, the HTML representation is unable to render, please try loading this page with nbviewer.org.</b></div><div class=\"sk-container\" hidden><div class=\"sk-item\"><div class=\"sk-estimator fitted sk-toggleable\"><input class=\"sk-toggleable__control sk-hidden--visually\" id=\"sk-estimator-id-1\" type=\"checkbox\" checked><label for=\"sk-estimator-id-1\" class=\"sk-toggleable__label fitted sk-toggleable__label-arrow\"><div><div>PCA</div></div><div><a class=\"sk-estimator-doc-link fitted\" rel=\"noreferrer\" target=\"_blank\" href=\"https://scikit-learn.org/1.7/modules/generated/sklearn.decomposition.PCA.html\">?<span>Documentation for PCA</span></a><span class=\"sk-estimator-doc-link fitted\">i<span>Fitted</span></span></div></label><div class=\"sk-toggleable__content fitted\" data-param-prefix=\"\">\n",
       "        <div class=\"estimator-table\">\n",
       "            <details>\n",
       "                <summary>Parameters</summary>\n",
       "                <table class=\"parameters-table\">\n",
       "                  <tbody>\n",
       "                    \n",
       "        <tr class=\"user-set\">\n",
       "            <td><i class=\"copy-paste-icon\"\n",
       "                 onclick=\"copyToClipboard('n_components',\n",
       "                          this.parentElement.nextElementSibling)\"\n",
       "            ></i></td>\n",
       "            <td class=\"param\">n_components&nbsp;</td>\n",
       "            <td class=\"value\">8</td>\n",
       "        </tr>\n",
       "    \n",
       "\n",
       "        <tr class=\"default\">\n",
       "            <td><i class=\"copy-paste-icon\"\n",
       "                 onclick=\"copyToClipboard('copy',\n",
       "                          this.parentElement.nextElementSibling)\"\n",
       "            ></i></td>\n",
       "            <td class=\"param\">copy&nbsp;</td>\n",
       "            <td class=\"value\">True</td>\n",
       "        </tr>\n",
       "    \n",
       "\n",
       "        <tr class=\"default\">\n",
       "            <td><i class=\"copy-paste-icon\"\n",
       "                 onclick=\"copyToClipboard('whiten',\n",
       "                          this.parentElement.nextElementSibling)\"\n",
       "            ></i></td>\n",
       "            <td class=\"param\">whiten&nbsp;</td>\n",
       "            <td class=\"value\">False</td>\n",
       "        </tr>\n",
       "    \n",
       "\n",
       "        <tr class=\"default\">\n",
       "            <td><i class=\"copy-paste-icon\"\n",
       "                 onclick=\"copyToClipboard('svd_solver',\n",
       "                          this.parentElement.nextElementSibling)\"\n",
       "            ></i></td>\n",
       "            <td class=\"param\">svd_solver&nbsp;</td>\n",
       "            <td class=\"value\">&#x27;auto&#x27;</td>\n",
       "        </tr>\n",
       "    \n",
       "\n",
       "        <tr class=\"default\">\n",
       "            <td><i class=\"copy-paste-icon\"\n",
       "                 onclick=\"copyToClipboard('tol',\n",
       "                          this.parentElement.nextElementSibling)\"\n",
       "            ></i></td>\n",
       "            <td class=\"param\">tol&nbsp;</td>\n",
       "            <td class=\"value\">0.0</td>\n",
       "        </tr>\n",
       "    \n",
       "\n",
       "        <tr class=\"default\">\n",
       "            <td><i class=\"copy-paste-icon\"\n",
       "                 onclick=\"copyToClipboard('iterated_power',\n",
       "                          this.parentElement.nextElementSibling)\"\n",
       "            ></i></td>\n",
       "            <td class=\"param\">iterated_power&nbsp;</td>\n",
       "            <td class=\"value\">&#x27;auto&#x27;</td>\n",
       "        </tr>\n",
       "    \n",
       "\n",
       "        <tr class=\"default\">\n",
       "            <td><i class=\"copy-paste-icon\"\n",
       "                 onclick=\"copyToClipboard('n_oversamples',\n",
       "                          this.parentElement.nextElementSibling)\"\n",
       "            ></i></td>\n",
       "            <td class=\"param\">n_oversamples&nbsp;</td>\n",
       "            <td class=\"value\">10</td>\n",
       "        </tr>\n",
       "    \n",
       "\n",
       "        <tr class=\"default\">\n",
       "            <td><i class=\"copy-paste-icon\"\n",
       "                 onclick=\"copyToClipboard('power_iteration_normalizer',\n",
       "                          this.parentElement.nextElementSibling)\"\n",
       "            ></i></td>\n",
       "            <td class=\"param\">power_iteration_normalizer&nbsp;</td>\n",
       "            <td class=\"value\">&#x27;auto&#x27;</td>\n",
       "        </tr>\n",
       "    \n",
       "\n",
       "        <tr class=\"default\">\n",
       "            <td><i class=\"copy-paste-icon\"\n",
       "                 onclick=\"copyToClipboard('random_state',\n",
       "                          this.parentElement.nextElementSibling)\"\n",
       "            ></i></td>\n",
       "            <td class=\"param\">random_state&nbsp;</td>\n",
       "            <td class=\"value\">None</td>\n",
       "        </tr>\n",
       "    \n",
       "                  </tbody>\n",
       "                </table>\n",
       "            </details>\n",
       "        </div>\n",
       "    </div></div></div></div></div><script>function copyToClipboard(text, element) {\n",
       "    // Get the parameter prefix from the closest toggleable content\n",
       "    const toggleableContent = element.closest('.sk-toggleable__content');\n",
       "    const paramPrefix = toggleableContent ? toggleableContent.dataset.paramPrefix : '';\n",
       "    const fullParamName = paramPrefix ? `${paramPrefix}${text}` : text;\n",
       "\n",
       "    const originalStyle = element.style;\n",
       "    const computedStyle = window.getComputedStyle(element);\n",
       "    const originalWidth = computedStyle.width;\n",
       "    const originalHTML = element.innerHTML.replace('Copied!', '');\n",
       "\n",
       "    navigator.clipboard.writeText(fullParamName)\n",
       "        .then(() => {\n",
       "            element.style.width = originalWidth;\n",
       "            element.style.color = 'green';\n",
       "            element.innerHTML = \"Copied!\";\n",
       "\n",
       "            setTimeout(() => {\n",
       "                element.innerHTML = originalHTML;\n",
       "                element.style = originalStyle;\n",
       "            }, 2000);\n",
       "        })\n",
       "        .catch(err => {\n",
       "            console.error('Failed to copy:', err);\n",
       "            element.style.color = 'red';\n",
       "            element.innerHTML = \"Failed!\";\n",
       "            setTimeout(() => {\n",
       "                element.innerHTML = originalHTML;\n",
       "                element.style = originalStyle;\n",
       "            }, 2000);\n",
       "        });\n",
       "    return false;\n",
       "}\n",
       "\n",
       "document.querySelectorAll('.fa-regular.fa-copy').forEach(function(element) {\n",
       "    const toggleableContent = element.closest('.sk-toggleable__content');\n",
       "    const paramPrefix = toggleableContent ? toggleableContent.dataset.paramPrefix : '';\n",
       "    const paramName = element.parentElement.nextElementSibling.textContent.trim();\n",
       "    const fullParamName = paramPrefix ? `${paramPrefix}${paramName}` : paramName;\n",
       "\n",
       "    element.setAttribute('title', fullParamName);\n",
       "});\n",
       "</script></body>"
      ],
      "text/plain": [
       "PCA(n_components=8)"
      ]
     },
     "execution_count": 74,
     "metadata": {},
     "output_type": "execute_result"
    }
   ],
   "source": [
    "pca = PCA(n_components=8)\n",
    "\n",
    "# 스케일링된 데이터에 PCA 모델 학습\n",
    "pca.fit(X_scaled)"
   ]
  },
  {
   "cell_type": "markdown",
   "id": "516372c7",
   "metadata": {},
   "source": [
    "PCA 진행 후 아래와 같이 고유값과 설명된 분산 비율을 확인할 수 있어요."
   ]
  },
  {
   "cell_type": "code",
   "execution_count": 75,
   "id": "b54079e0",
   "metadata": {},
   "outputs": [
    {
     "name": "stdout",
     "output_type": "stream",
     "text": [
      "[2.35316571 2.20985408 1.35277753 1.02291423 0.96645795 0.79209809\n",
      " 0.19820651 0.08363247]\n"
     ]
    }
   ],
   "source": [
    "# Eigen Values\n",
    "# 각 주성분이 설명하는 분산의 크기를 의미\n",
    "# 값이 클수록 해당 주성분이 데이터의 정보(분산)를 많이 담고 있음\n",
    "\n",
    "print(pca.explained_variance_)"
   ]
  },
  {
   "cell_type": "code",
   "execution_count": 76,
   "id": "4f5174bb",
   "metadata": {},
   "outputs": [
    {
     "name": "stdout",
     "output_type": "stream",
     "text": [
      "[[-1.91956842e-01  3.15463386e-01 -2.66457387e-01  5.52815981e-01\n",
      "  -4.74419640e-01 -2.87045612e-02 -3.06395895e-01  2.18768968e-01\n",
      "   3.45534545e-01]\n",
      " [ 6.09516383e-01 -1.85480511e-01 -3.81625638e-01  1.14256362e-01\n",
      "  -1.67602503e-01  8.08865928e-02 -2.53164742e-01  2.01017818e-01\n",
      "  -5.44298012e-01]\n",
      " [-1.79077899e-01 -5.56006083e-01  2.05489283e-01  1.27523384e-02\n",
      "  -3.73725305e-01  6.75959654e-01  5.79925225e-02  1.04295947e-01\n",
      "   7.46125950e-02]\n",
      " [-2.26524583e-02  4.11333899e-01 -1.71094843e-01 -2.67508381e-01\n",
      "   4.10365454e-02  5.31672685e-01 -4.17497359e-01 -5.19332639e-01\n",
      "  -3.29671610e-02]\n",
      " [-4.33887038e-02  3.61102747e-02 -6.02576514e-01 -1.21302891e-01\n",
      "  -3.04347560e-01  1.54516771e-02  6.76185907e-01 -2.61660278e-01\n",
      "   2.09987515e-02]\n",
      " [-1.43248979e-01  3.03417985e-01 -2.19966196e-01 -3.78849861e-01\n",
      "   2.21904959e-01  2.83316773e-01  9.23299402e-02  7.46436531e-01\n",
      "   1.73894994e-02]\n",
      " [-4.64352337e-03 -3.00174596e-01 -3.97557996e-01  4.25015686e-01\n",
      "   6.70149161e-01  2.16346590e-01 -1.22038281e-04 -6.78352983e-02\n",
      "   2.65848771e-01]\n",
      " [ 5.33353725e-01 -1.59903602e-01 -6.02522464e-02 -3.80629505e-01\n",
      "  -1.09516589e-01 -9.54978571e-02 -1.38294215e-01  2.58417824e-02\n",
      "   7.07494648e-01]]\n"
     ]
    }
   ],
   "source": [
    "# Eigen Vectors\n",
    "print(pca.components_)"
   ]
  },
  {
   "cell_type": "markdown",
   "id": "24463730",
   "metadata": {},
   "source": [
    "각 주성분이 데이터를 얼마나 설명하고 있는지 분산 비율을 확인해보겠습니다."
   ]
  },
  {
   "cell_type": "code",
   "execution_count": 77,
   "id": "6a77d8db",
   "metadata": {},
   "outputs": [
    {
     "name": "stdout",
     "output_type": "stream",
     "text": [
      "[0.26120269 0.24529502 0.15015905 0.11354404 0.10727737 0.08792333\n",
      " 0.02200103 0.00928325]\n"
     ]
    }
   ],
   "source": [
    "print(pca.explained_variance_ratio_)"
   ]
  },
  {
   "cell_type": "code",
   "execution_count": 78,
   "id": "598e2d0b",
   "metadata": {},
   "outputs": [
    {
     "data": {
      "image/png": "[encoded data removed]",
      "text/plain": [
       "<Figure size 640x480 with 1 Axes>"
      ]
     },
     "metadata": {},
     "output_type": "display_data"
    }
   ],
   "source": [
    "# 주성분 별 설명분산 비율 시각화\n",
    "plt.bar(list(range(1,9)),pca.explained_variance_ratio_,alpha=0.5, align='center')\n",
    "plt.ylabel('Variation explained')\n",
    "plt.xlabel('eigen Value')\n",
    "plt.show()"
   ]
  },
  {
   "cell_type": "code",
   "execution_count": 79,
   "id": "dcde4790",
   "metadata": {},
   "outputs": [
    {
     "data": {
      "image/png": "[encoded data removed]",
      "text/plain": [
       "<Figure size 640x480 with 1 Axes>"
      ]
     },
     "metadata": {},
     "output_type": "display_data"
    }
   ],
   "source": [
    "# 누적 설명분산 비율 시각화\n",
    "plt.step(list(range(1,9)),np.cumsum(pca.explained_variance_ratio_), where='mid')\n",
    "plt.ylabel('Cum of variation explained')\n",
    "plt.xlabel('eigen Value')\n",
    "plt.show()"
   ]
  },
  {
   "cell_type": "code",
   "execution_count": 80,
   "id": "12e214dc",
   "metadata": {},
   "outputs": [
    {
     "data": {
      "text/html": [
       "<div>\n",
       "<style scoped>\n",
       "    .dataframe tbody tr th:only-of-type {\n",
       "        vertical-align: middle;\n",
       "    }\n",
       "\n",
       "    .dataframe tbody tr th {\n",
       "        vertical-align: top;\n",
       "    }\n",
       "\n",
       "    .dataframe thead th {\n",
       "        text-align: right;\n",
       "    }\n",
       "</style>\n",
       "<table border=\"1\" class=\"dataframe\">\n",
       "  <thead>\n",
       "    <tr style=\"text-align: right;\">\n",
       "      <th></th>\n",
       "      <th>Cumul Variance Explanation</th>\n",
       "    </tr>\n",
       "  </thead>\n",
       "  <tbody>\n",
       "    <tr>\n",
       "      <th>1</th>\n",
       "      <td>0.261203</td>\n",
       "    </tr>\n",
       "    <tr>\n",
       "      <th>2</th>\n",
       "      <td>0.506498</td>\n",
       "    </tr>\n",
       "    <tr>\n",
       "      <th>3</th>\n",
       "      <td>0.656657</td>\n",
       "    </tr>\n",
       "    <tr>\n",
       "      <th>4</th>\n",
       "      <td>0.770201</td>\n",
       "    </tr>\n",
       "    <tr>\n",
       "      <th>5</th>\n",
       "      <td>0.877478</td>\n",
       "    </tr>\n",
       "    <tr>\n",
       "      <th>6</th>\n",
       "      <td>0.965402</td>\n",
       "    </tr>\n",
       "    <tr>\n",
       "      <th>7</th>\n",
       "      <td>0.987403</td>\n",
       "    </tr>\n",
       "    <tr>\n",
       "      <th>8</th>\n",
       "      <td>0.996686</td>\n",
       "    </tr>\n",
       "  </tbody>\n",
       "</table>\n",
       "</div>"
      ],
      "text/plain": [
       "   Cumul Variance Explanation\n",
       "1                    0.261203\n",
       "2                    0.506498\n",
       "3                    0.656657\n",
       "4                    0.770201\n",
       "5                    0.877478\n",
       "6                    0.965402\n",
       "7                    0.987403\n",
       "8                    0.996686"
      ]
     },
     "execution_count": 80,
     "metadata": {},
     "output_type": "execute_result"
    }
   ],
   "source": [
    "# 각 주성분을 추가했을 때 전체 분산을 몇 %까지 설명할 수 있는지를 계산\n",
    "cum_var_exp = np.cumsum(pca.explained_variance_ratio_)\n",
    "# print(\"Cumulative Variance Explained\", cum_var_exp)\n",
    "pd.DataFrame(cum_var_exp,columns=['Cumul Variance Explanation'],index=['1','2','3','4','5','6','7','8'])"
   ]
  },
  {
   "cell_type": "markdown",
   "id": "f0a92b8f",
   "metadata": {},
   "source": [
    "#### # 6개의 주성분이 95% 이상의 분산을 설명하므로 6개를 선택해 다시 PCA를 진행할게요!"
   ]
  },
  {
   "cell_type": "code",
   "execution_count": 81,
   "id": "9b76a002",
   "metadata": {},
   "outputs": [
    {
     "name": "stdout",
     "output_type": "stream",
     "text": [
      "[[-0.19195684  0.31546339 -0.26645739  0.55281598 -0.47441964 -0.02870456\n",
      "  -0.30639589  0.21876897  0.34553455]\n",
      " [ 0.60951638 -0.18548051 -0.38162564  0.11425636 -0.1676025   0.08088659\n",
      "  -0.25316474  0.20101782 -0.54429801]\n",
      " [-0.1790779  -0.55600608  0.20548928  0.01275234 -0.3737253   0.67595965\n",
      "   0.05799252  0.10429595  0.0746126 ]\n",
      " [-0.02265246  0.4113339  -0.17109484 -0.26750838  0.04103655  0.53167269\n",
      "  -0.41749736 -0.51933264 -0.03296716]\n",
      " [-0.0433887   0.03611027 -0.60257651 -0.12130289 -0.30434756  0.01545168\n",
      "   0.67618591 -0.26166028  0.02099875]\n",
      " [-0.14324898  0.30341798 -0.2199662  -0.37884986  0.22190496  0.28331677\n",
      "   0.09232994  0.74643653  0.0173895 ]]\n",
      "[0.26120269 0.24529502 0.15015905 0.11354404 0.10727737 0.08792333]\n"
     ]
    }
   ],
   "source": [
    "pca6 = PCA(n_components=6)\n",
    "pca6.fit(X_scaled)\n",
    "print(pca6.components_)\n",
    "print(pca6.explained_variance_ratio_)\n",
    "\n",
    "\n",
    "Xpca6 = pca6.transform(X_scaled)\n",
    "Y = data_scaled['csMPa']"
   ]
  },
  {
   "cell_type": "markdown",
   "id": "8dca7eb7",
   "metadata": {},
   "source": [
    "# 3 모델 생성"
   ]
  },
  {
   "cell_type": "markdown",
   "id": "36491603",
   "metadata": {},
   "source": [
    "#### 모델을 만들기 전에 PCA 변환된 데이터(Xpca6)와 타깃값(Y)을 학습/테스트 데이터셋으로 분리해야겠죠?\n",
    "\n",
    "test_size=0.20 → 데이터의 20%를 테스트 데이터로 사용합니다.\n",
    "\n",
    "<span style=\"color:red\"> ***를 채워주세요 <span>"
   ]
  },
  {
   "cell_type": "code",
   "execution_count": 82,
   "id": "0c3bebae",
   "metadata": {},
   "outputs": [],
   "source": [
    "# 기계학습 모델 구축 및 평가 패키지\n",
    "import scipy as sp\n",
    "import scipy.stats as stats\n",
    "\n",
    "import statsmodels.api as sm\n",
    "from statsmodels.formula.api import ols\n",
    "\n",
    "from sklearn.model_selection import train_test_split\n",
    "from sklearn.metrics import mean_squared_error, r2_score, mean_absolute_error\n",
    "\n",
    "\n",
    "X_train_pca, X_test_pca, y_train_pca, y_test_pca=train_test_split(Xpca6,Y,test_size=0.2,random_state=2025) "
   ]
  },
  {
   "cell_type": "markdown",
   "id": "8b047f08",
   "metadata": {},
   "source": [
    "PCA를 하지 않은 데이터에 대해서도 스케일링 후 학습/테스트셋으로 나눠줍니다."
   ]
  },
  {
   "cell_type": "code",
   "execution_count": 83,
   "id": "211ea799",
   "metadata": {},
   "outputs": [],
   "source": [
    "data_scaled=data1.apply(zscore)\n",
    "\n",
    "X = data_scaled.drop('csMPa', axis=1) # 종속변수 열 제외 axis = ?\n",
    "\n",
    "y = data_scaled['csMPa']\n",
    "\n",
    "# 특히 정규화 모델(Ridge, Lasso)은 변수 크기에 따라 가중치 패널티가 달라져서 스케일링이 반드시 필요합니다."
   ]
  },
  {
   "cell_type": "code",
   "execution_count": 84,
   "id": "e9dce2d0",
   "metadata": {},
   "outputs": [],
   "source": [
    "X_train, X_test, y_train, y_test=train_test_split(X,y,test_size=0.2,random_state=2025)"
   ]
  },
  {
   "cell_type": "markdown",
   "id": "14ecdeed",
   "metadata": {},
   "source": [
    "### **참고 )** 피쳐 스케일(단위)의 영향 <br/>\n",
    "10 kg/m³와 10일은 전혀 다른 의미를 가지지만, 모델은 두 값을 단순히 숫자 10으로 인식하여 동일한 수준의 중요도로 처리합니다.\n",
    "\n",
    "\n",
    "#### ✅ 스케일의 영향을 받는 알고리즘\n",
    "\n",
    "**경사 하강법 기반 알고리즘**\n",
    "\n",
    "- 선형 회귀 (Linear Regression)\n",
    "\n",
    "- 로지스틱 회귀 (Logistic Regression)\n",
    "\n",
    "**거리 기반 알고리즘**\n",
    "\n",
    "- K-최근접 이웃 (KNN)\n",
    "\n",
    "- K-Means 군집화 (K-Means)\n",
    "\n",
    "- 서포트 벡터 머신 (SVM)\n",
    "\n",
    "👉 표준화(Standardization) 또는 정규화(Normalization) 등의 스케일링 전처리 과정이 매우 중요\n",
    "\n",
    "\n",
    "#### ✅ 스케일(단위)의 영향을 받지 않는 알고리즘\n",
    "\n",
    "- 트리 기반 알고리즘\n",
    "\n",
    "- 결정 트리 (Decision Tree)\n",
    "\n",
    "- 랜덤 포레스트 (Random Forest)\n",
    "\n",
    "- 그래디언트 부스팅 (XGBoost, LightGBM 등)\n",
    "\n",
    "👉 트리 기반 모델은 변수의 분할 기준이 상대적이기 때문에, 절대적인 숫자의 크기나 단위는 모델 성능에 영향을 주지 않음"
   ]
  },
  {
   "cell_type": "markdown",
   "id": "95b6aef1",
   "metadata": {},
   "source": [
    "## 3.a 모델 결정\n",
    "\n",
    "1. **선형회귀**\n",
    "\n",
    "- 우선 가장 기본적인 기준 모델(Baseline)인 선형회귀(Linear Regression)부터 시작할게요. \n",
    "\n",
    "- 모델 성능을 비교하는 출발점이 되어줄 수 있어요.\n",
    "\n",
    "2. **정규화 회귀 기법**\n",
    "\n",
    "- Ridge Regression (L2 규제)\n",
    "\n",
    "- Lasso Regression (L1 규제)\n",
    "\n",
    "    → 다중공선성 문제 완화, 불필요한 변수 축소가 가능합니다."
   ]
  },
  {
   "cell_type": "markdown",
   "id": "168851e4",
   "metadata": {},
   "source": [
    "### 3.a.1 Regression Model 1: Linear Regression"
   ]
  },
  {
   "cell_type": "markdown",
   "id": "ecc35ecc",
   "metadata": {},
   "source": [
    "#### 모델 객체 생성, 학습"
   ]
  },
  {
   "cell_type": "markdown",
   "id": "bd29199d",
   "metadata": {},
   "source": [
    "<span style=\"color:red\"> ***를 채워주세요 <span>"
   ]
  },
  {
   "cell_type": "code",
   "execution_count": 85,
   "id": "31b6b96f",
   "metadata": {},
   "outputs": [],
   "source": [
    "from sklearn.linear_model import LinearRegression\n",
    "\n",
    "# 1. 선형 회귀 모델 객체를 생성합니다.\n",
    "regression_model = LinearRegression()\n",
    "\n",
    "# 2. 학습 데이터(X_train, y_train)를 사용해 모델을 학습(fit)시킵니다.\n",
    "regression_model.fit(X_train, y_train)\n",
    "\n",
    "# 3. 테스트 데이터를 이용해 예측하고 y_pred에 저장합니다.\n",
    "y_pred = regression_model.predict(X_test)"
   ]
  },
  {
   "cell_type": "code",
   "execution_count": 86,
   "id": "8dd192fc",
   "metadata": {},
   "outputs": [
    {
     "name": "stdout",
     "output_type": "stream",
     "text": [
      "The coefficient for cement is 0.7064468708924526\n",
      "The coefficient for slag is 0.5963125020413395\n",
      "The coefficient for flyash is 0.37712348832522047\n",
      "The coefficient for water is -0.11786035046928654\n",
      "The coefficient for superplasticizer is 0.11696837099272206\n",
      "The coefficient for coarseaggregate is 0.12999601350887355\n",
      "The coefficient for fineaggregate is 0.14684315606566642\n",
      "The coefficient for age is 0.4515125019758179\n",
      "The coefficient for w/c ratio is -0.10012081145636774\n",
      "The intercept for our model is -0.003558389083304832\n"
     ]
    }
   ],
   "source": [
    "# 참고\n",
    "# 회귀 계수(coefficient): 각 독립변수가 종속변수에 미치는 영향력의 크기와 방향을 나타냅니다.\n",
    "\n",
    "for idx, col_name in enumerate(X_train.columns):\n",
    "    print(\"The coefficient for {} is {}\".format(col_name, regression_model.coef_[idx]))\n",
    "\n",
    "# 절편(intercept): 회귀선이 y축과 만나는 지점\n",
    "intercept = regression_model.intercept_\n",
    "print(\"The intercept for our model is {}\".format(regression_model.intercept_))"
   ]
  },
  {
   "cell_type": "markdown",
   "id": "025cafd3",
   "metadata": {},
   "source": [
    "#### 모델 평가 (MSE,MAE,R2값 출력)"
   ]
  },
  {
   "cell_type": "code",
   "execution_count": 87,
   "id": "2a1cab14",
   "metadata": {},
   "outputs": [
    {
     "name": "stdout",
     "output_type": "stream",
     "text": [
      "MSE: 0.4234587494307394\n",
      "MAE: 0.5198355117401076\n",
      "r2_score: <function r2_score at 0x000002038A4EF420>\n"
     ]
    }
   ],
   "source": [
    "mse = mean_squared_error(y_test, y_pred)\n",
    "mae = mean_absolute_error(y_test, y_pred)\n",
    "r2 = r2_score(y_test, y_pred)\n",
    "\n",
    "print(\"MSE:\", mse)\n",
    "print(\"MAE:\", mae)\n",
    "print(\"r2_score:\", r2_score)"
   ]
  },
  {
   "cell_type": "code",
   "execution_count": 88,
   "id": "8240df48",
   "metadata": {},
   "outputs": [
    {
     "data": {
      "image/png": "[encoded data removed]",
      "text/plain": [
       "<Figure size 640x480 with 1 Axes>"
      ]
     },
     "metadata": {},
     "output_type": "display_data"
    }
   ],
   "source": [
    "# 시각화로 예측과 실제 데이터 비교하기\n",
    "plt.scatter(y_test, y_pred, alpha=0.7)\n",
    "plt.xlabel(\"Actual\")\n",
    "plt.ylabel(\"Predicted\")\n",
    "plt.title(\"Actual vs Predicted\")\n",
    "plt.show()"
   ]
  },
  {
   "cell_type": "markdown",
   "id": "7d767296",
   "metadata": {},
   "source": [
    "#### 차원 축소된 데이터에 대해서도 반복해줄게요!"
   ]
  },
  {
   "cell_type": "code",
   "execution_count": 89,
   "id": "e2ba32fd",
   "metadata": {},
   "outputs": [
    {
     "name": "stdout",
     "output_type": "stream",
     "text": [
      "MSE: 0.4507045815627622\n",
      "MAE: 0.5417617003627985\n",
      "r2_score: 0.5828974852547268\n"
     ]
    }
   ],
   "source": [
    "# 모델 학습\n",
    "regression_model_pca = LinearRegression()\n",
    "regression_model_pca.fit(X_train_pca, y_train_pca)\n",
    "\n",
    "# 테스트 데이터에 대한 예측값 계산\n",
    "y_pred_pca = regression_model_pca.predict(X_test_pca)\n",
    "\n",
    "# 모델 평가\n",
    "mse_pca = mean_squared_error(y_test_pca, y_pred_pca)\n",
    "mae_pca = mean_absolute_error(y_test_pca, y_pred_pca)\n",
    "\n",
    "'''\n",
    "r2_score의 경우 위에 두 줄로 작성했던 코드를 한 줄로 대체 가능해요!\n",
    "y_pred = regression_model.predict(X_test)\n",
    "r2 = r2_score(y_test, y_pred)\n",
    "\n",
    "'''\n",
    "r2_pca = regression_model_pca.score(X_test_pca, y_test_pca)\n",
    "\n",
    "print(\"MSE:\", mse_pca)\n",
    "print(\"MAE:\", mae_pca)\n",
    "print(\"r2_score:\", r2_pca)"
   ]
  },
  {
   "cell_type": "code",
   "execution_count": 90,
   "id": "56db7143",
   "metadata": {},
   "outputs": [
    {
     "data": {
      "image/png": "[encoded data removed]",
      "text/plain": [
       "<Figure size 640x480 with 1 Axes>"
      ]
     },
     "metadata": {},
     "output_type": "display_data"
    }
   ],
   "source": [
    "# 시각화로 예측과 실제 데이터 비교하기\n",
    "plt.scatter(y_test_pca, y_pred_pca, alpha=0.7)\n",
    "plt.xlabel(\"Actual\")\n",
    "plt.ylabel(\"Predicted\")\n",
    "plt.title(\"Actual vs Predicted\")\n",
    "plt.show()"
   ]
  },
  {
   "cell_type": "markdown",
   "id": "b15f8525",
   "metadata": {},
   "source": [
    "### Regression Model 2: Ridge Regression: Regularised Linear Model"
   ]
  },
  {
   "cell_type": "code",
   "execution_count": 91,
   "id": "31bc9344",
   "metadata": {},
   "outputs": [
    {
     "name": "stdout",
     "output_type": "stream",
     "text": [
      "MSE: 0.4230555299063564\n",
      "MAE: 0.5196452163625318\n",
      "r2_score: 0.6084851749476547\n"
     ]
    }
   ],
   "source": [
    "# 모든 변수에 대해 모델 생성\n",
    "from sklearn.linear_model import Ridge\n",
    "\n",
    "ridge = Ridge(alpha=0.3) # 객체 생성\n",
    "ridge.fit(X_train,y_train) # 학습\n",
    "y_pred_ridge = ridge.predict(X_test) # 예측\n",
    "\n",
    "# 모델 평가 \n",
    "mse_ridge = mean_squared_error(y_test, y_pred_ridge)\n",
    "mae_ridge = mean_absolute_error(y_test, y_pred_ridge)\n",
    "r2_ridge = r2_score(y_test, y_pred_ridge)\n",
    "\n",
    "print(\"MSE:\", mse_ridge)\n",
    "print(\"MAE:\", mae_ridge)\n",
    "print(\"r2_score:\", r2_ridge)"
   ]
  },
  {
   "cell_type": "code",
   "execution_count": 92,
   "id": "5c948216",
   "metadata": {},
   "outputs": [
    {
     "name": "stdout",
     "output_type": "stream",
     "text": [
      "MSE: 0.450694206204625\n",
      "MAE: 0.5417495629032005\n",
      "r2_score: 0.5829070870829475\n"
     ]
    }
   ],
   "source": [
    "# PCA 데이터에 대해 모델 생성\n",
    "ridge_pca = Ridge(alpha=0.3) # 객체 생성\n",
    "ridge_pca.fit(X_train_pca,y_train_pca) # 학습\n",
    "y_pred_ridge_pca = ridge_pca.predict(X_test_pca) # 예측\n",
    "\n",
    "# 모델 평가 \n",
    "mse_ridge_pca = mean_squared_error(y_test_pca, y_pred_ridge_pca)\n",
    "mae_ridge_pca = mean_absolute_error(y_test_pca, y_pred_ridge_pca)\n",
    "r2_ridge_pca = r2_score(y_test_pca, y_pred_ridge_pca)\n",
    "\n",
    "print(\"MSE:\", mse_ridge_pca)\n",
    "print(\"MAE:\", mae_ridge_pca)\n",
    "print(\"r2_score:\", r2_ridge_pca)"
   ]
  },
  {
   "cell_type": "markdown",
   "id": "597cc8f3",
   "metadata": {},
   "source": [
    "### Regression Model 3: Lasso Regression - Regularised Linear Model"
   ]
  },
  {
   "cell_type": "code",
   "execution_count": 93,
   "id": "676f9925",
   "metadata": {},
   "outputs": [
    {
     "name": "stdout",
     "output_type": "stream",
     "text": [
      "MSE: 0.507502414923315\n",
      "MAE: 0.577919923493055\n",
      "r2_score: 0.5303341874852088\n"
     ]
    }
   ],
   "source": [
    "# 모든 변수에 대해 모델 생성\n",
    "from sklearn.linear_model import Lasso\n",
    "lasso=Lasso(alpha=0.1) # 객체 생성\n",
    "lasso.fit(X_train,y_train) # 학습\n",
    "y_pred_lasso = lasso.predict(X_test) # 예측\n",
    "\n",
    "# 모델 평가 \n",
    "mse_lasso = mean_squared_error(y_test, y_pred_lasso)\n",
    "mae_lasso = mean_absolute_error(y_test, y_pred_lasso)\n",
    "r2_lasso = r2_score(y_test, y_pred_lasso)\n",
    "\n",
    "print(\"MSE:\", mse_lasso)\n",
    "print(\"MAE:\", mae_lasso)\n",
    "print(\"r2_score:\", r2_lasso)"
   ]
  },
  {
   "cell_type": "code",
   "execution_count": 94,
   "id": "2b308ddb",
   "metadata": {},
   "outputs": [
    {
     "name": "stdout",
     "output_type": "stream",
     "text": [
      "MSE: 0.5009896968735825\n",
      "MAE: 0.5728307270543989\n",
      "r2_score: 0.5363613529223812\n"
     ]
    }
   ],
   "source": [
    "# PCA 데이터에 대해 모델 생성\n",
    "lasso_pca = Lasso(alpha=0.1) # 객체 생성\n",
    "lasso_pca.fit(X_train_pca,y_train_pca) # 학습\n",
    "y_pred_lasso_pca = lasso_pca.predict(X_test_pca) # 예측\n",
    "\n",
    "# 모델 평가 \n",
    "mse_lasso_pca = mean_squared_error(y_test_pca, y_pred_lasso_pca)\n",
    "mae_lasso_pca = mean_absolute_error(y_test_pca, y_pred_lasso_pca)\n",
    "r2_lasso_pca = r2_score(y_test_pca, y_pred_lasso_pca)\n",
    "\n",
    "print(\"MSE:\", mse_lasso_pca)\n",
    "print(\"MAE:\", mae_lasso_pca)\n",
    "print(\"r2_score:\", r2_lasso_pca)"
   ]
  },
  {
   "cell_type": "markdown",
   "id": "8580fb4f",
   "metadata": {},
   "source": [
    "# 4 모델 성능 평가"
   ]
  },
  {
   "cell_type": "code",
   "execution_count": 95,
   "id": "b4a336d9",
   "metadata": {},
   "outputs": [],
   "source": [
    "summary = {'Score': [r2,r2_ridge, r2_lasso],\n",
    "\n",
    "                    'Score for 6PCA model': [r2_pca,r2_ridge_pca,r2_lasso_pca]\n",
    "\n",
    "                     }\n",
    "\n",
    "models=['Linear Regression','Ridge','Lasso']\n",
    "sum_df = pd.DataFrame(summary,models)"
   ]
  },
  {
   "cell_type": "code",
   "execution_count": 96,
   "id": "ea50e23b",
   "metadata": {},
   "outputs": [
    {
     "data": {
      "text/html": [
       "<div>\n",
       "<style scoped>\n",
       "    .dataframe tbody tr th:only-of-type {\n",
       "        vertical-align: middle;\n",
       "    }\n",
       "\n",
       "    .dataframe tbody tr th {\n",
       "        vertical-align: top;\n",
       "    }\n",
       "\n",
       "    .dataframe thead th {\n",
       "        text-align: right;\n",
       "    }\n",
       "</style>\n",
       "<table border=\"1\" class=\"dataframe\">\n",
       "  <thead>\n",
       "    <tr style=\"text-align: right;\">\n",
       "      <th></th>\n",
       "      <th>Score</th>\n",
       "      <th>Score for 6PCA model</th>\n",
       "    </tr>\n",
       "  </thead>\n",
       "  <tbody>\n",
       "    <tr>\n",
       "      <th>Linear Regression</th>\n",
       "      <td>0.608112</td>\n",
       "      <td>0.582897</td>\n",
       "    </tr>\n",
       "    <tr>\n",
       "      <th>Ridge</th>\n",
       "      <td>0.608485</td>\n",
       "      <td>0.582907</td>\n",
       "    </tr>\n",
       "    <tr>\n",
       "      <th>Lasso</th>\n",
       "      <td>0.530334</td>\n",
       "      <td>0.536361</td>\n",
       "    </tr>\n",
       "  </tbody>\n",
       "</table>\n",
       "</div>"
      ],
      "text/plain": [
       "                      Score  Score for 6PCA model\n",
       "Linear Regression  0.608112              0.582897\n",
       "Ridge              0.608485              0.582907\n",
       "Lasso              0.530334              0.536361"
      ]
     },
     "execution_count": 96,
     "metadata": {},
     "output_type": "execute_result"
    }
   ],
   "source": [
    "sum_df"
   ]
  },
  {
   "cell_type": "markdown",
   "id": "6b415bab",
   "metadata": {},
   "source": [
    "(참고) summary()가 필요하다면 statsmodels의 OLS를 사용할 수 있지만, statsmodels에는 Lasso가 직접 구현되어 있지 않아요."
   ]
  },
  {
   "cell_type": "markdown",
   "id": "c6f92edd",
   "metadata": {},
   "source": [
    "## 가장 성능이 좋은 모델을 아래 적어주세요!\n",
    "<span style=\"color:red\"> Ridge<span>"
   ]
  },
  {
   "cell_type": "markdown",
   "id": "b90b37b7",
   "metadata": {},
   "source": [
    "# 5 모델 성능 개선"
   ]
  },
  {
   "cell_type": "markdown",
   "id": "7444cb67",
   "metadata": {},
   "source": [
    "불필요한 변수를 제거하거나 하이퍼파라미터 튜닝을 통해 모델 성능을 개선하고, 필요 시 모델을 변경하여 처음부터 다시 진행합니다."
   ]
  },
  {
   "cell_type": "code",
   "execution_count": 97,
   "id": "47d7573b",
   "metadata": {},
   "outputs": [
    {
     "name": "stdout",
     "output_type": "stream",
     "text": [
      "📌 Ridge Best alpha: 0.5689866029018293\n",
      "📉 Ridge Best MSE: 0.39572336812695375\n"
     ]
    }
   ],
   "source": [
    "from sklearn.linear_model import RidgeCV\n",
    "from sklearn.model_selection import GridSearchCV\n",
    "\n",
    "# 참고) 해당 모델에 대해 GridSearch를 통해 최적의 하이파라미터를 찾아 model을 개선시켜 봅시다.\n",
    "alphas = np.logspace(-4, 4, 50)  # alpha 후보들\n",
    "\n",
    "ridge = Ridge()\n",
    "ridge_params = {'alpha': alphas}\n",
    "\n",
    "ridge_grid = GridSearchCV(ridge, ridge_params, cv=5, scoring='neg_mean_squared_error')\n",
    "ridge_grid.fit(X_train, y_train)\n",
    "\n",
    "print(\"📌 Ridge Best alpha:\", ridge_grid.best_params_['alpha'])\n",
    "print(\"📉 Ridge Best MSE:\", -ridge_grid.best_score_)"
   ]
  },
  {
   "cell_type": "markdown",
   "id": "112878c4",
   "metadata": {},
   "source": [
    "## 끝!\n",
    "... 나기 전에 전체적인 회귀 분석 프로세스(순서)에 대해 간단히 적어보며 마칩시다..."
   ]
  },
  {
   "cell_type": "markdown",
   "id": "0a673149",
   "metadata": {},
   "source": [
    "<span style=\"color:red\"> *** <span>\n",
    "1. 단순선형회귀 or 다중선형회귀인지 파악 <br>\n",
    "2. 모델 생성 <br>\n",
    "    [2-1] [단순선형회귀] 테스트 데이터 생성 - 선형 회귀 모델 객체 생성 (LinearRegression()) - train data로 fit (학습) - predict (예측)<br>\n",
    "    [2-2] [다중선형회귀] 테스트 데이터 생성 - 객체 생성 (Ridge / Lasso) - train data로 fit - predict <br>\n",
    "3. 모델 성능 평가: MSE, MAE, r2 score <br>\n",
    "4. 개선: 불필요한 변수 제거 or 하이퍼파라미터 튜닝 <br>"
   ]
  },
  {
   "cell_type": "markdown",
   "id": "da8a62ff",
   "metadata": {},
   "source": [
    "# 진짜 과제 끝!! 수고하셨습니다~:)"
   ]
  }
 ],
 "metadata": {
  "kernelspec": {
   "display_name": "base",
   "language": "python",
   "name": "python3"
  },
  "language_info": {
   "codemirror_mode": {
    "name": "ipython",
    "version": 3
   },
   "file_extension": ".py",
   "mimetype": "text/x-python",
   "name": "python",
   "nbconvert_exporter": "python",
   "pygments_lexer": "ipython3",
   "version": "3.13.5"
  }
 },
 "nbformat": 4,
 "nbformat_minor": 5
}
