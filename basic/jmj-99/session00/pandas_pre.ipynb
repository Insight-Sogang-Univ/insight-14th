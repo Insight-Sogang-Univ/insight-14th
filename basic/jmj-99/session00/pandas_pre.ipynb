{
 "cells": [
  {
   "cell_type": "markdown",
   "id": "1d3445c8",
   "metadata": {},
   "source": [
    "# Pandas_사전과제\n",
    "\n",
    "## 1. Pandas  \n",
    "**=><u>DataFrame은 행과 열로 이루어지며, 각 열은 Series라는 1차원 데이터 구조로 구성**</u>  \n",
    "\n",
    "- **데이터 분석에 특화된 라이브러리**  \n",
    "(+) 행렬 형태의 데이터 객체를 만들어 다룰 수 있음  \n",
    "(+) 대용량 데이터 처리에 편리  \n",
    "\n",
    "이름 | 차원 | 설명\n",
    "--- | --- | ---\n",
    "Series | 1차원 | 같은 유형의 배열\n",
    "**DataFrame** | 2차원 | 인덱스가 같은 하나 이상의 Series가 모인 표 형식 데이터  \n"
   ]
  },
  {
   "cell_type": "markdown",
   "id": "31d2b6f0",
   "metadata": {},
   "source": [
    "## 2. DataFrame 생성\n",
    "- pandas import -> pd.DataFrame()  \n",
    "- 2차원 리스트 / 사전으로 생성 가능  \n",
    "\n",
    "**DataFrame 생성값**\n",
    "1) data: DataFrame을 생성할 데이터    \n",
    "2) index: 미입력 시 0부터  \n",
    "3) columns: 열의 이름. 미입력시 0부터    \n",
    "4) dtype: 미입력시 자체 판단  \n",
    "\n",
    "\n",
    "\n"
   ]
  },
  {
   "cell_type": "markdown",
   "id": "6c721c3c",
   "metadata": {},
   "source": [
    "## 3. DataFrame 접근  \n",
    "  \n",
    "**=><u>데이터 프레임에서 원하는 데이터를 선택 (추출)하는 과정으로, 아래의 방식을 활용**</u>  \n",
    "\n",
    "**1. head, tail로 접근**  \n",
    "(1) head(n): 위에서부터 n개의 데이터 출력  \n",
    "(2) tail(n): 아래서부터 n개의 데이터 출력    \n",
    "\n",
    "**2. row, column명으로 접근**  \n",
    "- df.loc['row명', 'column명']  \n",
    "\n",
    "**3. 위치 번호로 접근**  \n",
    "- df.iloc['row 번호', 'column 번호']  \n",
    "(1) 행 위치 리스트   \n",
    "&nbsp; &nbsp; &nbsp; df.iloc[[2,6,4]]  \n",
    "(2) 행 위치 슬라이싱   \n",
    "&nbsp; &nbsp; &nbsp; df.iloc[2:5]  \n",
    "(3) 열 위치   \n",
    "&nbsp; &nbsp; &nbsp; df.iloc[ : , 3]  \n",
    "(4) 열 위치 리스트   \n",
    "&nbsp; &nbsp; &nbsp; df.iloc[ : , [3,2,5]]  \n",
    "(5) 열 위치 슬라이싱   \n",
    "&nbsp; &nbsp; &nbsp; df.iloc[ : , 3:5]  \n",
    "\n"
   ]
  },
  {
   "cell_type": "markdown",
   "id": "5d37a58d",
   "metadata": {},
   "source": [
    "## DataFrame 수정 / 추가 / 삭제  \n",
    "  \n",
    "**=><u>데이터 프레임의 데이터를 조작하는 과정**</u>  \n",
    "  \n",
    "**1. 수정**  \n",
    "(1) 값 1개 수정   \n",
    "&nbsp; &nbsp; &nbsp; df_new.loc[인덱스,값] = 새로운 값  \n",
    "(2) 한 줄 수정  \n",
    "&nbsp; &nbsp; &nbsp; df_new.loc[인덱스] = [새로운 값, ...]  \n",
    "(3) 여러 줄 수정  \n",
    "&nbsp; &nbsp; &nbsp; df_new.loc[[인덱스1,인덱스2]] = 새로운 값  \n",
    "(4) 위치 번호로 수정  \n",
    "&nbsp; &nbsp; &nbsp; df_new.iloc[위치 번호1, ...] = 새로운 값    \n",
    "    \n",
    "**2. 추가**   \n",
    "(1) row 추가   \n",
    "&nbsp; &nbsp; &nbsp; df_new.loc[없는 인덱스명] = [새로운 값, ...]  \n",
    "(2) column 추가  \n",
    "&nbsp; &nbsp; &nbsp; df_new[인덱스] = [새로운 값]    \n",
    "    \n",
    "**3. 삭제**     \n",
    "(1) row 삭제   \n",
    "&nbsp; &nbsp; &nbsp; df_new.drop[인덱스, axis값, inplace = True]  \n",
    "(2) column 삭제  \n",
    "&nbsp; &nbsp; &nbsp; del df_new[column명]\n",
    "\n",
    " "
   ]
  }
 ],
 "metadata": {
  "language_info": {
   "name": "python"
  }
 },
 "nbformat": 4,
 "nbformat_minor": 5
}
