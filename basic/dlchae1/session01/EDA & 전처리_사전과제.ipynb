{
 "cells": [
  {
   "cell_type": "markdown",
   "id": "cc90df11",
   "metadata": {},
   "source": [
    "## SESSION02_EDA & 전처리🧐"
   ]
  },
  {
   "cell_type": "markdown",
   "id": "00d5ce48",
   "metadata": {},
   "source": [
    "## 1. EDA"
   ]
  },
  {
   "cell_type": "markdown",
   "id": "efc7a3e1",
   "metadata": {},
   "source": [
    "### 1-1. EDA란?\n",
    ": 데이터 분석(모델링)을 위해 데이터를 여러 가지 방식으로 파악하는 모든 과정\n",
    "- 시각롸 같은 도구를 통해 발견\n",
    "- 데이터의 특이성 확인\n",
    "- 통계와 그래프로 가설을 검정하는 과정\n",
    "=> 주어진 데이터에 대해 알아봄"
   ]
  },
  {
   "cell_type": "markdown",
   "id": "95cf4fcf",
   "metadata": {},
   "source": [
    "### 1-2. EDA 대상\n",
    "1. Univariate(일변량)\n",
    "- EDA를 통해 한 번에 파악하려는 변수: 한 개\n",
    "- 목적: 데이터 설명, 존재하는 패턴 발견\n",
    "\n",
    "2. Multi_variate(다변량)\n",
    "- EDA를 통해 한번에 파악하려는 변수: 여러개\n",
    "- 목적: 여러 변수들 간의 관계를 보는 것"
   ]
  },
  {
   "cell_type": "markdown",
   "id": "b93dc9ef",
   "metadata": {},
   "source": [
    "### 1-3. EDA 종류 \n",
    "- 시각화(Graphic): 차트 혹은 그림 등을 이용\n",
    "- 비시각화(Non-Graphic): 그래프적인 요소를 사용하지 않고, Summary Statics를 통해 데이터 확인"
   ]
  },
  {
   "cell_type": "markdown",
   "id": "3acea081",
   "metadata": {},
   "source": [
    "## 2. 데이터 확인"
   ]
  },
  {
   "cell_type": "markdown",
   "id": "eabfbb69",
   "metadata": {},
   "source": [
    "### 2-1. 데이터 읽기/쓰기\n",
    "1. 절대 경로: 처음부터 시작하여 목적지까지 전체적인 경로, 해당 파일까지의 모든 경로\n",
    "2. 상대 경로: 현재 작업하고 있는 디렉토리를 기준으로 상하위 디렉터리와 같이 상대적으로 표현되는 경로 \n",
    "3. 데이터 입출력 \n",
    "- Reader: read_'파일 형식'\n",
    "- Writer: to_'파일 향식'\n",
    "4. CSV와 EXCEL\n",
    "- CSV: comma separated value의 약자로 데이터를 쉼표(,)로 구분하고 있는 텍스트 파일, 데이터의 크기가 작고 압축이 용이하기 때문에 가장 널리 사용되는 데이터 형식\n",
    "- EXCEL 파일: 행과 열이 데이터프레임의 행, 열로 일대일 대응"
   ]
  },
  {
   "cell_type": "markdown",
   "id": "efba390c",
   "metadata": {},
   "source": [
    "## 3. 전처리"
   ]
  },
  {
   "cell_type": "markdown",
   "id": "6d6c360a",
   "metadata": {},
   "source": [
    "### 3-1. 데이터 전처리란?\n",
    "- 데이터를 분석해 적합한 형태로 만드는 과정"
   ]
  },
  {
   "cell_type": "markdown",
   "id": "84838cdc",
   "metadata": {},
   "source": [
    "### 3-2. 결측값 확인\n",
    "*결측값 = 데이터 수집 과정에서 측정되지 않거나 누락된 데이터\n",
    "- 데이터프레임 상에서 NaN, ?, 0 등의 값으로 나타나 있는 결측값 확인"
   ]
  },
  {
   "cell_type": "markdown",
   "id": "7e6b3718",
   "metadata": {},
   "source": [
    "### 3-3. 결측값 처리 -  삭제\n",
    "- 삭제: 데이터가 있는 행 또는 열을 삭재\n",
    "- 삭제 기준: axis = 0 (행) & axis = 1 (열)\n",
    "- 삭제 조건 : how = ‘any’ & how = ‘all’\n",
    "- 특정 열을 기준으로 삭재: subset = [’column명’]\n",
    "- 원본 데이터 변경 여부: inplace = False & inplace = True\n"
   ]
  },
  {
   "cell_type": "markdown",
   "id": "e3fe2869",
   "metadata": {},
   "source": [
    "### 3-4 결측값 처리 - 대체\n",
    "- 대체: 결측값을 다른 값으로 대체 -> 평균값, 최빈값 등의 대푯값 활용\n",
    "- 일괄 대체: 모든 변수들 일괄적으로 같은 값으로 대체\n",
    "- 유사 유형 대체: 범주형 변수들을 활용해 유사한 범주에 따라 다른 값으로 대체"
   ]
  },
  {
   "cell_type": "markdown",
   "id": "9a8483e2",
   "metadata": {},
   "source": [
    "### 3-5. 이상치 처리\n",
    "* 이상치 = 관측된 데이터의 범위에서 많이 벗어난 값\n",
    "1. 이상치 확인 (통계, 시각화, Z-score, Turkey Fences)\n",
    "2. 이상치 제거 및 처리 (전체 삭제, 다른 값으로 대체, 변수화, 리샘플링)"
   ]
  },
  {
   "cell_type": "markdown",
   "id": "dad82a9c",
   "metadata": {},
   "source": [
    "### 3-6. 피처 엔지니어랑(변수 가공)\n",
    "- 해결하고자 하는 문제를 컴퓨터가 잘 이해할 수 있도록 피처들의 형태를 변형하거나 적절하게 처리하는 과정\n",
    "1. 레이블인코딩(Label Encoding) vs 원핫인코딩(One-hot Encoding): 텍스트로 주어지는 값들을 기계가 이해할 수 이해할 수 있도록 숫자로 바꾸는 작업\n",
    "2. 구간화(Binning): 연속 데이터를 일정한 구간으로 나눠서 분석\n",
    "3. 파생변수 생성: 기존의 피처를 다른 피처로 변환하여 변수 추가\n",
    "4. 스케일링: 서로 다른 변수의 값 범위를 일정 수준으로 맞추는 작업 (StandardScaler (표준화), MinMaxScaler)\n"
   ]
  },
  {
   "cell_type": "markdown",
   "id": "86c03beb",
   "metadata": {},
   "source": [
    "## 4. 데이터 시각화"
   ]
  },
  {
   "cell_type": "markdown",
   "id": "0e589a60",
   "metadata": {},
   "source": [
    "### 4-1. 데이터 시각화란?\n",
    "- 데이터에 대한 이해를 돕기 위해 그림, 도형 등 그래픽 요소들을 이용해 데이터를 묘사하고 표현하는 과정"
   ]
  },
  {
   "cell_type": "markdown",
   "id": "4b68bdd7",
   "metadata": {},
   "source": [
    "### 4-2. HOW?\n",
    "- 시각적 분석기법을 활용, Matplotilb와 Seaborn 사용"
   ]
  },
  {
   "cell_type": "markdown",
   "id": "596f4f29",
   "metadata": {},
   "source": [
    "### 4-3. 파라미터\n",
    "- 컴퓨터 프로그래밍에서 매개변수란 프로그래민된 함수의 입력값을 의미"
   ]
  }
 ],
 "metadata": {
  "kernelspec": {
   "display_name": "base",
   "language": "python",
   "name": "python3"
  },
  "language_info": {
   "codemirror_mode": {
    "name": "ipython",
    "version": 3
   },
   "file_extension": ".py",
   "mimetype": "text/x-python",
   "name": "python",
   "nbconvert_exporter": "python",
   "pygments_lexer": "ipython3",
   "version": "3.13.5"
  }
 },
 "nbformat": 4,
 "nbformat_minor": 5
}
