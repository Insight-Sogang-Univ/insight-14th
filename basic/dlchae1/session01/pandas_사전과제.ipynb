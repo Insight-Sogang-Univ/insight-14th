{
 "cells": [
  {
   "cell_type": "markdown",
   "id": "8db08ec6",
   "metadata": {},
   "source": [
    "# SESSION01_PANDAS🐼"
   ]
  },
  {
   "cell_type": "markdown",
   "id": "140b6731",
   "metadata": {},
   "source": [
    "## 1. 판다스란?"
   ]
  },
  {
   "cell_type": "markdown",
   "id": "66a740f4",
   "metadata": {},
   "source": [
    "### 1-1. 판다스의 개념\n",
    "- 데이터 분석에 특화된 파이썬 라이브러리\n",
    "- 기본 틀: DataFrame (행과 열로 이루어진 테이플 형태 구조)\n",
    "- 넘파이(Numpy)의 확장판 (Numpy 기능 + 구조화된 데이터 처리 기능)"
   ]
  },
  {
   "cell_type": "markdown",
   "id": "535ace36",
   "metadata": {},
   "source": [
    "### 1-2. 판다스 라이브러리 불러오기\n",
    "- import pandas as pd: 판다스 불러오기\n",
    "- df=pd.read_csv('파일 경로'): 데이터 불러오기"
   ]
  },
  {
   "cell_type": "markdown",
   "id": "7805ca3b",
   "metadata": {},
   "source": [
    "## 2. 판다스의 데이터 구조"
   ]
  },
  {
   "cell_type": "markdown",
   "id": "3114cced",
   "metadata": {},
   "source": [
    "### 2-1. Series\n",
    "- Value(값)과 Index(인덱스)로 구성된 가장 간단한 1차원 자료구조\n",
    "- Like 인덱스가 있는 1차원 배열(array)\n",
    "- 인덱스 레이블을 따로 지정하지 않으면 0부터 시작\n",
    "- 데이터프레임에서 특정 칼럼 1개만 추출 => Series\n",
    "- 시리즈를 구성하는 값들은 모두 같은 데이터타입"
   ]
  },
  {
   "cell_type": "markdown",
   "id": "a88626ef",
   "metadata": {},
   "source": [
    "### 2-2. DataFrame\n",
    "- Index(행)와 Column(열)로 이루어진 2차원 배열 구조\n",
    "- 여러 개의 Series가 모여 하나의 DataFrame 구성\n",
    "- Colume 단위로는 값들의 데이터 타입이 동일해야 함\n",
    "- 각 Column 간의 데이터타입은 달라도 무방함"
   ]
  },
  {
   "cell_type": "code",
   "execution_count": 1,
   "id": "c41719dc",
   "metadata": {},
   "outputs": [
    {
     "name": "stdout",
     "output_type": "stream",
     "text": [
      "    이름  점수\n",
      "0  카리나  99\n",
      "1   윈터  60\n",
      "2   지젤  85\n",
      "3   닝닝  93\n"
     ]
    }
   ],
   "source": [
    "import pandas as pd\n",
    "\n",
    "data = {\n",
    "    '이름': ['카리나', '윈터', '지젤', '닝닝'],\n",
    "    '점수': [99, 60, 85, 93]\n",
    "}\n",
    "\n",
    "df = pd.DataFrame(data)\n",
    "print(df)"
   ]
  },
  {
   "cell_type": "markdown",
   "id": "7e008302",
   "metadata": {},
   "source": [
    "## 3. 데이터 확인\n",
    "**목적: DataFrame에 대한 기본적인 이해 => 데이터의 크기, 타입, 값의 분포나 경향 파악**"
   ]
  },
  {
   "cell_type": "markdown",
   "id": "d74426fd",
   "metadata": {},
   "source": [
    "## 4. 데이터 추출\n",
    "**목적: 실제로 분석하게 될 데이터는 양이 매우 방대하기 때문에 분석에 필요한 부분만 골라내어 가공**"
   ]
  },
  {
   "cell_type": "markdown",
   "id": "475670c9",
   "metadata": {},
   "source": [
    "### 4-1. 인덱싱(Indexing) & 슬라이싱(Slicing)\n",
    "- 인덱싱(Indexing): 단일 항목을 지목 ex) df[1]\n",
    "- 슬라이싱(Slicing): 범위를 지정해 여러 항목 추출 ex) df[start:end]"
   ]
  },
  {
   "cell_type": "markdown",
   "id": "498d529c",
   "metadata": {},
   "source": [
    "### 4-2. 행단위 추출: loc & iloc\n",
    "- loc: 인덱스 이름(index label)을 기준으로 행을 선택할 때 \n",
    "- iloc: 정수형 위치(positive position)을 사용할 때"
   ]
  },
  {
   "cell_type": "markdown",
   "id": "506db494",
   "metadata": {},
   "source": [
    "### 4-3. 열단위 추출: 컬럼명\n",
    "**열 이름으로 인덱싱 => 직관적!**\n",
    "- df[열 이름]\n",
    "- df[[열 이름]]\n",
    "- df[[열 이름1, 열 이름2...]]\n",
    "- df[열 이름][행 이름]"
   ]
  },
  {
   "cell_type": "markdown",
   "id": "71ba252f",
   "metadata": {},
   "source": [
    "### 4-4. 불리언 인덱싱\n",
    "- 특정 조건에 만족하는 데이터를 추출하고 싶을 때\n",
    "- True 또는 False의 배열을 통해 데이터 필터링하는 연산"
   ]
  },
  {
   "cell_type": "markdown",
   "id": "cd248481",
   "metadata": {},
   "source": [
    "### 4-5. 인덱스 설정\n",
    "**기본값: 0부터 시작하는 정수형 인덱스**\n",
    "- df.set_index(열 이름): 기존의 열 중 하나를 인덱스로 설정\n",
    "- df.reset_index() : 인덱스를 리셋하고 기존 인덱스를 열에 추가\n",
    "- df.reindex(인덱스 배열) : 인덱스의 재배열에 따라 기존 행데이터도 인덱스를 따라감"
   ]
  },
  {
   "cell_type": "markdown",
   "id": "7a53c180",
   "metadata": {},
   "source": [
    "## 5. 데이터 조작"
   ]
  },
  {
   "cell_type": "markdown",
   "id": "7476c0f9",
   "metadata": {},
   "source": [
    "### 5-1. 데이터 추가, 삭제\n",
    "- df['새로운 열 이름'] = 리스트 : 특정 데이터 셋을 열로 추가\n",
    "- df.drop(labels, axis) : 열 삭제"
   ]
  },
  {
   "cell_type": "code",
   "execution_count": null,
   "id": "a040675d",
   "metadata": {},
   "outputs": [
    {
     "name": "stdout",
     "output_type": "stream",
     "text": [
      "    이름  점수  촤종 점수\n",
      "0  카리나  99    198\n",
      "1   윈터  60    120\n",
      "2   지젤  85    170\n",
      "3   닝닝  93    186\n",
      "    이름  촤종 점수\n",
      "0  카리나    198\n",
      "1   윈터    120\n",
      "2   지젤    170\n",
      "3   닝닝    186\n"
     ]
    }
   ],
   "source": [
    "import pandas as pd\n",
    "\n",
    "data = {\n",
    "    '이름': ['카리나', '윈터', '지젤', '닝닝'],\n",
    "    '점수': [99, 60, 85, 93]\n",
    "}\n",
    "\n",
    "df = pd.DataFrame(data)\n",
    "df['촤종 점수'] = df['점수'] * 2 # 데이터 추가\n",
    "print(df)\n",
    "df.drop('점수', axis=1, inplace=True) #데이터 삭제\n",
    "# axis = 1: 입력된 레이블을 열방향으로 탐색해 해당 열 삭제\n",
    "# inplace=True 옵션을 사용했기 때문에 원본 df에 바로 적용\n",
    "print(df)"
   ]
  },
  {
   "cell_type": "markdown",
   "id": "234fe832",
   "metadata": {},
   "source": [
    "### 5-2. 데이터 정렬\n",
    "- df.sort_index() : 인덱스를 기준으로 정렬\n",
    "- df.sort_values(by=\"열 이름\") : 특정 열의 값을 기준으로 정렬"
   ]
  },
  {
   "cell_type": "markdown",
   "id": "db35f71b",
   "metadata": {},
   "source": [
    "### 5-3. 데이터 변환\n",
    "- df[열 이름] = df[열 이름].astype(바꿀 자료형): 특정 칼럼 내 데이터의 자료형 변환\n",
    "- df.replace(바꾸고 싶은 값, 바꿀 값): 데이터의 값 자체를 변환\n",
    "- df.transpose(), df.T: 전치를 통해 데이터프레임의 행과 열을 서로 맞바꿈"
   ]
  },
  {
   "cell_type": "markdown",
   "id": "bc857172",
   "metadata": {},
   "source": [
    "### 5-4. 데이터프레임 병합\n",
    "- df = pd.concat([df1,df2], axis=0): 행방향 결합\n",
    "- df = pd.concat([df1,df2], axis=1): 열방향 결합\n",
    "- df = pd.merge(df1, df2, how = 'inner', on = '~~'): 교집합(and) 연산\n",
    "- df = pd.merge(df1, df2, how = 'outer', on = '~~'): 합집합(or) 연산\n"
   ]
  }
 ],
 "metadata": {
  "kernelspec": {
   "display_name": "base",
   "language": "python",
   "name": "python3"
  },
  "language_info": {
   "codemirror_mode": {
    "name": "ipython",
    "version": 3
   },
   "file_extension": ".py",
   "mimetype": "text/x-python",
   "name": "python",
   "nbconvert_exporter": "python",
   "pygments_lexer": "ipython3",
   "version": "3.13.5"
  }
 },
 "nbformat": 4,
 "nbformat_minor": 5
}
