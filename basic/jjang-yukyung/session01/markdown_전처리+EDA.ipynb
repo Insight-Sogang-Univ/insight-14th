{
 "cells": [
  {
   "cell_type": "markdown",
   "id": "491e048b",
   "metadata": {},
   "source": [
    "## 1. 데이터 전처리 & EDA 요약"
   ]
  },
  {
   "cell_type": "markdown",
   "id": "364d7a2a",
   "metadata": {},
   "source": [
    "   1. 데이터 전처리"
   ]
  },
  {
   "cell_type": "markdown",
   "id": "527f0f34",
   "metadata": {},
   "source": [
    "- 정의: 원시 데이터를 분석/모델링 가능하게 가공하는 과정\n",
    "- 목적\n",
    "    - 결측치, 이상치 처리\n",
    "    - 데이터 형식/타입 정리\n",
    "    - 스케일 조정 (표준화, 정규화 등)\n",
    "    - 범주형 변수 인코딩\n",
    "👉 데이터 분석의 \"청소 + 정리\" 단계!"
   ]
  },
  {
   "cell_type": "markdown",
   "id": "c72fe3ec",
   "metadata": {},
   "source": [
    "2. 데이터 불러오기 & 구조 확인\n"
   ]
  },
  {
   "cell_type": "markdown",
   "id": "42fb2e48",
   "metadata": {},
   "source": [
    "import pandas as pd\n",
    "\n",
    "df = pd.read_csv(\"data.csv\")\n",
    "\n",
    "print(df.head())       # 데이터 앞부분\n",
    "print(df.info())       # 컬럼 타입 + 결측치\n",
    "print(df.describe())   # 기초 통계"
   ]
  },
  {
   "cell_type": "markdown",
   "id": "aebe60db",
   "metadata": {},
   "source": [
    "3. 결측치 처리"
   ]
  },
  {
   "cell_type": "markdown",
   "id": "b24ded1a",
   "metadata": {},
   "source": [
    "df['col'].fillna(df['col'].mean(), inplace=True)\n",
    "df['col'].fillna(df['col'].mode()[0], inplace=True)"
   ]
  },
  {
   "cell_type": "markdown",
   "id": "a95deb1f",
   "metadata": {},
   "source": [
    "- 제거: df.dropna()\n",
    "- 대체: 평균/중앙값/최빈값\n",
    "\n",
    "but, 무조건 제거하지 말고 데이터 의미를 먼저 생각해야 됨"
   ]
  },
  {
   "cell_type": "markdown",
   "id": "7f40990a",
   "metadata": {},
   "source": [
    "4. 이상치(Outlier) 처리"
   ]
  },
  {
   "cell_type": "markdown",
   "id": "f34a54a9",
   "metadata": {},
   "source": [
    "#IQR 방식\n",
    "\n",
    "Q1 = df['col'].quantile(0.25)\n",
    "Q3 = df['col'].quantile(0.75)\n",
    "IQR = Q3 - Q1\n",
    "outlier = df[(df['col'] < Q1 - 1.5*IQR) | (df['col'] > Q3 + 1.5*IQR)]\n"
   ]
  },
  {
   "cell_type": "markdown",
   "id": "54d24c0a",
   "metadata": {},
   "source": [
    "#시각화 \n",
    "\n",
    "import seaborn as sns\n",
    "sns.boxplot(x=df['col'])\n"
   ]
  },
  {
   "cell_type": "markdown",
   "id": "81bbfb4a",
   "metadata": {},
   "source": [
    "5. 중복값(Duplicates) 처리"
   ]
  },
  {
   "cell_type": "markdown",
   "id": "f81f57dd",
   "metadata": {},
   "source": [
    "df.duplicated().sum()   # 중복행 개수 확인\n",
    "df = df.drop_duplicates()\n"
   ]
  },
  {
   "cell_type": "markdown",
   "id": "16501d7f",
   "metadata": {},
   "source": [
    "6. 데이터 변환(Transformation)"
   ]
  },
  {
   "cell_type": "markdown",
   "id": "c86d86de",
   "metadata": {},
   "source": [
    "스케일링\n",
    "- 표준화: 평균=0, 표준편차=1\n",
    "- 정규화: 0~1 범위로 조정"
   ]
  },
  {
   "cell_type": "markdown",
   "id": "5d482436",
   "metadata": {},
   "source": [
    "from sklearn.preprocessing import StandardScaler, MinMaxScaler\n",
    "\n",
    "scaler = StandardScaler()\n",
    "df[['c1','c2']] = scaler.fit_transform(df[['c1','c2']])\n",
    "\n",
    "scaler = MinMaxScaler()\n",
    "df[['c1','c2']] = scaler.fit_transform(df[['c1','c2']])\n"
   ]
  },
  {
   "cell_type": "markdown",
   "id": "fa7965bc",
   "metadata": {},
   "source": [
    "인코딩\n",
    "- Label 인코딩 (순서형 변수)\n",
    "from sklearn.preprocessing import LabelEncoder\n",
    "le = LabelEncoder()\n",
    "df['cat'] = le.fit_transform(df['cat'])\n",
    "\n",
    "- one-hot 인코딩 (명목형 변수)\n",
    "pd.get_dummies(df, columns=['cat'])\n"
   ]
  },
  {
   "cell_type": "markdown",
   "id": "45b38a05",
   "metadata": {},
   "source": [
    "7. EDA (탐색적 데이터 분석)"
   ]
  },
  {
   "cell_type": "markdown",
   "id": "fc3cfafd",
   "metadata": {},
   "source": [
    "# 기초 통계\n",
    "\n",
    "df.describe()\n",
    "df['col'].value_counts()\n"
   ]
  },
  {
   "cell_type": "markdown",
   "id": "c9eee4e6",
   "metadata": {},
   "source": [
    "# 단변량 분석\n",
    "- 히스토그램\n",
    "  import matplotlib.pyplot as plt\n",
    "df['col'].hist(bins=20)\n",
    "plt.show()\n",
    "\n",
    "- KDA Plot\n",
    "  import seaborn as sns\n",
    "sns.histplot(df['col'], kde=True)\n",
    "\n",
    "- Boxplot\n",
    "  sns.boxplot(x=df['col'])\n"
   ]
  },
  {
   "cell_type": "markdown",
   "id": "29039770",
   "metadata": {},
   "source": [
    "# 전처리 + EDA 워크 플로우"
   ]
  },
  {
   "cell_type": "markdown",
   "id": "9b6e5540",
   "metadata": {},
   "source": [
    "1. 데이터 불러오기\n",
    "2. 구조 & 기본 통계 확인\n",
    "3. 결측치 처리\n",
    "4. 이상치/중복값 처리\n",
    "5. 단일 변수 분포 확인\n",
    "6. 변수 간 관계 (scatter, heatmap, groupby)\n",
    "7. 스케일링 / 인코딩\n",
    "8. 최종 데이터셋 생성"
   ]
  },
  {
   "cell_type": "markdown",
   "id": "a9dd5bba",
   "metadata": {},
   "source": [
    "# 주의할 점"
   ]
  },
  {
   "cell_type": "markdown",
   "id": "c968949c",
   "metadata": {},
   "source": [
    "- “무조건 dropna()” → 금물! 데이터 의미 반드시 고려\n",
    "- 이상치는 단순 오류일 수도, 중요한 insight일 수도 있음\n",
    "- 시각화는 “그림 보기”가 아니라 “데이터의 이야기 찾기” 과정\n",
    "- 전처리 과정을 재현 가능하게 코드/노트로 기록할 것"
   ]
  },
  {
   "cell_type": "code",
   "execution_count": null,
   "id": "92620625",
   "metadata": {},
   "outputs": [],
   "source": []
  }
 ],
 "metadata": {
  "kernelspec": {
   "display_name": "base",
   "language": "python",
   "name": "python3"
  },
  "language_info": {
   "codemirror_mode": {
    "name": "ipython",
    "version": 3
   },
   "file_extension": ".py",
   "mimetype": "text/x-python",
   "name": "python",
   "nbconvert_exporter": "python",
   "pygments_lexer": "ipython3",
   "version": "3.12.7"
  }
 },
 "nbformat": 4,
 "nbformat_minor": 5
}
