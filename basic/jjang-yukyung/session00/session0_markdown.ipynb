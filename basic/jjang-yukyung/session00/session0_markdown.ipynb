{
 "cells": [
  {
   "cell_type": "markdown",
   "id": "0c642d7a",
   "metadata": {},
   "source": [
    "## 📌 판다스 정리"
   ]
  },
  {
   "cell_type": "markdown",
   "id": "fa18c1f4",
   "metadata": {},
   "source": [
    "## 1. Pandas란?\n",
    "- **Python 데이터 분석 라이브러리**\n",
    "- 구조화된 데이터(엑셀, CSV, DB, 표 형태 등)를 쉽게 다룰 수 있도록 도와줌\n",
    "- 주로 **데이터 전처리, 탐색, 분석** 단계에서 많이 사용"
   ]
  },
  {
   "cell_type": "markdown",
   "id": "5d9a6f6f",
   "metadata": {},
   "source": [
    "## 2. Pandas의 주요 자료 구조\n",
    "- **Series**\n",
    "  - 1차원 데이터 (리스트와 비슷)\n",
    "  - 데이터 값 + 인덱스로 구성\n",
    "  - 예: 한 학생의 성적 목록\n",
    "\n",
    "- **DataFrame**\n",
    "  - 2차원 데이터 (엑셀 시트와 비슷)\n",
    "  - 행(Row) + 열(Column)로 이루어진 표 형식\n",
    "  - 예: 여러 학생의 이름, 성적, 학년 정보"
   ]
  },
  {
   "cell_type": "markdown",
   "id": "aa37c88a",
   "metadata": {},
   "source": [
    "## 3. 기본 사용법\n",
    "```python\n",
    "import pandas as pd"
   ]
  },
  {
   "cell_type": "markdown",
   "id": "e6a010dd",
   "metadata": {},
   "source": [
    "## 4. 데이터 선택\n",
    "\n",
    "- 열 선택: df['열이름']\n",
    "- 여러 열 선택: df[['열1', '열2']]\n",
    "- 행 선택: df.iloc[0] (인덱스 번호 기준)\n",
    "- 조건 선택: df[df['열이름'] > 10]"
   ]
  },
  {
   "cell_type": "markdown",
   "id": "2ce76182",
   "metadata": {},
   "source": [
    "## 5. 자주 쓸 수 있는 기능\n",
    "\n",
    "- 결측치 확인: df.isnull().sum()\n",
    "- 결측치 제거: df.dropna()\n",
    "- 값 채우기: df.fillna(값)\n",
    "- 정렬: df.sort_values('열이름')\n",
    "- 그룹화: df.groupby('열이름')['다른열'].mean()"
   ]
  },
  {
   "cell_type": "markdown",
   "id": "17dfffbc",
   "metadata": {},
   "source": []
  }
 ],
 "metadata": {
  "kernelspec": {
   "display_name": "base",
   "language": "python",
   "name": "python3"
  },
  "language_info": {
   "codemirror_mode": {
    "name": "ipython",
    "version": 3
   },
   "file_extension": ".py",
   "mimetype": "text/x-python",
   "name": "python",
   "nbconvert_exporter": "python",
   "pygments_lexer": "ipython3",
   "version": "3.12.7"
  }
 },
 "nbformat": 4,
 "nbformat_minor": 5
}
