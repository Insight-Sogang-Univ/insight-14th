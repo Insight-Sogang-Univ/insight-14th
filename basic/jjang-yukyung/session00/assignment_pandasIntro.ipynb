{
 "cells": [
  {
   "cell_type": "markdown",
   "metadata": {},
   "source": [
    "# 1. Pandas란?\n",
    "- 데이터 분석에 특화된 파이썬 라이브러리\n",
    "- 행과 열로 이루어진 데이터 객체를 만들어 다룰 수 있게 되며, 보다 안정적으로 대용량의 데이터들을 처리하는데 매우 편리한 도구\n",
    "- Numpy의 확장판으로, `Numpy 기능` + `구조화 된 데이터 처리 기능`을 보유함"
   ]
  },
  {
   "cell_type": "markdown",
   "metadata": {},
   "source": [
    "## 1-1. Pandas의 주요 데이터 구조\n",
    "\n",
    "<img src = 'https://dandyrilla.github.io/images/2017-08-12/fig0.png'>\n",
    "\n",
    "|이름|차원|설명|\n",
    "|:-----------:|:-----------:|:-----------:|\n",
    "|Series|1차원|균일한 유형의 배열로 표시된 1차원 데이터|\n",
    "|DataFrame|2차원|인덱스가 같은 하나 이상의 Series가 모여진 2차원 표 형식의 데이터|\n",
    "\n",
    "> Pandas의 핵심은 DataFrame!"
   ]
  },
  {
   "cell_type": "markdown",
   "metadata": {},
   "source": [
    "# 2. DataFrame 생성"
   ]
  },
  {
   "cell_type": "markdown",
   "metadata": {},
   "source": [
    "## 2-1. 라이브러리 불러오기"
   ]
  },
  {
   "cell_type": "code",
   "execution_count": 1,
   "metadata": {
    "ExecuteTime": {
     "end_time": "2024-09-09T03:11:49.158397Z",
     "start_time": "2024-09-09T03:11:48.542588Z"
    }
   },
   "outputs": [],
   "source": [
    "import pandas as pd"
   ]
  },
  {
   "cell_type": "markdown",
   "metadata": {},
   "source": [
    "## 2-2. 데이터프레임 만들기 "
   ]
  },
  {
   "cell_type": "code",
   "execution_count": 2,
   "metadata": {
    "ExecuteTime": {
     "end_time": "2024-09-09T03:11:50.185158Z",
     "start_time": "2024-09-09T03:11:50.172048Z"
    }
   },
   "outputs": [
    {
     "data": {
      "text/html": [
       "<div>\n",
       "<style scoped>\n",
       "    .dataframe tbody tr th:only-of-type {\n",
       "        vertical-align: middle;\n",
       "    }\n",
       "\n",
       "    .dataframe tbody tr th {\n",
       "        vertical-align: top;\n",
       "    }\n",
       "\n",
       "    .dataframe thead th {\n",
       "        text-align: right;\n",
       "    }\n",
       "</style>\n",
       "<table border=\"1\" class=\"dataframe\">\n",
       "  <thead>\n",
       "    <tr style=\"text-align: right;\">\n",
       "      <th></th>\n",
       "    </tr>\n",
       "  </thead>\n",
       "  <tbody>\n",
       "  </tbody>\n",
       "</table>\n",
       "</div>"
      ],
      "text/plain": [
       "Empty DataFrame\n",
       "Columns: []\n",
       "Index: []"
      ]
     },
     "execution_count": 2,
     "metadata": {},
     "output_type": "execute_result"
    }
   ],
   "source": [
    "# 괄호 안에서 Shift + Tab을 눌러보세요!\n",
    "pd.DataFrame()"
   ]
  },
  {
   "cell_type": "markdown",
   "metadata": {},
   "source": [
    "**DataFrame의 속성값**\n",
    "```python\n",
    "pd.DataFrame(data = None, index = None, columns = None, dtype = None, copy = False)\n",
    "```\n",
    "- data : DataFrame을 생성할 데이터\n",
    "- index : index에 대한 정보, 미입력시 0부터 순차적으로 부여 (Optional)\n",
    "- columns : 열에 대한 이름값, 미입력시 0부터 순차적으로 부여 (Optional)\n",
    "- dtype : 각 column의 데이터 타입 명시, 미입력시 자체적으로 판단 (Optional)"
   ]
  },
  {
   "cell_type": "markdown",
   "metadata": {},
   "source": [
    "#### [2차원 리스트로 데이터프레임 만들기]"
   ]
  },
  {
   "cell_type": "code",
   "execution_count": null,
   "metadata": {
    "ExecuteTime": {
     "end_time": "2024-09-09T03:12:02.187385Z",
     "start_time": "2024-09-09T03:12:02.159006Z"
    }
   },
   "outputs": [
    {
     "data": {
      "text/html": [
       "<div>\n",
       "<style scoped>\n",
       "    .dataframe tbody tr th:only-of-type {\n",
       "        vertical-align: middle;\n",
       "    }\n",
       "\n",
       "    .dataframe tbody tr th {\n",
       "        vertical-align: top;\n",
       "    }\n",
       "\n",
       "    .dataframe thead th {\n",
       "        text-align: right;\n",
       "    }\n",
       "</style>\n",
       "<table border=\"1\" class=\"dataframe\">\n",
       "  <thead>\n",
       "    <tr style=\"text-align: right;\">\n",
       "      <th></th>\n",
       "      <th>학번</th>\n",
       "      <th>전공</th>\n",
       "      <th>복수전공</th>\n",
       "      <th>역할</th>\n",
       "    </tr>\n",
       "    <tr>\n",
       "      <th>이름</th>\n",
       "      <th></th>\n",
       "      <th></th>\n",
       "      <th></th>\n",
       "      <th></th>\n",
       "    </tr>\n",
       "  </thead>\n",
       "  <tbody>\n",
       "    <tr>\n",
       "      <th>윤해민</th>\n",
       "      <td>21</td>\n",
       "      <td>경영</td>\n",
       "      <td>인공지능융합</td>\n",
       "      <td>회장</td>\n",
       "    </tr>\n",
       "    <tr>\n",
       "      <th>황종빈</th>\n",
       "      <td>20</td>\n",
       "      <td>미엔</td>\n",
       "      <td>컴공</td>\n",
       "      <td>교육팀장</td>\n",
       "    </tr>\n",
       "    <tr>\n",
       "      <th>엄태림</th>\n",
       "      <td>20</td>\n",
       "      <td>심리</td>\n",
       "      <td>빅사</td>\n",
       "      <td>교육팀원</td>\n",
       "    </tr>\n",
       "    <tr>\n",
       "      <th>이지현</th>\n",
       "      <td>21</td>\n",
       "      <td>물리</td>\n",
       "      <td></td>\n",
       "      <td>교육팀원</td>\n",
       "    </tr>\n",
       "    <tr>\n",
       "      <th>김찬우</th>\n",
       "      <td>21</td>\n",
       "      <td>경영</td>\n",
       "      <td>경제</td>\n",
       "      <td>교육팀원</td>\n",
       "    </tr>\n",
       "  </tbody>\n",
       "</table>\n",
       "</div>"
      ],
      "text/plain": [
       "     학번  전공    복수전공    역할\n",
       "이름                       \n",
       "윤해민  21  경영  인공지능융합    회장\n",
       "황종빈  20  미엔      컴공  교육팀장\n",
       "엄태림  20  심리      빅사  교육팀원\n",
       "이지현  21  물리          교육팀원\n",
       "김찬우  21  경영      경제  교육팀원"
      ]
     },
     "execution_count": 3,
     "metadata": {},
     "output_type": "execute_result"
    }
   ],
   "source": [
    "lst = [['윤해민', 21, '경영', '인공지능융합', '회장'], \n",
    "       ['황종빈', 20, '미엔', '컴공', '교육팀장'],\n",
    "       ['엄태림', 20, '심리', '빅사', '교육팀원'], \n",
    "       ['이지현', 21, '물리', '', '교육팀원'],\n",
    "       ['김찬우', 21, '경영', '경제', '교육팀원']]\n",
    "\n",
    "df = pd.***(***, columns=['이름', '학번', '전공', '복수전공', '역할'])\n",
    "df = df.set_index('이름')\n",
    "\n",
    "df"
   ]
  },
  {
   "cell_type": "markdown",
   "metadata": {},
   "source": [
    "#### [사전으로 데이터프레임 만들기]"
   ]
  },
  {
   "cell_type": "code",
   "execution_count": null,
   "metadata": {
    "ExecuteTime": {
     "end_time": "2024-09-09T03:12:03.124472Z",
     "start_time": "2024-09-09T03:12:03.112247Z"
    }
   },
   "outputs": [
    {
     "data": {
      "text/html": [
       "<div>\n",
       "<style scoped>\n",
       "    .dataframe tbody tr th:only-of-type {\n",
       "        vertical-align: middle;\n",
       "    }\n",
       "\n",
       "    .dataframe tbody tr th {\n",
       "        vertical-align: top;\n",
       "    }\n",
       "\n",
       "    .dataframe thead th {\n",
       "        text-align: right;\n",
       "    }\n",
       "</style>\n",
       "<table border=\"1\" class=\"dataframe\">\n",
       "  <thead>\n",
       "    <tr style=\"text-align: right;\">\n",
       "      <th></th>\n",
       "      <th>학번</th>\n",
       "      <th>전공</th>\n",
       "      <th>복수전공</th>\n",
       "      <th>역할</th>\n",
       "    </tr>\n",
       "    <tr>\n",
       "      <th>이름</th>\n",
       "      <th></th>\n",
       "      <th></th>\n",
       "      <th></th>\n",
       "      <th></th>\n",
       "    </tr>\n",
       "  </thead>\n",
       "  <tbody>\n",
       "    <tr>\n",
       "      <th>윤해민</th>\n",
       "      <td>21</td>\n",
       "      <td>경영</td>\n",
       "      <td>인공지능융합</td>\n",
       "      <td>회장</td>\n",
       "    </tr>\n",
       "    <tr>\n",
       "      <th>황종빈</th>\n",
       "      <td>20</td>\n",
       "      <td>미엔</td>\n",
       "      <td>컴공</td>\n",
       "      <td>교육팀장</td>\n",
       "    </tr>\n",
       "    <tr>\n",
       "      <th>엄태림</th>\n",
       "      <td>20</td>\n",
       "      <td>심리</td>\n",
       "      <td>빅사</td>\n",
       "      <td>교육팀원</td>\n",
       "    </tr>\n",
       "    <tr>\n",
       "      <th>이지현</th>\n",
       "      <td>21</td>\n",
       "      <td>물리</td>\n",
       "      <td></td>\n",
       "      <td>교육팀원</td>\n",
       "    </tr>\n",
       "    <tr>\n",
       "      <th>김찬우</th>\n",
       "      <td>21</td>\n",
       "      <td>경영</td>\n",
       "      <td>경제</td>\n",
       "      <td>교육팀원</td>\n",
       "    </tr>\n",
       "  </tbody>\n",
       "</table>\n",
       "</div>"
      ],
      "text/plain": [
       "     학번  전공    복수전공    역할\n",
       "이름                       \n",
       "윤해민  21  경영  인공지능융합    회장\n",
       "황종빈  20  미엔      컴공  교육팀장\n",
       "엄태림  20  심리      빅사  교육팀원\n",
       "이지현  21  물리          교육팀원\n",
       "김찬우  21  경영      경제  교육팀원"
      ]
     },
     "execution_count": 4,
     "metadata": {},
     "output_type": "execute_result"
    }
   ],
   "source": [
    "dic = {\n",
    "    '이름': ['윤해민', '황종빈', '엄태림', '이지현', '김찬우'],\n",
    "    '학번': [21, 20, 20, 21, 21],\n",
    "    '전공': ['경영', '미엔', '심리', '물리', '경영'],\n",
    "    '복수전공': ['인공지능융합', '컴공', '빅사', '', '경제'],\n",
    "    '역할': ['회장', '교육팀장', '교육팀원', '교육팀원', '교육팀원']\n",
    "}\n",
    "\n",
    "df2 = pd.DataFrame(***)\n",
    "df2 = df2.set_index('이름')\n",
    "\n",
    "df2"
   ]
  },
  {
   "cell_type": "markdown",
   "metadata": {},
   "source": [
    "## 2-3. 데이터프레임 타입 확인 "
   ]
  },
  {
   "cell_type": "code",
   "execution_count": 5,
   "metadata": {
    "ExecuteTime": {
     "end_time": "2024-09-09T03:12:03.591373Z",
     "start_time": "2024-09-09T03:12:03.585002Z"
    }
   },
   "outputs": [
    {
     "data": {
      "text/plain": [
       "pandas.core.frame.DataFrame"
      ]
     },
     "execution_count": 5,
     "metadata": {},
     "output_type": "execute_result"
    }
   ],
   "source": [
    "type(df)"
   ]
  },
  {
   "cell_type": "code",
   "execution_count": 6,
   "metadata": {
    "ExecuteTime": {
     "end_time": "2024-09-09T03:12:03.918104Z",
     "start_time": "2024-09-09T03:12:03.911793Z"
    }
   },
   "outputs": [
    {
     "data": {
      "text/plain": [
       "학번       int64\n",
       "전공      object\n",
       "복수전공    object\n",
       "역할      object\n",
       "dtype: object"
      ]
     },
     "execution_count": 6,
     "metadata": {},
     "output_type": "execute_result"
    }
   ],
   "source": [
    "# 컬럼별 데이터 타입 확인\n",
    "# 각 컬럼은 다양한 데이터 타입으로 구성되며, 같은 컬럼의 데이터 타입은 동일하다\n",
    "df.dtypes"
   ]
  },
  {
   "cell_type": "markdown",
   "metadata": {},
   "source": [
    "# 3. DataFrame 접근"
   ]
  },
  {
   "cell_type": "markdown",
   "metadata": {},
   "source": [
    "## 3-1. head, tail로 접근하기"
   ]
  },
  {
   "cell_type": "markdown",
   "metadata": {},
   "source": [
    "- `head(개수)` : 위에서부터 개수만큼의 데이터 출력\n",
    "- `tail(개수)` : 밑에서부터 개수만큼의 데이터 출력"
   ]
  },
  {
   "cell_type": "code",
   "execution_count": null,
   "metadata": {
    "ExecuteTime": {
     "end_time": "2024-09-09T03:12:04.694371Z",
     "start_time": "2024-09-09T03:12:04.687753Z"
    }
   },
   "outputs": [
    {
     "data": {
      "text/html": [
       "<div>\n",
       "<style scoped>\n",
       "    .dataframe tbody tr th:only-of-type {\n",
       "        vertical-align: middle;\n",
       "    }\n",
       "\n",
       "    .dataframe tbody tr th {\n",
       "        vertical-align: top;\n",
       "    }\n",
       "\n",
       "    .dataframe thead th {\n",
       "        text-align: right;\n",
       "    }\n",
       "</style>\n",
       "<table border=\"1\" class=\"dataframe\">\n",
       "  <thead>\n",
       "    <tr style=\"text-align: right;\">\n",
       "      <th></th>\n",
       "      <th>학번</th>\n",
       "      <th>전공</th>\n",
       "      <th>복수전공</th>\n",
       "      <th>역할</th>\n",
       "    </tr>\n",
       "    <tr>\n",
       "      <th>이름</th>\n",
       "      <th></th>\n",
       "      <th></th>\n",
       "      <th></th>\n",
       "      <th></th>\n",
       "    </tr>\n",
       "  </thead>\n",
       "  <tbody>\n",
       "    <tr>\n",
       "      <th>윤해민</th>\n",
       "      <td>21</td>\n",
       "      <td>경영</td>\n",
       "      <td>인공지능융합</td>\n",
       "      <td>회장</td>\n",
       "    </tr>\n",
       "    <tr>\n",
       "      <th>황종빈</th>\n",
       "      <td>20</td>\n",
       "      <td>미엔</td>\n",
       "      <td>컴공</td>\n",
       "      <td>교육팀장</td>\n",
       "    </tr>\n",
       "    <tr>\n",
       "      <th>엄태림</th>\n",
       "      <td>20</td>\n",
       "      <td>심리</td>\n",
       "      <td>빅사</td>\n",
       "      <td>교육팀원</td>\n",
       "    </tr>\n",
       "  </tbody>\n",
       "</table>\n",
       "</div>"
      ],
      "text/plain": [
       "     학번  전공    복수전공    역할\n",
       "이름                       \n",
       "윤해민  21  경영  인공지능융합    회장\n",
       "황종빈  20  미엔      컴공  교육팀장\n",
       "엄태림  20  심리      빅사  교육팀원"
      ]
     },
     "execution_count": 7,
     "metadata": {},
     "output_type": "execute_result"
    }
   ],
   "source": [
    "df.***(3)"
   ]
  },
  {
   "cell_type": "code",
   "execution_count": 8,
   "metadata": {
    "ExecuteTime": {
     "end_time": "2024-09-09T03:12:04.889468Z",
     "start_time": "2024-09-09T03:12:04.880126Z"
    }
   },
   "outputs": [
    {
     "data": {
      "text/html": [
       "<div>\n",
       "<style scoped>\n",
       "    .dataframe tbody tr th:only-of-type {\n",
       "        vertical-align: middle;\n",
       "    }\n",
       "\n",
       "    .dataframe tbody tr th {\n",
       "        vertical-align: top;\n",
       "    }\n",
       "\n",
       "    .dataframe thead th {\n",
       "        text-align: right;\n",
       "    }\n",
       "</style>\n",
       "<table border=\"1\" class=\"dataframe\">\n",
       "  <thead>\n",
       "    <tr style=\"text-align: right;\">\n",
       "      <th></th>\n",
       "      <th>학번</th>\n",
       "      <th>전공</th>\n",
       "      <th>복수전공</th>\n",
       "      <th>역할</th>\n",
       "    </tr>\n",
       "    <tr>\n",
       "      <th>이름</th>\n",
       "      <th></th>\n",
       "      <th></th>\n",
       "      <th></th>\n",
       "      <th></th>\n",
       "    </tr>\n",
       "  </thead>\n",
       "  <tbody>\n",
       "    <tr>\n",
       "      <th>윤해민</th>\n",
       "      <td>21</td>\n",
       "      <td>경영</td>\n",
       "      <td>인공지능융합</td>\n",
       "      <td>회장</td>\n",
       "    </tr>\n",
       "    <tr>\n",
       "      <th>황종빈</th>\n",
       "      <td>20</td>\n",
       "      <td>미엔</td>\n",
       "      <td>컴공</td>\n",
       "      <td>교육팀장</td>\n",
       "    </tr>\n",
       "    <tr>\n",
       "      <th>엄태림</th>\n",
       "      <td>20</td>\n",
       "      <td>심리</td>\n",
       "      <td>빅사</td>\n",
       "      <td>교육팀원</td>\n",
       "    </tr>\n",
       "    <tr>\n",
       "      <th>이지현</th>\n",
       "      <td>21</td>\n",
       "      <td>물리</td>\n",
       "      <td></td>\n",
       "      <td>교육팀원</td>\n",
       "    </tr>\n",
       "    <tr>\n",
       "      <th>김찬우</th>\n",
       "      <td>21</td>\n",
       "      <td>경영</td>\n",
       "      <td>경제</td>\n",
       "      <td>교육팀원</td>\n",
       "    </tr>\n",
       "  </tbody>\n",
       "</table>\n",
       "</div>"
      ],
      "text/plain": [
       "     학번  전공    복수전공    역할\n",
       "이름                       \n",
       "윤해민  21  경영  인공지능융합    회장\n",
       "황종빈  20  미엔      컴공  교육팀장\n",
       "엄태림  20  심리      빅사  교육팀원\n",
       "이지현  21  물리          교육팀원\n",
       "김찬우  21  경영      경제  교육팀원"
      ]
     },
     "execution_count": 8,
     "metadata": {},
     "output_type": "execute_result"
    }
   ],
   "source": [
    "df.tail() #개수를 쓰지 않을 경우 5개만 출력"
   ]
  },
  {
   "cell_type": "markdown",
   "metadata": {},
   "source": [
    "## 3-2. 행명, 열명으로 접근하기: loc\n",
    ": `df.loc['행명', '열명']`\n",
    "\n",
    "행: row / 열: column\n",
    "\n",
    "|접근 방법|사용 방법|\n",
    "|:--------------------------:|:-----------:|\n",
    "|행명|`df.loc[\"row4\"]`|\n",
    "|행명 리스트|`df.loc[[\"row3\", \"row4\", \"row5\"]]`|\n",
    "|행명 슬라이싱|`df[\"row3\" : \"row5\"]`|\n",
    "|열명|`df.loc[ : , \"col1\"]`|`df[\"col1\"]`|\n",
    "|열명 리스트|`df.loc[ : , [\"col3\", \"col4\", \"col5\"]` or `df[[\"col3\", \"col4\", \"col5\"]]`|\n",
    "|열명 슬라이싱|`df.loc[ : , [\"col3\" : \"col5\"]`|"
   ]
  },
  {
   "cell_type": "markdown",
   "metadata": {},
   "source": [
    "#### [값 1개 인덱싱]"
   ]
  },
  {
   "cell_type": "code",
   "execution_count": null,
   "metadata": {
    "ExecuteTime": {
     "end_time": "2024-09-09T03:12:05.435711Z",
     "start_time": "2024-09-09T03:12:05.430650Z"
    }
   },
   "outputs": [
    {
     "data": {
      "text/plain": [
       "'회장'"
      ]
     },
     "execution_count": 9,
     "metadata": {},
     "output_type": "execute_result"
    }
   ],
   "source": [
    "df.***['윤해민', '역할']"
   ]
  },
  {
   "cell_type": "code",
   "execution_count": 10,
   "metadata": {
    "ExecuteTime": {
     "end_time": "2024-09-09T03:12:05.777358Z",
     "start_time": "2024-09-09T03:12:05.766014Z"
    }
   },
   "outputs": [
    {
     "data": {
      "text/html": [
       "<div>\n",
       "<style scoped>\n",
       "    .dataframe tbody tr th:only-of-type {\n",
       "        vertical-align: middle;\n",
       "    }\n",
       "\n",
       "    .dataframe tbody tr th {\n",
       "        vertical-align: top;\n",
       "    }\n",
       "\n",
       "    .dataframe thead th {\n",
       "        text-align: right;\n",
       "    }\n",
       "</style>\n",
       "<table border=\"1\" class=\"dataframe\">\n",
       "  <thead>\n",
       "    <tr style=\"text-align: right;\">\n",
       "      <th></th>\n",
       "      <th>전공</th>\n",
       "    </tr>\n",
       "    <tr>\n",
       "      <th>이름</th>\n",
       "      <th></th>\n",
       "    </tr>\n",
       "  </thead>\n",
       "  <tbody>\n",
       "    <tr>\n",
       "      <th>윤해민</th>\n",
       "      <td>경영</td>\n",
       "    </tr>\n",
       "    <tr>\n",
       "      <th>황종빈</th>\n",
       "      <td>미엔</td>\n",
       "    </tr>\n",
       "    <tr>\n",
       "      <th>엄태림</th>\n",
       "      <td>심리</td>\n",
       "    </tr>\n",
       "    <tr>\n",
       "      <th>이지현</th>\n",
       "      <td>물리</td>\n",
       "    </tr>\n",
       "    <tr>\n",
       "      <th>김찬우</th>\n",
       "      <td>경영</td>\n",
       "    </tr>\n",
       "  </tbody>\n",
       "</table>\n",
       "</div>"
      ],
      "text/plain": [
       "     전공\n",
       "이름     \n",
       "윤해민  경영\n",
       "황종빈  미엔\n",
       "엄태림  심리\n",
       "이지현  물리\n",
       "김찬우  경영"
      ]
     },
     "execution_count": 10,
     "metadata": {},
     "output_type": "execute_result"
    }
   ],
   "source": [
    "df[['전공']]"
   ]
  },
  {
   "cell_type": "markdown",
   "metadata": {},
   "source": [
    "#### [한 줄 인덱싱]\n",
    "- 하나의 index만 조회 할 경우 Series Type으로 출력"
   ]
  },
  {
   "cell_type": "code",
   "execution_count": null,
   "metadata": {
    "ExecuteTime": {
     "end_time": "2024-09-09T03:12:06.152502Z",
     "start_time": "2024-09-09T03:12:06.146504Z"
    }
   },
   "outputs": [
    {
     "data": {
      "text/plain": [
       "학번        20\n",
       "전공        미엔\n",
       "복수전공      컴공\n",
       "역할      교육팀장\n",
       "Name: 황종빈, dtype: object"
      ]
     },
     "execution_count": 11,
     "metadata": {},
     "output_type": "execute_result"
    }
   ],
   "source": [
    "# 행명으로 접근하기\n",
    "# 컬럼 전체를 지정한다는 의미로 : 를 입력함\n",
    "df.***['황종빈', *** ]  # df.loc['황종빈']"
   ]
  },
  {
   "cell_type": "code",
   "execution_count": null,
   "metadata": {
    "ExecuteTime": {
     "end_time": "2024-09-09T03:12:06.335743Z",
     "start_time": "2024-09-09T03:12:06.329331Z"
    }
   },
   "outputs": [
    {
     "data": {
      "text/plain": [
       "이름\n",
       "윤해민    경영\n",
       "황종빈    미엔\n",
       "엄태림    심리\n",
       "이지현    물리\n",
       "김찬우    경영\n",
       "Name: 전공, dtype: object"
      ]
     },
     "execution_count": 12,
     "metadata": {},
     "output_type": "execute_result"
    }
   ],
   "source": [
    "# 열명으로 접근하기\n",
    "df.***[ *** , '전공']  #df['전공']  #df.전공"
   ]
  },
  {
   "cell_type": "markdown",
   "metadata": {},
   "source": [
    "#### [여러 줄 인덱싱]\n",
    "- 여러 index를 조회 할 경우 DataFrame Type으로 출력"
   ]
  },
  {
   "cell_type": "code",
   "execution_count": null,
   "metadata": {
    "ExecuteTime": {
     "end_time": "2024-09-09T03:12:06.700981Z",
     "start_time": "2024-09-09T03:12:06.690719Z"
    }
   },
   "outputs": [
    {
     "data": {
      "text/html": [
       "<div>\n",
       "<style scoped>\n",
       "    .dataframe tbody tr th:only-of-type {\n",
       "        vertical-align: middle;\n",
       "    }\n",
       "\n",
       "    .dataframe tbody tr th {\n",
       "        vertical-align: top;\n",
       "    }\n",
       "\n",
       "    .dataframe thead th {\n",
       "        text-align: right;\n",
       "    }\n",
       "</style>\n",
       "<table border=\"1\" class=\"dataframe\">\n",
       "  <thead>\n",
       "    <tr style=\"text-align: right;\">\n",
       "      <th></th>\n",
       "      <th>학번</th>\n",
       "      <th>전공</th>\n",
       "      <th>복수전공</th>\n",
       "      <th>역할</th>\n",
       "    </tr>\n",
       "    <tr>\n",
       "      <th>이름</th>\n",
       "      <th></th>\n",
       "      <th></th>\n",
       "      <th></th>\n",
       "      <th></th>\n",
       "    </tr>\n",
       "  </thead>\n",
       "  <tbody>\n",
       "    <tr>\n",
       "      <th>엄태림</th>\n",
       "      <td>20</td>\n",
       "      <td>심리</td>\n",
       "      <td>빅사</td>\n",
       "      <td>교육팀원</td>\n",
       "    </tr>\n",
       "    <tr>\n",
       "      <th>이지현</th>\n",
       "      <td>21</td>\n",
       "      <td>물리</td>\n",
       "      <td></td>\n",
       "      <td>교육팀원</td>\n",
       "    </tr>\n",
       "  </tbody>\n",
       "</table>\n",
       "</div>"
      ],
      "text/plain": [
       "     학번  전공 복수전공    역할\n",
       "이름                    \n",
       "엄태림  20  심리   빅사  교육팀원\n",
       "이지현  21  물리       교육팀원"
      ]
     },
     "execution_count": 13,
     "metadata": {},
     "output_type": "execute_result"
    }
   ],
   "source": [
    "df.***[['엄태림', '이지현'], *** ]  #df.loc[['엄태림', '이지현']]"
   ]
  },
  {
   "cell_type": "code",
   "execution_count": null,
   "metadata": {
    "ExecuteTime": {
     "end_time": "2024-09-09T03:12:06.900376Z",
     "start_time": "2024-09-09T03:12:06.890724Z"
    }
   },
   "outputs": [
    {
     "data": {
      "text/html": [
       "<div>\n",
       "<style scoped>\n",
       "    .dataframe tbody tr th:only-of-type {\n",
       "        vertical-align: middle;\n",
       "    }\n",
       "\n",
       "    .dataframe tbody tr th {\n",
       "        vertical-align: top;\n",
       "    }\n",
       "\n",
       "    .dataframe thead th {\n",
       "        text-align: right;\n",
       "    }\n",
       "</style>\n",
       "<table border=\"1\" class=\"dataframe\">\n",
       "  <thead>\n",
       "    <tr style=\"text-align: right;\">\n",
       "      <th></th>\n",
       "      <th>전공</th>\n",
       "      <th>복수전공</th>\n",
       "    </tr>\n",
       "    <tr>\n",
       "      <th>이름</th>\n",
       "      <th></th>\n",
       "      <th></th>\n",
       "    </tr>\n",
       "  </thead>\n",
       "  <tbody>\n",
       "    <tr>\n",
       "      <th>윤해민</th>\n",
       "      <td>경영</td>\n",
       "      <td>인공지능융합</td>\n",
       "    </tr>\n",
       "    <tr>\n",
       "      <th>황종빈</th>\n",
       "      <td>미엔</td>\n",
       "      <td>컴공</td>\n",
       "    </tr>\n",
       "    <tr>\n",
       "      <th>엄태림</th>\n",
       "      <td>심리</td>\n",
       "      <td>빅사</td>\n",
       "    </tr>\n",
       "    <tr>\n",
       "      <th>이지현</th>\n",
       "      <td>물리</td>\n",
       "      <td></td>\n",
       "    </tr>\n",
       "    <tr>\n",
       "      <th>김찬우</th>\n",
       "      <td>경영</td>\n",
       "      <td>경제</td>\n",
       "    </tr>\n",
       "  </tbody>\n",
       "</table>\n",
       "</div>"
      ],
      "text/plain": [
       "     전공    복수전공\n",
       "이름             \n",
       "윤해민  경영  인공지능융합\n",
       "황종빈  미엔      컴공\n",
       "엄태림  심리      빅사\n",
       "이지현  물리        \n",
       "김찬우  경영      경제"
      ]
     },
     "execution_count": 14,
     "metadata": {},
     "output_type": "execute_result"
    }
   ],
   "source": [
    "df.***[ *** , ['전공', '복수전공']]  #df[['전공', '복수전공']]"
   ]
  },
  {
   "cell_type": "markdown",
   "metadata": {},
   "source": [
    "#### [슬라이싱]"
   ]
  },
  {
   "cell_type": "code",
   "execution_count": null,
   "metadata": {
    "ExecuteTime": {
     "end_time": "2024-09-09T03:12:07.273553Z",
     "start_time": "2024-09-09T03:12:07.262733Z"
    }
   },
   "outputs": [
    {
     "data": {
      "text/html": [
       "<div>\n",
       "<style scoped>\n",
       "    .dataframe tbody tr th:only-of-type {\n",
       "        vertical-align: middle;\n",
       "    }\n",
       "\n",
       "    .dataframe tbody tr th {\n",
       "        vertical-align: top;\n",
       "    }\n",
       "\n",
       "    .dataframe thead th {\n",
       "        text-align: right;\n",
       "    }\n",
       "</style>\n",
       "<table border=\"1\" class=\"dataframe\">\n",
       "  <thead>\n",
       "    <tr style=\"text-align: right;\">\n",
       "      <th></th>\n",
       "      <th>학번</th>\n",
       "      <th>전공</th>\n",
       "      <th>복수전공</th>\n",
       "      <th>역할</th>\n",
       "    </tr>\n",
       "    <tr>\n",
       "      <th>이름</th>\n",
       "      <th></th>\n",
       "      <th></th>\n",
       "      <th></th>\n",
       "      <th></th>\n",
       "    </tr>\n",
       "  </thead>\n",
       "  <tbody>\n",
       "    <tr>\n",
       "      <th>황종빈</th>\n",
       "      <td>20</td>\n",
       "      <td>미엔</td>\n",
       "      <td>컴공</td>\n",
       "      <td>교육팀장</td>\n",
       "    </tr>\n",
       "    <tr>\n",
       "      <th>엄태림</th>\n",
       "      <td>20</td>\n",
       "      <td>심리</td>\n",
       "      <td>빅사</td>\n",
       "      <td>교육팀원</td>\n",
       "    </tr>\n",
       "    <tr>\n",
       "      <th>이지현</th>\n",
       "      <td>21</td>\n",
       "      <td>물리</td>\n",
       "      <td></td>\n",
       "      <td>교육팀원</td>\n",
       "    </tr>\n",
       "  </tbody>\n",
       "</table>\n",
       "</div>"
      ],
      "text/plain": [
       "     학번  전공 복수전공    역할\n",
       "이름                    \n",
       "황종빈  20  미엔   컴공  교육팀장\n",
       "엄태림  20  심리   빅사  교육팀원\n",
       "이지현  21  물리       교육팀원"
      ]
     },
     "execution_count": 15,
     "metadata": {},
     "output_type": "execute_result"
    }
   ],
   "source": [
    "df.***[***, : ]  #df.loc['황종빈' : '이지현']  #df['황종빈' : '이지현']"
   ]
  },
  {
   "cell_type": "code",
   "execution_count": null,
   "metadata": {
    "ExecuteTime": {
     "end_time": "2024-09-09T03:12:07.472590Z",
     "start_time": "2024-09-09T03:12:07.463291Z"
    }
   },
   "outputs": [
    {
     "data": {
      "text/html": [
       "<div>\n",
       "<style scoped>\n",
       "    .dataframe tbody tr th:only-of-type {\n",
       "        vertical-align: middle;\n",
       "    }\n",
       "\n",
       "    .dataframe tbody tr th {\n",
       "        vertical-align: top;\n",
       "    }\n",
       "\n",
       "    .dataframe thead th {\n",
       "        text-align: right;\n",
       "    }\n",
       "</style>\n",
       "<table border=\"1\" class=\"dataframe\">\n",
       "  <thead>\n",
       "    <tr style=\"text-align: right;\">\n",
       "      <th></th>\n",
       "      <th>학번</th>\n",
       "      <th>전공</th>\n",
       "      <th>복수전공</th>\n",
       "    </tr>\n",
       "    <tr>\n",
       "      <th>이름</th>\n",
       "      <th></th>\n",
       "      <th></th>\n",
       "      <th></th>\n",
       "    </tr>\n",
       "  </thead>\n",
       "  <tbody>\n",
       "    <tr>\n",
       "      <th>윤해민</th>\n",
       "      <td>21</td>\n",
       "      <td>경영</td>\n",
       "      <td>인공지능융합</td>\n",
       "    </tr>\n",
       "    <tr>\n",
       "      <th>황종빈</th>\n",
       "      <td>20</td>\n",
       "      <td>미엔</td>\n",
       "      <td>컴공</td>\n",
       "    </tr>\n",
       "    <tr>\n",
       "      <th>엄태림</th>\n",
       "      <td>20</td>\n",
       "      <td>심리</td>\n",
       "      <td>빅사</td>\n",
       "    </tr>\n",
       "    <tr>\n",
       "      <th>이지현</th>\n",
       "      <td>21</td>\n",
       "      <td>물리</td>\n",
       "      <td></td>\n",
       "    </tr>\n",
       "    <tr>\n",
       "      <th>김찬우</th>\n",
       "      <td>21</td>\n",
       "      <td>경영</td>\n",
       "      <td>경제</td>\n",
       "    </tr>\n",
       "  </tbody>\n",
       "</table>\n",
       "</div>"
      ],
      "text/plain": [
       "     학번  전공    복수전공\n",
       "이름                 \n",
       "윤해민  21  경영  인공지능융합\n",
       "황종빈  20  미엔      컴공\n",
       "엄태림  20  심리      빅사\n",
       "이지현  21  물리        \n",
       "김찬우  21  경영      경제"
      ]
     },
     "execution_count": 16,
     "metadata": {},
     "output_type": "execute_result"
    }
   ],
   "source": [
    "df.***[:, '학번' : '복수전공']"
   ]
  },
  {
   "cell_type": "markdown",
   "metadata": {
    "ExecuteTime": {
     "end_time": "2021-08-15T15:56:57.423585Z",
     "start_time": "2021-08-15T15:56:57.413620Z"
    }
   },
   "source": [
    "## 3-3. 위치 번호로 접근하기: iloc\n",
    ": `df.iloc['행번호', '열번호']`"
   ]
  },
  {
   "cell_type": "markdown",
   "metadata": {},
   "source": [
    "|접근 방법|사용 방법|\n",
    "|:--------------------------:|:-----------:|\n",
    "|행 위치|`df.iloc[2]`|\n",
    "|행 위치 리스트|`df.iloc[[2, 6, 4]]`|\n",
    "|행 위치 슬라이싱|`df.iloc[2:5]` or `df[2:5]`|\n",
    "|열 위치|`df.iloc[ : , 3]`|\n",
    "|열 위치 리스트|`df.iloc[ : , [3, 2, 5]]`|\n",
    "|열 위치 슬라이싱|`df.iloc[ : , 3:5]`|"
   ]
  },
  {
   "cell_type": "code",
   "execution_count": 17,
   "metadata": {
    "ExecuteTime": {
     "end_time": "2024-09-09T03:12:08.078635Z",
     "start_time": "2024-09-09T03:12:08.070044Z"
    }
   },
   "outputs": [
    {
     "data": {
      "text/html": [
       "<div>\n",
       "<style scoped>\n",
       "    .dataframe tbody tr th:only-of-type {\n",
       "        vertical-align: middle;\n",
       "    }\n",
       "\n",
       "    .dataframe tbody tr th {\n",
       "        vertical-align: top;\n",
       "    }\n",
       "\n",
       "    .dataframe thead th {\n",
       "        text-align: right;\n",
       "    }\n",
       "</style>\n",
       "<table border=\"1\" class=\"dataframe\">\n",
       "  <thead>\n",
       "    <tr style=\"text-align: right;\">\n",
       "      <th></th>\n",
       "      <th>학번</th>\n",
       "      <th>전공</th>\n",
       "      <th>복수전공</th>\n",
       "      <th>역할</th>\n",
       "    </tr>\n",
       "    <tr>\n",
       "      <th>이름</th>\n",
       "      <th></th>\n",
       "      <th></th>\n",
       "      <th></th>\n",
       "      <th></th>\n",
       "    </tr>\n",
       "  </thead>\n",
       "  <tbody>\n",
       "    <tr>\n",
       "      <th>윤해민</th>\n",
       "      <td>21</td>\n",
       "      <td>경영</td>\n",
       "      <td>인공지능융합</td>\n",
       "      <td>회장</td>\n",
       "    </tr>\n",
       "    <tr>\n",
       "      <th>황종빈</th>\n",
       "      <td>20</td>\n",
       "      <td>미엔</td>\n",
       "      <td>컴공</td>\n",
       "      <td>교육팀장</td>\n",
       "    </tr>\n",
       "    <tr>\n",
       "      <th>엄태림</th>\n",
       "      <td>20</td>\n",
       "      <td>심리</td>\n",
       "      <td>빅사</td>\n",
       "      <td>교육팀원</td>\n",
       "    </tr>\n",
       "    <tr>\n",
       "      <th>이지현</th>\n",
       "      <td>21</td>\n",
       "      <td>물리</td>\n",
       "      <td></td>\n",
       "      <td>교육팀원</td>\n",
       "    </tr>\n",
       "    <tr>\n",
       "      <th>김찬우</th>\n",
       "      <td>21</td>\n",
       "      <td>경영</td>\n",
       "      <td>경제</td>\n",
       "      <td>교육팀원</td>\n",
       "    </tr>\n",
       "  </tbody>\n",
       "</table>\n",
       "</div>"
      ],
      "text/plain": [
       "     학번  전공    복수전공    역할\n",
       "이름                       \n",
       "윤해민  21  경영  인공지능융합    회장\n",
       "황종빈  20  미엔      컴공  교육팀장\n",
       "엄태림  20  심리      빅사  교육팀원\n",
       "이지현  21  물리          교육팀원\n",
       "김찬우  21  경영      경제  교육팀원"
      ]
     },
     "execution_count": 17,
     "metadata": {},
     "output_type": "execute_result"
    }
   ],
   "source": [
    "df"
   ]
  },
  {
   "cell_type": "markdown",
   "metadata": {},
   "source": [
    "#### [0번 row, 3번 column에 해당하는 값 출력]"
   ]
  },
  {
   "cell_type": "code",
   "execution_count": null,
   "metadata": {
    "ExecuteTime": {
     "end_time": "2024-09-09T03:12:08.398584Z",
     "start_time": "2024-09-09T03:12:08.393366Z"
    }
   },
   "outputs": [
    {
     "data": {
      "text/plain": [
       "'회장'"
      ]
     },
     "execution_count": 18,
     "metadata": {},
     "output_type": "execute_result"
    }
   ],
   "source": [
    "df.***[0, 3]"
   ]
  },
  {
   "cell_type": "markdown",
   "metadata": {},
   "source": [
    "#### [1번과 3번 row, 1번과 2번 column에 해당하는 데이터 출력]"
   ]
  },
  {
   "cell_type": "code",
   "execution_count": null,
   "metadata": {
    "ExecuteTime": {
     "end_time": "2024-09-09T03:12:08.636286Z",
     "start_time": "2024-09-09T03:12:08.628439Z"
    }
   },
   "outputs": [
    {
     "data": {
      "text/html": [
       "<div>\n",
       "<style scoped>\n",
       "    .dataframe tbody tr th:only-of-type {\n",
       "        vertical-align: middle;\n",
       "    }\n",
       "\n",
       "    .dataframe tbody tr th {\n",
       "        vertical-align: top;\n",
       "    }\n",
       "\n",
       "    .dataframe thead th {\n",
       "        text-align: right;\n",
       "    }\n",
       "</style>\n",
       "<table border=\"1\" class=\"dataframe\">\n",
       "  <thead>\n",
       "    <tr style=\"text-align: right;\">\n",
       "      <th></th>\n",
       "      <th>전공</th>\n",
       "      <th>복수전공</th>\n",
       "    </tr>\n",
       "    <tr>\n",
       "      <th>이름</th>\n",
       "      <th></th>\n",
       "      <th></th>\n",
       "    </tr>\n",
       "  </thead>\n",
       "  <tbody>\n",
       "    <tr>\n",
       "      <th>황종빈</th>\n",
       "      <td>미엔</td>\n",
       "      <td>컴공</td>\n",
       "    </tr>\n",
       "    <tr>\n",
       "      <th>이지현</th>\n",
       "      <td>물리</td>\n",
       "      <td></td>\n",
       "    </tr>\n",
       "  </tbody>\n",
       "</table>\n",
       "</div>"
      ],
      "text/plain": [
       "     전공 복수전공\n",
       "이름          \n",
       "황종빈  미엔   컴공\n",
       "이지현  물리     "
      ]
     },
     "execution_count": 19,
     "metadata": {},
     "output_type": "execute_result"
    }
   ],
   "source": [
    "df.***[***, ***]"
   ]
  },
  {
   "cell_type": "markdown",
   "metadata": {},
   "source": [
    "#### [2번 ~ 마지막 row, 0번 ~ 2번 col에 해당하는 데이터 출력]"
   ]
  },
  {
   "cell_type": "code",
   "execution_count": null,
   "metadata": {
    "ExecuteTime": {
     "end_time": "2024-09-09T03:12:09.052693Z",
     "start_time": "2024-09-09T03:12:09.043262Z"
    }
   },
   "outputs": [
    {
     "data": {
      "text/html": [
       "<div>\n",
       "<style scoped>\n",
       "    .dataframe tbody tr th:only-of-type {\n",
       "        vertical-align: middle;\n",
       "    }\n",
       "\n",
       "    .dataframe tbody tr th {\n",
       "        vertical-align: top;\n",
       "    }\n",
       "\n",
       "    .dataframe thead th {\n",
       "        text-align: right;\n",
       "    }\n",
       "</style>\n",
       "<table border=\"1\" class=\"dataframe\">\n",
       "  <thead>\n",
       "    <tr style=\"text-align: right;\">\n",
       "      <th></th>\n",
       "      <th>학번</th>\n",
       "      <th>전공</th>\n",
       "      <th>복수전공</th>\n",
       "    </tr>\n",
       "    <tr>\n",
       "      <th>이름</th>\n",
       "      <th></th>\n",
       "      <th></th>\n",
       "      <th></th>\n",
       "    </tr>\n",
       "  </thead>\n",
       "  <tbody>\n",
       "    <tr>\n",
       "      <th>엄태림</th>\n",
       "      <td>20</td>\n",
       "      <td>심리</td>\n",
       "      <td>빅사</td>\n",
       "    </tr>\n",
       "    <tr>\n",
       "      <th>이지현</th>\n",
       "      <td>21</td>\n",
       "      <td>물리</td>\n",
       "      <td></td>\n",
       "    </tr>\n",
       "    <tr>\n",
       "      <th>김찬우</th>\n",
       "      <td>21</td>\n",
       "      <td>경영</td>\n",
       "      <td>경제</td>\n",
       "    </tr>\n",
       "  </tbody>\n",
       "</table>\n",
       "</div>"
      ],
      "text/plain": [
       "     학번  전공 복수전공\n",
       "이름              \n",
       "엄태림  20  심리   빅사\n",
       "이지현  21  물리     \n",
       "김찬우  21  경영   경제"
      ]
     },
     "execution_count": 20,
     "metadata": {},
     "output_type": "execute_result"
    }
   ],
   "source": [
    "# 연속된 데이터 출력 --> 슬라이싱 활용\n",
    "\n",
    "df.iloc[***, ***]"
   ]
  },
  {
   "cell_type": "markdown",
   "metadata": {},
   "source": [
    "### 📌 [과제 12]\n",
    "12. 뉴진스 멤버들의 데이터프레임(df)에서 연속된 여러 줄을 찾는 과제입니다.<br/>\n",
    "    '다니엘'부터 '혜인'까지의 '학번'과 '역할'만을 확인할 수 있도록 출력해보세요! <br/>\n",
    "    (인덱싱과 슬라이싱 모두 사용)"
   ]
  },
  {
   "cell_type": "code",
   "execution_count": 21,
   "metadata": {
    "ExecuteTime": {
     "end_time": "2024-09-09T03:12:09.431820Z",
     "start_time": "2024-09-09T03:12:09.424442Z"
    },
    "scrolled": true
   },
   "outputs": [],
   "source": [
    "import pandas as pd\n",
    "\n",
    "lst = [['민지', 15, '컴공', 'AI', '회장'], \n",
    "       ['다니엘', 16, '경영', '심리', '교육팀장'],\n",
    "       ['하니', 17, '경영', '빅사', '교육팀원'], \n",
    "       ['해린', 19, '경영', '빅사', '교육팀원'],\n",
    "       ['혜인', 16, '경제', '빅사', '교육팀원']]\n",
    "\n",
    "df12 = pd.DataFrame(lst, columns=['이름', '학번', '전공', '복수전공', '역할'])\n",
    "df12 = df12.set_index('이름')"
   ]
  },
  {
   "cell_type": "code",
   "execution_count": null,
   "metadata": {},
   "outputs": [
    {
     "data": {
      "text/html": [
       "<div>\n",
       "<style scoped>\n",
       "    .dataframe tbody tr th:only-of-type {\n",
       "        vertical-align: middle;\n",
       "    }\n",
       "\n",
       "    .dataframe tbody tr th {\n",
       "        vertical-align: top;\n",
       "    }\n",
       "\n",
       "    .dataframe thead th {\n",
       "        text-align: right;\n",
       "    }\n",
       "</style>\n",
       "<table border=\"1\" class=\"dataframe\">\n",
       "  <thead>\n",
       "    <tr style=\"text-align: right;\">\n",
       "      <th></th>\n",
       "      <th>학번</th>\n",
       "      <th>역할</th>\n",
       "    </tr>\n",
       "    <tr>\n",
       "      <th>이름</th>\n",
       "      <th></th>\n",
       "      <th></th>\n",
       "    </tr>\n",
       "  </thead>\n",
       "  <tbody>\n",
       "    <tr>\n",
       "      <th>다니엘</th>\n",
       "      <td>16</td>\n",
       "      <td>교육팀장</td>\n",
       "    </tr>\n",
       "    <tr>\n",
       "      <th>하니</th>\n",
       "      <td>17</td>\n",
       "      <td>교육팀원</td>\n",
       "    </tr>\n",
       "    <tr>\n",
       "      <th>해린</th>\n",
       "      <td>19</td>\n",
       "      <td>교육팀원</td>\n",
       "    </tr>\n",
       "    <tr>\n",
       "      <th>혜인</th>\n",
       "      <td>16</td>\n",
       "      <td>교육팀원</td>\n",
       "    </tr>\n",
       "  </tbody>\n",
       "</table>\n",
       "</div>"
      ],
      "text/plain": [
       "     학번    역할\n",
       "이름           \n",
       "다니엘  16  교육팀장\n",
       "하니   17  교육팀원\n",
       "해린   19  교육팀원\n",
       "혜인   16  교육팀원"
      ]
     },
     "execution_count": 22,
     "metadata": {},
     "output_type": "execute_result"
    }
   ],
   "source": [
    "***여기에 코드를 작성해주세요***"
   ]
  },
  {
   "cell_type": "markdown",
   "metadata": {},
   "source": [
    "# 4. DataFrame 수정/추가/삭제"
   ]
  },
  {
   "cell_type": "markdown",
   "metadata": {},
   "source": [
    "## 4-1. 수정"
   ]
  },
  {
   "cell_type": "markdown",
   "metadata": {},
   "source": [
    "#### [값 1개 수정]"
   ]
  },
  {
   "cell_type": "code",
   "execution_count": 23,
   "metadata": {
    "ExecuteTime": {
     "end_time": "2024-09-09T03:12:10.204718Z",
     "start_time": "2024-09-09T03:12:10.199468Z"
    }
   },
   "outputs": [
    {
     "data": {
      "text/plain": [
       "'회장'"
      ]
     },
     "execution_count": 23,
     "metadata": {},
     "output_type": "execute_result"
    }
   ],
   "source": [
    "df_new = df.copy()\n",
    "df_new.loc['윤해민', '역할']"
   ]
  },
  {
   "cell_type": "code",
   "execution_count": 24,
   "metadata": {
    "ExecuteTime": {
     "end_time": "2024-09-09T03:12:10.386761Z",
     "start_time": "2024-09-09T03:12:10.378547Z"
    }
   },
   "outputs": [
    {
     "data": {
      "text/html": [
       "<div>\n",
       "<style scoped>\n",
       "    .dataframe tbody tr th:only-of-type {\n",
       "        vertical-align: middle;\n",
       "    }\n",
       "\n",
       "    .dataframe tbody tr th {\n",
       "        vertical-align: top;\n",
       "    }\n",
       "\n",
       "    .dataframe thead th {\n",
       "        text-align: right;\n",
       "    }\n",
       "</style>\n",
       "<table border=\"1\" class=\"dataframe\">\n",
       "  <thead>\n",
       "    <tr style=\"text-align: right;\">\n",
       "      <th></th>\n",
       "      <th>학번</th>\n",
       "      <th>전공</th>\n",
       "      <th>복수전공</th>\n",
       "      <th>역할</th>\n",
       "    </tr>\n",
       "    <tr>\n",
       "      <th>이름</th>\n",
       "      <th></th>\n",
       "      <th></th>\n",
       "      <th></th>\n",
       "      <th></th>\n",
       "    </tr>\n",
       "  </thead>\n",
       "  <tbody>\n",
       "    <tr>\n",
       "      <th>윤해민</th>\n",
       "      <td>21</td>\n",
       "      <td>경영</td>\n",
       "      <td>인공지능융합</td>\n",
       "      <td>인싸</td>\n",
       "    </tr>\n",
       "    <tr>\n",
       "      <th>황종빈</th>\n",
       "      <td>20</td>\n",
       "      <td>미엔</td>\n",
       "      <td>컴공</td>\n",
       "      <td>교육팀장</td>\n",
       "    </tr>\n",
       "    <tr>\n",
       "      <th>엄태림</th>\n",
       "      <td>20</td>\n",
       "      <td>심리</td>\n",
       "      <td>빅사</td>\n",
       "      <td>교육팀원</td>\n",
       "    </tr>\n",
       "    <tr>\n",
       "      <th>이지현</th>\n",
       "      <td>21</td>\n",
       "      <td>물리</td>\n",
       "      <td></td>\n",
       "      <td>교육팀원</td>\n",
       "    </tr>\n",
       "    <tr>\n",
       "      <th>김찬우</th>\n",
       "      <td>21</td>\n",
       "      <td>경영</td>\n",
       "      <td>경제</td>\n",
       "      <td>교육팀원</td>\n",
       "    </tr>\n",
       "  </tbody>\n",
       "</table>\n",
       "</div>"
      ],
      "text/plain": [
       "     학번  전공    복수전공    역할\n",
       "이름                       \n",
       "윤해민  21  경영  인공지능융합    인싸\n",
       "황종빈  20  미엔      컴공  교육팀장\n",
       "엄태림  20  심리      빅사  교육팀원\n",
       "이지현  21  물리          교육팀원\n",
       "김찬우  21  경영      경제  교육팀원"
      ]
     },
     "execution_count": 24,
     "metadata": {},
     "output_type": "execute_result"
    }
   ],
   "source": [
    "df_new.loc['윤해민', '역할'] = '인싸'\n",
    "df_new"
   ]
  },
  {
   "cell_type": "markdown",
   "metadata": {},
   "source": [
    "#### [한 줄 수정]"
   ]
  },
  {
   "cell_type": "code",
   "execution_count": 25,
   "metadata": {
    "ExecuteTime": {
     "end_time": "2024-09-09T03:12:11.078418Z",
     "start_time": "2024-09-09T03:12:11.069499Z"
    }
   },
   "outputs": [
    {
     "data": {
      "text/html": [
       "<div>\n",
       "<style scoped>\n",
       "    .dataframe tbody tr th:only-of-type {\n",
       "        vertical-align: middle;\n",
       "    }\n",
       "\n",
       "    .dataframe tbody tr th {\n",
       "        vertical-align: top;\n",
       "    }\n",
       "\n",
       "    .dataframe thead th {\n",
       "        text-align: right;\n",
       "    }\n",
       "</style>\n",
       "<table border=\"1\" class=\"dataframe\">\n",
       "  <thead>\n",
       "    <tr style=\"text-align: right;\">\n",
       "      <th></th>\n",
       "      <th>학번</th>\n",
       "      <th>전공</th>\n",
       "      <th>복수전공</th>\n",
       "      <th>역할</th>\n",
       "    </tr>\n",
       "    <tr>\n",
       "      <th>이름</th>\n",
       "      <th></th>\n",
       "      <th></th>\n",
       "      <th></th>\n",
       "      <th></th>\n",
       "    </tr>\n",
       "  </thead>\n",
       "  <tbody>\n",
       "    <tr>\n",
       "      <th>윤해민</th>\n",
       "      <td>21</td>\n",
       "      <td>경영</td>\n",
       "      <td>인공지능융합</td>\n",
       "      <td>인싸</td>\n",
       "    </tr>\n",
       "    <tr>\n",
       "      <th>황종빈</th>\n",
       "      <td>20</td>\n",
       "      <td>미엔</td>\n",
       "      <td>컴공</td>\n",
       "      <td>건관위장</td>\n",
       "    </tr>\n",
       "    <tr>\n",
       "      <th>엄태림</th>\n",
       "      <td>20</td>\n",
       "      <td>심리</td>\n",
       "      <td>빅사</td>\n",
       "      <td>교육팀원</td>\n",
       "    </tr>\n",
       "    <tr>\n",
       "      <th>이지현</th>\n",
       "      <td>21</td>\n",
       "      <td>물리</td>\n",
       "      <td></td>\n",
       "      <td>교육팀원</td>\n",
       "    </tr>\n",
       "    <tr>\n",
       "      <th>김찬우</th>\n",
       "      <td>21</td>\n",
       "      <td>경영</td>\n",
       "      <td>경제</td>\n",
       "      <td>교육팀원</td>\n",
       "    </tr>\n",
       "  </tbody>\n",
       "</table>\n",
       "</div>"
      ],
      "text/plain": [
       "     학번  전공    복수전공    역할\n",
       "이름                       \n",
       "윤해민  21  경영  인공지능융합    인싸\n",
       "황종빈  20  미엔      컴공  건관위장\n",
       "엄태림  20  심리      빅사  교육팀원\n",
       "이지현  21  물리          교육팀원\n",
       "김찬우  21  경영      경제  교육팀원"
      ]
     },
     "execution_count": 25,
     "metadata": {},
     "output_type": "execute_result"
    }
   ],
   "source": [
    "df_new.loc['황종빈'] = [20, '미엔', '컴공', '건관위장']\n",
    "df_new"
   ]
  },
  {
   "cell_type": "code",
   "execution_count": null,
   "metadata": {
    "ExecuteTime": {
     "end_time": "2024-09-09T03:12:11.305112Z",
     "start_time": "2024-09-09T03:12:11.295557Z"
    }
   },
   "outputs": [
    {
     "data": {
      "text/html": [
       "<div>\n",
       "<style scoped>\n",
       "    .dataframe tbody tr th:only-of-type {\n",
       "        vertical-align: middle;\n",
       "    }\n",
       "\n",
       "    .dataframe tbody tr th {\n",
       "        vertical-align: top;\n",
       "    }\n",
       "\n",
       "    .dataframe thead th {\n",
       "        text-align: right;\n",
       "    }\n",
       "</style>\n",
       "<table border=\"1\" class=\"dataframe\">\n",
       "  <thead>\n",
       "    <tr style=\"text-align: right;\">\n",
       "      <th></th>\n",
       "      <th>학번</th>\n",
       "      <th>전공</th>\n",
       "      <th>복수전공</th>\n",
       "      <th>역할</th>\n",
       "    </tr>\n",
       "    <tr>\n",
       "      <th>이름</th>\n",
       "      <th></th>\n",
       "      <th></th>\n",
       "      <th></th>\n",
       "      <th></th>\n",
       "    </tr>\n",
       "  </thead>\n",
       "  <tbody>\n",
       "    <tr>\n",
       "      <th>윤해민</th>\n",
       "      <td>21</td>\n",
       "      <td>경영</td>\n",
       "      <td>인공지능융합</td>\n",
       "      <td>13기</td>\n",
       "    </tr>\n",
       "    <tr>\n",
       "      <th>황종빈</th>\n",
       "      <td>20</td>\n",
       "      <td>미엔</td>\n",
       "      <td>컴공</td>\n",
       "      <td>13기</td>\n",
       "    </tr>\n",
       "    <tr>\n",
       "      <th>엄태림</th>\n",
       "      <td>20</td>\n",
       "      <td>심리</td>\n",
       "      <td>빅사</td>\n",
       "      <td>13기</td>\n",
       "    </tr>\n",
       "    <tr>\n",
       "      <th>이지현</th>\n",
       "      <td>21</td>\n",
       "      <td>물리</td>\n",
       "      <td></td>\n",
       "      <td>13기</td>\n",
       "    </tr>\n",
       "    <tr>\n",
       "      <th>김찬우</th>\n",
       "      <td>21</td>\n",
       "      <td>경영</td>\n",
       "      <td>경제</td>\n",
       "      <td>13기</td>\n",
       "    </tr>\n",
       "  </tbody>\n",
       "</table>\n",
       "</div>"
      ],
      "text/plain": [
       "     학번  전공    복수전공   역할\n",
       "이름                      \n",
       "윤해민  21  경영  인공지능융합  13기\n",
       "황종빈  20  미엔      컴공  13기\n",
       "엄태림  20  심리      빅사  13기\n",
       "이지현  21  물리          13기\n",
       "김찬우  21  경영      경제  13기"
      ]
     },
     "execution_count": 26,
     "metadata": {},
     "output_type": "execute_result"
    }
   ],
   "source": [
    "# 역할 column의 모든 값을 동일하게 바꾸기\n",
    "df_new.***[ : , '역할'] = '13기'\n",
    "df_new"
   ]
  },
  {
   "cell_type": "markdown",
   "metadata": {},
   "source": [
    "#### [여러 줄 수정]"
   ]
  },
  {
   "cell_type": "code",
   "execution_count": 27,
   "metadata": {
    "ExecuteTime": {
     "end_time": "2024-09-09T03:12:11.717699Z",
     "start_time": "2024-09-09T03:12:11.708009Z"
    }
   },
   "outputs": [
    {
     "data": {
      "text/html": [
       "<div>\n",
       "<style scoped>\n",
       "    .dataframe tbody tr th:only-of-type {\n",
       "        vertical-align: middle;\n",
       "    }\n",
       "\n",
       "    .dataframe tbody tr th {\n",
       "        vertical-align: top;\n",
       "    }\n",
       "\n",
       "    .dataframe thead th {\n",
       "        text-align: right;\n",
       "    }\n",
       "</style>\n",
       "<table border=\"1\" class=\"dataframe\">\n",
       "  <thead>\n",
       "    <tr style=\"text-align: right;\">\n",
       "      <th></th>\n",
       "      <th>학번</th>\n",
       "      <th>전공</th>\n",
       "      <th>복수전공</th>\n",
       "      <th>역할</th>\n",
       "    </tr>\n",
       "    <tr>\n",
       "      <th>이름</th>\n",
       "      <th></th>\n",
       "      <th></th>\n",
       "      <th></th>\n",
       "      <th></th>\n",
       "    </tr>\n",
       "  </thead>\n",
       "  <tbody>\n",
       "    <tr>\n",
       "      <th>윤해민</th>\n",
       "      <td>-</td>\n",
       "      <td>-</td>\n",
       "      <td>-</td>\n",
       "      <td>-</td>\n",
       "    </tr>\n",
       "    <tr>\n",
       "      <th>황종빈</th>\n",
       "      <td>-</td>\n",
       "      <td>-</td>\n",
       "      <td>-</td>\n",
       "      <td>-</td>\n",
       "    </tr>\n",
       "    <tr>\n",
       "      <th>엄태림</th>\n",
       "      <td>20</td>\n",
       "      <td>심리</td>\n",
       "      <td>빅사</td>\n",
       "      <td>13기</td>\n",
       "    </tr>\n",
       "    <tr>\n",
       "      <th>이지현</th>\n",
       "      <td>21</td>\n",
       "      <td>물리</td>\n",
       "      <td></td>\n",
       "      <td>13기</td>\n",
       "    </tr>\n",
       "    <tr>\n",
       "      <th>김찬우</th>\n",
       "      <td>21</td>\n",
       "      <td>경영</td>\n",
       "      <td>경제</td>\n",
       "      <td>13기</td>\n",
       "    </tr>\n",
       "  </tbody>\n",
       "</table>\n",
       "</div>"
      ],
      "text/plain": [
       "     학번  전공 복수전공   역할\n",
       "이름                   \n",
       "윤해민   -   -    -    -\n",
       "황종빈   -   -    -    -\n",
       "엄태림  20  심리   빅사  13기\n",
       "이지현  21  물리       13기\n",
       "김찬우  21  경영   경제  13기"
      ]
     },
     "execution_count": 27,
     "metadata": {},
     "output_type": "execute_result"
    }
   ],
   "source": [
    "df_new.loc[['윤해민', '황종빈']] = \"-\"\n",
    "df_new"
   ]
  },
  {
   "cell_type": "code",
   "execution_count": 28,
   "metadata": {
    "ExecuteTime": {
     "end_time": "2024-09-09T03:12:11.919943Z",
     "start_time": "2024-09-09T03:12:11.911483Z"
    }
   },
   "outputs": [
    {
     "data": {
      "text/html": [
       "<div>\n",
       "<style scoped>\n",
       "    .dataframe tbody tr th:only-of-type {\n",
       "        vertical-align: middle;\n",
       "    }\n",
       "\n",
       "    .dataframe tbody tr th {\n",
       "        vertical-align: top;\n",
       "    }\n",
       "\n",
       "    .dataframe thead th {\n",
       "        text-align: right;\n",
       "    }\n",
       "</style>\n",
       "<table border=\"1\" class=\"dataframe\">\n",
       "  <thead>\n",
       "    <tr style=\"text-align: right;\">\n",
       "      <th></th>\n",
       "      <th>학번</th>\n",
       "      <th>전공</th>\n",
       "      <th>복수전공</th>\n",
       "      <th>역할</th>\n",
       "    </tr>\n",
       "    <tr>\n",
       "      <th>이름</th>\n",
       "      <th></th>\n",
       "      <th></th>\n",
       "      <th></th>\n",
       "      <th></th>\n",
       "    </tr>\n",
       "  </thead>\n",
       "  <tbody>\n",
       "    <tr>\n",
       "      <th>윤해민</th>\n",
       "      <td>-</td>\n",
       "      <td>-</td>\n",
       "      <td>?</td>\n",
       "      <td>?</td>\n",
       "    </tr>\n",
       "    <tr>\n",
       "      <th>황종빈</th>\n",
       "      <td>-</td>\n",
       "      <td>-</td>\n",
       "      <td>?</td>\n",
       "      <td>?</td>\n",
       "    </tr>\n",
       "    <tr>\n",
       "      <th>엄태림</th>\n",
       "      <td>20</td>\n",
       "      <td>심리</td>\n",
       "      <td>?</td>\n",
       "      <td>?</td>\n",
       "    </tr>\n",
       "    <tr>\n",
       "      <th>이지현</th>\n",
       "      <td>21</td>\n",
       "      <td>물리</td>\n",
       "      <td>?</td>\n",
       "      <td>?</td>\n",
       "    </tr>\n",
       "    <tr>\n",
       "      <th>김찬우</th>\n",
       "      <td>21</td>\n",
       "      <td>경영</td>\n",
       "      <td>?</td>\n",
       "      <td>?</td>\n",
       "    </tr>\n",
       "  </tbody>\n",
       "</table>\n",
       "</div>"
      ],
      "text/plain": [
       "     학번  전공 복수전공 역할\n",
       "이름                 \n",
       "윤해민   -   -    ?  ?\n",
       "황종빈   -   -    ?  ?\n",
       "엄태림  20  심리    ?  ?\n",
       "이지현  21  물리    ?  ?\n",
       "김찬우  21  경영    ?  ?"
      ]
     },
     "execution_count": 28,
     "metadata": {},
     "output_type": "execute_result"
    }
   ],
   "source": [
    "df_new[['복수전공', '역할']] = \"?\"\n",
    "df_new"
   ]
  },
  {
   "cell_type": "markdown",
   "metadata": {},
   "source": [
    "#### [위치 번호로 값 수정]"
   ]
  },
  {
   "cell_type": "code",
   "execution_count": null,
   "metadata": {
    "ExecuteTime": {
     "end_time": "2024-09-09T03:12:12.530010Z",
     "start_time": "2024-09-09T03:12:12.520987Z"
    }
   },
   "outputs": [
    {
     "data": {
      "text/html": [
       "<div>\n",
       "<style scoped>\n",
       "    .dataframe tbody tr th:only-of-type {\n",
       "        vertical-align: middle;\n",
       "    }\n",
       "\n",
       "    .dataframe tbody tr th {\n",
       "        vertical-align: top;\n",
       "    }\n",
       "\n",
       "    .dataframe thead th {\n",
       "        text-align: right;\n",
       "    }\n",
       "</style>\n",
       "<table border=\"1\" class=\"dataframe\">\n",
       "  <thead>\n",
       "    <tr style=\"text-align: right;\">\n",
       "      <th></th>\n",
       "      <th>학번</th>\n",
       "      <th>전공</th>\n",
       "      <th>복수전공</th>\n",
       "      <th>역할</th>\n",
       "    </tr>\n",
       "    <tr>\n",
       "      <th>이름</th>\n",
       "      <th></th>\n",
       "      <th></th>\n",
       "      <th></th>\n",
       "      <th></th>\n",
       "    </tr>\n",
       "  </thead>\n",
       "  <tbody>\n",
       "    <tr>\n",
       "      <th>윤해민</th>\n",
       "      <td>-</td>\n",
       "      <td>-</td>\n",
       "      <td>#</td>\n",
       "      <td>#</td>\n",
       "    </tr>\n",
       "    <tr>\n",
       "      <th>황종빈</th>\n",
       "      <td>-</td>\n",
       "      <td>-</td>\n",
       "      <td>#</td>\n",
       "      <td>#</td>\n",
       "    </tr>\n",
       "    <tr>\n",
       "      <th>엄태림</th>\n",
       "      <td>20</td>\n",
       "      <td>심리</td>\n",
       "      <td>?</td>\n",
       "      <td>?</td>\n",
       "    </tr>\n",
       "    <tr>\n",
       "      <th>이지현</th>\n",
       "      <td>21</td>\n",
       "      <td>물리</td>\n",
       "      <td>?</td>\n",
       "      <td>?</td>\n",
       "    </tr>\n",
       "    <tr>\n",
       "      <th>김찬우</th>\n",
       "      <td>21</td>\n",
       "      <td>경영</td>\n",
       "      <td>?</td>\n",
       "      <td>?</td>\n",
       "    </tr>\n",
       "  </tbody>\n",
       "</table>\n",
       "</div>"
      ],
      "text/plain": [
       "     학번  전공 복수전공 역할\n",
       "이름                 \n",
       "윤해민   -   -    #  #\n",
       "황종빈   -   -    #  #\n",
       "엄태림  20  심리    ?  ?\n",
       "이지현  21  물리    ?  ?\n",
       "김찬우  21  경영    ?  ?"
      ]
     },
     "execution_count": 29,
     "metadata": {},
     "output_type": "execute_result"
    }
   ],
   "source": [
    "df_new.iloc[[0, 1], ***] = \"#\"\n",
    "df_new"
   ]
  },
  {
   "cell_type": "markdown",
   "metadata": {},
   "source": [
    "## 4-2. 추가\n"
   ]
  },
  {
   "cell_type": "code",
   "execution_count": 30,
   "metadata": {
    "ExecuteTime": {
     "end_time": "2024-09-09T03:12:15.437800Z",
     "start_time": "2024-09-09T03:12:15.434024Z"
    }
   },
   "outputs": [],
   "source": [
    "df_new2 = df.copy()"
   ]
  },
  {
   "cell_type": "markdown",
   "metadata": {},
   "source": [
    "#### [row 추가]"
   ]
  },
  {
   "cell_type": "code",
   "execution_count": 31,
   "metadata": {
    "ExecuteTime": {
     "end_time": "2024-09-09T03:12:16.129591Z",
     "start_time": "2024-09-09T03:12:16.117088Z"
    }
   },
   "outputs": [
    {
     "data": {
      "text/html": [
       "<div>\n",
       "<style scoped>\n",
       "    .dataframe tbody tr th:only-of-type {\n",
       "        vertical-align: middle;\n",
       "    }\n",
       "\n",
       "    .dataframe tbody tr th {\n",
       "        vertical-align: top;\n",
       "    }\n",
       "\n",
       "    .dataframe thead th {\n",
       "        text-align: right;\n",
       "    }\n",
       "</style>\n",
       "<table border=\"1\" class=\"dataframe\">\n",
       "  <thead>\n",
       "    <tr style=\"text-align: right;\">\n",
       "      <th></th>\n",
       "      <th>학번</th>\n",
       "      <th>전공</th>\n",
       "      <th>복수전공</th>\n",
       "      <th>역할</th>\n",
       "    </tr>\n",
       "    <tr>\n",
       "      <th>이름</th>\n",
       "      <th></th>\n",
       "      <th></th>\n",
       "      <th></th>\n",
       "      <th></th>\n",
       "    </tr>\n",
       "  </thead>\n",
       "  <tbody>\n",
       "    <tr>\n",
       "      <th>윤해민</th>\n",
       "      <td>21</td>\n",
       "      <td>경영</td>\n",
       "      <td>인공지능융합</td>\n",
       "      <td>회장</td>\n",
       "    </tr>\n",
       "    <tr>\n",
       "      <th>황종빈</th>\n",
       "      <td>20</td>\n",
       "      <td>미엔</td>\n",
       "      <td>컴공</td>\n",
       "      <td>교육팀장</td>\n",
       "    </tr>\n",
       "    <tr>\n",
       "      <th>엄태림</th>\n",
       "      <td>20</td>\n",
       "      <td>심리</td>\n",
       "      <td>빅사</td>\n",
       "      <td>교육팀원</td>\n",
       "    </tr>\n",
       "    <tr>\n",
       "      <th>이지현</th>\n",
       "      <td>21</td>\n",
       "      <td>물리</td>\n",
       "      <td></td>\n",
       "      <td>교육팀원</td>\n",
       "    </tr>\n",
       "    <tr>\n",
       "      <th>김찬우</th>\n",
       "      <td>21</td>\n",
       "      <td>경영</td>\n",
       "      <td>경제</td>\n",
       "      <td>교육팀원</td>\n",
       "    </tr>\n",
       "    <tr>\n",
       "      <th>김현서</th>\n",
       "      <td>22</td>\n",
       "      <td>국문</td>\n",
       "      <td>빅사, 경영</td>\n",
       "      <td>교육팀원</td>\n",
       "    </tr>\n",
       "  </tbody>\n",
       "</table>\n",
       "</div>"
      ],
      "text/plain": [
       "     학번  전공    복수전공    역할\n",
       "이름                       \n",
       "윤해민  21  경영  인공지능융합    회장\n",
       "황종빈  20  미엔      컴공  교육팀장\n",
       "엄태림  20  심리      빅사  교육팀원\n",
       "이지현  21  물리          교육팀원\n",
       "김찬우  21  경영      경제  교육팀원\n",
       "김현서  22  국문  빅사, 경영  교육팀원"
      ]
     },
     "execution_count": 31,
     "metadata": {},
     "output_type": "execute_result"
    }
   ],
   "source": [
    "# 없는 인덱스명으로 데이터를 넣으면, 새로운 row가 추가됨\n",
    "df_new2.loc['김현서'] = [22, '국문', '빅사, 경영', '교육팀원']\n",
    "df_new2"
   ]
  },
  {
   "cell_type": "markdown",
   "metadata": {},
   "source": [
    "#### [column 추가]"
   ]
  },
  {
   "cell_type": "code",
   "execution_count": 32,
   "metadata": {
    "ExecuteTime": {
     "end_time": "2024-09-09T03:12:16.574233Z",
     "start_time": "2024-09-09T03:12:16.564179Z"
    }
   },
   "outputs": [
    {
     "data": {
      "text/html": [
       "<div>\n",
       "<style scoped>\n",
       "    .dataframe tbody tr th:only-of-type {\n",
       "        vertical-align: middle;\n",
       "    }\n",
       "\n",
       "    .dataframe tbody tr th {\n",
       "        vertical-align: top;\n",
       "    }\n",
       "\n",
       "    .dataframe thead th {\n",
       "        text-align: right;\n",
       "    }\n",
       "</style>\n",
       "<table border=\"1\" class=\"dataframe\">\n",
       "  <thead>\n",
       "    <tr style=\"text-align: right;\">\n",
       "      <th></th>\n",
       "      <th>학번</th>\n",
       "      <th>전공</th>\n",
       "      <th>복수전공</th>\n",
       "      <th>역할</th>\n",
       "      <th>기수</th>\n",
       "    </tr>\n",
       "    <tr>\n",
       "      <th>이름</th>\n",
       "      <th></th>\n",
       "      <th></th>\n",
       "      <th></th>\n",
       "      <th></th>\n",
       "      <th></th>\n",
       "    </tr>\n",
       "  </thead>\n",
       "  <tbody>\n",
       "    <tr>\n",
       "      <th>윤해민</th>\n",
       "      <td>21</td>\n",
       "      <td>경영</td>\n",
       "      <td>인공지능융합</td>\n",
       "      <td>회장</td>\n",
       "      <td>13기</td>\n",
       "    </tr>\n",
       "    <tr>\n",
       "      <th>황종빈</th>\n",
       "      <td>20</td>\n",
       "      <td>미엔</td>\n",
       "      <td>컴공</td>\n",
       "      <td>교육팀장</td>\n",
       "      <td>13기</td>\n",
       "    </tr>\n",
       "    <tr>\n",
       "      <th>엄태림</th>\n",
       "      <td>20</td>\n",
       "      <td>심리</td>\n",
       "      <td>빅사</td>\n",
       "      <td>교육팀원</td>\n",
       "      <td>13기</td>\n",
       "    </tr>\n",
       "    <tr>\n",
       "      <th>이지현</th>\n",
       "      <td>21</td>\n",
       "      <td>물리</td>\n",
       "      <td></td>\n",
       "      <td>교육팀원</td>\n",
       "      <td>13기</td>\n",
       "    </tr>\n",
       "    <tr>\n",
       "      <th>김찬우</th>\n",
       "      <td>21</td>\n",
       "      <td>경영</td>\n",
       "      <td>경제</td>\n",
       "      <td>교육팀원</td>\n",
       "      <td>13기</td>\n",
       "    </tr>\n",
       "    <tr>\n",
       "      <th>김현서</th>\n",
       "      <td>22</td>\n",
       "      <td>국문</td>\n",
       "      <td>빅사, 경영</td>\n",
       "      <td>교육팀원</td>\n",
       "      <td>13기</td>\n",
       "    </tr>\n",
       "  </tbody>\n",
       "</table>\n",
       "</div>"
      ],
      "text/plain": [
       "     학번  전공    복수전공    역할   기수\n",
       "이름                            \n",
       "윤해민  21  경영  인공지능융합    회장  13기\n",
       "황종빈  20  미엔      컴공  교육팀장  13기\n",
       "엄태림  20  심리      빅사  교육팀원  13기\n",
       "이지현  21  물리          교육팀원  13기\n",
       "김찬우  21  경영      경제  교육팀원  13기\n",
       "김현서  22  국문  빅사, 경영  교육팀원  13기"
      ]
     },
     "execution_count": 32,
     "metadata": {},
     "output_type": "execute_result"
    }
   ],
   "source": [
    "df_new2['기수'] = '13기'\n",
    "df_new2"
   ]
  },
  {
   "cell_type": "markdown",
   "metadata": {},
   "source": [
    "## 4-3. 삭제\n",
    "행 방향 axis=0 <br/>\n",
    "열 방향 axis=1"
   ]
  },
  {
   "cell_type": "code",
   "execution_count": null,
   "metadata": {
    "ExecuteTime": {
     "end_time": "2024-09-09T03:12:16.954517Z",
     "start_time": "2024-09-09T03:12:16.946195Z"
    }
   },
   "outputs": [
    {
     "data": {
      "text/html": [
       "<div>\n",
       "<style scoped>\n",
       "    .dataframe tbody tr th:only-of-type {\n",
       "        vertical-align: middle;\n",
       "    }\n",
       "\n",
       "    .dataframe tbody tr th {\n",
       "        vertical-align: top;\n",
       "    }\n",
       "\n",
       "    .dataframe thead th {\n",
       "        text-align: right;\n",
       "    }\n",
       "</style>\n",
       "<table border=\"1\" class=\"dataframe\">\n",
       "  <thead>\n",
       "    <tr style=\"text-align: right;\">\n",
       "      <th></th>\n",
       "      <th>학번</th>\n",
       "      <th>전공</th>\n",
       "      <th>복수전공</th>\n",
       "      <th>역할</th>\n",
       "      <th>기수</th>\n",
       "    </tr>\n",
       "    <tr>\n",
       "      <th>이름</th>\n",
       "      <th></th>\n",
       "      <th></th>\n",
       "      <th></th>\n",
       "      <th></th>\n",
       "      <th></th>\n",
       "    </tr>\n",
       "  </thead>\n",
       "  <tbody>\n",
       "    <tr>\n",
       "      <th>황종빈</th>\n",
       "      <td>20</td>\n",
       "      <td>미엔</td>\n",
       "      <td>컴공</td>\n",
       "      <td>교육팀장</td>\n",
       "      <td>13기</td>\n",
       "    </tr>\n",
       "    <tr>\n",
       "      <th>엄태림</th>\n",
       "      <td>20</td>\n",
       "      <td>심리</td>\n",
       "      <td>빅사</td>\n",
       "      <td>교육팀원</td>\n",
       "      <td>13기</td>\n",
       "    </tr>\n",
       "    <tr>\n",
       "      <th>이지현</th>\n",
       "      <td>21</td>\n",
       "      <td>물리</td>\n",
       "      <td></td>\n",
       "      <td>교육팀원</td>\n",
       "      <td>13기</td>\n",
       "    </tr>\n",
       "    <tr>\n",
       "      <th>김찬우</th>\n",
       "      <td>21</td>\n",
       "      <td>경영</td>\n",
       "      <td>경제</td>\n",
       "      <td>교육팀원</td>\n",
       "      <td>13기</td>\n",
       "    </tr>\n",
       "    <tr>\n",
       "      <th>김현서</th>\n",
       "      <td>22</td>\n",
       "      <td>국문</td>\n",
       "      <td>빅사, 경영</td>\n",
       "      <td>교육팀원</td>\n",
       "      <td>13기</td>\n",
       "    </tr>\n",
       "  </tbody>\n",
       "</table>\n",
       "</div>"
      ],
      "text/plain": [
       "     학번  전공    복수전공    역할   기수\n",
       "이름                            \n",
       "황종빈  20  미엔      컴공  교육팀장  13기\n",
       "엄태림  20  심리      빅사  교육팀원  13기\n",
       "이지현  21  물리          교육팀원  13기\n",
       "김찬우  21  경영      경제  교육팀원  13기\n",
       "김현서  22  국문  빅사, 경영  교육팀원  13기"
      ]
     },
     "execution_count": 33,
     "metadata": {},
     "output_type": "execute_result"
    }
   ],
   "source": [
    "df_new2.drop('윤해민', axis = ***, inplace = True)  #inplace = False --> 기존의 df에 영향 X\n",
    "df_new2"
   ]
  },
  {
   "cell_type": "code",
   "execution_count": null,
   "metadata": {
    "ExecuteTime": {
     "end_time": "2024-09-09T03:12:17.123556Z",
     "start_time": "2024-09-09T03:12:17.113540Z"
    }
   },
   "outputs": [
    {
     "data": {
      "text/html": [
       "<div>\n",
       "<style scoped>\n",
       "    .dataframe tbody tr th:only-of-type {\n",
       "        vertical-align: middle;\n",
       "    }\n",
       "\n",
       "    .dataframe tbody tr th {\n",
       "        vertical-align: top;\n",
       "    }\n",
       "\n",
       "    .dataframe thead th {\n",
       "        text-align: right;\n",
       "    }\n",
       "</style>\n",
       "<table border=\"1\" class=\"dataframe\">\n",
       "  <thead>\n",
       "    <tr style=\"text-align: right;\">\n",
       "      <th></th>\n",
       "      <th>학번</th>\n",
       "      <th>전공</th>\n",
       "      <th>역할</th>\n",
       "    </tr>\n",
       "    <tr>\n",
       "      <th>이름</th>\n",
       "      <th></th>\n",
       "      <th></th>\n",
       "      <th></th>\n",
       "    </tr>\n",
       "  </thead>\n",
       "  <tbody>\n",
       "    <tr>\n",
       "      <th>황종빈</th>\n",
       "      <td>20</td>\n",
       "      <td>미엔</td>\n",
       "      <td>교육팀장</td>\n",
       "    </tr>\n",
       "    <tr>\n",
       "      <th>엄태림</th>\n",
       "      <td>20</td>\n",
       "      <td>심리</td>\n",
       "      <td>교육팀원</td>\n",
       "    </tr>\n",
       "    <tr>\n",
       "      <th>이지현</th>\n",
       "      <td>21</td>\n",
       "      <td>물리</td>\n",
       "      <td>교육팀원</td>\n",
       "    </tr>\n",
       "    <tr>\n",
       "      <th>김찬우</th>\n",
       "      <td>21</td>\n",
       "      <td>경영</td>\n",
       "      <td>교육팀원</td>\n",
       "    </tr>\n",
       "    <tr>\n",
       "      <th>김현서</th>\n",
       "      <td>22</td>\n",
       "      <td>국문</td>\n",
       "      <td>교육팀원</td>\n",
       "    </tr>\n",
       "  </tbody>\n",
       "</table>\n",
       "</div>"
      ],
      "text/plain": [
       "     학번  전공    역할\n",
       "이름               \n",
       "황종빈  20  미엔  교육팀장\n",
       "엄태림  20  심리  교육팀원\n",
       "이지현  21  물리  교육팀원\n",
       "김찬우  21  경영  교육팀원\n",
       "김현서  22  국문  교육팀원"
      ]
     },
     "execution_count": 34,
     "metadata": {},
     "output_type": "execute_result"
    }
   ],
   "source": [
    "df_new2.drop(['복수전공', '기수'], axis = ***, inplace = True)\n",
    "df_new2"
   ]
  },
  {
   "cell_type": "code",
   "execution_count": null,
   "metadata": {
    "ExecuteTime": {
     "end_time": "2024-09-09T03:12:17.319110Z",
     "start_time": "2024-09-09T03:12:17.311494Z"
    }
   },
   "outputs": [
    {
     "data": {
      "text/html": [
       "<div>\n",
       "<style scoped>\n",
       "    .dataframe tbody tr th:only-of-type {\n",
       "        vertical-align: middle;\n",
       "    }\n",
       "\n",
       "    .dataframe tbody tr th {\n",
       "        vertical-align: top;\n",
       "    }\n",
       "\n",
       "    .dataframe thead th {\n",
       "        text-align: right;\n",
       "    }\n",
       "</style>\n",
       "<table border=\"1\" class=\"dataframe\">\n",
       "  <thead>\n",
       "    <tr style=\"text-align: right;\">\n",
       "      <th></th>\n",
       "      <th>학번</th>\n",
       "      <th>전공</th>\n",
       "    </tr>\n",
       "    <tr>\n",
       "      <th>이름</th>\n",
       "      <th></th>\n",
       "      <th></th>\n",
       "    </tr>\n",
       "  </thead>\n",
       "  <tbody>\n",
       "    <tr>\n",
       "      <th>황종빈</th>\n",
       "      <td>20</td>\n",
       "      <td>미엔</td>\n",
       "    </tr>\n",
       "    <tr>\n",
       "      <th>엄태림</th>\n",
       "      <td>20</td>\n",
       "      <td>심리</td>\n",
       "    </tr>\n",
       "    <tr>\n",
       "      <th>이지현</th>\n",
       "      <td>21</td>\n",
       "      <td>물리</td>\n",
       "    </tr>\n",
       "    <tr>\n",
       "      <th>김찬우</th>\n",
       "      <td>21</td>\n",
       "      <td>경영</td>\n",
       "    </tr>\n",
       "    <tr>\n",
       "      <th>김현서</th>\n",
       "      <td>22</td>\n",
       "      <td>국문</td>\n",
       "    </tr>\n",
       "  </tbody>\n",
       "</table>\n",
       "</div>"
      ],
      "text/plain": [
       "     학번  전공\n",
       "이름         \n",
       "황종빈  20  미엔\n",
       "엄태림  20  심리\n",
       "이지현  21  물리\n",
       "김찬우  21  경영\n",
       "김현서  22  국문"
      ]
     },
     "execution_count": 35,
     "metadata": {},
     "output_type": "execute_result"
    }
   ],
   "source": [
    "# del df['칼럼명'] : 해당 칼럼 삭제\n",
    "\n",
    "*** df_new2['역할']\n",
    "df_new2"
   ]
  },
  {
   "cell_type": "markdown",
   "metadata": {},
   "source": [
    "### 📌 [과제 13]\n",
    "13. df_new3에 본인 포함 2명의 정보를 추가하고(행), 새로운 열을 만들어보자!"
   ]
  },
  {
   "cell_type": "code",
   "execution_count": 36,
   "metadata": {},
   "outputs": [
    {
     "data": {
      "text/html": [
       "<div>\n",
       "<style scoped>\n",
       "    .dataframe tbody tr th:only-of-type {\n",
       "        vertical-align: middle;\n",
       "    }\n",
       "\n",
       "    .dataframe tbody tr th {\n",
       "        vertical-align: top;\n",
       "    }\n",
       "\n",
       "    .dataframe thead th {\n",
       "        text-align: right;\n",
       "    }\n",
       "</style>\n",
       "<table border=\"1\" class=\"dataframe\">\n",
       "  <thead>\n",
       "    <tr style=\"text-align: right;\">\n",
       "      <th></th>\n",
       "      <th>학번</th>\n",
       "      <th>전공</th>\n",
       "      <th>복수전공</th>\n",
       "      <th>역할</th>\n",
       "    </tr>\n",
       "    <tr>\n",
       "      <th>이름</th>\n",
       "      <th></th>\n",
       "      <th></th>\n",
       "      <th></th>\n",
       "      <th></th>\n",
       "    </tr>\n",
       "  </thead>\n",
       "  <tbody>\n",
       "    <tr>\n",
       "      <th>윤해민</th>\n",
       "      <td>21</td>\n",
       "      <td>경영</td>\n",
       "      <td>인공지능융합</td>\n",
       "      <td>회장</td>\n",
       "    </tr>\n",
       "    <tr>\n",
       "      <th>황종빈</th>\n",
       "      <td>20</td>\n",
       "      <td>미엔</td>\n",
       "      <td>컴공</td>\n",
       "      <td>교육팀장</td>\n",
       "    </tr>\n",
       "    <tr>\n",
       "      <th>엄태림</th>\n",
       "      <td>20</td>\n",
       "      <td>심리</td>\n",
       "      <td>빅사</td>\n",
       "      <td>교육팀원</td>\n",
       "    </tr>\n",
       "    <tr>\n",
       "      <th>이지현</th>\n",
       "      <td>21</td>\n",
       "      <td>물리</td>\n",
       "      <td></td>\n",
       "      <td>교육팀원</td>\n",
       "    </tr>\n",
       "    <tr>\n",
       "      <th>김찬우</th>\n",
       "      <td>21</td>\n",
       "      <td>경영</td>\n",
       "      <td>경제</td>\n",
       "      <td>교육팀원</td>\n",
       "    </tr>\n",
       "  </tbody>\n",
       "</table>\n",
       "</div>"
      ],
      "text/plain": [
       "     학번  전공    복수전공    역할\n",
       "이름                       \n",
       "윤해민  21  경영  인공지능융합    회장\n",
       "황종빈  20  미엔      컴공  교육팀장\n",
       "엄태림  20  심리      빅사  교육팀원\n",
       "이지현  21  물리          교육팀원\n",
       "김찬우  21  경영      경제  교육팀원"
      ]
     },
     "execution_count": 36,
     "metadata": {},
     "output_type": "execute_result"
    }
   ],
   "source": [
    "df_new3 = df.copy()\n",
    "df_new3"
   ]
  },
  {
   "cell_type": "code",
   "execution_count": null,
   "metadata": {},
   "outputs": [],
   "source": [
    "***여기에 코드를 작성해주세요***"
   ]
  }
 ],
 "metadata": {
  "hide_input": false,
  "kernelspec": {
   "display_name": "base",
   "language": "python",
   "name": "python3"
  },
  "language_info": {
   "codemirror_mode": {
    "name": "ipython",
    "version": 3
   },
   "file_extension": ".py",
   "mimetype": "text/x-python",
   "name": "python",
   "nbconvert_exporter": "python",
   "pygments_lexer": "ipython3",
   "version": "3.11.3"
  },
  "toc": {
   "base_numbering": 1,
   "nav_menu": {},
   "number_sections": true,
   "sideBar": true,
   "skip_h1_title": false,
   "title_cell": "Table of Contents",
   "title_sidebar": "Contents",
   "toc_cell": false,
   "toc_position": {
    "height": "calc(100% - 180px)",
    "left": "10px",
    "top": "150px",
    "width": "215.326px"
   },
   "toc_section_display": true,
   "toc_window_display": true
  },
  "varInspector": {
   "cols": {
    "lenName": 16,
    "lenType": 16,
    "lenVar": 40
   },
   "kernels_config": {
    "python": {
     "delete_cmd_postfix": "",
     "delete_cmd_prefix": "del ",
     "library": "var_list.py",
     "varRefreshCmd": "print(var_dic_list())"
    },
    "r": {
     "delete_cmd_postfix": ") ",
     "delete_cmd_prefix": "rm(",
     "library": "var_list.r",
     "varRefreshCmd": "cat(var_dic_list()) "
    }
   },
   "types_to_exclude": [
    "module",
    "function",
    "builtin_function_or_method",
    "instance",
    "_Feature"
   ],
   "window_display": false
  }
 },
 "nbformat": 4,
 "nbformat_minor": 4
}
