{
 "cells": [
  {
   "cell_type": "markdown",
   "id": "a98b67b4",
   "metadata": {},
   "source": [
    "# 회귀분석 과정"
   ]
  },
  {
   "cell_type": "markdown",
   "id": "9d17678e",
   "metadata": {},
   "source": [
    "### 00. 기본 세팅: 패키지 import, csv 파일 읽기"
   ]
  },
  {
   "cell_type": "code",
   "execution_count": null,
   "id": "adde6ce5",
   "metadata": {
    "vscode": {
     "languageId": "plaintext"
    }
   },
   "outputs": [],
   "source": [
    "# 데이터 전처리 패키지\n",
    "import numpy as np\n",
    "import pandas as pd\n",
    "\n",
    "# 통계학습 패키지\n",
    "from scipy import stats\n",
    "import statsmodels.api as sm\n",
    "from statsmodels.formula.api import ols\n",
    "\n",
    "# 머신러닝 패키지\n",
    "import sklearn.linear_model\n",
    "from sklearn.model_selection import train_test_split\n",
    "\n",
    "# 시각화 패키지\n",
    "from matplotlib import pyplot as plt\n",
    "import seaborn as sns\n",
    "\n",
    "# 그래프를 실제로 그리기 위한 설정입니다\n",
    "%matplotlib inline\n",
    "\n",
    "# 경고 메시지를 무시합니다\n",
    "import warnings\n",
    "warnings.filterwarnings('ignore')"
   ]
  },
  {
   "cell_type": "code",
   "execution_count": null,
   "id": "bb88f45a",
   "metadata": {
    "vscode": {
     "languageId": "plaintext"
    }
   },
   "outputs": [],
   "source": [
    "df = pd.read_csv('~~~.csv')\n",
    "\n",
    "# index 를 1로 시작하도록 수정\n",
    "df.index += 1\n",
    "df"
   ]
  },
  {
   "cell_type": "markdown",
   "id": "225c196b",
   "metadata": {},
   "source": [
    "### 01. 기본 확인(결측치, 각 변수의 데이터 타입, 기본적인 기술 통곗값)"
   ]
  },
  {
   "cell_type": "code",
   "execution_count": null,
   "id": "6d97c381",
   "metadata": {
    "vscode": {
     "languageId": "plaintext"
    }
   },
   "outputs": [],
   "source": [
    "df.isnull().sum()"
   ]
  },
  {
   "cell_type": "markdown",
   "id": "4f6139fc",
   "metadata": {},
   "source": [
    "df.info()"
   ]
  },
  {
   "cell_type": "code",
   "execution_count": null,
   "id": "c546e1dd",
   "metadata": {
    "vscode": {
     "languageId": "plaintext"
    }
   },
   "outputs": [],
   "source": [
    "# 중간값, 결측치, 왜도, 첨도를 표시합니다.\n",
    "df_stats = df.describe().T # 전치시키는 연산. 행과 열의 위치를 바꿔줘요. \n",
    "\n",
    "median_results = []\n",
    "skew_results = []\n",
    "kurtosis_results = []\n",
    "null_results = []\n",
    "\n",
    "for idx, val in enumerate(df_stats.index):\n",
    "    median_results.append(df[val].median())\n",
    "    skew_results.append(df[val].skew())\n",
    "    kurtosis_results.append(df[val].kurtosis())\n",
    "    null_results.append(df[val].isnull().sum())\n",
    "\n",
    "df_stats['median'] = median_results\n",
    "df_stats['missing'] = null_results\n",
    "df_stats['skewness'] = skew_results\n",
    "df_stats['kurtosis'] = kurtosis_results\n",
    "df_stats"
   ]
  },
  {
   "cell_type": "markdown",
   "id": "30bb87c6",
   "metadata": {},
   "source": [
    "만약 종속 변수의 왜도가 치우쳐 있다면? \n",
    "-> 자연로그를 활용해 분포를 조정하자!"
   ]
  },
  {
   "cell_type": "code",
   "execution_count": null,
   "id": "a71dbf0c",
   "metadata": {
    "vscode": {
     "languageId": "plaintext"
    }
   },
   "outputs": [],
   "source": [
    "np.log(df['price']).hist()\n",
    "plt.show()"
   ]
  },
  {
   "cell_type": "markdown",
   "id": "fde92b03",
   "metadata": {},
   "source": [
    "### 02. 데이터 전처리"
   ]
  },
  {
   "cell_type": "code",
   "execution_count": null,
   "id": "bd913213",
   "metadata": {
    "vscode": {
     "languageId": "plaintext"
    }
   },
   "outputs": [],
   "source": [
    "# 데이터를 타입별로 분류\n",
    "\n",
    "def separate_dtype(DataFrame:df):\n",
    "    df_obj = df.select_dtypes(include=['object'])\n",
    "    df_numr = df.select_dtypes(include=['int64','float64'])\n",
    "    return [df_obj, df_numr]\n",
    "\n",
    "(df_obj, df_numr) = separate_dtype(df)"
   ]
  },
  {
   "cell_type": "markdown",
   "id": "56949abf",
   "metadata": {},
   "source": [
    "- column n자리만 추출\n",
    "- type 변경\n",
    "- 새로운 column명을 저장\n",
    "- 새로운 변수 추가 등등"
   ]
  },
  {
   "cell_type": "markdown",
   "id": "bc7c4a5a",
   "metadata": {},
   "source": [
    "### 03. 시각화를 통해  데이터 특징 파악"
   ]
  },
  {
   "cell_type": "markdown",
   "id": "642d931d",
   "metadata": {},
   "source": [
    "- 히스토그램을 통해 각각의 독립 변수 데이터의 분포를 확인\n",
    "- 종속 변수와 선형 관계가 있을 것 같은 독립 변수들을 선정하여 산점도(Scatter plot) 그래프 그리기\n",
    "- 히트맵(Heatmap)을 통해 종속 변수(price)와 상관관계가 높은 독립 변수들은 무엇인지 확인\n",
    "    - 독립 변수들 간에 상관관계가 높은 것들은 어떤 것인지 살펴보기\n",
    "- 종속 변수와 상관관계가 높은 변수들만 추려서 확인(정렬 이용)\n",
    "`df_corr.sort_values(by='종속변수', ascending=False)[['종속변수']]`\n",
    "- 상관관계가 높게 나온 변수들의 데이터 분포 확인\n",
    "\n",
    "-> 다중공선성이 있을 경우 상관관계가 가장 높은 변수로 분석 (아래는 예시)\n",
    "```     \n",
    "sns.jointplot(x='sqft_living', y='price', data=df, kind ='reg')   \n",
    "plt.show()   \n",
    "```   \n",
    "-> 선형 관계가 있으면 단순선형회귀분석 ㄱㄱ"
   ]
  },
  {
   "cell_type": "markdown",
   "id": "6feacaa8",
   "metadata": {},
   "source": [
    "### 04. 단순선형회귀분석"
   ]
  },
  {
   "cell_type": "markdown",
   "id": "34587bd0",
   "metadata": {},
   "source": [
    "OLS를 이용해 회귀분석을 할 때는 항상 상수항을 추가해야 함!\n",
    "- add_constant 함수를 사용해서 상수항을 추가\n",
    "```     \n",
    "X = df[['sqft_living']]\n",
    "y = df[['price']]\n",
    "\n",
    "X = sm.add_constant(X, has_constant=\"add\")\n",
    "X.head()\n",
    "```     "
   ]
  },
  {
   "cell_type": "markdown",
   "id": "62af655b",
   "metadata": {},
   "source": [
    "fit() 함수를 통해 선형 모델에 적합시키기\n",
    "```\n",
    "model = sm.OLS(y, X)\n",
    "result_model = model.fit()\n",
    "```\n",
    "\n",
    "해당 결과를 result_model에 저장하고 summary() 함수를 통해서 결과를 확인\n",
    "```\n",
    "result_model.summary()\n",
    "```"
   ]
  },
  {
   "cell_type": "markdown",
   "id": "942eadbf",
   "metadata": {},
   "source": [
    "##### 주요 항목별 세부 내용\n",
    "\n",
    "- Dep. Variable : 종속 변수, 타겟값.\n",
    "- Model : 학습 모델 / OLS(Ordinary Least Squares), 잔차 제곱합(손실)을 최소로 하는 파라미터를 선택하는 방법\n",
    "- Method : Least Squares / 잔차 제곱합(손실)을 최소로 하는 파라미터를 선택하는 방법\n",
    "- No. Observation : 데이터셋 크기\n",
    "- Df Residuals : 데이터셋 크기 - 추정된 파라미터 수를 뺀 것\n",
    "- Df Model : 독립 변수의 숫자\n",
    "- Covariance Type : 공분산 종류(default: nonrobust)\n",
    "- R-squared : 결정계수, 모델의 설명력(0~1 사이 값), 1에 가까울수록 모델의 설명력이 높음\n",
    "- Adj. R-squared : 조정된 결정계수, 조정된 모델의 설명력\n",
    "- Std. error : 계수의 표준 오차\n",
    "- F-statistic : F value\n",
    "- Prob (F-statistic): p-value\n",
    "- Log-Likelihood : 최대 로그 우도\n",
    "- 아카이케 정보 기준(Akaike's Information Criterion; AIC) : 모델의 성능지표로 작을수록 좋은 모델\n",
    "- Coef : 계수값\n",
    "- P>|t| : p-value"
   ]
  },
  {
   "cell_type": "markdown",
   "id": "057d3286",
   "metadata": {},
   "source": [
    "실제 타겟값과 모델을 통해 추정한 값, 잔차(residual)를 확인\n",
    "```\n",
    "result_model.resid.plot()\n",
    "plt.show()\n",
    "```"
   ]
  },
  {
   "cell_type": "markdown",
   "id": "de60deec",
   "metadata": {},
   "source": [
    "### 05. 다중선형회귀분석"
   ]
  },
  {
   "cell_type": "markdown",
   "id": "e0f5a675",
   "metadata": {},
   "source": [
    "모든 변수에 대해 **다중공선성(multicollinearlity)** 문제를 확인해야 함"
   ]
  },
  {
   "cell_type": "code",
   "execution_count": null,
   "id": "7a229848",
   "metadata": {
    "vscode": {
     "languageId": "plaintext"
    }
   },
   "outputs": [],
   "source": [
    "from statsmodels.stats.outliers_influence import variance_inflation_factor\n",
    "\n",
    "df_vif = pd.DataFrame()\n",
    "df_vif[\"VIF\"] = np.round([variance_inflation_factor(df_reg.values, i) for i in range(df_reg.shape[1])], 2)\n",
    "\n",
    "df_vif[\"features\"] = df_reg.columns\n",
    "df_vif.sort_values(by='VIF', ascending=False)"
   ]
  },
  {
   "cell_type": "markdown",
   "id": "cca9bb70",
   "metadata": {},
   "source": [
    "변수를 선택해 회귀분석"
   ]
  },
  {
   "cell_type": "code",
   "execution_count": null,
   "id": "6e096857",
   "metadata": {
    "vscode": {
     "languageId": "plaintext"
    }
   },
   "outputs": [],
   "source": [
    "df_reg = df[['bedrooms','sqft_living','waterfront','view','sold-built_years','price']]\n",
    "\n",
    "df_kc_reg = sm.add_constant(df_reg, has_constant='add')\n",
    "feature_columns = list(df_kc_reg.columns.difference(['price']))\n",
    "\n",
    "X = df_kc_reg[feature_columns]\n",
    "y = np.log(df_kc_reg.price)\n",
    "\n",
    "# 회귀 모형\n",
    "multi_linear_model = sm.OLS(y, X)\n",
    "result_model_2 = multi_linear_model.fit()\n",
    "result_model_2.summary()"
   ]
  },
  {
   "cell_type": "markdown",
   "id": "adcfd732",
   "metadata": {},
   "source": [
    "다중공선성 재확인"
   ]
  },
  {
   "cell_type": "code",
   "execution_count": null,
   "id": "8d357ea5",
   "metadata": {
    "vscode": {
     "languageId": "plaintext"
    }
   },
   "outputs": [],
   "source": [
    "df_vif = pd.DataFrame()\n",
    "df_vif[\"VIF\"] = np.round([variance_inflation_factor(df_reg.values, i) for i in range(df_reg.shape[1])], 2)\n",
    "\n",
    "df_vif[\"features\"] = df_reg.columns\n",
    "df_vif.sort_values(by='VIF', ascending=False)"
   ]
  },
  {
   "cell_type": "markdown",
   "id": "004c23df",
   "metadata": {},
   "source": [
    "### 06. 회귀모형의 가정 진단"
   ]
  },
  {
   "cell_type": "markdown",
   "id": "d1d8460e",
   "metadata": {},
   "source": [
    "##### 1. 선형성 검정"
   ]
  },
  {
   "cell_type": "code",
   "execution_count": null,
   "id": "64dd9c3d",
   "metadata": {
    "vscode": {
     "languageId": "plaintext"
    }
   },
   "outputs": [],
   "source": [
    "import matplotlib.pyplot as plt\n",
    "\n",
    "fitted = result_model_2.fittedvalues\n",
    "\n",
    "plt.scatter(fitted, y, alpha=0.5, label='Data')\n",
    "\n",
    "# 대각선 추가\n",
    "min_val = min(fitted.min(), y.min())\n",
    "max_val = max(fitted.max(), y.max())\n",
    "plt.plot([min_val, max_val], [min_val, max_val], color='red', linestyle='--', label='y = x')\n",
    "\n",
    "plt.xlabel('Fitted values')\n",
    "plt.ylabel('Actual values')\n",
    "plt.title('Fitted vs Actual (Log Price)')\n",
    "plt.legend()\n",
    "plt.show()"
   ]
  },
  {
   "cell_type": "markdown",
   "id": "27a4af38",
   "metadata": {},
   "source": [
    "##### 2. 정규성 검정"
   ]
  },
  {
   "cell_type": "code",
   "execution_count": null,
   "id": "79be5930",
   "metadata": {
    "vscode": {
     "languageId": "plaintext"
    }
   },
   "outputs": [],
   "source": [
    "# Q-Q 도표\n",
    "qqplot = sm.qqplot(result_model_2.resid, line=\"s\")\n",
    "plt.show() \n",
    "\n",
    "# 잔차의 분포\n",
    "resid = result_model_2.resid\n",
    "sns.histplot(resid, kde=True, bins=30)\n",
    "plt.title(\"Residuals Distribution\")\n",
    "plt.show()\n",
    "\n",
    "# 잔차 패턴 확인\n",
    "fitted = result_model_2.predict()\n",
    "\n",
    "resid = result_model_2.resid\n",
    "pred = result_model_2.predict(X)\n",
    "\n",
    "fig = plt.scatter(pred, resid, s=3)\n",
    "\n",
    "plt.xlabel('Fitted values')\n",
    "plt.ylabel('Residual')\n",
    "plt.show()\n",
    "\n",
    "# 샤피로 - 월크 검정\n",
    "result_shapiro = stats.shapiro(result_model_2.resid)\n",
    "\n",
    "print(f\"F value : {result_shapiro[0]:.4f} / p-value : {result_shapiro[1]:.4f}\")\n",
    "\n",
    "if result_shapiro[1] < 0.05:\n",
    "    print(\"p-value < 0.05 입니다.\")\n",
    "\n",
    "# 관측치 개수 확인\n",
    "print(f\"관측치는: {len(result_model_2.resid)}\")"
   ]
  },
  {
   "cell_type": "markdown",
   "id": "c7eefd43",
   "metadata": {},
   "source": [
    "##### 3. 독립성 검정\n",
    "다중공선성 확인하면 됨!"
   ]
  },
  {
   "cell_type": "markdown",
   "id": "432e859d",
   "metadata": {},
   "source": [
    "##### 4. 오차항의 자기상관 검정"
   ]
  },
  {
   "cell_type": "code",
   "execution_count": null,
   "id": "13943213",
   "metadata": {
    "vscode": {
     "languageId": "plaintext"
    }
   },
   "outputs": [],
   "source": [
    "# ACF (Auto-Correlation Function)\n",
    "sm.graphics.tsa.plot_acf(result_model_2.resid)\n",
    "plt.show()"
   ]
  },
  {
   "cell_type": "code",
   "execution_count": null,
   "id": "06534591",
   "metadata": {
    "vscode": {
     "languageId": "plaintext"
    }
   },
   "outputs": [],
   "source": [
    "from statsmodels.stats.stattools import durbin_watson\n",
    "\n",
    "dw_stat = durbin_watson(result_model_2.resid)\n",
    "print(f'Durbin-Watson stat: {dw_stat:.3f}')"
   ]
  },
  {
   "cell_type": "markdown",
   "id": "0e859f6d",
   "metadata": {},
   "source": [
    "Durbin-Watson이 2에 가까우면 자기상관이 없다 -> 오차항은 자기상관 되어있지 않다"
   ]
  },
  {
   "cell_type": "markdown",
   "id": "76264299",
   "metadata": {},
   "source": [
    "##### 5. 등분산성"
   ]
  },
  {
   "cell_type": "code",
   "execution_count": null,
   "id": "04ee427c",
   "metadata": {
    "vscode": {
     "languageId": "plaintext"
    }
   },
   "outputs": [],
   "source": [
    "sns.distplot(result_model_2.resid)\n",
    "plt.show()"
   ]
  },
  {
   "cell_type": "code",
   "execution_count": null,
   "id": "06f265de",
   "metadata": {
    "vscode": {
     "languageId": "plaintext"
    }
   },
   "outputs": [],
   "source": [
    "result_model_2.resid.plot()\n",
    "plt.show()"
   ]
  },
  {
   "cell_type": "markdown",
   "id": "f68c76e6",
   "metadata": {},
   "source": [
    "##### 6. 오차항의 평균 0인지"
   ]
  },
  {
   "cell_type": "code",
   "execution_count": null,
   "id": "94e0d469",
   "metadata": {
    "vscode": {
     "languageId": "plaintext"
    }
   },
   "outputs": [],
   "source": [
    "print(np.mean(result_model_2.resid))"
   ]
  }
 ],
 "metadata": {
  "language_info": {
   "name": "python"
  }
 },
 "nbformat": 4,
 "nbformat_minor": 5
}
