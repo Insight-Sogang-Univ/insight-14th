{
 "cells": [
  {
   "cell_type": "markdown",
   "id": "f9c092a8-895d-4cf4-b7ee-d3c50e6c2ec6",
   "metadata": {},
   "source": [
    "# Pandas 세션 사전과제"
   ]
  },
  {
   "cell_type": "markdown",
   "id": "e487ebd4-f176-4f9a-8cab-49d6d04d4b70",
   "metadata": {},
   "source": [
    "## Pandas란?"
   ]
  },
  {
   "cell_type": "markdown",
   "id": "34f04375-f75c-40e1-b37e-e267b4a53a78",
   "metadata": {},
   "source": [
    "- 파이썬에서 데이터 분석을 쉽게 할 수 있도록 도와주는 라이브러리!\n",
    "- **행과 열로 이루어진 데이터 객체**를 만들어 다룰 수 있게 되며, 보다 **안정적으로 대용량의 데이터들을 처리**하는데 매우 편리\n",
    "- Numpy의 확장판으로, Numpy 기능 + 구조화 된 데이터 처리 기능을 보유함"
   ]
  },
  {
   "cell_type": "markdown",
   "id": "66605360-4083-48b4-b3a5-134e8ba1e3d8",
   "metadata": {},
   "source": [
    "## 1. Pandas의 자료구조"
   ]
  },
  {
   "cell_type": "markdown",
   "id": "67b0fb29-d071-474a-a08a-b5a69e8aac4c",
   "metadata": {},
   "source": [
    "### 1-1 Series"
   ]
  },
  {
   "cell_type": "markdown",
   "id": "c64f4fdf-8150-47b5-9638-71a967fbbb39",
   "metadata": {},
   "source": [
    "- 1차원 배열 형태\n",
    "- **인덱스(Index)**와 **값(Value)**으로 구성"
   ]
  },
  {
   "cell_type": "code",
   "execution_count": null,
   "id": "e832fa07-dbd4-4a50-95c3-fad72bb477ce",
   "metadata": {},
   "outputs": [],
   "source": [
    "#실행 방법\n",
    "import pandas as pd"
   ]
  },
  {
   "cell_type": "code",
   "execution_count": null,
   "id": "309209cb-0c59-45ff-80ce-7762ec767cfb",
   "metadata": {},
   "outputs": [],
   "source": [
    "s = pd.Series([10, 20, 30], index=['a', 'b', 'c'])\n",
    "print(s)"
   ]
  },
  {
   "cell_type": "code",
   "execution_count": null,
   "id": "890ac40e-5b4b-4852-b240-ddcaeb82d7df",
   "metadata": {},
   "outputs": [],
   "source": [
    "#출력\n",
    "a    10\n",
    "b    20\n",
    "c    30\n",
    "dtype: int64"
   ]
  },
  {
   "cell_type": "markdown",
   "id": "7a1a5e49-1bf8-46e8-9db0-b1780b7c01c9",
   "metadata": {},
   "source": [
    "### 1-2. DataFrame"
   ]
  },
  {
   "cell_type": "markdown",
   "id": "da815348-8a69-4163-b63c-f8ee2b34bf85",
   "metadata": {},
   "source": [
    "- 2차원 표 형태 (행과 열)\n",
    "- 여러 Series를 모아서 만든 구조"
   ]
  },
  {
   "cell_type": "code",
   "execution_count": null,
   "id": "b2f0c157-45df-4e98-bd42-a95a371bee68",
   "metadata": {},
   "outputs": [],
   "source": [
    "data = {'국어':[90, 80], '수학':[70, 85]}\n",
    "df = pd.DataFrame(data, index=['학생1','학생2'])\n",
    "print(df)"
   ]
  },
  {
   "cell_type": "code",
   "execution_count": null,
   "id": "b84be124-8d29-4f48-a32d-040968ac54fb",
   "metadata": {},
   "outputs": [],
   "source": [
    "#출력"
   ]
  },
  {
   "cell_type": "markdown",
   "id": "6b0217c4-3612-4c80-86e3-81c4b0fdab5d",
   "metadata": {},
   "source": [
    "        국어  수학\n",
    "학생1   90   70\n",
    "학생2   80   85"
   ]
  },
  {
   "cell_type": "markdown",
   "id": "ec0a985b-786c-400e-bcdd-d88663ab8633",
   "metadata": {},
   "source": [
    "## 2. DataFrame 기본 기능"
   ]
  },
  {
   "cell_type": "markdown",
   "id": "5b9f6220-f6f8-4d29-95bd-b3bb4c2b64fd",
   "metadata": {},
   "source": [
    "### 2-1. 데이터 확인"
   ]
  },
  {
   "cell_type": "code",
   "execution_count": null,
   "id": "2cc428a2-c12e-4959-a0e6-fd7f87c8defa",
   "metadata": {},
   "outputs": [],
   "source": [
    "df.head()    # 상위 5개 행\n",
    "df.tail()    # 하위 5개 행\n",
    "df.info()    # 데이터 정보 확인\n",
    "df.describe()# 기초 통계량 확인"
   ]
  },
  {
   "cell_type": "markdown",
   "id": "c4129e72-0194-441d-8637-de3eb59b6ae4",
   "metadata": {},
   "source": [
    "### 2-2. 열 선택"
   ]
  },
  {
   "cell_type": "code",
   "execution_count": null,
   "id": "827374c5-d063-4c16-8171-a87d69a42066",
   "metadata": {},
   "outputs": [],
   "source": [
    "df['국어']       # 단일 열 선택 (Series 반환)\n",
    "df[['국어','수학']] # 여러 열 선택 (DataFrame 반환)"
   ]
  },
  {
   "cell_type": "markdown",
   "id": "9c790a48-5362-4c24-89de-682b4474777f",
   "metadata": {},
   "source": [
    "### 2-3. 행 선택"
   ]
  },
  {
   "cell_type": "code",
   "execution_count": null,
   "id": "9b6c1347-782b-4b16-bb07-cbd2c0717883",
   "metadata": {},
   "outputs": [],
   "source": [
    "df.loc['학생1']  # 인덱스로 선택\n",
    "df.iloc[0]       # 순서로 선택"
   ]
  },
  {
   "cell_type": "markdown",
   "id": "0462c4e2-e834-4d8f-a457-05492f782de7",
   "metadata": {},
   "source": [
    "### 2-4. 조건 필터링"
   ]
  },
  {
   "cell_type": "code",
   "execution_count": null,
   "id": "1e501d2d-196d-4898-b5bb-fa529aa4912d",
   "metadata": {},
   "outputs": [],
   "source": [
    "df[df['국어'] >= 85]  # 국어 점수가 85 이상인 행 선택"
   ]
  },
  {
   "cell_type": "markdown",
   "id": "43ac1a49-9db3-4dd1-a27d-58e753a1cc55",
   "metadata": {},
   "source": [
    "### 2-5. 새로운 열 추가"
   ]
  },
  {
   "cell_type": "code",
   "execution_count": null,
   "id": "f3fa40bf-3702-40a9-8d8d-ebbbd2d2df85",
   "metadata": {},
   "outputs": [],
   "source": [
    "df['총점'] = df['국어'] + df['수학']"
   ]
  },
  {
   "cell_type": "markdown",
   "id": "5f910911-4f54-49e7-8063-afdf6e841560",
   "metadata": {},
   "source": [
    "## 3. 데이터 요약 및 통계"
   ]
  },
  {
   "cell_type": "code",
   "execution_count": null,
   "id": "3ef43a39-20d7-4f55-ae03-04e54241e67e",
   "metadata": {},
   "outputs": [],
   "source": [
    "df.mean()      # 각 열의 평균\n",
    "df.sum(axis=1) # 각 행의 합\n",
    "df.max()       # 각 열의 최대값\n",
    "df.min()       # 각 열의 최소값"
   ]
  }
 ],
 "metadata": {
  "kernelspec": {
   "display_name": "Python [conda env:base] *",
   "language": "python",
   "name": "conda-base-py"
  },
  "language_info": {
   "codemirror_mode": {
    "name": "ipython",
    "version": 3
   },
   "file_extension": ".py",
   "mimetype": "text/x-python",
   "name": "python",
   "nbconvert_exporter": "python",
   "pygments_lexer": "ipython3",
   "version": "3.13.5"
  }
 },
 "nbformat": 4,
 "nbformat_minor": 5
}
