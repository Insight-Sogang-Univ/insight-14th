{
 "cells": [
  {
   "cell_type": "markdown",
   "id": "893315ed",
   "metadata": {},
   "source": [
    "# INSIGHT 교육세션 사전학습 과제\n",
    "## 3차_통계 세션"
   ]
  },
  {
   "cell_type": "markdown",
   "id": "feebb4ee",
   "metadata": {
    "vscode": {
     "languageId": "plaintext"
    }
   },
   "source": [
    "## <span style=\"background-color:#E0F7FA; color:#1565C0; padding:4px; border-radius:5px;\"> 통계 </span>"
   ]
  },
  {
   "cell_type": "markdown",
   "id": "e820cf59",
   "metadata": {},
   "source": [
    "통계: 숫자로 표현된 사실\n",
    "\n",
    "- **기술통계**: 수치와 시각화를 통해 샘플을 요약하여 표현하는 방법론\n",
    "    - 내가 갖고 있는 샘플 자체에 대한 관심\n",
    "- **추론통계**: 추정과 검정을 통해 샘플로부터 모집단을 추론하는 방법론\n",
    "    - 이 샘플의 모집단에 대한 관심"
   ]
  },
  {
   "cell_type": "markdown",
   "id": "eb191b27",
   "metadata": {},
   "source": [
    "## <span style=\"background-color:#E0F7FA; color:#1565C0; padding:4px; border-radius:5px;\"> 자료의 척도 </span>"
   ]
  },
  {
   "cell_type": "markdown",
   "id": "5f3b272c",
   "metadata": {},
   "source": [
    "### <span style=\"background-color:#FFFFE0; color:#CD5C5C; padding:4px; border-radius:5px;\"> 명목척도 </span>\n",
    "레이블이나 이름으로 요소의 속성을 식별하려고 하는 척도\n",
    "- ex. 펀드 유형(국내주식: 1, 국제주식: 2, 채권: 3), 성별(남: 0, 여: 1)\n",
    "\n",
    "### <span style=\"background-color:#FFFFE0; color:#CD5C5C; padding:4px; border-radius:5px;\"> 서열척도 </span>\n",
    "명목형의 분류 속성과 더불어, 항목 간의 순서 또는 순위를 나타내는 특성을 지니는 척도\n",
    "- ex. 만족도(좋음 > 보통 > 나쁨), 직급 체계(사원 < 대리 < 과장 < 차장 < 부장)\n",
    "\n",
    "### <span style=\"background-color:#FFFFE0; color:#CD5C5C; padding:4px; border-radius:5px;\"> 구간(등간)척도 </span>\n",
    "값들 사이에 순서가 있고, 그 간격이 일정하여 덧셈이나 평균과 같은 연산이 가능한 척도 *but 곱셈과 나눗셈은 의미를 지니지 못함*\n",
    "- ex. 온도(섭씨, 화씨), IQ, 시간\n",
    "\n",
    "### <span style=\"background-color:#FFFFE0; color:#CD5C5C; padding:4px; border-radius:5px;\"> 비율척도 </span>\n",
    "절대영점과 임의의 측정단위로 구성하고, 동간성이 유지되는 척도\n",
    "- ex. 거리, 높이, 무게"
   ]
  },
  {
   "cell_type": "markdown",
   "id": "6b468188",
   "metadata": {},
   "source": [
    "## <span style=\"background-color:#E0F7FA; color:#1565C0; padding:4px; border-radius:5px;\"> 기술통계 </span>"
   ]
  },
  {
   "cell_type": "markdown",
   "id": "f3b7848c",
   "metadata": {},
   "source": [
    "기술통계: 데이터를 있는 그대로 설명하고 이해하는 데 중점을 둔 통계 방법\n",
    "주요 도구\n",
    "- **중심화 경향**\n",
    "    - 평균, 중앙값, 최빈값...\n",
    "- **자료의 산포**\n",
    "    - 분산, 표준편차, 범위...\n",
    "- **자료의 정리 및 시각화**\n",
    "    - 히스토그램, 박스플롯, 파이차트..."
   ]
  },
  {
   "cell_type": "markdown",
   "id": "d68bd84e",
   "metadata": {
    "vscode": {
     "languageId": "plaintext"
    }
   },
   "source": [
    "### <span style=\"background-color:#FFFFE0; color:#CD5C5C; padding:4px; border-radius:5px;\"> 중심화 경향 </span>\n",
    ": 데이터의 중심적인 경향을 나타내는 기술 통계량\n",
    "\n",
    "1. **평균(mean)**\n",
    "- 데이터 값의 총합을 데이터의 개수로 나눈 값. 데이터의 중심 경향성을 나타내는 가장 대표적인 지표\n",
    "- 총합을 사용하기에, 이상치(outlier)에 민감할 수 있다.\n",
    "- `series.mean()`\n",
    "\n",
    "2. **중앙값 (median)**\n",
    "- 데이터를 크기 순서대로 일렬로 정렬했을 때, 한가운데에 위치하는 값 (if 데이터가 짝수개라면 가운데 있는 두 값의 평균)\n",
    "- 평균에 비해 이상치에 덜 민감하며, 데이터의 중심 경향성을 나타내는 대안적인 지표\n",
    "- `series.median()`\n",
    "\n",
    "3. **최빈값 (mode)**\n",
    "- 데이터에서 가장 자주 나타나는 값\n",
    "- 주로 이산형 데이터(Discrete Data), 데이터의 분포를 이해하는데 도움을 준다.\n",
    "- `series.mode()`"
   ]
  },
  {
   "cell_type": "markdown",
   "id": "ed88d52e",
   "metadata": {},
   "source": [
    "### <span style=\"background-color:#FFFFE0; color:#CD5C5C; padding:4px; border-radius:5px;\"> 자료의 산포 </span>\n",
    ": 데이터가 퍼져있는 정도를 설명하는 기술 통계량\n",
    "\n",
    "1. **범위 (range)**\n",
    "- 데이터의 최대값과 최소값의 차이를 나타내는 지표로, 데이터의 전체 변동 범위를 나타낸다.\n",
    "- `series.max() - series.min()`\n",
    "\n",
    "2. **분산 (variance)**\n",
    "- 데이터 값들이 평균으로부터 얼마나 멀리 퍼져있는지를 나타내는 중요한 통계적 지표\n",
    "- 분산값이 크다는 것은 데이터가 많이 퍼져있음을 의미한다.\n",
    "- `series.var()`\n",
    "\n",
    "3. **표준편차 (standard deviation)**\n",
    "- 분산에 제곱근을 취한 값\n",
    "- `series.std()`\n",
    "\n",
    "4. **사분위수 (quartile)**\n",
    "- 데이터의 표본을 네 개의 동일한 크기로 나눈 값\n",
    "    - Q1 = 하위 25퍼센트에 위치한 값, `하위 사분위수` \n",
    "    - Q2 = 하위 50퍼센트에 위치한 값, `중앙값` \n",
    "    - Q3 = 하위 75퍼센트(상위 25%)에 위치한 값, `상위 사분위수`\n",
    "\n",
    "5. **사분위간 범위 (IQR)**\n",
    "- Q3에서 Q1 값을 제외한 범위, 즉 데이터의 중앙 50%가 퍼져 있는 범위. 이상치를 탐지할 때 유용하다. (Tukey Fence)\n",
    "    - 아래쪽 이상치: Q1 − 1.5×IQR 보다 작은 값\n",
    "    - 위쪽 이상치: Q3 + 1.5×IQR 보다 큰 값\n",
    "\n",
    "6. **변동계수 (coefficient of variation)**\n",
    "- 데이터의 절대적인 변동성이 아닌 상대적인 변동성을 나타내는 통계적 지표\n",
    "\n",
    "+ 첨도는 확률분포의 꼬리가 두꺼운 정도를 나타내는 척도\n",
    "+ 왜도는 비대칭도(실수 값 확률 변수의 확률 분포 비대칭성을 나타내는 지표)\n",
    "    - 평균=중앙값이면 왜도는 0!"
   ]
  },
  {
   "cell_type": "markdown",
   "id": "200841b4",
   "metadata": {},
   "source": [
    "## <span style=\"background-color:#E0F7FA; color:#1565C0; padding:4px; border-radius:5px;\"> 확률과 분포 </span>"
   ]
  },
  {
   "cell_type": "markdown",
   "id": "89b2341e",
   "metadata": {},
   "source": [
    "추론통계는 “끊임없는 의심과 도전”을 견뎌내며, 점차적으로 더 정교한 논리 체계로 발전!"
   ]
  },
  {
   "cell_type": "markdown",
   "id": "491dfdd0",
   "metadata": {},
   "source": [
    "추론통계는 “끊임없는 의심과 도전”을 견뎌내며, 점차적으로 더 정교한 논리 체계로 발전!\n",
    "- 표본분포, 점추정, 구간추정, 신뢰수준, 가설검정, 유의수준 등.."
   ]
  },
  {
   "cell_type": "markdown",
   "id": "e3b13846",
   "metadata": {},
   "source": [
    "### <span style=\"background-color:#FFFFE0; color:#CD5C5C; padding:4px; border-radius:5px;\"> 확률분포 </span>\n",
    "\n",
    "**확률변수**는 random한 세계에서 어떤 특정 사건이 발생할 때 나타날 수 있는 모든 경우의 수를 특정 값으로 대응시키는 함수\n",
    "**확률분포**는 확률변수가 특정한 값을 가질 확률을 나타내는 함수를 의미합니다.\n",
    "- **이산확률분포**는 확률 변수가 이산적인(discrete) 값을 가지는 경우\n",
    "    - 베르누이분포, 이항분포, 기하분포, 음이항분포, 초기하분포, 포아송분포\n",
    "- **연속확률분포**는 확률 변수가 연속적인(continuous) 값을 가지는 경우\n",
    "    - 정규분포, T분포, F분포, 감마분포, 지수분포, 카이제곱분포, 균등분포"
   ]
  },
  {
   "cell_type": "markdown",
   "id": "fe1e53fe",
   "metadata": {},
   "source": [
    "### <span style=\"background-color:#FFFFE0; color:#CD5C5C; padding:4px; border-radius:5px;\"> 정규분포 </span>\n",
    "[형태]\n",
    "- 종(bell) 모양\n",
    "- 평균을 기준으로 대칭\n",
    "- 표준편차가 클수록 곡선이 평평해짐 (데이터가 넓게 퍼짐)\n",
    "\n",
    "[매개변수] \n",
    "- 평균(μ), 표준편차(σ)\n",
    "\n",
    "[특징] \n",
    "- 가장 잘 알려진 (연속)확률분포\n",
    "- 많은 자연 현상과 사회 현상이 정규분포를 따르는 것으로 알려져 있음\n",
    "\n",
    "원래는 모집단의 분포가 정규분포를 따를 때 표본평균의 분포도 정규분포를 따른다고 말할 수 있지만 중심극한정리에 따르면, 표본의 크기가 커질수록 표본평균의 분포는 **모집단의 분포와 상관없이** 정규분포에 가까워짐!\n",
    " - 즉, **모집단의 분포를 몰라도 표본의 크기가 충분히 크다면(n>=30)** **포본평균의 분포는 근사적으로 정규분포를 따른다**고 가정할 수 있음"
   ]
  },
  {
   "cell_type": "markdown",
   "id": "cad0afcb",
   "metadata": {},
   "source": [
    "### <span style=\"background-color:#FFFFE0; color:#CD5C5C; padding:4px; border-radius:5px;\"> 표본분포 </span>\n",
    ": 정규분포를 따르는 모집단에서 추출한 표본(sample) 통계량들이 따르는 분포\n",
    "\n",
    "- T분포, 카이제곱분포, F분포\n",
    "- 모집단 자체가 갖는 분포라기보다는, 정규분포의 통계적 성질을 이용해 가설 검정이나 구간 추정 같은 통계적 추론을 하기 위해 만들어진 도구\n",
    "- 전제 조건: 우리가 추출한 표본이 '정규분포를 따르는 모집단'으로부터 왔다는 가정 ► 확인하기 위해 **정규성 검정**!"
   ]
  },
  {
   "cell_type": "markdown",
   "id": "2c717815",
   "metadata": {},
   "source": [
    "<span style=\"background-color:#FFFFE0; color:#CD5C5C; padding:4px; border-radius:5px;\"> T분포 (T-Distribution) </span>\n",
    "\n",
    "[형태]\n",
    "- 종(bell) 모양, 정규분포보다 꼬리가 두꺼움\n",
    "- 평균을 기준으로 대칭\n",
    "- 자유도가 커짐에 따라 표준정규분포 N(0,1)에 수렴\n",
    "\n",
    "[매개변수]\n",
    "- 자유도(df)\n",
    "\n",
    "[특징]\n",
    "- 표본으로 모평균(혹은 모평균 간의 차이)을 추정할 때 사용되는 분포\n",
    "- 표본 크기가 작을 때 정규분포보다 더 정확한 결과를 제공함\n"
   ]
  },
  {
   "cell_type": "markdown",
   "id": "9577cab1",
   "metadata": {},
   "source": [
    "<span style=\"background-color:#FFFFE0; color:#CD5C5C; padding:4px; border-radius:5px;\"> 카이제곱분포 (Chi-Square Distribution) </span>\n",
    "\n",
    "[형태]\n",
    "- 0에서 시작하여 오른쪽으로 긴 꼬리를 가진 비대칭 분포 \n",
    "- 자유도가 증가함에 따라 중심이 오른쪽으로 이동하고 모양이 더 대칭적으로 변화하며, 정규분포에 가까워짐\n",
    "\n",
    "[매개변수]\n",
    "- 자유도(df)\n",
    "\n",
    "[특징]\n",
    "- 독립적인 표준 정규 분포를 따르는 변수들의 제곱 합\n",
    "- 즉, 표본분산의 분포와 관련된 지표\n",
    "- 주로 독립성 검정, 적합도 검정 등에 사용됨"
   ]
  },
  {
   "cell_type": "markdown",
   "id": "c09815c4",
   "metadata": {},
   "source": [
    "<span style=\"background-color:#FFFFE0; color:#CD5C5C; padding:4px; border-radius:5px;\"> F분포 (F-Distribution) </span>\n",
    "\n",
    "[형태]\n",
    "- 0에서 시작하여 오른쪽으로 긴 꼬리를 가진 비대칭 분포 \n",
    "- 자유도가 증가함에 따라 중심이 오른쪽으로 이동하고 모양이 더 대칭적으로 변화하며, 정규분포에 가까워짐\n",
    "\n",
    "[매개변수]\n",
    "- 자유도(df)\n",
    "\n",
    "[특징]\n",
    "- 두 독립적인 카이 제곱 분포의 비율\n",
    "- 두 집단 간의 분산 차이를 비교하는 데 사용됨"
   ]
  },
  {
   "cell_type": "markdown",
   "id": "1303840a",
   "metadata": {},
   "source": [
    "## <span style=\"background-color:#E0F7FA; color:#1565C0; padding:4px; border-radius:5px;\"> 추론 통계 - 추정 </span>"
   ]
  },
  {
   "cell_type": "markdown",
   "id": "7424580d",
   "metadata": {},
   "source": [
    "**추론 통계**: 수집한 데이터를 기반으로 미래의, 혹은 조사하지 못한 전체 정보를 추론하고 결론을 도출하는 방법을 다루는 분야로, 통계적 가설검정과 신뢰구간 등이 여기에 속함\n",
    "- **추정**: 모집단을 대표할 수 있는 일부를 표본으로 추출하여 분석한 통계량을 이용해서 모집단의 모수를 예측하는 과정\n",
    "    - **점추정** : 추정하고자 하는 모수를 하나의 수치로 추정\n",
    "    - **구간추정** : 추정하고자 하는 모수가 존재하리라 예상하는 구간을 정하여 추정\n",
    "- **검정**: 표본을 추출하여 얻은 표본통계량으로 모집단 모수에 대한 새로운 예상·가설 등이 옳다고 판단할 수 있는지를 평가하는 과정"
   ]
  },
  {
   "cell_type": "markdown",
   "id": "ab1a2a0f",
   "metadata": {},
   "source": [
    "## <span style=\"background-color:#E0F7FA; color:#1565C0; padding:4px; border-radius:5px;\"> 추론 통계 - 검정 </span>"
   ]
  },
  {
   "cell_type": "markdown",
   "id": "fea5432c",
   "metadata": {},
   "source": [
    "**가설 검정**: 모집단의 실제 값이 얼마가 된다는 주장과 관련해, 표본의 정보를 사용해서 가설의 합당성 여부를 판정하는 과정을 의미\n",
    "- 가설 설정 - 유의 수준 설정 - 검정통계량 산출 - 가설 기각/채택 판단"
   ]
  },
  {
   "cell_type": "markdown",
   "id": "5cf80825",
   "metadata": {},
   "source": [
    "1. **가설 설정**\n",
    "- 귀무가설 H0와 대립가설 H1를 설정\n",
    "    - 귀무가설은 주로 기각하고자 하는 명제로 설정\n",
    "    - 대립가설은 내가 주장하고자 하는 명제 로 설정\n",
    "\n",
    "2. **유의 수준 설정**\n",
    "- 유의수준: 연구자가 결과를 판단할 때 허용할 수 있는 오류의 최대치로, 주로 0.05, 즉 5%로 설정\n",
    "- **1종, 2종 오류**\n",
    "    - 1종 오류(𝛼) : 귀무가설이 실제로 참이었는데 기각할 확률\n",
    "    - 2종 오류(𝛽) : 귀무가설이 실제로 거짓인데 기각하지 못할 확률\n",
    "    - 유의수준은 1종 오류의 확률!\n",
    "\n",
    "3. **검정통계량 산출**\n",
    "- 검정통계량: 가설 검정의 결과를 판단하는 데 사용되는 값\n",
    "- 데이터의 분포나 특징에 따라 T값, F값 등 어떤 통계량을 사용할지 정해야함\n",
    "- **Z값, T값, F값**\n",
    "\n",
    "4. **가설 기각/채택 판단**\n",
    "- 유의확률(p-value): 가설 검정에 쓰일 수 있는 또 다른 척도\n",
    "- 유의확률은 검정통계량에서 유도할 수 있으며 유의 확률(p)가 유의 수준(α)보다 작을 시에 귀무가설을 기각, 클 시에는 귀무 가설을 기각하지 못함\n"
   ]
  },
  {
   "cell_type": "markdown",
   "id": "702cad61",
   "metadata": {},
   "source": [
    "데이터의 자료형에 따라 검정 방법이 달라진다!\n",
    "\n",
    "1. <span style=\"background-color:#FFFFE0; color:#CD5C5C; padding:4px; border-radius:5px;\"> [수치형 - 수치형] (피어슨)상관분석 </span>\n",
    "\n",
    "- **피어슨 상관 분석**: 두 변수간 피어슨 상관계수가 얼마나 **유의미한지**를 검정하는 방법\n",
    "\n",
    "- 가설\n",
    "\t> H0: 두 변수간 선형 상관관계가 존재하지 않는다.\n",
    "\n",
    "\t> Ha: 두 변수간 선형 상관관계가 존재한다.\n",
    "\n",
    "\n",
    "\t결과는 (상관계수, p-value)의 튜플 형태이며\n",
    "\t상관계수를 r이라고 할 때,\n",
    "\n",
    "\t- |r| < 0.3 → 두 변수간 상관관계가 약함\n",
    "\t- |r| < 0.5 → 두 변수간 상관관계가 중간\n",
    "\t- |r| > 0.5 → 두 변수간 상관관계가 강함"
   ]
  },
  {
   "cell_type": "markdown",
   "id": "3a4317a9",
   "metadata": {},
   "source": [
    "2. <span style=\"background-color:#FFFFE0; color:#CD5C5C; padding:4px; border-radius:5px;\"> [범주형 - 수치형] F-test(ANOVA), T-test </span>\n",
    "\n",
    "    **T-test : 범주가 2개일 때**\n",
    "\n",
    "    범주가 2개 (남/여, 민초/반민초 등등) ⇒ T-test 사용!\n",
    "\n",
    "    T-test 수행 시 t값은 두 평균 간 차이를 표준 오차로 나눈 값\n",
    "\n",
    "- 가설\n",
    "\t> H0: 두 그룹의 평균에는 차이가 없다.\n",
    "\n",
    "\t> Ha: 두 그룹의 평균에는 차이가 있다.\n",
    "\n",
    "\n",
    "\t결과는 TtestResult(statistic = t-값, pvalue = p값, df = 자유도)의 형태\n",
    "\n",
    "\t- t값은 보통 절대값 2를 기준으로, 그보다 크면 차이가 있으며 그보다 클수록 차이가 크다고 생각\n",
    "\t- p값은 역시, 이 결과가 얼마나 믿음직한지를 나타내며 보통 0.05를 기준으로 함\n",
    "\n",
    "\t**F-test(ANOVA) : 범주가 3개 이상일 때**\n",
    "\n",
    "\tANOVA 검정을 할 때엔, F값은 집단 간 분산 / 집단 내 분산으로 계산\n",
    "\n",
    "\t즉 (전체 평균과 각 집단의 평균을 가지고 만든 분산) / (각 집단의 평균과 개별 값으로 만든 분산)으로 계산\n",
    "\n",
    "- 가설\n",
    "\t> H0: 각 MBTI 그룹 별 수명 평균은 차이가 없다.\n",
    "\n",
    "\t> Ha: 각 MBTI 그룹 별 수명 평균은 차이가 있다.\n",
    "\n",
    "\t결과는 F_onewayResult(statistic = f값, p-value = p값)\n",
    "\t- f값은 보통 2~3 이상이면 차이가 있으며 클수록 차이가 큼\n",
    "\t- p값은 역시 마찬가지로 f값 결과가 얼마나 유의미한지를 의미"
   ]
  },
  {
   "cell_type": "markdown",
   "id": "ec146f9a",
   "metadata": {},
   "source": [
    "3. <span style=\"background-color:#FFFFE0; color:#CD5C5C; padding:4px; border-radius:5px;\"> [범주형 - 범주형] Chi2-test, T-test </span>\n",
    "\n",
    "    **Chi2-test**\n",
    "\n",
    "- 가설\n",
    "\t> H0: 경영학과 여부와 갈색머리 여부는 관련이 없다\n",
    "\n",
    "\t> Ha: 경영학과 여부와 갈색머리 여부는 관련이 있다\n",
    "\n",
    "\n",
    "\t같은 위치에 있는 기대빈도와 관측빈도가 서로 차이가 크다면, 둘이 독립적이지 않을 가능성이 높음\n",
    "\n",
    "\t- t값은 보통 절대값 2를 기준으로, 그보다 크면 차이가 있으며 그보다 클수록 차이가 크다고 생각\n",
    "\t- p값은 역시, 이 결과가 얼마나 믿음직한지를 나타내며 보통 0.05를 기준으로 함\n",
    "\n",
    "    카이제곱 통계량\n",
    "    : (관측빈도 - 기대빈도)^2 / 기대빈도 를 쌍만 맞게, 순서 상관 없이 쭉 더해주면 됨!\n",
    "    - 범주 갯수에 제한이 없음\n",
    "    - 카이제곱 통계량 해석은 어떠한 특정 숫자가 아닌, 자유도의 약 2배가량을 기준\n",
    "    - 범주형 변수의 자유도는 범주의 수 - 1\n",
    "    - 카이제곱 변수에서의 자유도는 (x변수의 자유도) * (y변수의 자유도)로 계산"
   ]
  }
 ],
 "metadata": {
  "language_info": {
   "name": "python"
  }
 },
 "nbformat": 4,
 "nbformat_minor": 5
}
