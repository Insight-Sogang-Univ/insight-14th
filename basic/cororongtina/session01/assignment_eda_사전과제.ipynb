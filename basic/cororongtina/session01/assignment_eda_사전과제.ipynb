{
 "cells": [
  {
   "cell_type": "markdown",
   "id": "7ef7399a",
   "metadata": {},
   "source": [
    "## EDA & 전처리"
   ]
  },
  {
   "cell_type": "markdown",
   "id": "000bed3b",
   "metadata": {},
   "source": [
    "### 1. 데이터 분석 프로세스\n",
    "데이터 수집 -> 데이터 탐색(EDA) -> 데이터 전처리 -> 데이터 모델링"
   ]
  },
  {
   "cell_type": "markdown",
   "id": "9e54a028",
   "metadata": {},
   "source": [
    "### 2. EDA\n",
    "#### (1) 개념\n",
    "데이터 -> 여러 가지 방식으로 파악하는 과정\n",
    "=> 탐색적 데이터 분석 과정\n",
    "\n",
    "#### (2) 대상\n",
    "1) 일변량: 데이터 내 패턴 찾기\n",
    "2) 다변량: 변수들 간의 관계\n",
    "\n",
    "#### (3) 종류\n",
    "1) 시각화: 차트, 그림\n",
    "2) 비시각화: 비그래픽적 요소\n",
    "\n",
    "#### (4) 유형\n",
    "1) 일변량/다변량 비시각화\n",
    "2) 일변량/다변량 시각화\n"
   ]
  },
  {
   "cell_type": "markdown",
   "id": "f65bda11",
   "metadata": {},
   "source": [
    "### 3. 데이터 확인\n",
    "#### (1) 데이터 읽기\n",
    "pd.read_csv/excel('파일경로/파일이름.확장자)\n",
    "\n",
    "1) 절대 경로: 시작-목적지 모든 경로\n",
    "2) 상대 경로: 현재 디렉토리 기준\n",
    "\n",
    "#### (2) 데이터 파악\n",
    "- df.head(n)\n",
    "- df.into()\n",
    "\n",
    "- 데이터의 종류\n",
    "1) 범주형: 범주로 나뉘어짐\n",
    "- 명목형: 순서 X, 이름만 의미 부여\n",
    "- 순서형: 순서 의미 부여 O\n",
    "\n",
    "2) 수치형: 숫자로 표현\n",
    "- 이산형: 정수 단위\n",
    "- 연속형: 연속적 값"
   ]
  },
  {
   "cell_type": "markdown",
   "id": "5f888ffa",
   "metadata": {},
   "source": [
    "### 4. 전처리\n",
    "데이터 -> 분석에 적합한 형태로 만듦\n",
    "\n",
    "1) 결측값 처리\n",
    "- 결측값 확인: info(), isnull(), notnull() 등\n",
    "- 결측값 식제: dropna(axis=0/1, how='any'/'all', subset=['column명], inplace=True/False)\n",
    "- 결측값 대체: 평균값, 최빈값 등\n",
    "=> fillna(), groupby&mean\n",
    "\n",
    "2) 이상치 처리\n",
    "- 이상치 확인: describe(), boxplot(), Z-score, Tukey Fences\n",
    "- 이상치 삭제\n",
    "- 이상치 대체\n",
    "- 변수화: 이상값 자연 발생 시\n",
    "- 리샘플링: 이상값 분리\n",
    "\n",
    "3) 피처 엔지니어링: 피처 형태 변형, 적절히 처리\n",
    "- 레이블인코딩, 원핫인코딩: 범주형 변수 -> 숫자형\n",
    "=> pd.get_dummies(데이터프레임, columns=[컬럼 리스트])\n",
    "- 구간화: 값 -> 구간으로 구분\n",
    "=> pd.cut(데이터프레임['컬럼명'], bins=[나누는 기준 리스트], labels=[지정할 label])\n",
    "- 파생변수 생성: 기존 피처 변환 -> 새 피처 생성\n",
    "- 스케일링: 값 범위 -> 일정 수준으로 맞춤\n",
    "=> 표준화: StandardScaler / MinMaxScaler"
   ]
  },
  {
   "cell_type": "markdown",
   "id": "f8acf778",
   "metadata": {},
   "source": [
    "### 5. 데이터 시각화\n",
    "- 그래프, 차트 등 시각적 요소 변환 -> 패턴, 관계 파악\n",
    "=> Matplotlib, Seaborn\n",
    "\n",
    "- 파라미터: 매개변수, 입력값\n",
    "=> hue 파라미터: 원하는 범주형 변수 기준으로 데이터 구분 -> 그래프에 표시\n",
    "\n",
    "- 그래프 종류: boxplot(상자 수염 그림), countplot(범주형 변수 빈도수), histplot(수치형 변수 구간별 빈도수), displot/kdeplot(커널밀도추정), barplot/pointplot(x에 따른 y 평균값), scatterplot(산점도 그래프), regplot(회귀선 추가된 산점도 그래프), catplot(수치, 범주형 데이터 관계), pieplot(비율), heatmap(상관계수), violinplot(박스 플롯 + 커널밀도추정 함수), pairplot(여러 그래프 한번에)"
   ]
  }
 ],
 "metadata": {
  "language_info": {
   "name": "python"
  }
 },
 "nbformat": 4,
 "nbformat_minor": 5
}
