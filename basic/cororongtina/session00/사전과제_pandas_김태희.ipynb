{
 "cells": [
  {
   "cell_type": "markdown",
   "id": "6a084163",
   "metadata": {},
   "source": [
    "## Pandas 사전 과제\n",
    "20241585 김태희"
   ]
  },
  {
   "cell_type": "markdown",
   "id": "df4eeb67",
   "metadata": {},
   "source": [
    "### 1. 판다스 (Pandas)\n",
    "- 데이터 분석에 특화\n",
    "- 기본 툴: DataFrame\n",
    "- 라이브러리: import pandas as pd\n",
    "- 데이터 불러오기: pd.read_csv('파일 경로)"
   ]
  },
  {
   "cell_type": "markdown",
   "id": "9b70b586",
   "metadata": {},
   "source": [
    "### 2. 시리즈 (Series)\n",
    "- 1차원 (값, 인덱스)\n",
    "- pd.Series(list, index=인덱스 지정)"
   ]
  },
  {
   "cell_type": "markdown",
   "id": "794a0609",
   "metadata": {},
   "source": [
    "### 3. 데이터프레임 (DataFrame)\n",
    "- 2차원 (행, 열)\n",
    "- DataFrmae = Series들의 모임\n",
    "- pd.DataFrame(dic, index=인덱스 지정, columns=컬럼 지정)"
   ]
  },
  {
   "cell_type": "markdown",
   "id": "305c6af3",
   "metadata": {},
   "source": [
    "### 4. 데이터 정보 확인\n",
    "- df.head(n): 앞 n개 행\n",
    "- df.tail(n): 뒤 n개 행\n",
    "\n",
    "- df.shape: (행 개수, 열 개수)\n",
    "- df.info(): 여러 정보\n",
    "- df.describe(): 기본 통계값\n",
    "- df.isnull(): 결측치 존재 여부\n",
    "\n",
    "- df.count(): 결측치 제외 행 수\n"
   ]
  },
  {
   "cell_type": "markdown",
   "id": "52d610bc",
   "metadata": {},
   "source": [
    "### 5. 데이터 추출\n",
    "#### (1) 인덱싱 & 슬라이싱\n",
    "- 인덱싱: df[1]\n",
    "- 슬라이싱: df[start:end]\n",
    "\n",
    "#### (2) 행단위 추출: loc, iloc\n",
    "- loc: 인덱스 이름 ex) df.loc[행 이름, 열 이름]\n",
    "- iloc: 인ㄷ게스 번호 ex) df.iloc[행 순서, 열 순서]\n",
    "\n",
    "#### (3) 열단위 추출: 컬럼명\n",
    "- df[열 이름][행 이름]\n",
    "\n",
    "#### (4) 불리언 인덱싱\n",
    "- df[(조건문1) 논리연산자 (조건문2)]\n",
    "\n",
    "#### (5) 인덱스 설정\n",
    "- df.set_index(열 이름): 기존 열 -> 인덱스로 설정\n",
    "- df.reset_index(): 인덱스 리셋\n",
    "- df.reindex(인덱스 배열): 인덱스 재배열"
   ]
  },
  {
   "cell_type": "markdown",
   "id": "20e8c5d9",
   "metadata": {},
   "source": [
    "### 6. 데이터 조작\n",
    "#### (1) 데이터 추가, 삭제\n",
    "- 추가: df['새 열 이름'] = list\n",
    "- 삭제: df.drop(labels, axis)\n",
    "\n",
    "#### (2) 데이터 정렬\n",
    "- 인덱스 기준: df.sort_index()\n",
    "- 열 기준: df.sort_values(by='열 이름')\n",
    "\n",
    "#### (3) 데이터 변환\n",
    "- 자료형 변환: df[열 이름].astype(자료형)\n",
    "- 값 변환: df.replace(바꾸고 싶은 값, 바꿀 값)\n",
    "- 전치: df.transpose()\n",
    "\n",
    "#### (4) 데이터프레임 병합\n",
    "- concat: pd.concat([df들], axis=0(행방향)/1(열방향))\n",
    "- merge(공통 항목 기준): pd.merge(df들, how=, on=)"
   ]
  },
  {
   "cell_type": "markdown",
   "id": "178d8eb3",
   "metadata": {},
   "source": [
    "### 7. 집계함수\n",
    "- 여러 행 -> 하나의 결괏값 (결측치 무시)\n",
    "- mean(), median(), std(), sum(), max(), min() 등\n",
    "- 그룹화(groupby): 일부 행 대상 집계\n",
    "=> df.groupby('column명1')['column명2'].집계함수"
   ]
  },
  {
   "cell_type": "markdown",
   "id": "5556a5db",
   "metadata": {},
   "source": []
  }
 ],
 "metadata": {
  "language_info": {
   "name": "python"
  }
 },
 "nbformat": 4,
 "nbformat_minor": 5
}
