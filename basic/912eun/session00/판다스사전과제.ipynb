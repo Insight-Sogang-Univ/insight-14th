{
 "cells": [
  {
   "cell_type": "markdown",
   "id": "c3457f41",
   "metadata": {},
   "source": [
    "Pandas: Python의 데이터 분석용 라이브러리\n",
    "- DataFrame이 기본틀\n",
    "- NumPy의 확장판"
   ]
  },
  {
   "cell_type": "markdown",
   "id": "d6aa65c2",
   "metadata": {},
   "source": [
    "불러오기\n",
    "1. import pandas as pd (from pandas import *)\n",
    "2. df=pd.read_csv('경로')"
   ]
  },
  {
   "cell_type": "markdown",
   "id": "28de3f37",
   "metadata": {},
   "source": [
    "DataFrame?\n",
    ": 2차원 배열\n",
    "행(index), 열(column)\n",
    "- column 단위로는 데이터타입 동일, 컬럼 간은 상관 x\n",
    "\n",
    "Series?\n",
    ": 1차원 배열\n",
    "값(value), 행(index)\n",
    "- 레이블 미지정 시 0부터 정수형 인덱스 자동 부여\n",
    "- 구성값 모두 같은 데이터 타입"
   ]
  },
  {
   "cell_type": "markdown",
   "id": "590ab0bf",
   "metadata": {},
   "source": [
    "시리즈 만들기\n",
    "1. 리스트 생성\n",
    "2. Series(리스트, index = 인덱스) 함수로 시리즈 객체 생성"
   ]
  },
  {
   "cell_type": "markdown",
   "id": "4a246fa3",
   "metadata": {},
   "source": [
    "데이터프레임 만들기\n",
    "1. 키(컬럼의 카테고리) : 값(시리즈)로 하는 사전 생성\n",
    "2. DataFrame(사전, index=인덱스, columns=컬럼) 생성"
   ]
  },
  {
   "cell_type": "markdown",
   "id": "71dbe75c",
   "metadata": {},
   "source": [
    "데이터 확인\n",
    "1. 앞뒤 데이터 확인으로 데이터 개괄 파악\n",
    "- df.head(n): 앞 n개의 행 반환 (기본값 5)\n",
    "- df.tail(n): 뒤 n개의 행 반환\n",
    "\n",
    "2. 행렬 개수, 데이터 타입, 결측치 개수 확인\n",
    "- df.shape: (행, 열 개수) 반환\n",
    "- df.info(): 여러 정보 종합 반환\n",
    "- df.describe(): 수치형 열들의 기본적 통계값 반환\n",
    "- df.isnull(): 결측치 여부 반환\n",
    "- df.dtypes: 열들의 데이터타입 반환\n",
    "\n",
    "3. 데이터 전체 개수, 고유값 확인\n",
    "- df.count(): 결측치 제외한 데이터 행수 반환\n",
    "- df[열 이름].value_counts(): 특정 열에 포함된 값의 빈도수 반환\n",
    "- df[열 이름].unique(): 특정 열에 포함된 값을 종류별로 1개씩 반환"
   ]
  },
  {
   "cell_type": "markdown",
   "id": "fc445d9c",
   "metadata": {},
   "source": [
    "데이터 추출\n",
    "1. 인덱싱/슬라이싱\n",
    "- indexing(df[n]): 단일 항목 지목\n",
    "- slicing(df[start:end]): 범위 지정\n",
    "\n",
    "2. 헹 단위 추출\n",
    "- loc: 인덱스 라벨 기준\n",
    "df.loc[행 이름]: 행 단위 추출\n",
    "df.loc[행, 열 이름]: 값 단위\n",
    "df.loc[:, 열 이름]: 열 단위\n",
    "\n",
    "- iloc: 인덱스가 정수형이어야...\n",
    ": df.iloc[행 순서, 열 순서]\n",
    ": 기존 슬라이싱이랑 인덱스 기준 같음(끝-1)\n",
    "(ex) df.iloc[1:3, 1:]\n",
    ": 인덱스 1~2\n",
    "\n",
    "3. 열 단위 추출\n",
    "df[열 이름], df[열 이름][행 이름]: 보다 직관적\n",
    "\n",
    "4. 불리언 인덱싱\n",
    ": 특정 조건 만족하는 데이터 추출\n",
    "\n",
    "- df[조건문]\n",
    "- loc에서도 사용 가능 df[조건문, 열 이름]\n",
    "\n",
    "5. 인덱스 설정\n",
    "- df.set_index(열 이름): 기존 열 중 하나를 인덱스로 설정\n",
    "- df.reset_index(): 인덱스 리셋 및 기존 인덱스를 열에 추가\n",
    "- df.reindex(인덱스): 인덱스 재배열에 따라 기존 행데이터도 인덱스를 따라감"
   ]
  },
  {
   "cell_type": "markdown",
   "id": "aca13711",
   "metadata": {},
   "source": [
    "데이터 조작\n",
    "1. 추가/삭제\n",
    "- df['새로운 열']=리스트: 특정 리스트 추가\n",
    "- df.drop(labels, axis(=0, 1)): 삭제\n",
    "\n",
    "2. 정렬\n",
    "- df.sort_index(): 인덱스 기준 정렬\n",
    "- df.sort_values(by='열 이름'): 특정 열 값 기준 정렬\n",
    "\n",
    "3. 변환\n",
    "- df.dtypes: 열들의 데이터타입 반환\n",
    "- df[열 이름]= df.[열 이름].astype(바꿀 자료형)\n",
    "- df.replace(바꾸고 싶은 값, 바꿀 값)\n",
    "- df.transpose(), df.T: 행과 열 교환\n",
    "\n",
    "4. 병합\n",
    "- df=pd.concat([df1,df2], axis=0 or 1): 데이터프레임 결합\n",
    ": 동일 구조\n",
    "\n",
    "- df =pd.merge(df1, df2, how='inner(and) or outer(or), on='기준열'): 공통 데이터 기준 병합"
   ]
  },
  {
   "cell_type": "markdown",
   "id": "79735247",
   "metadata": {},
   "source": [
    "집계함수\n",
    ": 여러 행으로부터 하나의 결과값 반환\n",
    "- 주로 대표값 구할 때 사용\n",
    "- 결측치 무시\n",
    "\n",
    "* df['열 이름'].mean(): 평균\n",
    "* ~.median(): 중앙값\n",
    "* ~.std(): 표준편차\n",
    "* ~.sum(): 합계\n",
    "* ~.max(): 최댓값\n",
    "* ~.min(): 최소값"
   ]
  },
  {
   "cell_type": "markdown",
   "id": "8bc2b9f0",
   "metadata": {},
   "source": [
    "그륩화\n",
    "- df.groupby('열 이름1')['열 이름2'].집계함수\n",
    ": 열1로 그룹화 -> 열2에 집계함수 적용, 결과 시리즈로 반환"
   ]
  }
 ],
 "metadata": {
  "language_info": {
   "name": "python"
  }
 },
 "nbformat": 4,
 "nbformat_minor": 5
}
