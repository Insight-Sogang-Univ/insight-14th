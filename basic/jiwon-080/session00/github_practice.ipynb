{
 "cells": [
  {
   "cell_type": "markdown",
   "id": "7c81f4cd",
   "metadata": {},
   "source": [
    "#깃허브 테스트_최지원"
   ]
  }
 ],
 "metadata": {
  "language_info": {
   "name": "python"
  }
 },
 "nbformat": 4,
 "nbformat_minor": 5
}
