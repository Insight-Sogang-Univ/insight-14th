{
 "cells": [
  {
   "cell_type": "markdown",
   "id": "0351cecc",
   "metadata": {},
   "source": [
    "## EDA"
   ]
  },
  {
   "cell_type": "markdown",
   "id": "f9ee712f",
   "metadata": {},
   "source": [
    "### 탐색적 데이터 분석?\n",
    "\n",
    "시각화로 패턴 발견 seaborn의 pairplot 같은?<br>\n",
    "데이터의 특이성 확인 unique나 boxplot으로 이상치를 보기?<br>\n",
    "가설을 검정"
   ]
  },
  {
   "cell_type": "markdown",
   "id": "d5c86cb7",
   "metadata": {
    "vscode": {
     "languageId": "plaintext"
    }
   },
   "source": [
    "일변량 : 하나의 변수 파악<br>\n",
    "다변량 : 여러개의 변수 파악"
   ]
  },
  {
   "cell_type": "markdown",
   "id": "fb03aa62",
   "metadata": {},
   "source": [
    "### 상대 경로 디렉터리\n",
    "\n",
    "./ : 현재 디렉터리<br>\n",
    "../ : 상위 디렉터리<br>\n",
    "/ : 최상위 디렉터리"
   ]
  },
  {
   "cell_type": "markdown",
   "id": "66d7bce0",
   "metadata": {},
   "source": [
    "### 파일 불러오기/쓰기\n",
    "\n",
    "pd.read_csv('파일.csv')<br>\n",
    "pd.to_csv('뉴파일.csv)\n",
    "\n",
    "pd.read_excel('파일.xlsx',sheet_name='Sheet 2')<br>\n",
    "pd.to_excel('뉴파일.xlsx')"
   ]
  },
  {
   "cell_type": "markdown",
   "id": "d439a1d9",
   "metadata": {},
   "source": [
    "### 1. 변수 정의 확인\n",
    "\n",
    "각 컬럼이 무엇을 나타내는지 확인하기"
   ]
  },
  {
   "cell_type": "markdown",
   "id": "250c768d",
   "metadata": {},
   "source": [
    "### 2. 변수 유형 확인\n",
    "\n",
    "- 범주형(Categorical)<br>\n",
    "명목형 : 성별, 성공여부, 혈액형 등 순서 상관없이 이름이 부여<br>\n",
    "순서형 : 순서에 의미를 부여할 수 있는 경우(1등석 2등석 ...)\n",
    "\n",
    "- 수치형(Numerical)<br>\n",
    "이산형 : 포인트로 구분된 수치형 데이터 (가족 수)<br>\n",
    "연속형 : 연속적 수치형 데이터 (신장, 키)"
   ]
  },
  {
   "cell_type": "markdown",
   "id": "510a8a3e",
   "metadata": {},
   "source": [
    "### 3. 데이터 분포 확인\n",
    "\n",
    "산포도(스캐터), 박스 플롯, 히스토그램 등"
   ]
  },
  {
   "cell_type": "markdown",
   "id": "2d80fe55",
   "metadata": {},
   "source": [
    "## 전처리"
   ]
  },
  {
   "cell_type": "markdown",
   "id": "0a9f9e73",
   "metadata": {},
   "source": [
    "### 1. 결측값 처리\n",
    "\n",
    "- NaN 확인법<br>\n",
    "df.info()로 non-null 개수 확인<br>\n",
    "df.unique()로 '?', '-' 같은거 있는지 확인<br>\n",
    "행 많으면 df.value_counts(dropna=False)로 확인<br>\n",
    "df.isnull.sum() 누락값 개수 반환<br>\n",
    "df.notnull() isnull()과 반대 불리언 결과 반환<br>\n",
    "df.replace('?', np.nan) '?'등을 NaN으로 대체\n",
    "\n",
    "- 결측값 삭제<br>\n",
    "df.dropna(axis=, how=, subset=[], inplace=)<br>\n",
    "axis=0 : 결측값 있는 행 삭제(디폴트)<br>\n",
    "axis=1 : 결측값 있는 열 삭제<br>\n",
    "how='any' : 하나라도 결측값 있으면 삭제(디폴트)<br>\n",
    "how='all' : 모든 값이 결측값일때 삭제<br>\n",
    "subset=['열 이름1','열 이름2'] 특정 열 기준으로 삭제(axis=0일때만 가능)<br>\n",
    "_삭제방식은 정보 손실이 큰 편_\n",
    "\n",
    "- 결측값 대체<br>\n",
    "df['열1'].fillna(df['열1'].mean(), inplace=True)<br>\n",
    ".median(), .value_counts()로 찾은 최빈값 대체로도 가능<br>\n",
    "category_means=df.groupby('Category')['Value'].mean()<br>\n",
    "df['Value']=df.groupby('Category')['Value'].apply(lambda x:x.fillna(x.mean()))<br>\n",
    "- 이웃한 값으로 대체<br>\n",
    "df['열1'].fillna(_method='ffill'_, inplace=) NaN 있는 행의 직전 행의 값으로 대체<br>\n",
    "df['열2'].fillna(_method='bfill'_, inplace=) NaN 있는 행의 직후 행의 값으로 대체"
   ]
  },
  {
   "cell_type": "markdown",
   "id": "574e1c42",
   "metadata": {},
   "source": [
    "### 2. 이상치 처리\n",
    "\n",
    "- 이상치 확인\n",
    ".describe()로 기초통계량 확인<br>\n",
    "boxplot으로 확인(동그라미)<br>\n",
    "Z-score(평균에서 멀어질수록 커짐)가 기준값을 넘는 값<br>\n",
    "Tukey Fences IOR(Q1~Q3)을 기준으로 범위 설정, 그 범위 밖이면 이상치로 판단<br>\n",
    "Q1-1.5xIQR ~ Q3+1.5xIQR 사이 밖에 있는 경우(1.5는 조정 가능)\n",
    "\n",
    "- 이상치 처리\n",
    "삭제, 다른값 대체<br>\n",
    "단순 삭제/대체로 왜곡이 우려되는 경우, 다른 범주변수를 추가적용해 모델에 포함시키는 방법<br>\n",
    "리샘플링: 이상값을 분리한 모델을 따로 만드는 방법\n"
   ]
  },
  {
   "cell_type": "markdown",
   "id": "4d65219d",
   "metadata": {},
   "source": [
    "## 3. 피쳐 엔지니어링\n",
    "\n",
    "- 범주형 변수 -> 수로 변환\n",
    "레이블 인코딩: 범주이름들에 각각 0부터 숫자 레이블을 부여<br>\n",
    "원핫 인코딩: 각각 범주들만큼 더미 컬럼을 만들고, 0/1의 이진 값을 부여, _drop_first=True 해주면 범주보다 하나 적은 더미 컬럼 생성(회귀일 경우 드랍 해줘야 함)_\n",
    "\n",
    "- 구간화, 파생변수 생성\n",
    "등급 등의 변수를 생성할 때 이용<br>\n",
    "pd.cut, pd.map 등을 사용할 수 있음\n",
    "\n",
    "- 스케일링\n",
    "스케일러는 이상치에 민감하기 때문에 이상치 처리가 필요<br>\n",
    "StandardScaler : 평균 0, 분산 1로 변경하여 모든 피쳐가 같은 스케일을 갖게 함<br>\n",
    "MinMaxScaler : 모든 피쳐가 0과 1 사이에 위치하게 함<br>\n",
    "->넘파이로 반환하는데 df['스케일링 열 이름']=scaler.fit_transform(df[['열 이름']]) 하면 df에 저장"
   ]
  },
  {
   "cell_type": "markdown",
   "id": "92f1b1ab",
   "metadata": {},
   "source": [
    "## 4. 데이터 시각화\n",
    "\n",
    "~~plot(data=데이터변수, x='열 이름', hue='범주형 변수 이름')<br>\n",
    "hue='범주형 변수'을 넣으면 그 변수를 기준으로 구분되어 표시됨<br>\n",
    "\n",
    "- 주요 플롯 종류\n",
    "boxplot : IQR과 이상치를 쉽게 보여줌<br>\n",
    "countplot, histplot : (범주형 빈도수)막대그래프, 히스토그램<br>\n",
    "displot, kdeplot : 히스토그램을 곡선으로 연결<br>\n",
    "barplot, pointplot : 범주형 데이터 x에 대한 수치형 데이터 y의 평균 값, barplot은 신뢰구간을 확인 가능<br>\n",
    "scatterplot, regplot: 산점도 그래프, 회귀선이 추가된 산점도 그래프, 상관관계와 분포를 쉽게 확인<br>\n",
    "catplot : 수치형 데이터(y)와 범주형 데이터(x)의 관계 확인<br>\n",
    "pieplot : 파이 차트<br>\n",
    "heatmap : 변수들 관 상관계수를 색깔로 나타냄<br>\n",
    "sns.heatmap(df.corr(), ) 식으로 사용<br>\n",
    "violinplot : 나이별 인구분포표와 같은 형식<br>\n",
    "pairplot : 여러 변수들의 산점도를 한번에 확인"
   ]
  },
  {
   "cell_type": "markdown",
   "id": "a54b07e8",
   "metadata": {},
   "source": [
    "여러 플롯 생성<br>\n",
    "f, ax = plt.subplot(행 개수, 열 개수,  figsize=())로 생성함"
   ]
  },
  {
   "cell_type": "markdown",
   "id": "ed8dba39",
   "metadata": {},
   "source": [
    "코랩에서 플롯 한글이 깨지는거 쉽게 해결하는 방법으로는 koreanize_matplotlib 라이브러리도 있습니다..! 워드클라우드 등에는 안 먹혀서 따로 해결해줘야 해요"
   ]
  }
 ],
 "metadata": {
  "kernelspec": {
   "display_name": "base",
   "language": "python",
   "name": "python3"
  },
  "language_info": {
   "codemirror_mode": {
    "name": "ipython",
    "version": 3
   },
   "file_extension": ".py",
   "mimetype": "text/x-python",
   "name": "python",
   "nbconvert_exporter": "python",
   "pygments_lexer": "ipython3",
   "version": "3.11.7"
  }
 },
 "nbformat": 4,
 "nbformat_minor": 5
}
