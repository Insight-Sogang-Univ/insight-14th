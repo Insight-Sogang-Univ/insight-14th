{
 "cells": [
  {
   "cell_type": "markdown",
   "id": "c739d683",
   "metadata": {},
   "source": [
    "데이터 읽어서 데이터프레임으로 불러오기\n",
    "\n",
    "df=pd.read_csv('경로')<br>\n",
    "df=pd.read_excel('경로')<br>\n",
    "df=pd.read_json('경로')"
   ]
  },
  {
   "cell_type": "markdown",
   "id": "7f344b60",
   "metadata": {},
   "source": [
    "시리즈:1열뿐(행인덱스 적용가능)<br>\n",
    "리스트로 생성하고 행인덱스 적용 가능<br>\n",
    "\n",
    "데이터프레임:여러개의 시리즈로 구성<br>\n",
    "딕셔너리로 생성하고 행인덱스,열인덱스 적용 가능<br> "
   ]
  },
  {
   "cell_type": "markdown",
   "id": "decf584c",
   "metadata": {},
   "source": [
    "데이터 확인과정\n",
    "\n",
    "df.head(n), df.tail(n) 데이터프레임의 앞뒤 부분을 대략적으로 파악<br>\n",
    "df.shape -> (행 개수, 열 개수) 반환 데이터의 크기 확인<br>\n",
    "df.info() 타입, 결측값 수와 같은 정보 파악<br>\n",
    "df.describe() numerical인 열의 기초통계값<br>\n",
    "df.isnull() .isna() 결측값 여부 반환<br>\n",
    "df.dtypes -> 열들의 타입 반환"
   ]
  },
  {
   "cell_type": "markdown",
   "id": "17c21f6e",
   "metadata": {},
   "source": [
    "df.count() 결측치가 아닌 데이터의 행 수 반환<br>\n",
    "df[열 이름].value_counts() 특정 열 안의 값들의 빈도수 반환<br>\n",
    "df[열 이름].unique() 열에 포함된 값들을 1개씩 반환"
   ]
  },
  {
   "cell_type": "markdown",
   "id": "698ea83d",
   "metadata": {},
   "source": [
    "인덱싱, 슬라이싱 - 행 단위\n",
    "\n",
    "df.loc[행 이름] -> 특정 행<br>\n",
    "df.loc[행 이름, 열 이름] -> 특정 셀<br>\n",
    "df.loc[n1:n2] -> n1 행인덱스부터 n2 행인덱스까지 반환\n",
    "\n",
    "df.iloc[n1:n2] -> n1 행인덱스부터 (n2-1)행인덱스까지 반환"
   ]
  },
  {
   "cell_type": "markdown",
   "id": "b8d09049",
   "metadata": {},
   "source": [
    "행 열 같이 슬라이싱\n",
    "\n",
    "df.loc[n1:n2, n3:n4] / df.iloc[n1:n2, n3:n4]<br>\n",
    "[행 순서, 열 순서]"
   ]
  },
  {
   "cell_type": "markdown",
   "id": "fb715d83",
   "metadata": {},
   "source": [
    "인덱싱 - 열 단위\n",
    "\n",
    "df[열 이름]<br>\n",
    "df[[열 이름1, 열 이름2]]<br>\n",
    "df[열 이름][행 이름] <-순서 반대 주의"
   ]
  },
  {
   "cell_type": "markdown",
   "id": "fe5eaa63",
   "metadata": {},
   "source": [
    "불리언 인덱싱\n",
    "\n",
    "조건문=df['A']>10<br>\n",
    "df[조건문] -> A가 10 이상(True)인 행만 반환\n",
    "\n",
    "논리연산자로 여러개 조건문 사용 가능\n",
    "\n",
    "df.loc[조건문, 열 이름] 단, iloc은 정수 인덱스만 받으므로 사용 불가"
   ]
  },
  {
   "cell_type": "markdown",
   "id": "4d9bc060",
   "metadata": {},
   "source": [
    "인덱스 설정\n",
    "\n",
    "df.set_index(열 이름) 특정 열의 셀들을 행인덱스로 설정<br>\n",
    "df.reset_index() 인덱스를 리셋, 기존 인덱스를 행에 추가<br>\n",
    "df.reindex(인덱스 배열) 인덱스 재배열에 따라 기존 행데이터도 인덱스를 따라감\n",
    "\n",
    "\n",
    "파일 읽을 때<br>\n",
    "pd.read_csv('./aaa.csv', header=0(숫자 설정))<br>\n",
    "pd.read_csv('./aaa.csv', index_col='열 이름 설정')"
   ]
  },
  {
   "cell_type": "markdown",
   "id": "cbc5e63a",
   "metadata": {},
   "source": [
    "열 추가하기<br>\n",
    "df['새 열 이름']=list\n",
    "\n",
    "열 삭제하기<br>\n",
    "df.drop('삭제할 열 이름', axis=1(열)) #디폴트는 axis=0(행)\n",
    "\n",
    "inplace=True 원본 데이터프레임에서도 변화가 있게 됨. 디폴트는 =False"
   ]
  },
  {
   "cell_type": "markdown",
   "id": "a0bf5ade",
   "metadata": {},
   "source": [
    "데이터 정렬\n",
    "\n",
    "df.sort_index(ascending=) 행인덱스가 섞여 있을 때  0,1,2... 순 정렬<br>\n",
    "ascending=False는 내림차순\n",
    "\n",
    "df.sort_values(by='기준이될 열 이름',ascending=) 특정 열의 값이 오름차순(True)이 되도록 정렬"
   ]
  },
  {
   "cell_type": "markdown",
   "id": "5f5f76ea",
   "metadata": {},
   "source": [
    "데이터 변환\n",
    "\n",
    "df[열 이름]=df[열 이름].astype(바꿀 자료형)<br>\n",
    "csv에 '1','2','3' 이렇게 문자열이 있을 때, int를 float로 바꿀때 등등\n",
    "\n",
    "df.replace(바꾸고 싶은 값, 바꿀 값)<br>\n",
    "Na를 평균, 최빈값 등으로 한꺼번에 바꿀 때 등등\n",
    "\n",
    "df.T 전치행렬"
   ]
  },
  {
   "cell_type": "markdown",
   "id": "a45e2a32",
   "metadata": {},
   "source": [
    "데이터프레임 결합\n",
    "\n",
    "df=pd.concat([df1,df2],axis=0(행 방향)1(열 방향))<br>\n",
    "concat은 행 또는 열 방향으로 쭉 이어붙임\n",
    "\n",
    "df=pd.merge(df1, df2, how='inner', on='기준 열 이름') 교집합<br>\n",
    "df=pd.merge(df1, df2, how='outer', on='기준 열 이름') 합집합<br>\n",
    "merge는 특정 공통되는 열이나 인덱스를 기준으로 병합"
   ]
  },
  {
   "cell_type": "markdown",
   "id": "95bf9836",
   "metadata": {},
   "source": [
    "집계함수\n",
    "\n",
    "df['열 이름'].mean()<br>\n",
    "df['열 이름'].median()<br>\n",
    "df['열 이름'].std() 표준편차<br>\n",
    "df['열 이름'].sum()<br>\n",
    "df['열 이름'].max()<br>\n",
    "df['열 이름'].min()\n",
    "\n",
    "집계함수에도 axis=0, =1 지정 가능"
   ]
  },
  {
   "cell_type": "markdown",
   "id": "ff12123c",
   "metadata": {},
   "source": [
    "Groupby\n",
    "\n",
    "df.groupby('묶는 기준이 되는 열')['연산할 열'].집계함수<br>\n",
    "-> 시리즈로 반환\n",
    "\n",
    "df.groupby('묶는 기준이 되는 열')[['연산할 열']].집계함수<br>\n",
    "-> 데이터프레임으로 반환\n",
    "\n",
    "예시) df.groupby('품종')['무게'].mean()\n",
    "종류<br>\n",
    "홍옥    ~~<br>\n",
    "부사    ~~<br>\n",
    "시나노골드  ~~<br>\n",
    "Name:무게, dtype:float64"
   ]
  }
 ],
 "metadata": {
  "kernelspec": {
   "display_name": "base",
   "language": "python",
   "name": "python3"
  },
  "language_info": {
   "codemirror_mode": {
    "name": "ipython",
    "version": 3
   },
   "file_extension": ".py",
   "mimetype": "text/x-python",
   "name": "python",
   "nbconvert_exporter": "python",
   "pygments_lexer": "ipython3",
   "version": "3.11.7"
  }
 },
 "nbformat": 4,
 "nbformat_minor": 5
}
