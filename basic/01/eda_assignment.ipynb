{
 "cells": [
  {
   "cell_type": "code",
   "execution_count": null,
   "id": "9eeb40f4",
   "metadata": {},
   "outputs": [],
   "source": [
    "#EDA 와 전처리\n",
    "\n",
    "##EDA\n",
    "    정의 :모델링을 위해 여러가지방식으로 데이터를 파악하는 모든 과정\n",
    "    데이터 종류\n",
    "        1.일변량\n",
    "        2.다변량\n",
    "        3.범주형(명목형,순서형)\n",
    "        4.수치형(이산형,연속형):이산과 연속을 구분짓는 중요한 포인트는 점으로 셀수 있냐 없냐\n",
    "    여러가지 방식\n",
    "        1. 시각화\n",
    "        2. 비시각화\n",
    "    데이터 읽기, 쓰기\n",
    "        1. 절대경로로 읽기: pd.read_'데이터종류'('파일경로/파일이름.데이터종류')\n",
    "        2.상대경로로 읽기: pd.read_'데이터종류'(./파일이름.파일종류)\n",
    "        \n",
    "##전처리\n",
    "    정의:데이터를 분석에 적합한 형태로 만드는 과정\n",
    "    \n",
    "    1.결측값 처리 : df.dropna(axis=, how=,subset=,inplace=)\n",
    "    2.결측값 대체 : df['열'].fillna(평균값 or 최빈값 , inplace=)\n",
    "    3.이상치 제거\n",
    "        a. 이상치 확인\n",
    "            -pd.describe()\n",
    "            -boxplot\n",
    "            -Z-Score\n",
    "            -Tukey Fences\n",
    "        b.이상치 제거\n",
    "            -전체삭제:이상치가 사람실수인경우\n",
    "            -대체:데이터량이 부족해 전체삭제가 부담되는경우\n",
    "            -변수화:이상치의 발생여부를 고민하고 이를 변수화시키면 삭제하지 않고도 모델에 포함가능\n",
    "            -리샘플링: 이상값을 포함한 모델과 포함하지 않은 모델 모두 만들고 비교하기\n",
    "    4.피처 엔지니어링\n",
    "        a.레이블인코딩,원핫인코딩:숫자화시키기, 이진벡터화시키기   \n",
    "        b.구간화: 도메인지식을 이용한 구간화\n",
    "        c.파생변수 생성\n",
    "        d.스케일링:결측치 제거가 선행\n",
    "            -정규화:명목숫자크기왜곡을 줄임\n",
    "            -MinMaxScaler:알고리즘최적화\n",
    "    5.데이터 시각화\n",
    "    \n",
    "    "
   ]
  },
  {
   "cell_type": "markdown",
   "id": "930c4e0a",
   "metadata": {},
   "source": []
  }
 ],
 "metadata": {
  "kernelspec": {
   "display_name": "Python 3",
   "language": "python",
   "name": "python3"
  },
  "language_info": {
   "codemirror_mode": {
    "name": "ipython",
    "version": 3
   },
   "file_extension": ".py",
   "mimetype": "text/x-python",
   "name": "python",
   "nbconvert_exporter": "python",
   "pygments_lexer": "ipython3",
   "version": "3.11.6"
  }
 },
 "nbformat": 4,
 "nbformat_minor": 5
}
