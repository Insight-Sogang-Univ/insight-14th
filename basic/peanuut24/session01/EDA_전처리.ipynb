{
 "cells": [
  {
   "cell_type": "markdown",
   "id": "dc20e680",
   "metadata": {},
   "source": [
    "EDA & 전처리 사전학습\n",
    "===\n"
   ]
  },
  {
   "cell_type": "markdown",
   "id": "675434fc",
   "metadata": {},
   "source": [
    "## EDA란?\n",
    ": Exploratory Data Analysis. 데이터 분석을 위해 데이터를 파악하는 모든 과정\n",
    "### 대상\n",
    "1. 일변량: 변수가 1개. 패턴 찾기\n",
    "2. 다변량: 변수가 여러 개. 변수들 간의 관계 파악\n",
    "\n",
    "### 종류\n",
    ": 시각화(그래픽) / 비시각화(통계 요약본)\n",
    "\n",
    "### 유형\n",
    "1. 일변량\n",
    "   * 시각화: 데이터 전체적으로 살펴보기 (히스토그램, 파이차트 등)\n",
    "   * 비시각화: distribution 확인 (빈도표, 기술 통계량 등)\n",
    "2. 다변량\n",
    "   * 시각화: 변수 간 관계 전체적으로 살피기 (박스플롯, 산점도 등)\n",
    "   * 비시각화: 변수 간 관계 확인 (상관계수 등)\n",
    "\n",
    "## 데이터 확인\n",
    "\n",
    "### 1. 데이터 읽기/쓰기\n",
    "\n",
    "#### 데이터 읽기 형태"
   ]
  },
  {
   "cell_type": "code",
   "execution_count": 5,
   "id": "0a64a52f",
   "metadata": {},
   "outputs": [
    {
     "ename": "NameError",
     "evalue": "name 'pd' is not defined",
     "output_type": "error",
     "traceback": [
      "\u001b[1;31m---------------------------------------------------------------------------\u001b[0m",
      "\u001b[1;31mNameError\u001b[0m                                 Traceback (most recent call last)",
      "Cell \u001b[1;32mIn[5], line 1\u001b[0m\n\u001b[1;32m----> 1\u001b[0m pd\u001b[38;5;241m.\u001b[39mread_csv(\u001b[38;5;124m\"\u001b[39m\u001b[38;5;124m파일경로/파일이름.csv\u001b[39m\u001b[38;5;124m\"\u001b[39m)\n",
      "\u001b[1;31mNameError\u001b[0m: name 'pd' is not defined"
     ]
    }
   ],
   "source": [
    "pd.read_csv(\"파일경로/파일이름.csv\")\n",
    "\n",
    "# 1. 절대경로: 처음~목적지까지 전체 경로(URL).\n",
    "# ex) /Users/ldbzoey/__Insight/2025_1st/교육팀/EDA실습준비/titanic.csv\n",
    "\n",
    "# 2. 상대경로: 현재 작업 디렉터리 기준으로 상대적으로 표현되는 경로.\n",
    "# ./ : 현재 디렉터리 \n",
    "# ../ : 상위 디렉터리\n",
    "# / : 최상위(루트) 디렉터리"
   ]
  },
  {
   "cell_type": "markdown",
   "id": "7715ec35",
   "metadata": {},
   "source": [
    "### 데이터 입출력\n",
    ": csv(데이터를 쉼표로 구분하는 텍스트 파일 ) / excel(행과 열이 데이터프레임의 행, 열로 일대일 대응)\n",
    "두 형식 모두 pandas를 통해 DF형식으로 읽어올 수 있다."
   ]
  },
  {
   "cell_type": "code",
   "execution_count": null,
   "id": "634394ef",
   "metadata": {},
   "outputs": [],
   "source": [
    "# sheet 1개\n",
    "pd.read_excel('파일경로/파일이름.excel',sheet_name='불러올 시트')\n",
    "# sheet 여러 개\n",
    "pd.read_excel('파일경로/파일이름.excel',sheet_name=['불러올 시트1','불러올 시트2'])\n"
   ]
  },
  {
   "cell_type": "markdown",
   "id": "34a2b9ee",
   "metadata": {},
   "source": [
    "### 2. 데이터셋 파악하기\n",
    "\n",
    "#### 데이터 프레임 보기\n",
    ": head(n) 상위 n개 보여줌\n",
    "\n",
    "#### 데이터 변수 확인\n",
    ": 변수 = column = feature\n",
    "\n",
    "* 변수 유형\n",
    "  + 범주형(Categorical): 몇 개의 범주로 나누어진 데이터\n",
    "    + 명목형: 순서 상관 X, 이름에 의미 부여 (성별 등)\n",
    "    + 순서형: 순서에 의미 부여 가능 (성적 등)\n",
    "  + 수치형\n",
    "    + 이산형: 이산적인 값, 구간을 셀 수 있음 (발생 건수, 개설 교과목 학점 등). \n",
    "    + 연속형: 연속적인 값 (몸무게, 키 등)\n",
    "\n",
    "#### 데이터 분포 확인\n",
    ": 원시 데이터 분포의 확인으로 전처리 아이디어를 얻을 수 있음."
   ]
  },
  {
   "cell_type": "markdown",
   "id": "f12fc255",
   "metadata": {},
   "source": [
    "### 3. 전처리\n",
    ": 데이터를 분석에 적합한 형태로 만드는 과정\n",
    "\n",
    "#### 결측값 처리\n",
    "* 결측값: 데이터 수집 과정에서 측정되지 않거나 누락된 데이터\n",
    "  ##### 1. 결측값 확인\n",
    "  * info(): DF의 요약 정보 출력 -> 각 열에 속하는 유효 값 개수 보여줌 \n",
    "  * isnull(): 누락 데이터면 True, 유효 데이터면 False\n",
    "  * notnull(): 유효 데이터면 True, 누락 데이터면 False\n",
    "  * replace(): 결측값을 0,? 등에서 NaN으로 변환 가능\n",
    "  ##### 2. 결측값 처리\n",
    "  * 삭제: dropna(): 결측값이 포함된 레이블을 제거하는 매서드 / 삭제는 결측값이 무작위로 발생했을 때 한다. 아니면 정보가 손실됨\n",
    "  * 대체:  fillna(): 대푯값으로 대체한다. 일괄 대체(모든 변수 같은 값으로 대체), 유사 유형 대체(범주형 변수 활용해 유사 범주에 따라 다른 값으로 대체) 가 있다"
   ]
  },
  {
   "cell_type": "code",
   "execution_count": null,
   "id": "dc7f8307",
   "metadata": {},
   "outputs": [],
   "source": [
    "# 삭제\n",
    "DataFrame.dropna(axis=0/1, how='any'/'all', subset=[col1, col2, ...], inplace=True/False)\n",
    "\n",
    "# axis: 행 방향으로 삭제할지 열 방향으로 삭제할지\n",
    "# how: any(하나라도 결측값 있으면 삭제. default.)/ all(모든 값이 결측값일때 삭제)\n",
    "# subset=['컬럼 명']: 특정 컬럼 기준 삭제. axis=0일때만 적용 가능\n",
    "# inplace: 원본데이터 변경 여부\n",
    "\n",
    "\n",
    "#대체\n",
    " # 일괄대체\n",
    " # 평균값으로 일괄 대체\n",
    "    a = df[\"열1\"].mean(axis=0)\n",
    "    df[\"열1\"].fillna(a, inplace=True)\n",
    " \n",
    " # 유사 유형 대체\n",
    " # 범주별로 그룹화하여 평균값 계산\n",
    "    category_means = df.groupby('Category')['Value'].mean()\n",
    "\n",
    " # 결측값을 범주의 평균값으로 대체\n",
    "    df['Value'] = df.groupby('Category')['Value'].apply(lambda x: x.fillna(x.mean()))"
   ]
  },
  {
   "cell_type": "markdown",
   "id": "a86ba25b",
   "metadata": {},
   "source": [
    "#### 이상치 처리\n",
    "* 이상치: 관측된 데이터의 범위에서 많이 벗어난 값\n",
    "  ##### 1. 이상치 확인\n",
    "   * 통계로 확인: describe()\n",
    "   * 시각화로 확인: boxplot()\n",
    "   * Z-score로 확인: 2~3을 넘어가는 데이터를 이상치로 간주.\n",
    "   * Tukey Fences로 확인: Q1 - (1.5 * IQR) 미만 / Q3 + (1.5 * IQR) 초과 일때 이상치라고 간주한다.\n",
    "\n",
    "  ##### 2. 이상치 제거 및 처리\n",
    "  * 전체 삭제: human error에 의해 발생시.\n",
    "  * 다른 값으로 대체: 관측치의 수가 적은 경우.\n",
    "  * 변수화: 이상값이 자연 발생한 경우 그를 변수화하여 삭제 않고 모델에 포함.\n",
    "  * 리샘플링: 이상값이 자연 발생한 경우 해당 이상값을 분리해서 모델을 만듦.\n",
    "\n",
    "#### 피처 엔지니어링 (변수 가공)\n",
    ": 컴퓨터가 이해할 수 있도록 피처(변수)들의 형태를 변형, 적절하게 처리하는 과정. \n",
    "\n",
    "  ##### 1. 레이블 인코딩, 원핫 인코딩\n",
    "  : 텍스트 -> 숫자\n",
    "  * 레이블 인코딩: 범주형 변수를 0~n-1 까지의 숫자로 변환\n",
    "  * 원핫 인코딩: 범주형 변수를 이진 벡터(0,1)로 변환 후\n",
    "    pd.get_dummies(DF,column=['컬럼리스트'])\n",
    "\n",
    "  ##### 2. 구간화\n",
    "  : 연속 데이터를 일정한 구간으로 나눠서 분석.\n",
    "  pd.cut(DF['컬럼명'],bins=['나누는 기준 리스트'], labels=['지정할 label'])\n",
    "\n",
    "  ##### 3. 파생변수 생성\n",
    "  : 기존의 피처를 다른 피처로 변환하여 변수를 추가.\n",
    "\n",
    "  ##### 4. 스케일링\n",
    "  : 서로 다른 변수의 값 범위를 일정한 수준으로 맞춤. 정규화 작업을 수행해야함."
   ]
  },
  {
   "cell_type": "markdown",
   "id": "8d4c4a9e",
   "metadata": {},
   "source": [
    "### 4. 데이터 시각화\n",
    ": 데이터에 대한 이해를 돕기 위해 그림, 도형 등 그래픽 요소로 데이터를 묘사하는 것.\n",
    "Matplotlib, Seaborn을 사용한다.\n",
    "\n",
    "#### 파라미터\n",
    ": 매개변수. 합수의 입력값을 의미한다.\n",
    "\n",
    "#### 다양한 그래프\n",
    "1. boxplot(상자 수염 그림)\n",
    "2. countplot(범주형 변수, 빈도수 확인), histplot(수치형 변수, 구간별 빈도수 확인)\n",
    "3. displot, kdeplot ((히스토그램을 연속적 곡선으로 연결)\n",
    "4. barplot(범주형 데이터 값 x에 따른 수치형 데이터 값 y의 평균 값 제공), pointplot(마찬가지)\n",
    "5. catplot(수치형 데이터와 범주형 데이터의 관계 볼 때 사용)\n",
    "6. pieplt(데이터 비율 pie로)\n",
    "7. heatmap(상관계수 직관적 보기)\n",
    "8. violinplot(boxplot, kdeplot 함수 그래프 합쳐 놓음)\n",
    "\n",
    "* 여러 그래프를 한 번에 찍을 수 도 있고, pairplot으로 여러 변수의 산점도를 한 번에 볼 수 도 있다."
   ]
  }
 ],
 "metadata": {
  "kernelspec": {
   "display_name": "base",
   "language": "python",
   "name": "python3"
  },
  "language_info": {
   "codemirror_mode": {
    "name": "ipython",
    "version": 3
   },
   "file_extension": ".py",
   "mimetype": "text/x-python",
   "name": "python",
   "nbconvert_exporter": "python",
   "pygments_lexer": "ipython3",
   "version": "3.13.5"
  }
 },
 "nbformat": 4,
 "nbformat_minor": 5
}
