{
 "cells": [
  {
   "cell_type": "markdown",
   "id": "b2abdc49",
   "metadata": {},
   "source": [
    "# 마지막 교육세션 과제에 오신 여러분을 모두 환영합니다!"
   ]
  },
  {
   "cell_type": "markdown",
   "id": "980f8880",
   "metadata": {},
   "source": [
    "이번 과제의 목표는 인콘 데이터셋을 어떻게 접근할지에 대한 방향성을 잡아보는 것에 있습니다."
   ]
  },
  {
   "cell_type": "markdown",
   "id": "40bf432e",
   "metadata": {},
   "source": [
    "그렇다보니 별도의 정답값이 존재하지 않습니다.\n",
    "\n",
    "코드보다는 어떤 파이프라인을 구성할지에 구상을 잡아두었는데요.\n",
    "\n",
    "다음 질문들을 코드들을 채워 답해볼까요?\n",
    "\n",
    "또한 이 데이터셋 자체로 확인하기 어렵다면 `어렵다..~`라고 편하게 작성해주시면 됩니다."
   ]
  },
  {
   "cell_type": "markdown",
   "id": "69d05e0e",
   "metadata": {},
   "source": [
    "---\n",
    "### 문제 제시 분해\n",
    "\n",
    "---"
   ]
  },
  {
   "cell_type": "markdown",
   "id": "d739551e",
   "metadata": {},
   "source": [
    "문제 제시: 우리의 **성장세가 점차 둔화**되고 있다는 우려의 목소리가 나오고 있습니다.\n",
    "\n",
    "질문: 성장세가 점차 둔화는 어떤 지표를 통해 파악할 수 있을까요?<br>\n",
    "답:"
   ]
  },
  {
   "cell_type": "code",
   "execution_count": 12,
   "id": "d6c89c6e",
   "metadata": {},
   "outputs": [],
   "source": [
    "# 지표를 구성해주세요."
   ]
  },
  {
   "cell_type": "markdown",
   "id": "4499241d",
   "metadata": {},
   "source": [
    "문제 제시: `수익성을 극대화하고 재고 효율성을 개선`할 수 있는 전략적 아이디어를 제시하는 것입니다.\n",
    "\n",
    "질문:\n",
    "\n",
    "* `수익성`은 어떻게 정의하면 될까요?\n",
    "* `재고 효율성`은 어떻게 정의되나요?"
   ]
  },
  {
   "cell_type": "markdown",
   "id": "122511b7",
   "metadata": {},
   "source": [
    "답:\n",
    "..~"
   ]
  },
  {
   "cell_type": "code",
   "execution_count": 13,
   "id": "5c1877bf",
   "metadata": {},
   "outputs": [],
   "source": [
    "# 데이터셋을 불러와 확인해봅시다."
   ]
  },
  {
   "cell_type": "markdown",
   "id": "4f781385",
   "metadata": {},
   "source": [
    "질문: `수익성`은 어떤 자료의 척도를 지니나요?<br>\n",
    "답: \n",
    "\n",
    "질문: 위 답에 근거해 어떤 접근을 해야할지 고민해봅시다...회귀? 분류? 군집화?<br>\n",
    "답:\n",
    "\n",
    "질문: 좋습니다. 그 방법을 선택하시기로 하셨군요! 그렇다면 이를 `수익성`을 설명하는 설명변수로 무엇을 선택하실건가요?<br>\n",
    "답:\n",
    "\n",
    "질문: 위 설명변수들이 선택된 이유가 별도로 있나요?<br>\n",
    "답:"
   ]
  },
  {
   "cell_type": "code",
   "execution_count": 14,
   "id": "4f7ee427",
   "metadata": {},
   "outputs": [],
   "source": [
    "# 좋습니다. 위 생각한대로 코드를 구성하고 모델을 평가해봅시다."
   ]
  },
  {
   "cell_type": "markdown",
   "id": "ce392d0b",
   "metadata": {},
   "source": [
    "질문: `재고 효율성`은 어떤 자료의 척도를 지니나요?<br>\n",
    "답: \n",
    "\n",
    "질문: 위 답에 근거해 어떤 접근을 해야할지 고민해봅시다...회귀? 분류? 군집화?<br>\n",
    "답:\n",
    "\n",
    "질문: 좋습니다. 그 방법을 선택하시기로 하셨군요! 그렇다면 이를 `재고 효율성`을 설명하는 설명변수로 무엇을 선택하실건가요?<br>\n",
    "답:\n",
    "\n",
    "질문: 위 설명변수들이 선택된 이유가 별도로 있나요?<br>\n",
    "답:"
   ]
  },
  {
   "cell_type": "code",
   "execution_count": 15,
   "id": "d78b2708",
   "metadata": {},
   "outputs": [],
   "source": [
    "# 좋습니다. 재고 효율성도 한번 코드를 구성하고 모델을 평가해봅시다."
   ]
  },
  {
   "cell_type": "markdown",
   "id": "bf8e5ea0",
   "metadata": {},
   "source": [
    "문제 제시: ~고객에게 `최고의 주류 경험을 제공`하는 것을 최우선 가치~\n",
    "\n",
    "질문: 고객 기준에서 최고의 주류 경험을 느낀다는 것은 무엇일까요?<br>\n",
    "*Hint: 당연한 이야기지만 최고의 주류 경험은 수치적으로 나타내기 쉽지 않습니다. 그렇기에 `Proxy Metrics`를 활용할 때가 온 것 같아요..~*<br>\n",
    "답:"
   ]
  },
  {
   "cell_type": "code",
   "execution_count": 16,
   "id": "da27e4f0",
   "metadata": {},
   "outputs": [],
   "source": [
    "# 확인해봅시다."
   ]
  },
  {
   "cell_type": "markdown",
   "id": "ff950ea5",
   "metadata": {},
   "source": [
    "문제 제시: `운영 및 상품 관리 과정`에서 드러나는 문제 또는 개선 가능성\n",
    "\n",
    "질문: Drink-Sight는 주류 전문 소매 체인입니다! 쉽게 말하면 술을 사와서 개인 소비자들에게 판매를 하고 있는 회사죠. 근데 이 각각의 물건들은 어떻게 소비자의 손까지 도달하게 되는걸까요?<br>\n",
    "*hints: `vendor-invoice`, `purchases`, `purchase-prices`를 파악해 어떻게 가져오는지를 생각해봅시다*<br>\n",
    "답:"
   ]
  },
  {
   "cell_type": "markdown",
   "id": "5e061924",
   "metadata": {},
   "source": [
    "문제 제시: `각기 다른 상권(City) 특성`을 가집니다.\n",
    "\n",
    "질문: 각기 다른 상권 특성은 어떻게 확인할 수 있을까요? 도시에 대한 정보는 없었는데 말이죠?<br>\n",
    "*hint: 하지만 이런 생각은 할 수 있을 것 같습니다. 우리나라 소주 지도를 아시나요? 각 지역별로 잘 나가는 소주가 다르다는 사실?*<br>\n",
    "답: "
   ]
  },
  {
   "cell_type": "code",
   "execution_count": 17,
   "id": "272ee640",
   "metadata": {},
   "outputs": [],
   "source": [
    "# 확인해봅시다."
   ]
  },
  {
   "cell_type": "markdown",
   "id": "45440e1b",
   "metadata": {},
   "source": [
    "---\n",
    "### 지표 분해\n",
    "\n",
    "---"
   ]
  },
  {
   "cell_type": "markdown",
   "id": "c2f7e53f",
   "metadata": {},
   "source": [
    "문제를 분해하며 몇 가지 지표가 나왔나요?\n",
    "\n",
    "아래 적어주시겠어요? 추가로 생각되는 지표가 있다면 더 적어보아도 됩니다!\n",
    "\n",
    "*\n",
    "*\n",
    "*\n",
    "*\n",
    "*"
   ]
  },
  {
   "cell_type": "markdown",
   "id": "8ec1f6a1",
   "metadata": {},
   "source": [
    "`수익성`지표를 분해하겠습니다.\n",
    "\n",
    "월별로, 기업별로 등등 분해해봅시다.<br>\n",
    "특이사항을 보이는 부분이 있을까요?"
   ]
  },
  {
   "cell_type": "code",
   "execution_count": 18,
   "id": "74a6a7ab",
   "metadata": {},
   "outputs": [],
   "source": [
    "# 확인해봅시다."
   ]
  },
  {
   "cell_type": "markdown",
   "id": "a02627ae",
   "metadata": {},
   "source": [
    "특이사항이 있었다면 그 원인은 무엇일까요?\n",
    "\n",
    "positive한 특이사항이라면 그 feature를 강화하는 방향으로<br>\n",
    "negative한 특이사항이라면 그 feature를 약화하는 방식으로<br>\n",
    "기업의 운영을 더 개선할 수 있을 것 같습니다.\n",
    "\n",
    "한번 작성해봅시다."
   ]
  },
  {
   "cell_type": "markdown",
   "id": "de73f499",
   "metadata": {},
   "source": [
    "그 다음 지표도 분해해봅시다."
   ]
  },
  {
   "cell_type": "code",
   "execution_count": 19,
   "id": "d4fd55ed",
   "metadata": {},
   "outputs": [],
   "source": [
    "# 확인해봅시다."
   ]
  },
  {
   "cell_type": "markdown",
   "id": "c36745c6",
   "metadata": {},
   "source": [
    "특이사항이 있었다면 그 원인은 무엇일까요?\n",
    "\n",
    "positive한 특이사항이라면 그 feature를 강화하는 방향으로<br>\n",
    "negative한 특이사항이라면 그 feature를 약화하는 방식으로<br>\n",
    "기업의 운영을 더 개선할 수 있을 것 같습니다.\n",
    "\n",
    "한번 작성해봅시다."
   ]
  },
  {
   "cell_type": "markdown",
   "id": "e038bf4f",
   "metadata": {},
   "source": [
    "3번째 지표도 분해해봅시다."
   ]
  },
  {
   "cell_type": "code",
   "execution_count": 20,
   "id": "0c6fc453",
   "metadata": {},
   "outputs": [],
   "source": [
    "# 확인해봅시다."
   ]
  },
  {
   "cell_type": "markdown",
   "id": "f0260083",
   "metadata": {},
   "source": [
    "특이사항이 있었다면 그 원인은 무엇일까요?\n",
    "\n",
    "positive한 특이사항이라면 그 feature를 강화하는 방향으로<br>\n",
    "negative한 특이사항이라면 그 feature를 약화하는 방식으로<br>\n",
    "기업의 운영을 더 개선할 수 있을 것 같습니다.\n",
    "\n",
    "한번 작성해봅시다."
   ]
  },
  {
   "cell_type": "markdown",
   "id": "f8a9d8fe",
   "metadata": {},
   "source": [
    "---\n",
    "### 가설 설정\n",
    "\n",
    "---"
   ]
  },
  {
   "cell_type": "markdown",
   "id": "1615d69b",
   "metadata": {},
   "source": [
    "지표들을 해석하며 여러가지 positive혹은 negative한 관계들을 포착할 수 있었을텐데요.\n",
    "\n",
    "그 이유는 무엇일까요?\n",
    "\n",
    "한번 생각해봅시다.\n",
    "\n",
    "또한 통계적 유의성도 고민해봐야겠는데요?"
   ]
  },
  {
   "cell_type": "code",
   "execution_count": null,
   "id": "19ee44ba",
   "metadata": {},
   "outputs": [],
   "source": [
    "# 파악하고 작성해봅시다."
   ]
  },
  {
   "cell_type": "markdown",
   "id": "253979d0",
   "metadata": {},
   "source": [
    "---\n",
    "### 해결방안 제시\n",
    "\n",
    "---"
   ]
  },
  {
   "cell_type": "markdown",
   "id": "ff7396c5",
   "metadata": {},
   "source": [
    "유의미한 가설관계가 설정하여 파악 완료하였다면 이에 미래를 바라볼 차례입니다\n",
    "\n",
    "어떤 전략을 제안해야 Drink-Sight가 더 개선될 수 있을까요?"
   ]
  },
  {
   "cell_type": "markdown",
   "id": "c3392dc3",
   "metadata": {},
   "source": [
    "* ~~~\n",
    "* ~~~\n",
    "* ~~~"
   ]
  },
  {
   "cell_type": "markdown",
   "id": "506baba4",
   "metadata": {},
   "source": [
    "# 여기까집니다! 위 자료들 기초하여 인콘까지 화이팅하시길 바랍니다!"
   ]
  },
  {
   "cell_type": "markdown",
   "id": "1476352f",
   "metadata": {},
   "source": []
  }
 ],
 "metadata": {
  "kernelspec": {
   "display_name": "base",
   "language": "python",
   "name": "python3"
  },
  "language_info": {
   "codemirror_mode": {
    "name": "ipython",
    "version": 3
   },
   "file_extension": ".py",
   "mimetype": "text/x-python",
   "name": "python",
   "nbconvert_exporter": "python",
   "pygments_lexer": "ipython3",
   "version": "3.13.5"
  }
 },
 "nbformat": 4,
 "nbformat_minor": 5
}
