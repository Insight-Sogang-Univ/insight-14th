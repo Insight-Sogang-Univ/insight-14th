{
 "cells": [
  {
   "cell_type": "markdown",
   "id": "c22b86da-d773-4f31-a47e-6b0dce1b3269",
   "metadata": {},
   "source": [
    "# **EDA 실습** "
   ]
  },
  {
   "cell_type": "markdown",
   "id": "19aad260-fe92-40f7-b8d6-58c3828cbc33",
   "metadata": {},
   "source": [
    "# <span style=\"background-color:#E0F7FA; color:#1565C0; padding:4px; border-radius:5px;\"> 사전준비) 파일 및 라이브러리 불러오기 </span>\n",
    "\n",
    "라이브러리를 별칭으로 import 해오기\n",
    "~~~\n",
    "import [라이브러리 이름] as [별칭]\n",
    "~~~\n",
    "\n",
    "먼저 데이터 분석에 필수적인 파이썬 라이브러리를 가져오겠습니다. 위의 참고 코드를 참고하여 아래 주석에 맞는 코드를 채워주세요."
   ]
  },
  {
   "cell_type": "code",
   "execution_count": null,
   "id": "9af8e28c-a576-43f5-bf36-f984f7702778",
   "metadata": {},
   "outputs": [],
   "source": [
    "# numpy 라이브러리를 np라는 별칭으로, pandas 라이브러리를 pd라는 별칭으로 불러와주세요.\n",
    "\n"
   ]
  },
  {
   "cell_type": "markdown",
   "id": "0400585b-c7e4-444a-aca7-915b09542082",
   "metadata": {},
   "source": [
    "다음으로, 데이터 시각화에 필요한 파이썬 라이브러리들을 가져오겠습니다. 아래 주석에 맞게 코드를 작성해주세요."
   ]
  },
  {
   "cell_type": "code",
   "execution_count": null,
   "id": "9ef61790-4b28-4c25-981d-a8c06eaf0872",
   "metadata": {},
   "outputs": [],
   "source": [
    "# matplotlib.pyplot를 plt이라는 별칭으로, 또 seaborn을 sns라는 별칭으로 import 해오세요.\n",
    "\n"
   ]
  },
  {
   "cell_type": "code",
   "execution_count": 3,
   "id": "c6f63116",
   "metadata": {},
   "outputs": [
    {
     "name": "stdout",
     "output_type": "stream",
     "text": [
      "'AppleGothic' 폰트로 설정되었습니다.\n"
     ]
    }
   ],
   "source": [
    "# 폰트 안 깨지게 설정\n",
    "import platform\n",
    "from matplotlib import font_manager\n",
    "\n",
    "def set_korean_font():\n",
    "    \"\"\"\n",
    "    운영체제에 맞는 한글 폰트를 설정합니다.\n",
    "    \"\"\"\n",
    "    os_name = platform.system()\n",
    "    \n",
    "    if os_name == 'Windows':\n",
    "        font_name = 'Malgun Gothic'\n",
    "    elif os_name == 'Darwin': # macOS\n",
    "        font_name = 'AppleGothic'\n",
    "\n",
    "    # 전역으로 폰트 설정\n",
    "    plt.rc('font', family=font_name)\n",
    "    \n",
    "    # 마이너스 부호 깨짐 방지 설정\n",
    "    plt.rc('axes', unicode_minus=False)\n",
    "    \n",
    "    print(f\"'{font_name}' 폰트로 설정되었습니다.\")\n",
    "\n",
    "set_korean_font()"
   ]
  },
  {
   "cell_type": "code",
   "execution_count": 4,
   "id": "838c5198-202f-44c0-97d6-fbdc284b732f",
   "metadata": {},
   "outputs": [
    {
     "name": "stdout",
     "output_type": "stream",
     "text": [
      "Defaulting to user installation because normal site-packages is not writeable\n",
      "Requirement already satisfied: IPython in /Users/jongbinhwang/Library/Python/3.9/lib/python/site-packages (8.18.1)\n",
      "Requirement already satisfied: decorator in /Users/jongbinhwang/Library/Python/3.9/lib/python/site-packages (from IPython) (5.2.1)\n",
      "Requirement already satisfied: jedi>=0.16 in /Users/jongbinhwang/Library/Python/3.9/lib/python/site-packages (from IPython) (0.19.2)\n",
      "Requirement already satisfied: matplotlib-inline in /Users/jongbinhwang/Library/Python/3.9/lib/python/site-packages (from IPython) (0.1.7)\n",
      "Requirement already satisfied: prompt-toolkit<3.1.0,>=3.0.41 in /Users/jongbinhwang/Library/Python/3.9/lib/python/site-packages (from IPython) (3.0.51)\n",
      "Requirement already satisfied: pygments>=2.4.0 in /Users/jongbinhwang/Library/Python/3.9/lib/python/site-packages (from IPython) (2.19.1)\n",
      "Requirement already satisfied: stack-data in /Users/jongbinhwang/Library/Python/3.9/lib/python/site-packages (from IPython) (0.6.3)\n",
      "Requirement already satisfied: traitlets>=5 in /Users/jongbinhwang/Library/Python/3.9/lib/python/site-packages (from IPython) (5.14.3)\n",
      "Requirement already satisfied: typing-extensions in /Users/jongbinhwang/Library/Python/3.9/lib/python/site-packages (from IPython) (4.13.2)\n",
      "Requirement already satisfied: exceptiongroup in /Users/jongbinhwang/Library/Python/3.9/lib/python/site-packages (from IPython) (1.2.2)\n",
      "Requirement already satisfied: pexpect>4.3 in /Users/jongbinhwang/Library/Python/3.9/lib/python/site-packages (from IPython) (4.9.0)\n",
      "Requirement already satisfied: wcwidth in /Users/jongbinhwang/Library/Python/3.9/lib/python/site-packages (from prompt-toolkit<3.1.0,>=3.0.41->IPython) (0.2.13)\n",
      "Requirement already satisfied: parso<0.9.0,>=0.8.4 in /Users/jongbinhwang/Library/Python/3.9/lib/python/site-packages (from jedi>=0.16->IPython) (0.8.4)\n",
      "Requirement already satisfied: ptyprocess>=0.5 in /Users/jongbinhwang/Library/Python/3.9/lib/python/site-packages (from pexpect>4.3->IPython) (0.7.0)\n",
      "Requirement already satisfied: executing>=1.2.0 in /Users/jongbinhwang/Library/Python/3.9/lib/python/site-packages (from stack-data->IPython) (2.2.0)\n",
      "Requirement already satisfied: asttokens>=2.1.0 in /Users/jongbinhwang/Library/Python/3.9/lib/python/site-packages (from stack-data->IPython) (3.0.0)\n",
      "Requirement already satisfied: pure-eval in /Users/jongbinhwang/Library/Python/3.9/lib/python/site-packages (from stack-data->IPython) (0.2.3)\n",
      "\n",
      "\u001b[1m[\u001b[0m\u001b[34;49mnotice\u001b[0m\u001b[1;39;49m]\u001b[0m\u001b[39;49m A new release of pip is available: \u001b[0m\u001b[31;49m25.1.1\u001b[0m\u001b[39;49m -> \u001b[0m\u001b[32;49m25.2\u001b[0m\n",
      "\u001b[1m[\u001b[0m\u001b[34;49mnotice\u001b[0m\u001b[1;39;49m]\u001b[0m\u001b[39;49m To update, run: \u001b[0m\u001b[32;49m/Applications/Xcode.app/Contents/Developer/usr/bin/python3 -m pip install --upgrade pip\u001b[0m\n"
     ]
    }
   ],
   "source": [
    "# matplotlib style 설정\n",
    "plt.style.use(\"seaborn-v0_8\")\n",
    "\n",
    "# 사진 파일 불러오기\n",
    "!pip install IPython\n",
    "from IPython.display import Image\n",
    "\n",
    "# 문법 변경에 의한 경고를 무시\n",
    "import warnings\n",
    "warnings.filterwarnings('ignore')\n",
    "\n",
    "# matplotlib 시각화 결과를 jupyter notebook에서 바로 볼 수 있게 해주는 command\n",
    "%matplotlib inline"
   ]
  },
  {
   "cell_type": "markdown",
   "id": "b0dc58ea-f1da-478a-bd30-ef74c99be108",
   "metadata": {},
   "source": [
    "# <span style=\"background-color:#E0F7FA; color:#1565C0; padding:4px; border-radius:5px;\"> 실습1) 타이타닉 데이터 파일 읽어오기 </span>"
   ]
  },
  {
   "cell_type": "markdown",
   "id": "5fcd0826-685a-4911-aab5-b75c8f84b873",
   "metadata": {},
   "source": [
    "'titanic.csv' 파일을 각각의 방식으로 읽어오는 코드를 작성하세요."
   ]
  },
  {
   "cell_type": "markdown",
   "id": "70f798ba-ba5a-4ca8-9345-aaad883dd28f",
   "metadata": {},
   "source": [
    "### 1-1. **절대경로** 통해 읽어오기"
   ]
  },
  {
   "cell_type": "code",
   "execution_count": 5,
   "id": "88cd7543-1d6c-44e8-a70e-32aef4b3332d",
   "metadata": {},
   "outputs": [
    {
     "data": {
      "text/plain": [
       "'/Users/jongbinhwang/Downloads/교육세션자료준비/EDA&전처리_실습'"
      ]
     },
     "execution_count": 5,
     "metadata": {},
     "output_type": "execute_result"
    }
   ],
   "source": [
    "import os\n",
    "os.getcwd() #절대경로를 불러오는 명령어"
   ]
  },
  {
   "cell_type": "code",
   "execution_count": null,
   "id": "07e631e0-01f2-48c3-aa6a-14c5e06593a7",
   "metadata": {},
   "outputs": [],
   "source": [
    "#코드 작성하여 'data' 변수에 할당\n",
    "data ="
   ]
  },
  {
   "cell_type": "markdown",
   "id": "b9c25bde-94a2-4e8d-8f6c-47d245e0c786",
   "metadata": {},
   "source": [
    "### 1-2. **상대경로** 통해 읽어오기"
   ]
  },
  {
   "cell_type": "code",
   "execution_count": null,
   "id": "3f4e3671-afb5-4cc8-89ef-59439b067e4b",
   "metadata": {},
   "outputs": [],
   "source": [
    "#코드 작성하여 'data' 변수에 할당\n",
    "data ="
   ]
  },
  {
   "cell_type": "markdown",
   "id": "5873d76d-c962-4b63-9f02-19ef21aa67bb",
   "metadata": {},
   "source": [
    "# <span style=\"background-color:#E0F7FA; color:#1565C0; padding:4px; border-radius:5px;\"> 실습2) 타이타닉 데이터셋 파악하기 </span>"
   ]
  },
  {
   "cell_type": "markdown",
   "id": "c1962ac3-2192-4778-b94b-20420cce998f",
   "metadata": {},
   "source": [
    "### 2-1. 데이터 프레임 보기\n",
    "타이타닉 데이터셋 상위 10개의 데이터 프레임을 확인해보세요."
   ]
  },
  {
   "cell_type": "code",
   "execution_count": null,
   "id": "fcb7da26-ef53-4ca8-bee9-1d0fdeef0416",
   "metadata": {},
   "outputs": [
    {
     "data": {
      "application/vnd.microsoft.datawrangler.viewer.v0+json": {
       "columns": [
        {
         "name": "index",
         "rawType": "int64",
         "type": "integer"
        },
        {
         "name": "Unnamed: 0",
         "rawType": "int64",
         "type": "integer"
        },
        {
         "name": "PassengerId",
         "rawType": "int64",
         "type": "integer"
        },
        {
         "name": "Survived",
         "rawType": "object",
         "type": "string"
        },
        {
         "name": "Pclass",
         "rawType": "int64",
         "type": "integer"
        },
        {
         "name": "Name",
         "rawType": "object",
         "type": "string"
        },
        {
         "name": "Sex",
         "rawType": "object",
         "type": "string"
        },
        {
         "name": "Age",
         "rawType": "float64",
         "type": "float"
        },
        {
         "name": "SibSp",
         "rawType": "int64",
         "type": "integer"
        },
        {
         "name": "Parch",
         "rawType": "int64",
         "type": "integer"
        },
        {
         "name": "Ticket",
         "rawType": "object",
         "type": "string"
        },
        {
         "name": "Fare",
         "rawType": "float64",
         "type": "float"
        },
        {
         "name": "Cabin",
         "rawType": "object",
         "type": "unknown"
        },
        {
         "name": "Embarked",
         "rawType": "object",
         "type": "string"
        }
       ],
       "ref": "c1557fd4-c8b5-422a-97d8-b72c567a0757",
       "rows": [
        [
         "0",
         "0",
         "1",
         "Deceased",
         "3",
         "Braund, Mr. Owen Harris",
         "male",
         "22.0",
         "1",
         "0",
         "A/5 21171",
         "7.25",
         null,
         "S"
        ],
        [
         "1",
         "1",
         "2",
         "Survived",
         "1",
         "Cumings, Mrs. John Bradley (Florence Briggs Thayer)",
         "female",
         "38.0",
         "1",
         "0",
         "PC 17599",
         "71.2833",
         "C85",
         "C"
        ],
        [
         "2",
         "2",
         "3",
         "Survived",
         "3",
         "Heikkinen, Miss. Laina",
         "female",
         "26.0",
         "0",
         "0",
         "STON/O2. 3101282",
         "7.925",
         null,
         "S"
        ],
        [
         "3",
         "3",
         "4",
         "Survived",
         "1",
         "Futrelle, Mrs. Jacques Heath (Lily May Peel)",
         "female",
         "35.0",
         "1",
         "0",
         "113803",
         "53.1",
         "C123",
         "S"
        ],
        [
         "4",
         "4",
         "5",
         "Deceased",
         "3",
         "Allen, Mr. William Henry",
         "male",
         "35.0",
         "0",
         "0",
         "373450",
         "8.05",
         null,
         "S"
        ],
        [
         "5",
         "5",
         "6",
         "Deceased",
         "3",
         "Moran, Mr. James",
         "male",
         null,
         "0",
         "0",
         "330877",
         "8.4583",
         null,
         "Q"
        ],
        [
         "6",
         "6",
         "7",
         "Deceased",
         "1",
         "McCarthy, Mr. Timothy J",
         "male",
         "54.0",
         "0",
         "0",
         "17463",
         "51.8625",
         "E46",
         "S"
        ],
        [
         "7",
         "7",
         "8",
         "Deceased",
         "3",
         "Palsson, Master. Gosta Leonard",
         "male",
         "2.0",
         "3",
         "1",
         "349909",
         "21.075",
         null,
         "S"
        ],
        [
         "8",
         "8",
         "9",
         "Survived",
         "3",
         "Johnson, Mrs. Oscar W (Elisabeth Vilhelmina Berg)",
         "female",
         "27.0",
         "0",
         "2",
         "347742",
         "11.1333",
         null,
         "S"
        ],
        [
         "9",
         "9",
         "10",
         "Survived",
         "2",
         "Nasser, Mrs. Nicholas (Adele Achem)",
         "female",
         "14.0",
         "1",
         "0",
         "237736",
         "30.0708",
         null,
         "C"
        ]
       ],
       "shape": {
        "columns": 13,
        "rows": 10
       }
      },
      "text/html": [
       "<div>\n",
       "<style scoped>\n",
       "    .dataframe tbody tr th:only-of-type {\n",
       "        vertical-align: middle;\n",
       "    }\n",
       "\n",
       "    .dataframe tbody tr th {\n",
       "        vertical-align: top;\n",
       "    }\n",
       "\n",
       "    .dataframe thead th {\n",
       "        text-align: right;\n",
       "    }\n",
       "</style>\n",
       "<table border=\"1\" class=\"dataframe\">\n",
       "  <thead>\n",
       "    <tr style=\"text-align: right;\">\n",
       "      <th></th>\n",
       "      <th>Unnamed: 0</th>\n",
       "      <th>PassengerId</th>\n",
       "      <th>Survived</th>\n",
       "      <th>Pclass</th>\n",
       "      <th>Name</th>\n",
       "      <th>Sex</th>\n",
       "      <th>Age</th>\n",
       "      <th>SibSp</th>\n",
       "      <th>Parch</th>\n",
       "      <th>Ticket</th>\n",
       "      <th>Fare</th>\n",
       "      <th>Cabin</th>\n",
       "      <th>Embarked</th>\n",
       "    </tr>\n",
       "  </thead>\n",
       "  <tbody>\n",
       "    <tr>\n",
       "      <th>0</th>\n",
       "      <td>0</td>\n",
       "      <td>1</td>\n",
       "      <td>Deceased</td>\n",
       "      <td>3</td>\n",
       "      <td>Braund, Mr. Owen Harris</td>\n",
       "      <td>male</td>\n",
       "      <td>22.0</td>\n",
       "      <td>1</td>\n",
       "      <td>0</td>\n",
       "      <td>A/5 21171</td>\n",
       "      <td>7.2500</td>\n",
       "      <td>NaN</td>\n",
       "      <td>S</td>\n",
       "    </tr>\n",
       "    <tr>\n",
       "      <th>1</th>\n",
       "      <td>1</td>\n",
       "      <td>2</td>\n",
       "      <td>Survived</td>\n",
       "      <td>1</td>\n",
       "      <td>Cumings, Mrs. John Bradley (Florence Briggs Th...</td>\n",
       "      <td>female</td>\n",
       "      <td>38.0</td>\n",
       "      <td>1</td>\n",
       "      <td>0</td>\n",
       "      <td>PC 17599</td>\n",
       "      <td>71.2833</td>\n",
       "      <td>C85</td>\n",
       "      <td>C</td>\n",
       "    </tr>\n",
       "    <tr>\n",
       "      <th>2</th>\n",
       "      <td>2</td>\n",
       "      <td>3</td>\n",
       "      <td>Survived</td>\n",
       "      <td>3</td>\n",
       "      <td>Heikkinen, Miss. Laina</td>\n",
       "      <td>female</td>\n",
       "      <td>26.0</td>\n",
       "      <td>0</td>\n",
       "      <td>0</td>\n",
       "      <td>STON/O2. 3101282</td>\n",
       "      <td>7.9250</td>\n",
       "      <td>NaN</td>\n",
       "      <td>S</td>\n",
       "    </tr>\n",
       "    <tr>\n",
       "      <th>3</th>\n",
       "      <td>3</td>\n",
       "      <td>4</td>\n",
       "      <td>Survived</td>\n",
       "      <td>1</td>\n",
       "      <td>Futrelle, Mrs. Jacques Heath (Lily May Peel)</td>\n",
       "      <td>female</td>\n",
       "      <td>35.0</td>\n",
       "      <td>1</td>\n",
       "      <td>0</td>\n",
       "      <td>113803</td>\n",
       "      <td>53.1000</td>\n",
       "      <td>C123</td>\n",
       "      <td>S</td>\n",
       "    </tr>\n",
       "    <tr>\n",
       "      <th>4</th>\n",
       "      <td>4</td>\n",
       "      <td>5</td>\n",
       "      <td>Deceased</td>\n",
       "      <td>3</td>\n",
       "      <td>Allen, Mr. William Henry</td>\n",
       "      <td>male</td>\n",
       "      <td>35.0</td>\n",
       "      <td>0</td>\n",
       "      <td>0</td>\n",
       "      <td>373450</td>\n",
       "      <td>8.0500</td>\n",
       "      <td>NaN</td>\n",
       "      <td>S</td>\n",
       "    </tr>\n",
       "    <tr>\n",
       "      <th>5</th>\n",
       "      <td>5</td>\n",
       "      <td>6</td>\n",
       "      <td>Deceased</td>\n",
       "      <td>3</td>\n",
       "      <td>Moran, Mr. James</td>\n",
       "      <td>male</td>\n",
       "      <td>NaN</td>\n",
       "      <td>0</td>\n",
       "      <td>0</td>\n",
       "      <td>330877</td>\n",
       "      <td>8.4583</td>\n",
       "      <td>NaN</td>\n",
       "      <td>Q</td>\n",
       "    </tr>\n",
       "    <tr>\n",
       "      <th>6</th>\n",
       "      <td>6</td>\n",
       "      <td>7</td>\n",
       "      <td>Deceased</td>\n",
       "      <td>1</td>\n",
       "      <td>McCarthy, Mr. Timothy J</td>\n",
       "      <td>male</td>\n",
       "      <td>54.0</td>\n",
       "      <td>0</td>\n",
       "      <td>0</td>\n",
       "      <td>17463</td>\n",
       "      <td>51.8625</td>\n",
       "      <td>E46</td>\n",
       "      <td>S</td>\n",
       "    </tr>\n",
       "    <tr>\n",
       "      <th>7</th>\n",
       "      <td>7</td>\n",
       "      <td>8</td>\n",
       "      <td>Deceased</td>\n",
       "      <td>3</td>\n",
       "      <td>Palsson, Master. Gosta Leonard</td>\n",
       "      <td>male</td>\n",
       "      <td>2.0</td>\n",
       "      <td>3</td>\n",
       "      <td>1</td>\n",
       "      <td>349909</td>\n",
       "      <td>21.0750</td>\n",
       "      <td>NaN</td>\n",
       "      <td>S</td>\n",
       "    </tr>\n",
       "    <tr>\n",
       "      <th>8</th>\n",
       "      <td>8</td>\n",
       "      <td>9</td>\n",
       "      <td>Survived</td>\n",
       "      <td>3</td>\n",
       "      <td>Johnson, Mrs. Oscar W (Elisabeth Vilhelmina Berg)</td>\n",
       "      <td>female</td>\n",
       "      <td>27.0</td>\n",
       "      <td>0</td>\n",
       "      <td>2</td>\n",
       "      <td>347742</td>\n",
       "      <td>11.1333</td>\n",
       "      <td>NaN</td>\n",
       "      <td>S</td>\n",
       "    </tr>\n",
       "    <tr>\n",
       "      <th>9</th>\n",
       "      <td>9</td>\n",
       "      <td>10</td>\n",
       "      <td>Survived</td>\n",
       "      <td>2</td>\n",
       "      <td>Nasser, Mrs. Nicholas (Adele Achem)</td>\n",
       "      <td>female</td>\n",
       "      <td>14.0</td>\n",
       "      <td>1</td>\n",
       "      <td>0</td>\n",
       "      <td>237736</td>\n",
       "      <td>30.0708</td>\n",
       "      <td>NaN</td>\n",
       "      <td>C</td>\n",
       "    </tr>\n",
       "  </tbody>\n",
       "</table>\n",
       "</div>"
      ],
      "text/plain": [
       "   Unnamed: 0  PassengerId  Survived  Pclass  \\\n",
       "0           0            1  Deceased       3   \n",
       "1           1            2  Survived       1   \n",
       "2           2            3  Survived       3   \n",
       "3           3            4  Survived       1   \n",
       "4           4            5  Deceased       3   \n",
       "5           5            6  Deceased       3   \n",
       "6           6            7  Deceased       1   \n",
       "7           7            8  Deceased       3   \n",
       "8           8            9  Survived       3   \n",
       "9           9           10  Survived       2   \n",
       "\n",
       "                                                Name     Sex   Age  SibSp  \\\n",
       "0                            Braund, Mr. Owen Harris    male  22.0      1   \n",
       "1  Cumings, Mrs. John Bradley (Florence Briggs Th...  female  38.0      1   \n",
       "2                             Heikkinen, Miss. Laina  female  26.0      0   \n",
       "3       Futrelle, Mrs. Jacques Heath (Lily May Peel)  female  35.0      1   \n",
       "4                           Allen, Mr. William Henry    male  35.0      0   \n",
       "5                                   Moran, Mr. James    male   NaN      0   \n",
       "6                            McCarthy, Mr. Timothy J    male  54.0      0   \n",
       "7                     Palsson, Master. Gosta Leonard    male   2.0      3   \n",
       "8  Johnson, Mrs. Oscar W (Elisabeth Vilhelmina Berg)  female  27.0      0   \n",
       "9                Nasser, Mrs. Nicholas (Adele Achem)  female  14.0      1   \n",
       "\n",
       "   Parch            Ticket     Fare Cabin Embarked  \n",
       "0      0         A/5 21171   7.2500   NaN        S  \n",
       "1      0          PC 17599  71.2833   C85        C  \n",
       "2      0  STON/O2. 3101282   7.9250   NaN        S  \n",
       "3      0            113803  53.1000  C123        S  \n",
       "4      0            373450   8.0500   NaN        S  \n",
       "5      0            330877   8.4583   NaN        Q  \n",
       "6      0             17463  51.8625   E46        S  \n",
       "7      1            349909  21.0750   NaN        S  \n",
       "8      2            347742  11.1333   NaN        S  \n",
       "9      0            237736  30.0708   NaN        C  "
      ]
     },
     "execution_count": 8,
     "metadata": {},
     "output_type": "execute_result"
    }
   ],
   "source": [
    "# 아래와 같은 결과가 나오도록 코드 작성\n"
   ]
  },
  {
   "cell_type": "markdown",
   "id": "d33b8ff1-b722-47fa-a56e-3739ab9143ad",
   "metadata": {},
   "source": [
    "### 2-2. 데이터 변수 정의"
   ]
  },
  {
   "cell_type": "markdown",
   "id": "2a17db72-372d-4982-8e40-9ba6bc500e80",
   "metadata": {},
   "source": [
    "변수의 정의를 파악하는 것은 EDA의 기본입니다. 데이터셋의 변수 정의를 살펴보도록 합시다.\n",
    "\n",
    "\n",
    "| Column | 정의 | 비고 |\n",
    "| --- | --- | --- |\n",
    "| PassengerId | 탑승객의 고유 아이디 |  |\n",
    "| Survival | 생존여부 | |\n",
    "| Pclass | 등실의 등급 | (1: 1등급, 2: 2등급, 3: 3등급) |\n",
    "| Name | 이름 |  |\n",
    "| Sex | 성별 |  |\n",
    "| Age | 나이 |  |\n",
    "| Sibsp | 함께 탑승한 형제자매, 아내 남편의 수 |  |\n",
    "| Parch | 함께 탑승한 부모, 자식의 수 |  |\n",
    "| Ticket | 티켓번호 |  |\n",
    "| Fare | 티켓의 요금 |  |\n",
    "| Cabin | 객실번호 |  |\n",
    "| Embarked | 배에 탑승한 위치 | (C = Cherbourg, Q = Queenstown, S = Southampton) |"
   ]
  },
  {
   "cell_type": "markdown",
   "id": "db5e914f-f323-4b59-a3e9-63ce9f974d2c",
   "metadata": {},
   "source": [
    "### 2-3. 변수 유형 분류하기\n",
    "위의 변수들을 명목형/순서형/이산형/연속형으로 분류해보세요."
   ]
  },
  {
   "cell_type": "markdown",
   "id": "9f4705a1-dd85-44df-a7bd-cf35be9bbb1f",
   "metadata": {},
   "source": [
    "명목형:\n",
    "\n",
    "순서형:\n",
    "\n",
    "이산형:\n",
    "\n",
    "연속형:"
   ]
  },
  {
   "cell_type": "markdown",
   "id": "a3810357-29c2-4ab2-b7ff-42f53dbac74d",
   "metadata": {},
   "source": [
    "### 2-4. 변수 데이터 형식 확인"
   ]
  },
  {
   "cell_type": "code",
   "execution_count": 9,
   "id": "f7b46b70-a979-457b-83d4-0f5f70461ad4",
   "metadata": {},
   "outputs": [
    {
     "name": "stdout",
     "output_type": "stream",
     "text": [
      "<class 'pandas.core.frame.DataFrame'>\n",
      "RangeIndex: 891 entries, 0 to 890\n",
      "Data columns (total 13 columns):\n",
      " #   Column       Non-Null Count  Dtype  \n",
      "---  ------       --------------  -----  \n",
      " 0   Unnamed: 0   891 non-null    int64  \n",
      " 1   PassengerId  891 non-null    int64  \n",
      " 2   Survived     891 non-null    object \n",
      " 3   Pclass       891 non-null    int64  \n",
      " 4   Name         891 non-null    object \n",
      " 5   Sex          891 non-null    object \n",
      " 6   Age          714 non-null    float64\n",
      " 7   SibSp        891 non-null    int64  \n",
      " 8   Parch        891 non-null    int64  \n",
      " 9   Ticket       891 non-null    object \n",
      " 10  Fare         891 non-null    float64\n",
      " 11  Cabin        204 non-null    object \n",
      " 12  Embarked     889 non-null    object \n",
      "dtypes: float64(2), int64(5), object(6)\n",
      "memory usage: 90.6+ KB\n"
     ]
    }
   ],
   "source": [
    "data.info()"
   ]
  },
  {
   "cell_type": "markdown",
   "id": "20567397-61d6-4247-bebe-682c2aac0bdb",
   "metadata": {},
   "source": [
    "# <span style=\"background-color:#E0F7FA; color:#1565C0; padding:4px; border-radius:5px;\"> 실습3) 타이타닉 데이터셋 전처리 </span>"
   ]
  },
  {
   "cell_type": "markdown",
   "id": "7ec7c335-b014-4986-9710-e758c775dc08",
   "metadata": {},
   "source": [
    "### 3-1. **결측치** 처리\n",
    "일반적으로 본격적인 데이터 분석을 시작하기 전에 결측치를 처리합니다. 결측치란, 누락된 값을 의미하며, 누락된 값은 데이터 분석에 왜곡을 일으킬 수 있으므로 적절하게 처리해주어야 합니다. "
   ]
  },
  {
   "cell_type": "code",
   "execution_count": null,
   "id": "118bf6f5-72e0-4a14-8f69-1c56254cf3d5",
   "metadata": {},
   "outputs": [
    {
     "data": {
      "application/vnd.microsoft.datawrangler.viewer.v0+json": {
       "columns": [
        {
         "name": "index",
         "rawType": "object",
         "type": "string"
        },
        {
         "name": "0",
         "rawType": "int64",
         "type": "integer"
        }
       ],
       "ref": "9cf1259b-49e6-4940-afc3-cb229ce83a43",
       "rows": [
        [
         "Unnamed: 0",
         "0"
        ],
        [
         "PassengerId",
         "0"
        ],
        [
         "Survived",
         "0"
        ],
        [
         "Pclass",
         "0"
        ],
        [
         "Name",
         "0"
        ],
        [
         "Sex",
         "0"
        ],
        [
         "Age",
         "177"
        ],
        [
         "SibSp",
         "0"
        ],
        [
         "Parch",
         "0"
        ],
        [
         "Ticket",
         "0"
        ],
        [
         "Fare",
         "0"
        ],
        [
         "Cabin",
         "687"
        ],
        [
         "Embarked",
         "2"
        ]
       ],
       "shape": {
        "columns": 1,
        "rows": 13
       }
      },
      "text/plain": [
       "Unnamed: 0       0\n",
       "PassengerId      0\n",
       "Survived         0\n",
       "Pclass           0\n",
       "Name             0\n",
       "Sex              0\n",
       "Age            177\n",
       "SibSp            0\n",
       "Parch            0\n",
       "Ticket           0\n",
       "Fare             0\n",
       "Cabin          687\n",
       "Embarked         2\n",
       "dtype: int64"
      ]
     },
     "execution_count": 10,
     "metadata": {},
     "output_type": "execute_result"
    }
   ],
   "source": [
    "# 결측값 확인 코드 작성\n"
   ]
  },
  {
   "cell_type": "markdown",
   "id": "dfadacf6",
   "metadata": {},
   "source": [
    "여러 형태로 표현되는 호칭을 통일해서 'Initial' 칼럼에 저장하는 코드를 확인해보세요. <br> 호칭 통일 후 아래와 같이 나이 평균을 확인할 수 있는 코드를 작성하세요."
   ]
  },
  {
   "cell_type": "code",
   "execution_count": 11,
   "id": "91f7770d-c9c1-4de2-b4ba-453a9a3a88cc",
   "metadata": {},
   "outputs": [
    {
     "data": {
      "application/vnd.microsoft.datawrangler.viewer.v0+json": {
       "columns": [
        {
         "name": "Initial",
         "rawType": "object",
         "type": "string"
        },
        {
         "name": "Age",
         "rawType": "float64",
         "type": "float"
        }
       ],
       "ref": "9f7a01bf-9206-4d17-899d-c27388ef2b39",
       "rows": [
        [
         "Master",
         "4.574166666666667"
        ],
        [
         "Miss",
         "21.86"
        ],
        [
         "Mr",
         "32.73960880195599"
        ],
        [
         "Mrs",
         "35.981818181818184"
        ],
        [
         "Other",
         "45.888888888888886"
        ]
       ],
       "shape": {
        "columns": 1,
        "rows": 5
       }
      },
      "text/plain": [
       "Initial\n",
       "Master     4.574167\n",
       "Miss      21.860000\n",
       "Mr        32.739609\n",
       "Mrs       35.981818\n",
       "Other     45.888889\n",
       "Name: Age, dtype: float64"
      ]
     },
     "execution_count": 11,
     "metadata": {},
     "output_type": "execute_result"
    }
   ],
   "source": [
    "data['Initial'] = 0 # Initial 컬럼을 만들고 일시적으로 값을 0으로 초기화\n",
    "\n",
    "for i in data:    #여러 형태로 표현되는 호칭을 통일화\n",
    "    data['Initial'] = data.Name.str.extract('([A-Za-z]+)\\.')  # Name 컬럼에서 .(dot)을 기준으로 알파벳 문자열 추출\n",
    "    \n",
    "data['Initial'].replace(['Mlle', 'Mme', 'Ms', 'Dr', 'Major', 'Lady', 'Countess', 'Jonkheer', 'Col',\n",
    "    'Rev', 'Capt', 'Sir', 'Don'], ['Miss', 'Miss', 'Miss', 'Mr', 'Mr', 'Mrs', 'Mrs', 'Other', 'Other',\n",
    "    'Other', 'Mr', 'Mr', 'Mr'], inplace=True)\n",
    "\n",
    "# Initial별 나이 평균을 확인하는 코드 작성\n",
    "data.groupby('Initial')['Age'].mean()"
   ]
  },
  {
   "cell_type": "code",
   "execution_count": 12,
   "id": "0f2591c6-9dd3-4332-86a7-d76155d3495a",
   "metadata": {},
   "outputs": [],
   "source": [
    "# 결측값을 Initial별 평균값으로 대체\n",
    "data.loc[(data.Age.isnull()) & (data.Initial == 'Mr'), 'Age'] = 33\n",
    "data.loc[(data.Age.isnull()) & (data.Initial == 'Mrs'), 'Age'] = 36\n",
    "data.loc[(data.Age.isnull()) & (data.Initial == 'Master'), 'Age'] = 5\n",
    "data.loc[(data.Age.isnull()) & (data.Initial == 'Miss'), 'Age'] = 22\n",
    "data.loc[(data.Age.isnull()) & (data.Initial == 'Other'), 'Age'] = 46"
   ]
  },
  {
   "cell_type": "markdown",
   "id": "535d1496-6b23-4cb3-8ea4-b79999a2bccc",
   "metadata": {},
   "source": [
    "이제 Age 칼럼의 결측값이 잘 대체되었는지 확인해봅시다."
   ]
  },
  {
   "cell_type": "code",
   "execution_count": null,
   "id": "ed01bf63-51ae-4b90-b222-0004cd5bcba8",
   "metadata": {},
   "outputs": [
    {
     "data": {
      "text/plain": [
       "np.True_"
      ]
     },
     "execution_count": 13,
     "metadata": {},
     "output_type": "execute_result"
    }
   ],
   "source": [
    "# 결측값 유무를 any()를 활용해서 확인\n"
   ]
  },
  {
   "cell_type": "markdown",
   "id": "cdc9f408-8daa-4ddf-a745-c29b7068c994",
   "metadata": {},
   "source": [
    "### 3-2. **이상치** 처리\n",
    "\n",
    "이상치(outlier)란, 관측된 데이터 범위에서 매우 크거나 작은 값으로 데이터 범위를 많이 벗어난 값을 일컫습니다."
   ]
  },
  {
   "cell_type": "markdown",
   "id": "b48e28a7-90e5-4ea7-a105-e403d35360ad",
   "metadata": {},
   "source": [
    "통계를 통해 Fare 칼럼의 이상치를 확인해보세요."
   ]
  },
  {
   "cell_type": "code",
   "execution_count": null,
   "id": "108f7414-1b53-489e-9745-cfcf1fc02128",
   "metadata": {},
   "outputs": [
    {
     "data": {
      "application/vnd.microsoft.datawrangler.viewer.v0+json": {
       "columns": [
        {
         "name": "index",
         "rawType": "object",
         "type": "string"
        },
        {
         "name": "Fare",
         "rawType": "float64",
         "type": "float"
        }
       ],
       "ref": "c20a4439-0a33-4412-ad80-37e5998ced5b",
       "rows": [
        [
         "count",
         "891.0"
        ],
        [
         "mean",
         "32.204207968574636"
        ],
        [
         "std",
         "49.6934285971809"
        ],
        [
         "min",
         "0.0"
        ],
        [
         "25%",
         "7.9104"
        ],
        [
         "50%",
         "14.4542"
        ],
        [
         "75%",
         "31.0"
        ],
        [
         "max",
         "512.3292"
        ]
       ],
       "shape": {
        "columns": 1,
        "rows": 8
       }
      },
      "text/plain": [
       "count    891.000000\n",
       "mean      32.204208\n",
       "std       49.693429\n",
       "min        0.000000\n",
       "25%        7.910400\n",
       "50%       14.454200\n",
       "75%       31.000000\n",
       "max      512.329200\n",
       "Name: Fare, dtype: float64"
      ]
     },
     "execution_count": 14,
     "metadata": {},
     "output_type": "execute_result"
    }
   ],
   "source": [
    "# 통계를 통해 Fare 칼럼 이상치 확인\n"
   ]
  },
  {
   "cell_type": "code",
   "execution_count": null,
   "id": "f8c9090f-2ec0-499b-b353-a3d39c712b96",
   "metadata": {},
   "outputs": [
    {
     "data": {
      "text/plain": [
       "<Axes: xlabel='Fare'>"
      ]
     },
     "execution_count": 15,
     "metadata": {},
     "output_type": "execute_result"
    },
    {
     "data": {
      "image/png": "[encoded data removed]",
      "text/plain": [
       "<Figure size 800x550 with 1 Axes>"
      ]
     },
     "metadata": {},
     "output_type": "display_data"
    }
   ],
   "source": [
    "# boxplot 통해 Fare 칼럼 이상치 확인\n"
   ]
  },
  {
   "cell_type": "code",
   "execution_count": 16,
   "id": "4d6fd315-fbc1-4305-93ac-b7f0053c1442",
   "metadata": {},
   "outputs": [
    {
     "name": "stdout",
     "output_type": "stream",
     "text": [
      "이상치 개수: 116\n"
     ]
    }
   ],
   "source": [
    "#Tukey's Fences로 이상치 탐지 및 제거\n",
    "\n",
    "# IQR 계산\n",
    "Q1 = data['Fare'].quantile(0.25)\n",
    "Q3 = data['Fare'].quantile(0.75)\n",
    "IQR = Q3 - Q1\n",
    "\n",
    "# Lower and Upper Fences\n",
    "lower_fence = Q1 - 1.5 * IQR\n",
    "upper_fence = Q3 + 1.5 * IQR\n",
    "\n",
    "# 이상치 탐지\n",
    "outliers = data[(data['Fare'] < lower_fence) | (data['Fare'] > upper_fence)]\n",
    "\n",
    "# 이상치 제거\n",
    "data_cleaned = data[~((data['Fare'] < lower_fence) | (data['Fare'] > upper_fence))]\n",
    "\n",
    "print(f\"이상치 개수: {outliers.shape[0]}\")"
   ]
  },
  {
   "cell_type": "code",
   "execution_count": 17,
   "id": "18f0d4d4-462a-43a6-9fd1-4b87316c1cf9",
   "metadata": {},
   "outputs": [
    {
     "data": {
      "text/plain": [
       "<Axes: xlabel='Fare'>"
      ]
     },
     "execution_count": 17,
     "metadata": {},
     "output_type": "execute_result"
    },
    {
     "data": {
      "image/png": "[encoded data removed]",
      "text/plain": [
       "<Figure size 800x550 with 1 Axes>"
      ]
     },
     "metadata": {},
     "output_type": "display_data"
    }
   ],
   "source": [
    "sns.boxplot(x=data_cleaned['Fare'])"
   ]
  },
  {
   "cell_type": "markdown",
   "id": "57f934a8-49f1-4869-b8a5-7f71f30aabe0",
   "metadata": {},
   "source": [
    "이상치가 제거된 것을 시각적으로 확인할 수 있습니다. \n",
    "\n",
    "이상치를 적절하게 제거하면 데이터 품질이나 모델의 성능을 높일 수 있지만, 이상치를 따로 분석하여 유용한 통찰력을 얻을 수도 있습니다. 앞선 예시처럼 891개 데이터 중 116개를 이상치로 정의하여 제거하는 것은 데이터의 설명력을 떨어뜨릴 수 있으므로 기존의 Fare 칼럼을 그대로 사용하는 것이 바람직합니다."
   ]
  },
  {
   "cell_type": "markdown",
   "id": "82f8ac95-832e-4564-b75b-7baa840c5994",
   "metadata": {},
   "source": [
    "### 3-3. **피처 엔지니어링**"
   ]
  },
  {
   "cell_type": "markdown",
   "id": "747bc2fe-1899-459e-a9ac-d191cb536d17",
   "metadata": {},
   "source": [
    "먼저, 'Deceased'와 'Survived'로 구성된 Survived 칼럼을 컴퓨터가 인식할 수 있는 정수형(사망은 0, 생존은 1)으로 인코딩하겠습니다. 주석에 따라 알맞은 코드를 채워주세요."
   ]
  },
  {
   "cell_type": "code",
   "execution_count": null,
   "id": "8fee9516-bdaf-4792-a351-518e7abb4915",
   "metadata": {},
   "outputs": [
    {
     "data": {
      "application/vnd.microsoft.datawrangler.viewer.v0+json": {
       "columns": [
        {
         "name": "index",
         "rawType": "int64",
         "type": "integer"
        },
        {
         "name": "Survived",
         "rawType": "int64",
         "type": "integer"
        }
       ],
       "ref": "9a7a9c62-ddfa-43ac-92ad-b13e036109b6",
       "rows": [
        [
         "0",
         "0"
        ],
        [
         "1",
         "1"
        ],
        [
         "2",
         "1"
        ],
        [
         "3",
         "1"
        ],
        [
         "4",
         "0"
        ],
        [
         "5",
         "0"
        ],
        [
         "6",
         "0"
        ],
        [
         "7",
         "0"
        ],
        [
         "8",
         "1"
        ],
        [
         "9",
         "1"
        ],
        [
         "10",
         "1"
        ],
        [
         "11",
         "1"
        ],
        [
         "12",
         "0"
        ],
        [
         "13",
         "0"
        ],
        [
         "14",
         "0"
        ],
        [
         "15",
         "1"
        ],
        [
         "16",
         "0"
        ],
        [
         "17",
         "1"
        ],
        [
         "18",
         "0"
        ],
        [
         "19",
         "1"
        ],
        [
         "20",
         "0"
        ],
        [
         "21",
         "1"
        ],
        [
         "22",
         "1"
        ],
        [
         "23",
         "1"
        ],
        [
         "24",
         "0"
        ],
        [
         "25",
         "1"
        ],
        [
         "26",
         "0"
        ],
        [
         "27",
         "0"
        ],
        [
         "28",
         "1"
        ],
        [
         "29",
         "0"
        ],
        [
         "30",
         "0"
        ],
        [
         "31",
         "1"
        ],
        [
         "32",
         "1"
        ],
        [
         "33",
         "0"
        ],
        [
         "34",
         "0"
        ],
        [
         "35",
         "0"
        ],
        [
         "36",
         "1"
        ],
        [
         "37",
         "0"
        ],
        [
         "38",
         "0"
        ],
        [
         "39",
         "1"
        ],
        [
         "40",
         "0"
        ],
        [
         "41",
         "0"
        ],
        [
         "42",
         "0"
        ],
        [
         "43",
         "1"
        ],
        [
         "44",
         "1"
        ],
        [
         "45",
         "0"
        ],
        [
         "46",
         "0"
        ],
        [
         "47",
         "1"
        ],
        [
         "48",
         "0"
        ],
        [
         "49",
         "0"
        ]
       ],
       "shape": {
        "columns": 1,
        "rows": 891
       }
      },
      "text/plain": [
       "0      0\n",
       "1      1\n",
       "2      1\n",
       "3      1\n",
       "4      0\n",
       "      ..\n",
       "886    0\n",
       "887    1\n",
       "888    0\n",
       "889    1\n",
       "890    0\n",
       "Name: Survived, Length: 891, dtype: int64"
      ]
     },
     "execution_count": 18,
     "metadata": {},
     "output_type": "execute_result"
    }
   ],
   "source": [
    "#replace()을 사용해서 변수 data_replaced에 Survived 칼럼을 변환해주세요.\n",
    "data_replaced =\n",
    "\n",
    "#결과 확인\n",
    "data_replaced"
   ]
  },
  {
   "cell_type": "code",
   "execution_count": null,
   "id": "d6b62307-94a4-4327-bd24-2d8caaa392ac",
   "metadata": {},
   "outputs": [
    {
     "data": {
      "application/vnd.microsoft.datawrangler.viewer.v0+json": {
       "columns": [
        {
         "name": "index",
         "rawType": "int64",
         "type": "integer"
        },
        {
         "name": "Survived",
         "rawType": "int64",
         "type": "integer"
        }
       ],
       "ref": "af718912-22aa-4612-af77-430be8d72c04",
       "rows": [
        [
         "0",
         "0"
        ],
        [
         "1",
         "1"
        ],
        [
         "2",
         "1"
        ],
        [
         "3",
         "1"
        ],
        [
         "4",
         "0"
        ],
        [
         "5",
         "0"
        ],
        [
         "6",
         "0"
        ],
        [
         "7",
         "0"
        ],
        [
         "8",
         "1"
        ],
        [
         "9",
         "1"
        ],
        [
         "10",
         "1"
        ],
        [
         "11",
         "1"
        ],
        [
         "12",
         "0"
        ],
        [
         "13",
         "0"
        ],
        [
         "14",
         "0"
        ],
        [
         "15",
         "1"
        ],
        [
         "16",
         "0"
        ],
        [
         "17",
         "1"
        ],
        [
         "18",
         "0"
        ],
        [
         "19",
         "1"
        ],
        [
         "20",
         "0"
        ],
        [
         "21",
         "1"
        ],
        [
         "22",
         "1"
        ],
        [
         "23",
         "1"
        ],
        [
         "24",
         "0"
        ],
        [
         "25",
         "1"
        ],
        [
         "26",
         "0"
        ],
        [
         "27",
         "0"
        ],
        [
         "28",
         "1"
        ],
        [
         "29",
         "0"
        ],
        [
         "30",
         "0"
        ],
        [
         "31",
         "1"
        ],
        [
         "32",
         "1"
        ],
        [
         "33",
         "0"
        ],
        [
         "34",
         "0"
        ],
        [
         "35",
         "0"
        ],
        [
         "36",
         "1"
        ],
        [
         "37",
         "0"
        ],
        [
         "38",
         "0"
        ],
        [
         "39",
         "1"
        ],
        [
         "40",
         "0"
        ],
        [
         "41",
         "0"
        ],
        [
         "42",
         "0"
        ],
        [
         "43",
         "1"
        ],
        [
         "44",
         "1"
        ],
        [
         "45",
         "0"
        ],
        [
         "46",
         "0"
        ],
        [
         "47",
         "1"
        ],
        [
         "48",
         "0"
        ],
        [
         "49",
         "0"
        ]
       ],
       "shape": {
        "columns": 1,
        "rows": 891
       }
      },
      "text/plain": [
       "0      0\n",
       "1      1\n",
       "2      1\n",
       "3      1\n",
       "4      0\n",
       "      ..\n",
       "886    0\n",
       "887    1\n",
       "888    0\n",
       "889    1\n",
       "890    0\n",
       "Name: Survived, Length: 891, dtype: int64"
      ]
     },
     "execution_count": 19,
     "metadata": {},
     "output_type": "execute_result"
    }
   ],
   "source": [
    "#pd.get_dummies()를 사용해서 변수 data_dummies에 Survived 칼럼을 변환해주세요.\n",
    "data_dummies =\n",
    "\n",
    "#결과 확인\n",
    "data_dummies['Survived']"
   ]
  },
  {
   "cell_type": "code",
   "execution_count": 20,
   "id": "d13a466c-9657-418f-9560-41905e0622c9",
   "metadata": {},
   "outputs": [
    {
     "data": {
      "application/vnd.microsoft.datawrangler.viewer.v0+json": {
       "columns": [
        {
         "name": "index",
         "rawType": "int64",
         "type": "integer"
        },
        {
         "name": "Survived",
         "rawType": "int64",
         "type": "integer"
        }
       ],
       "ref": "86b883b7-e843-4214-919c-c8448d910caf",
       "rows": [
        [
         "0",
         "0"
        ],
        [
         "1",
         "1"
        ],
        [
         "2",
         "1"
        ],
        [
         "3",
         "1"
        ],
        [
         "4",
         "0"
        ],
        [
         "5",
         "0"
        ],
        [
         "6",
         "0"
        ],
        [
         "7",
         "0"
        ],
        [
         "8",
         "1"
        ],
        [
         "9",
         "1"
        ],
        [
         "10",
         "1"
        ],
        [
         "11",
         "1"
        ],
        [
         "12",
         "0"
        ],
        [
         "13",
         "0"
        ],
        [
         "14",
         "0"
        ],
        [
         "15",
         "1"
        ],
        [
         "16",
         "0"
        ],
        [
         "17",
         "1"
        ],
        [
         "18",
         "0"
        ],
        [
         "19",
         "1"
        ],
        [
         "20",
         "0"
        ],
        [
         "21",
         "1"
        ],
        [
         "22",
         "1"
        ],
        [
         "23",
         "1"
        ],
        [
         "24",
         "0"
        ],
        [
         "25",
         "1"
        ],
        [
         "26",
         "0"
        ],
        [
         "27",
         "0"
        ],
        [
         "28",
         "1"
        ],
        [
         "29",
         "0"
        ],
        [
         "30",
         "0"
        ],
        [
         "31",
         "1"
        ],
        [
         "32",
         "1"
        ],
        [
         "33",
         "0"
        ],
        [
         "34",
         "0"
        ],
        [
         "35",
         "0"
        ],
        [
         "36",
         "1"
        ],
        [
         "37",
         "0"
        ],
        [
         "38",
         "0"
        ],
        [
         "39",
         "1"
        ],
        [
         "40",
         "0"
        ],
        [
         "41",
         "0"
        ],
        [
         "42",
         "0"
        ],
        [
         "43",
         "1"
        ],
        [
         "44",
         "1"
        ],
        [
         "45",
         "0"
        ],
        [
         "46",
         "0"
        ],
        [
         "47",
         "1"
        ],
        [
         "48",
         "0"
        ],
        [
         "49",
         "0"
        ]
       ],
       "shape": {
        "columns": 1,
        "rows": 891
       }
      },
      "text/plain": [
       "0      0\n",
       "1      1\n",
       "2      1\n",
       "3      1\n",
       "4      0\n",
       "      ..\n",
       "886    0\n",
       "887    1\n",
       "888    0\n",
       "889    1\n",
       "890    0\n",
       "Name: Survived, Length: 891, dtype: int64"
      ]
     },
     "execution_count": 20,
     "metadata": {},
     "output_type": "execute_result"
    }
   ],
   "source": [
    "#LabelEncoder 사용 에시\n",
    "from sklearn.preprocessing import LabelEncoder\n",
    "\n",
    "# LabelEncoder를 사용하여 변환\n",
    "le = LabelEncoder()\n",
    "data['Survived'] = le.fit_transform(data['Survived'])\n",
    "\n",
    "#결과 확인\n",
    "data['Survived']"
   ]
  },
  {
   "cell_type": "markdown",
   "id": "90610f90-33e8-45d6-b90a-2be4795fdff7",
   "metadata": {},
   "source": [
    "본 실습에서는 섞어서 사용했지만 replace()는 간단한 이진 명목형 데이터에 사용할 때, <br> pd.get_dummies()는 다중 명목형 데이터나 범주형 데이터에 사용할 때, <br> LabelEncoder은 머신러닝 모델에 사용할 때 가장 효과적이에요."
   ]
  },
  {
   "cell_type": "markdown",
   "id": "cfb96d73-cc94-4d51-98a2-612ee062cd24",
   "metadata": {},
   "source": [
    "이어서, Fare 칼럼 구간화한 칼럼 Fare_Bins를 추가해보겠습니다."
   ]
  },
  {
   "cell_type": "code",
   "execution_count": null,
   "id": "fb9acfee-8af6-497b-a76c-25ae82cafd5a",
   "metadata": {},
   "outputs": [
    {
     "data": {
      "application/vnd.microsoft.datawrangler.viewer.v0+json": {
       "columns": [
        {
         "name": "index",
         "rawType": "int64",
         "type": "integer"
        },
        {
         "name": "Fare",
         "rawType": "float64",
         "type": "float"
        },
        {
         "name": "Fare_Bins",
         "rawType": "category",
         "type": "unknown"
        }
       ],
       "ref": "388d2ec0-9eca-4d64-bad7-aa1f240a950a",
       "rows": [
        [
         "0",
         "7.25",
         "Low"
        ],
        [
         "1",
         "71.2833",
         "Low"
        ],
        [
         "2",
         "7.925",
         "Low"
        ],
        [
         "3",
         "53.1",
         "Low"
        ],
        [
         "4",
         "8.05",
         "Low"
        ],
        [
         "5",
         "8.4583",
         "Low"
        ],
        [
         "6",
         "51.8625",
         "Low"
        ],
        [
         "7",
         "21.075",
         "Low"
        ],
        [
         "8",
         "11.1333",
         "Low"
        ],
        [
         "9",
         "30.0708",
         "Low"
        ],
        [
         "10",
         "16.7",
         "Low"
        ],
        [
         "11",
         "26.55",
         "Low"
        ],
        [
         "12",
         "8.05",
         "Low"
        ],
        [
         "13",
         "31.275",
         "Low"
        ],
        [
         "14",
         "7.8542",
         "Low"
        ],
        [
         "15",
         "16.0",
         "Low"
        ],
        [
         "16",
         "29.125",
         "Low"
        ],
        [
         "17",
         "13.0",
         "Low"
        ],
        [
         "18",
         "18.0",
         "Low"
        ],
        [
         "19",
         "7.225",
         "Low"
        ],
        [
         "20",
         "26.0",
         "Low"
        ],
        [
         "21",
         "13.0",
         "Low"
        ],
        [
         "22",
         "8.0292",
         "Low"
        ],
        [
         "23",
         "35.5",
         "Low"
        ],
        [
         "24",
         "21.075",
         "Low"
        ],
        [
         "25",
         "31.3875",
         "Low"
        ],
        [
         "26",
         "7.225",
         "Low"
        ],
        [
         "27",
         "263.0",
         "Medium"
        ],
        [
         "28",
         "7.8792",
         "Low"
        ],
        [
         "29",
         "7.8958",
         "Low"
        ],
        [
         "30",
         "27.7208",
         "Low"
        ],
        [
         "31",
         "146.5208",
         "Low"
        ],
        [
         "32",
         "7.75",
         "Low"
        ],
        [
         "33",
         "10.5",
         "Low"
        ],
        [
         "34",
         "82.1708",
         "Low"
        ],
        [
         "35",
         "52.0",
         "Low"
        ],
        [
         "36",
         "7.2292",
         "Low"
        ],
        [
         "37",
         "8.05",
         "Low"
        ],
        [
         "38",
         "18.0",
         "Low"
        ],
        [
         "39",
         "11.2417",
         "Low"
        ],
        [
         "40",
         "9.475",
         "Low"
        ],
        [
         "41",
         "21.0",
         "Low"
        ],
        [
         "42",
         "7.8958",
         "Low"
        ],
        [
         "43",
         "41.5792",
         "Low"
        ],
        [
         "44",
         "7.8792",
         "Low"
        ],
        [
         "45",
         "8.05",
         "Low"
        ],
        [
         "46",
         "15.5",
         "Low"
        ],
        [
         "47",
         "7.75",
         "Low"
        ],
        [
         "48",
         "21.6792",
         "Low"
        ],
        [
         "49",
         "17.8",
         "Low"
        ]
       ],
       "shape": {
        "columns": 2,
        "rows": 891
       }
      },
      "text/html": [
       "<div>\n",
       "<style scoped>\n",
       "    .dataframe tbody tr th:only-of-type {\n",
       "        vertical-align: middle;\n",
       "    }\n",
       "\n",
       "    .dataframe tbody tr th {\n",
       "        vertical-align: top;\n",
       "    }\n",
       "\n",
       "    .dataframe thead th {\n",
       "        text-align: right;\n",
       "    }\n",
       "</style>\n",
       "<table border=\"1\" class=\"dataframe\">\n",
       "  <thead>\n",
       "    <tr style=\"text-align: right;\">\n",
       "      <th></th>\n",
       "      <th>Fare</th>\n",
       "      <th>Fare_Bins</th>\n",
       "    </tr>\n",
       "  </thead>\n",
       "  <tbody>\n",
       "    <tr>\n",
       "      <th>0</th>\n",
       "      <td>7.2500</td>\n",
       "      <td>Low</td>\n",
       "    </tr>\n",
       "    <tr>\n",
       "      <th>1</th>\n",
       "      <td>71.2833</td>\n",
       "      <td>Low</td>\n",
       "    </tr>\n",
       "    <tr>\n",
       "      <th>2</th>\n",
       "      <td>7.9250</td>\n",
       "      <td>Low</td>\n",
       "    </tr>\n",
       "    <tr>\n",
       "      <th>3</th>\n",
       "      <td>53.1000</td>\n",
       "      <td>Low</td>\n",
       "    </tr>\n",
       "    <tr>\n",
       "      <th>4</th>\n",
       "      <td>8.0500</td>\n",
       "      <td>Low</td>\n",
       "    </tr>\n",
       "    <tr>\n",
       "      <th>...</th>\n",
       "      <td>...</td>\n",
       "      <td>...</td>\n",
       "    </tr>\n",
       "    <tr>\n",
       "      <th>886</th>\n",
       "      <td>13.0000</td>\n",
       "      <td>Low</td>\n",
       "    </tr>\n",
       "    <tr>\n",
       "      <th>887</th>\n",
       "      <td>30.0000</td>\n",
       "      <td>Low</td>\n",
       "    </tr>\n",
       "    <tr>\n",
       "      <th>888</th>\n",
       "      <td>23.4500</td>\n",
       "      <td>Low</td>\n",
       "    </tr>\n",
       "    <tr>\n",
       "      <th>889</th>\n",
       "      <td>30.0000</td>\n",
       "      <td>Low</td>\n",
       "    </tr>\n",
       "    <tr>\n",
       "      <th>890</th>\n",
       "      <td>7.7500</td>\n",
       "      <td>Low</td>\n",
       "    </tr>\n",
       "  </tbody>\n",
       "</table>\n",
       "<p>891 rows × 2 columns</p>\n",
       "</div>"
      ],
      "text/plain": [
       "        Fare Fare_Bins\n",
       "0     7.2500       Low\n",
       "1    71.2833       Low\n",
       "2     7.9250       Low\n",
       "3    53.1000       Low\n",
       "4     8.0500       Low\n",
       "..       ...       ...\n",
       "886  13.0000       Low\n",
       "887  30.0000       Low\n",
       "888  23.4500       Low\n",
       "889  30.0000       Low\n",
       "890   7.7500       Low\n",
       "\n",
       "[891 rows x 2 columns]"
      ]
     },
     "execution_count": 21,
     "metadata": {},
     "output_type": "execute_result"
    }
   ],
   "source": [
    "#pd.cut()을 사용하여 Fare 칼럼을 'low', 'Medium', 'High'의 세 구간으로 나눠주세요.\n",
    "data['Fare_Bins'] =\n",
    "\n",
    "#결과 확인\n",
    "data[['Fare','Fare_Bins']]"
   ]
  },
  {
   "cell_type": "markdown",
   "id": "d5afc122-6c9f-402c-90cc-59710e419a71",
   "metadata": {},
   "source": [
    "피처 엔지니어링 중 스케일링은 추후 과제에서 더 자세하게 다뤄보도록 해요!"
   ]
  },
  {
   "cell_type": "markdown",
   "id": "12283beb-43a0-468b-9c5f-d37584e0b804",
   "metadata": {},
   "source": [
    "# <span style=\"background-color:#E0F7FA; color:#1565C0; padding:4px; border-radius:5px;\"> 실습4) 타이타닉 데이터셋 시각화 </span>\n",
    "\n",
    "\n",
    "### 📌 EDA 유형 구분\n",
    "1. 데이터 변수의 개수가 몇 개인가? -> **일변량/다변량**\n",
    "2. 결과를 어떻게 파악할 것인가? -> **시각화/비시각화**\n",
    "3. 데이터 유형은 무엇인가? -> **범주형/수치형**"
   ]
  },
  {
   "cell_type": "markdown",
   "id": "4fc68688-b20a-43d6-9a8c-486cdec666af",
   "metadata": {},
   "source": [
    "### 4.1 'Survived' 컬럼을 통한 생존률 분석"
   ]
  },
  {
   "cell_type": "code",
   "execution_count": 22,
   "id": "e01f6bbb-b18c-443a-bbc8-b4c51f83c63c",
   "metadata": {},
   "outputs": [
    {
     "data": {
      "image/png": "[encoded data removed]",
      "text/plain": [
       "<Figure size 1800x800 with 2 Axes>"
      ]
     },
     "metadata": {},
     "output_type": "display_data"
    }
   ],
   "source": [
    "f, ax = plt.subplots(1, 2, figsize=(18, 8))\n",
    "\n",
    "# 파이차트\n",
    "data['Survived'].value_counts().plot.pie(explode=[0, 0.1], ## Survived 0은 중심에서 0%먼큼, 1은 중심에서 10%만큼 벗어나게\n",
    "                                         autopct='%1.1f%%', ## 백분율을 소수점 앞 한자리 소수점 아래 한자리까지 %로 표시\n",
    "                                         ax=ax[0], ## 0번째 위치\n",
    "                                         shadow=True, ## 그림자 표시\n",
    "                                         fontsize=20)\n",
    "ax[0].set_title('Survived')\n",
    "ax[0].set_ylabel('')\n",
    "\n",
    "# 카운트플랏\n",
    "sns.countplot(x='Survived', data=data, ax=ax[1]) ## data = 그래프로 나타내기 위한 데이터셋\n",
    "ax[1].set_title('Survived')\n",
    "\n",
    "plt.show() "
   ]
  },
  {
   "cell_type": "markdown",
   "id": "a7a220ff-b372-4092-9ddf-9c069c465cf8",
   "metadata": {},
   "source": [
    "💡 위의 분석은 어떤 유형의 EDA인지 아래에서 고르세요.\n",
    "1. 일변량 시각화\n",
    "2. 일변량 비시각화\n",
    "3. 다변량 시각화\n",
    "4. 다변량 비시각화\n",
    "\n",
    "💡 위 그래프를 보고 데이터에 대해 분석해보세요.\n"
   ]
  },
  {
   "cell_type": "markdown",
   "id": "4c4a432c-1900-480b-ab57-d84528384b64",
   "metadata": {},
   "source": [
    "### 성별에 따른 생존 여부 [Sex/Survived]\n",
    "성별('Sex')에 따른 생존 여부('Survived')를 확인해보겠습니다."
   ]
  },
  {
   "cell_type": "code",
   "execution_count": 23,
   "id": "b9d1bec6-e553-4dc0-8c12-f1c21a690710",
   "metadata": {},
   "outputs": [
    {
     "data": {
      "application/vnd.microsoft.datawrangler.viewer.v0+json": {
       "columns": [
        {
         "name": "Sex",
         "rawType": "object",
         "type": "string"
        },
        {
         "name": "count",
         "rawType": "int64",
         "type": "integer"
        }
       ],
       "ref": "74551cd1-8e7a-4046-aca3-1ff7a31ca0e3",
       "rows": [
        [
         "male",
         "577"
        ],
        [
         "female",
         "314"
        ]
       ],
       "shape": {
        "columns": 1,
        "rows": 2
       }
      },
      "text/plain": [
       "Sex\n",
       "male      577\n",
       "female    314\n",
       "Name: count, dtype: int64"
      ]
     },
     "execution_count": 23,
     "metadata": {},
     "output_type": "execute_result"
    }
   ],
   "source": [
    "data['Sex'].value_counts() "
   ]
  },
  {
   "cell_type": "markdown",
   "id": "bf63133f-cf36-44b1-a055-3e9c8d3efeef",
   "metadata": {},
   "source": [
    "💡 위의 분석은 어떤 유형의 EDA인지 아래에서 고르세요.\n",
    "\n",
    "1. 일변량 시각화\n",
    "2. 일변량 비시각화\n",
    "3. 다변량 시각화\n",
    "4. 다변량 비시각화"
   ]
  },
  {
   "cell_type": "code",
   "execution_count": 24,
   "id": "a4d94ee6-b6f5-4c19-912d-e592d5e38820",
   "metadata": {},
   "outputs": [
    {
     "data": {
      "application/vnd.microsoft.datawrangler.viewer.v0+json": {
       "columns": [
        {
         "name": "('Survived', 'Sex')",
         "rawType": "object",
         "type": "unknown"
        },
        {
         "name": "Sex",
         "rawType": "int64",
         "type": "integer"
        }
       ],
       "ref": "55b53fd8-094a-433b-8ec7-dcf9ae60b420",
       "rows": [
        [
         "(np.int64(0), 'female')",
         "81"
        ],
        [
         "(np.int64(0), 'male')",
         "468"
        ],
        [
         "(np.int64(1), 'female')",
         "233"
        ],
        [
         "(np.int64(1), 'male')",
         "109"
        ]
       ],
       "shape": {
        "columns": 1,
        "rows": 4
       }
      },
      "text/plain": [
       "Survived  Sex   \n",
       "0         female     81\n",
       "          male      468\n",
       "1         female    233\n",
       "          male      109\n",
       "Name: Sex, dtype: int64"
      ]
     },
     "execution_count": 24,
     "metadata": {},
     "output_type": "execute_result"
    }
   ],
   "source": [
    "data.groupby(['Survived', 'Sex'])['Sex'].count()\n"
   ]
  },
  {
   "cell_type": "markdown",
   "id": "e8216648-7e59-4d58-82a4-bf4bef5ea47a",
   "metadata": {},
   "source": [
    "💡 위의 분석은 어떤 유형의 EDA인지 아래에서 고르세요.\n",
    "\n",
    "1. 일변량 시각화\n",
    "2. 일변량 비시각화\n",
    "3. 다변량 시각화\n",
    "4. 다변량 비시각화"
   ]
  },
  {
   "cell_type": "markdown",
   "id": "4174334b-c442-475b-9d49-b49f6785b062",
   "metadata": {},
   "source": [
    "### 등급에 따른 생존 여부\n",
    "\n",
    "[ 참고 ] 크로스탭(Cross-tabulation)\n",
    "\n",
    "- 두 개 이상의 범주형 변수 간의 관계를 이해하고 시각화하기 위해 사용되는 통계적인 도구  \n",
    "- 범주형 변수들 간의 교차 빈도를 나타내며, 변수 간의 연관성이나 패턴을 파악할 수 있음  "
   ]
  },
  {
   "cell_type": "code",
   "execution_count": 30,
   "id": "f8904db5-0c57-4091-a4ea-76b9016c0867",
   "metadata": {},
   "outputs": [
    {
     "data": {
      "application/vnd.microsoft.datawrangler.viewer.v0+json": {
       "columns": [
        {
         "name": "Pclass",
         "rawType": "object",
         "type": "string"
        },
        {
         "name": "0",
         "rawType": "int64",
         "type": "integer"
        },
        {
         "name": "1",
         "rawType": "int64",
         "type": "integer"
        },
        {
         "name": "All",
         "rawType": "int64",
         "type": "integer"
        }
       ],
       "ref": "5b359ccb-f9c9-4748-a0bc-a6e7c64b986d",
       "rows": [
        [
         "1",
         "80",
         "136",
         "216"
        ],
        [
         "2",
         "97",
         "87",
         "184"
        ],
        [
         "3",
         "372",
         "119",
         "491"
        ],
        [
         "All",
         "549",
         "342",
         "891"
        ]
       ],
       "shape": {
        "columns": 3,
        "rows": 4
       }
      },
      "text/html": [
       "<div>\n",
       "<style scoped>\n",
       "    .dataframe tbody tr th:only-of-type {\n",
       "        vertical-align: middle;\n",
       "    }\n",
       "\n",
       "    .dataframe tbody tr th {\n",
       "        vertical-align: top;\n",
       "    }\n",
       "\n",
       "    .dataframe thead th {\n",
       "        text-align: right;\n",
       "    }\n",
       "</style>\n",
       "<table border=\"1\" class=\"dataframe\">\n",
       "  <thead>\n",
       "    <tr style=\"text-align: right;\">\n",
       "      <th>Survived</th>\n",
       "      <th>0</th>\n",
       "      <th>1</th>\n",
       "      <th>All</th>\n",
       "    </tr>\n",
       "    <tr>\n",
       "      <th>Pclass</th>\n",
       "      <th></th>\n",
       "      <th></th>\n",
       "      <th></th>\n",
       "    </tr>\n",
       "  </thead>\n",
       "  <tbody>\n",
       "    <tr>\n",
       "      <th>1</th>\n",
       "      <td>80</td>\n",
       "      <td>136</td>\n",
       "      <td>216</td>\n",
       "    </tr>\n",
       "    <tr>\n",
       "      <th>2</th>\n",
       "      <td>97</td>\n",
       "      <td>87</td>\n",
       "      <td>184</td>\n",
       "    </tr>\n",
       "    <tr>\n",
       "      <th>3</th>\n",
       "      <td>372</td>\n",
       "      <td>119</td>\n",
       "      <td>491</td>\n",
       "    </tr>\n",
       "    <tr>\n",
       "      <th>All</th>\n",
       "      <td>549</td>\n",
       "      <td>342</td>\n",
       "      <td>891</td>\n",
       "    </tr>\n",
       "  </tbody>\n",
       "</table>\n",
       "</div>"
      ],
      "text/plain": [
       "Survived    0    1  All\n",
       "Pclass                 \n",
       "1          80  136  216\n",
       "2          97   87  184\n",
       "3         372  119  491\n",
       "All       549  342  891"
      ]
     },
     "execution_count": 30,
     "metadata": {},
     "output_type": "execute_result"
    }
   ],
   "source": [
    "#데이터 형식 변환\n",
    "data['Pclass'] = data['Pclass'].astype(str)\n",
    "data['Survived'] = data['Survived'].astype(str)\n",
    "\n",
    "#크로스태블릿\n",
    "pd.crosstab(data.Pclass, data.Survived, margins=True) ## margins=True => 각 행과 열의 총합을 나타내는 \"All\" 열과 행이 추가"
   ]
  },
  {
   "cell_type": "code",
   "execution_count": 31,
   "id": "7c06aedf",
   "metadata": {},
   "outputs": [
    {
     "data": {
      "image/png": "[encoded data removed]",
      "text/plain": [
       "<Figure size 1800x800 with 2 Axes>"
      ]
     },
     "metadata": {},
     "output_type": "display_data"
    }
   ],
   "source": [
    "f, ax = plt.subplots(1, 2, figsize=(18, 8))\n",
    "\n",
    "# 가로형 막대 그래프: barh\n",
    "data['Pclass'].value_counts().plot.barh(\n",
    "    color=['#CD7F32', '#FFDF00', '#D3D3D3'], ax=ax[0]) ## Pclass별 탑승객 수, color 지정\n",
    "ax[0].set_title('Number Of Passengers By Pclass')\n",
    "ax[0].set_ylabel('Count')\n",
    "\n",
    "# 카운트 플랏\n",
    "sns.countplot(x='Pclass', hue='Survived', data=data, ax=ax[1])## Pclass별 Survived를 나눠 시각화\n",
    "ax[1].set_title('Pclass : Survived vs Dead')\n",
    "plt.show()"
   ]
  },
  {
   "cell_type": "markdown",
   "id": "e673a2c3-3afc-43e1-bde5-153ab6bc0fdc",
   "metadata": {},
   "source": [
    "💡 위 그래프를 보고 데이터에 대해 분석해보세요."
   ]
  },
  {
   "attachments": {},
   "cell_type": "markdown",
   "id": "7ee3d163-fdcf-4797-b625-852d5f6ae8f5",
   "metadata": {},
   "source": [
    "### 성별과 등급, 생존 여부 확인 [Sex/Pclass/Survived]\n",
    "\n",
    "[ 참고 ] 캣 플롯 (cat plot)\n",
    "\n",
    "catplot은 범주형 변수들을 분리하여 표현하기에 용이합니다.  "
   ]
  },
  {
   "cell_type": "code",
   "execution_count": 32,
   "id": "a06b2079-ddf3-4403-8636-fe4ca1f15623",
   "metadata": {},
   "outputs": [
    {
     "data": {
      "application/vnd.microsoft.datawrangler.viewer.v0+json": {
       "columns": [
        {
         "name": "('Sex', 'Survived')",
         "rawType": "object",
         "type": "unknown"
        },
        {
         "name": "1",
         "rawType": "int64",
         "type": "integer"
        },
        {
         "name": "2",
         "rawType": "int64",
         "type": "integer"
        },
        {
         "name": "3",
         "rawType": "int64",
         "type": "integer"
        },
        {
         "name": "All",
         "rawType": "int64",
         "type": "integer"
        }
       ],
       "ref": "b55b93a5-5f8f-4de3-ba02-4bf05f3ad327",
       "rows": [
        [
         "('female', 0)",
         "3",
         "6",
         "72",
         "81"
        ],
        [
         "('female', 1)",
         "91",
         "70",
         "72",
         "233"
        ],
        [
         "('male', 0)",
         "77",
         "91",
         "300",
         "468"
        ],
        [
         "('male', 1)",
         "45",
         "17",
         "47",
         "109"
        ],
        [
         "('All', '')",
         "216",
         "184",
         "491",
         "891"
        ]
       ],
       "shape": {
        "columns": 4,
        "rows": 5
       }
      },
      "text/html": [
       "<div>\n",
       "<style scoped>\n",
       "    .dataframe tbody tr th:only-of-type {\n",
       "        vertical-align: middle;\n",
       "    }\n",
       "\n",
       "    .dataframe tbody tr th {\n",
       "        vertical-align: top;\n",
       "    }\n",
       "\n",
       "    .dataframe thead th {\n",
       "        text-align: right;\n",
       "    }\n",
       "</style>\n",
       "<table border=\"1\" class=\"dataframe\">\n",
       "  <thead>\n",
       "    <tr style=\"text-align: right;\">\n",
       "      <th></th>\n",
       "      <th>Pclass</th>\n",
       "      <th>1</th>\n",
       "      <th>2</th>\n",
       "      <th>3</th>\n",
       "      <th>All</th>\n",
       "    </tr>\n",
       "    <tr>\n",
       "      <th>Sex</th>\n",
       "      <th>Survived</th>\n",
       "      <th></th>\n",
       "      <th></th>\n",
       "      <th></th>\n",
       "      <th></th>\n",
       "    </tr>\n",
       "  </thead>\n",
       "  <tbody>\n",
       "    <tr>\n",
       "      <th rowspan=\"2\" valign=\"top\">female</th>\n",
       "      <th>0</th>\n",
       "      <td>3</td>\n",
       "      <td>6</td>\n",
       "      <td>72</td>\n",
       "      <td>81</td>\n",
       "    </tr>\n",
       "    <tr>\n",
       "      <th>1</th>\n",
       "      <td>91</td>\n",
       "      <td>70</td>\n",
       "      <td>72</td>\n",
       "      <td>233</td>\n",
       "    </tr>\n",
       "    <tr>\n",
       "      <th rowspan=\"2\" valign=\"top\">male</th>\n",
       "      <th>0</th>\n",
       "      <td>77</td>\n",
       "      <td>91</td>\n",
       "      <td>300</td>\n",
       "      <td>468</td>\n",
       "    </tr>\n",
       "    <tr>\n",
       "      <th>1</th>\n",
       "      <td>45</td>\n",
       "      <td>17</td>\n",
       "      <td>47</td>\n",
       "      <td>109</td>\n",
       "    </tr>\n",
       "    <tr>\n",
       "      <th>All</th>\n",
       "      <th></th>\n",
       "      <td>216</td>\n",
       "      <td>184</td>\n",
       "      <td>491</td>\n",
       "      <td>891</td>\n",
       "    </tr>\n",
       "  </tbody>\n",
       "</table>\n",
       "</div>"
      ],
      "text/plain": [
       "Pclass             1    2    3  All\n",
       "Sex    Survived                    \n",
       "female 0           3    6   72   81\n",
       "       1          91   70   72  233\n",
       "male   0          77   91  300  468\n",
       "       1          45   17   47  109\n",
       "All              216  184  491  891"
      ]
     },
     "execution_count": 32,
     "metadata": {},
     "output_type": "execute_result"
    }
   ],
   "source": [
    "#데이터 형식 변환\n",
    "data['Pclass'] = data['Pclass'].astype(int)\n",
    "data['Survived'] = data['Survived'].astype(int)\n",
    "\n",
    "# 크로스탭으로 표현\n",
    "pd.crosstab([data.Sex, data.Survived], data.Pclass,\n",
    "            margins=True)"
   ]
  },
  {
   "cell_type": "code",
   "execution_count": 33,
   "id": "39714d0c",
   "metadata": {},
   "outputs": [
    {
     "data": {
      "image/png": "[encoded data removed]",
      "text/plain": [
       "<Figure size 591.875x500 with 1 Axes>"
      ]
     },
     "metadata": {},
     "output_type": "display_data"
    }
   ],
   "source": [
    "# catplot으로 선 그래프로 시각화\n",
    "sns.catplot(x='Pclass', y='Survived', hue='Sex', data=data, kind='point') ## kind = 생성하고자 하는 플롯의 종류를 지정\n",
    "plt.show()"
   ]
  },
  {
   "cell_type": "markdown",
   "id": "5eda5393-3bc2-43de-97df-dfb86495556a",
   "metadata": {},
   "source": [
    "💡 위 그래프를 보고 데이터에 대해 분석해보세요."
   ]
  },
  {
   "cell_type": "markdown",
   "id": "1c46a5c2-dd00-4951-b7b0-251250f89d6e",
   "metadata": {},
   "source": [
    "### 나이 분포 확인 [Age]"
   ]
  },
  {
   "cell_type": "code",
   "execution_count": 34,
   "id": "3ba78041-8f6d-467c-9ea3-ae677f8e97f2",
   "metadata": {},
   "outputs": [
    {
     "data": {
      "image/png": "[encoded data removed]",
      "text/plain": [
       "<Figure size 1800x800 with 2 Axes>"
      ]
     },
     "metadata": {},
     "output_type": "display_data"
    }
   ],
   "source": [
    "f, ax = plt.subplots(1, 2, figsize=(18, 8))\n",
    "\n",
    "# 첫 번째 바이올린 플랏\n",
    "sns.violinplot(x='Pclass', y='Age', hue='Survived', data=data, split=True, ax=ax[0])\n",
    "ax[0].set_title('Pclass and Age vs Survived')\n",
    "ax[0].set_yticks(range(0, 110, 10)) # 0부터 100까지 10단위로 y축 표시\n",
    "\n",
    "# 두 번째 바이올린 플랏\n",
    "sns.violinplot(x='Sex', y='Age', hue='Survived', data=data, split=True, ax=ax[1])\n",
    "ax[1].set_title('Sex and Age vs Survived')\n",
    "ax[1].set_yticks(range(0, 110, 10))\n",
    "\n",
    "plt.show()"
   ]
  },
  {
   "cell_type": "markdown",
   "id": "7207ff51-b7fb-4f7f-9f39-d6f6c4cf4726",
   "metadata": {},
   "source": [
    "💡 위 그래프를 보고 데이터에 대해 분석해보세요."
   ]
  },
  {
   "cell_type": "markdown",
   "id": "fa9ccdef-59f1-4a8a-8de9-8b45d53a6451",
   "metadata": {},
   "source": [
    "### 나이별 생존/사망자 수 확인하기 [Age/Survived]"
   ]
  },
  {
   "cell_type": "code",
   "execution_count": 35,
   "id": "a4639284-a642-4016-b18d-f51b9c1cd6ea",
   "metadata": {},
   "outputs": [
    {
     "data": {
      "image/png": "[encoded data removed]",
      "text/plain": [
       "<Figure size 2000x1000 with 2 Axes>"
      ]
     },
     "metadata": {},
     "output_type": "display_data"
    }
   ],
   "source": [
    "# Figure 객체와 서브플롯 생성\n",
    "f, ax = plt.subplots(1, 2, figsize=(20, 10))\n",
    "\n",
    "# 첫 번째 그래프: 생존하지 못한 경우의 나이 분포 히스토그램\n",
    "data[data['Survived'] == 0].Age.plot.hist(ax=ax[0],\n",
    "                                          bins=20,\n",
    "                                          edgecolor='black',\n",
    "                                          color='blue')\n",
    "ax[0].set_title('Survived= 0')  # 제목 설정\n",
    "x1 = list(range(0, 85, 5))\n",
    "ax[0].set_xticks(x1)  # x축 눈금 설정\n",
    "\n",
    "# 두 번째 그래프: 생존한 경우의 나이 분포 히스토그램\n",
    "data[data['Survived'] == 1].Age.plot.hist(ax=ax[1],\n",
    "                                          color='green',\n",
    "                                          bins=20,\n",
    "                                          edgecolor='black')\n",
    "ax[1].set_title('Survived= 1')  # 제목 설정\n",
    "x2 = list(range(0, 85, 5))\n",
    "ax[1].set_xticks(x2)  # x축 눈금 설정\n",
    "\n",
    "plt.show()"
   ]
  },
  {
   "cell_type": "markdown",
   "id": "49abc833-57bf-41b7-b842-02036731fd34",
   "metadata": {},
   "source": [
    "💡 위 그래프를 보고 데이터에 대해 분석해보세요."
   ]
  },
  {
   "cell_type": "markdown",
   "id": "c0d5a97f-ba7b-4eb4-b72e-0dcfb6c75b1a",
   "metadata": {},
   "source": [
    "### 나이별, 성별, 등급별 생존/사망자 수 확인하기[Initial/Pclass/Surivived]"
   ]
  },
  {
   "cell_type": "code",
   "execution_count": 36,
   "id": "afafc793-dac1-4d1d-a7fe-01f4f790a51b",
   "metadata": {},
   "outputs": [
    {
     "data": {
      "image/png": "[encoded data removed]",
      "text/plain": [
       "<Figure size 2511.11x500 with 5 Axes>"
      ]
     },
     "metadata": {},
     "output_type": "display_data"
    }
   ],
   "source": [
    "# Initial별 Pclass와 Survived를 비교하는 팩터 플롯 생성\n",
    "sns.catplot(x='Pclass',      # x축에 Pclass 열 사용\n",
    "            y='Survived',    # y축에 Survived 열 사용 (생존율)\n",
    "            col='Initial',   # Initial 열의 값에 따라 여러 개의 열로 구분하여 그림\n",
    "            kind='point',    # 종류: 선 그래프\n",
    "            data=data)       # 사용할 데이터프레임 지정\n",
    "\n",
    "plt.show()"
   ]
  },
  {
   "cell_type": "markdown",
   "id": "9a817554-e978-4e80-8eb8-2fe17ccd10b2",
   "metadata": {},
   "source": [
    "💡 위 그래프를 보고 데이터에 대해 분석해보세요. "
   ]
  },
  {
   "cell_type": "markdown",
   "id": "9ec55f94-3ef9-4915-a852-6a9a4f99c0dc",
   "metadata": {},
   "source": [
    "### 승선항과 다른 피처와의 관계 확인 [Embarked/Sex], [Embarked/Survived], [Embarked/Pclass]"
   ]
  },
  {
   "cell_type": "code",
   "execution_count": 37,
   "id": "af64aae0-3a8b-44a1-b707-243f982b95e5",
   "metadata": {},
   "outputs": [
    {
     "data": {
      "image/png": "[encoded data removed]",
      "text/plain": [
       "<Figure size 2000x600 with 3 Axes>"
      ]
     },
     "metadata": {},
     "output_type": "display_data"
    }
   ],
   "source": [
    "#데이터 형식 변환\n",
    "data['Pclass']=data['Pclass'].astype(str)\n",
    "data['Survived']=data['Survived'].astype(str)\n",
    "\n",
    "# 1x3 서브플롯 생성 (가로로 나란히)\n",
    "f, ax = plt.subplots(1, 3, figsize=(20, 6))\n",
    "\n",
    "# 첫 번째 카운트 플롯: 성별에 따른 탑승 항구별 탑승자 수 분포\n",
    "sns.countplot(x='Embarked', hue='Sex', data=data, ax=ax[0])\n",
    "ax[0].set_title('Male-Female Split for Embarked')\n",
    "\n",
    "# 두 번째 카운트 플롯: 탑승 항구별 생존자 수와 비생존자 수 비교\n",
    "sns.countplot(x='Embarked', hue='Survived', data=data, ax=ax[1])\n",
    "ax[1].set_title('Embarked vs Survived')\n",
    "\n",
    "# 세 번째 카운트 플롯: 탑승 항구별 Pclass 분포\n",
    "sns.countplot(x='Embarked', hue='Pclass', data=data, ax=ax[2])\n",
    "ax[2].set_title('Embarked vs Pclass')\n",
    "\n",
    "# 서브플롯 간의 간격 조정\n",
    "plt.subplots_adjust(wspace=0.3)\n",
    "\n",
    "# 그래프 표시\n",
    "plt.show()"
   ]
  },
  {
   "cell_type": "markdown",
   "id": "2d013669-71d1-43d3-aa4a-ddd380c313be",
   "metadata": {},
   "source": [
    "💡 위 그래프를 보고 데이터에 대해 분석해보세요."
   ]
  },
  {
   "cell_type": "markdown",
   "id": "2a40ae65-a14e-44e9-95cc-ee20e5451fb3",
   "metadata": {},
   "source": [
    "### 승선항별 성별-등급별 생존 여부 [Embarked, Sex, Pclass, Survived]"
   ]
  },
  {
   "cell_type": "code",
   "execution_count": 38,
   "id": "7053b574-6c22-4117-9d98-24f4bdfa435d",
   "metadata": {},
   "outputs": [
    {
     "data": {
      "image/png": "[encoded data removed]",
      "text/plain": [
       "<Figure size 1591.88x500 with 3 Axes>"
      ]
     },
     "metadata": {},
     "output_type": "display_data"
    }
   ],
   "source": [
    "# 팩터 플롯으로 시각화\n",
    "sns.catplot(x='Pclass',        # x축에 'Pclass' 열 사용\n",
    "            y='Survived',      # y축에 'Survived' 열 사용 (생존율)\n",
    "            hue='Sex',         # 성별에 따라 색상 분류\n",
    "            col='Embarked',    # 'Embarked' 열의 값에 따라 여러 개의 열로 구분하여 그림\n",
    "            kind='point',      # 종류: 선 그래프\n",
    "            data=data            # 사용할 데이터프레임 지정\n",
    "            )    #Pclass x축 순서 지정     \n",
    "\n",
    "# 그래프 표시\n",
    "plt.show()\n"
   ]
  },
  {
   "cell_type": "markdown",
   "id": "64f883dd-d2cf-4cde-8d9b-96194e188287",
   "metadata": {},
   "source": [
    "💡 위 그래프를 보고 데이터에 대해 분석해보세요.\n"
   ]
  },
  {
   "cell_type": "markdown",
   "id": "784c0937-d2cc-4e2a-b802-0afa51bafac3",
   "metadata": {},
   "source": [
    "### 함께 탑승한 형제/배우자의 수에 따른 생존 여부 [SibSp/Survived] & 형제/배우자의 수와 등급의 관계 [SibSp/Survived]"
   ]
  },
  {
   "cell_type": "code",
   "execution_count": 39,
   "id": "9e629baa-6d9d-4fba-ac3a-0200a4fd3ac0",
   "metadata": {},
   "outputs": [
    {
     "data": {
      "image/png": "[encoded data removed]",
      "text/plain": [
       "<Figure size 600x500 with 1 Axes>"
      ]
     },
     "metadata": {},
     "output_type": "display_data"
    }
   ],
   "source": [
    "# 1x1 서브플롯 생성\n",
    "f, ax = plt.subplots(1, 1, figsize=(6, 5))  # 크기를 조정합니다\n",
    "sns.barplot(x='SibSp', y='Survived', data=data)\n",
    "plt.title('SibSp vs Survived')\n",
    "plt.show()"
   ]
  },
  {
   "cell_type": "markdown",
   "id": "ae415bda-0be8-4a25-be2e-362c56fece67",
   "metadata": {},
   "source": [
    "💡 위 그래프를 보고 데이터에 대해 분석해보세요."
   ]
  },
  {
   "cell_type": "markdown",
   "id": "a2310b84-6d15-4d9d-8015-89183ab80678",
   "metadata": {},
   "source": [
    "### 변수별 상관관계 확인 (히트맵)\n",
    "데이터 변수 간의 상관관계를 확인할 때는 __Heatmap__을 사용합니다.  \n",
    "행렬 형태의 데이터를 색상을 이용하여 나타내는 방식으로, 데이터가 어떤 패턴이 있는지를 빠르게 파악하고 이해하는 데 도움을 줍니다.  \n",
    "상관관계를 확인하기 위해서는 숫자형 데이터여야 하므로, 문자열인 [Name]행을 제외하고 히트맵을 그려보겠습니다.  "
   ]
  },
  {
   "cell_type": "code",
   "execution_count": 40,
   "id": "a99c5087-6749-45a1-ac57-f7cd46f5233b",
   "metadata": {},
   "outputs": [
    {
     "data": {
      "image/png": "[encoded data removed]",
      "text/plain": [
       "<Figure size 800x600 with 2 Axes>"
      ]
     },
     "metadata": {},
     "output_type": "display_data"
    }
   ],
   "source": [
    "numeric_data = data.select_dtypes(include=[np.number])  # 숫자형 데이터만 선택\n",
    "correlation_matrix = numeric_data.corr()  # 숫자형 데이터의 상관관계 행렬 계산\n",
    "\n",
    "plt.figure(figsize=(8, 6))\n",
    "sns.heatmap(correlation_matrix, annot=True, cmap='RdYlGn', linewidths=0.2)\n",
    "plt.show()"
   ]
  },
  {
   "cell_type": "markdown",
   "id": "572552d7-c121-4aa8-98ac-7fabb3131c76",
   "metadata": {},
   "source": [
    "- 상관관계는 두 변수 간의 관련성을 측정하는 통계적 지표로, -1부터 1까지의 범위에서 나타나며 0.7 이상부터 '강한 상관관계'로 해석합니다. \n",
    "- 두 변수의 상관관계가 매우 높다는 것은 두 변수가 거의 동일한 정보를 갖고 있다는 것을 뜻합니다.  \n",
    "- 그러나 상관관계가 높다고 해서 반드시 인과관계가 있는 것은 아니므로, 추가적인 분석이 필요한 경우가 많습니다.  \n",
    "- 위에서는 그리 높은 상관관계가 존재하지 않으며, 가장 높은 상관계수는 __SibSp과 Parch (0.41)__ 입니다.  "
   ]
  },
  {
   "cell_type": "code",
   "execution_count": null,
   "id": "e1b82a37",
   "metadata": {},
   "outputs": [],
   "source": []
  }
 ],
 "metadata": {
  "kernelspec": {
   "display_name": "Python 3",
   "language": "python",
   "name": "python3"
  },
  "language_info": {
   "codemirror_mode": {
    "name": "ipython",
    "version": 3
   },
   "file_extension": ".py",
   "mimetype": "text/x-python",
   "name": "python",
   "nbconvert_exporter": "python",
   "pygments_lexer": "ipython3",
   "version": "3.9.6"
  }
 },
 "nbformat": 4,
 "nbformat_minor": 5
}
